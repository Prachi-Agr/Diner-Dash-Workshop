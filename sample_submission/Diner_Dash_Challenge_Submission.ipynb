{
  "nbformat": 4,
  "nbformat_minor": 0,
  "metadata": {
    "colab": {
      "name": "Diner_Dash_Challenge_Template.ipynb",
      "provenance": [],
      "collapsed_sections": [],
      "toc_visible": true
    },
    "kernelspec": {
      "name": "python3",
      "display_name": "Python 3"
    },
    "accelerator": "GPU",
    "widgets": {
      "application/vnd.jupyter.widget-state+json": {
        "69a8e712d17d425fb27ff6becb90ad7f": {
          "model_module": "@jupyter-widgets/controls",
          "model_name": "HBoxModel",
          "state": {
            "_view_name": "HBoxView",
            "_dom_classes": [],
            "_model_name": "HBoxModel",
            "_view_module": "@jupyter-widgets/controls",
            "_model_module_version": "1.5.0",
            "_view_count": null,
            "_view_module_version": "1.5.0",
            "box_style": "",
            "layout": "IPY_MODEL_cef7c59e5e214cd993ce1d4f3b6421f3",
            "_model_module": "@jupyter-widgets/controls",
            "children": [
              "IPY_MODEL_80387e0d5c604250a055b12c92bfc312",
              "IPY_MODEL_2c3d34afff2943b58b9fbd0ace64048e"
            ]
          }
        },
        "cef7c59e5e214cd993ce1d4f3b6421f3": {
          "model_module": "@jupyter-widgets/base",
          "model_name": "LayoutModel",
          "state": {
            "_view_name": "LayoutView",
            "grid_template_rows": null,
            "right": null,
            "justify_content": null,
            "_view_module": "@jupyter-widgets/base",
            "overflow": null,
            "_model_module_version": "1.2.0",
            "_view_count": null,
            "flex_flow": null,
            "width": null,
            "min_width": null,
            "border": null,
            "align_items": null,
            "bottom": null,
            "_model_module": "@jupyter-widgets/base",
            "top": null,
            "grid_column": null,
            "overflow_y": null,
            "overflow_x": null,
            "grid_auto_flow": null,
            "grid_area": null,
            "grid_template_columns": null,
            "flex": null,
            "_model_name": "LayoutModel",
            "justify_items": null,
            "grid_row": null,
            "max_height": null,
            "align_content": null,
            "visibility": null,
            "align_self": null,
            "height": null,
            "min_height": null,
            "padding": null,
            "grid_auto_rows": null,
            "grid_gap": null,
            "max_width": null,
            "order": null,
            "_view_module_version": "1.2.0",
            "grid_template_areas": null,
            "object_position": null,
            "object_fit": null,
            "grid_auto_columns": null,
            "margin": null,
            "display": null,
            "left": null
          }
        },
        "80387e0d5c604250a055b12c92bfc312": {
          "model_module": "@jupyter-widgets/controls",
          "model_name": "FloatProgressModel",
          "state": {
            "_view_name": "ProgressView",
            "style": "IPY_MODEL_792e817108f64ea289957273753e5695",
            "_dom_classes": [],
            "description": "100%",
            "_model_name": "FloatProgressModel",
            "bar_style": "success",
            "max": 100,
            "_view_module": "@jupyter-widgets/controls",
            "_model_module_version": "1.5.0",
            "value": 100,
            "_view_count": null,
            "_view_module_version": "1.5.0",
            "orientation": "horizontal",
            "min": 0,
            "description_tooltip": null,
            "_model_module": "@jupyter-widgets/controls",
            "layout": "IPY_MODEL_a84a37ab14b3465cbab943966669f2e2"
          }
        },
        "2c3d34afff2943b58b9fbd0ace64048e": {
          "model_module": "@jupyter-widgets/controls",
          "model_name": "HTMLModel",
          "state": {
            "_view_name": "HTMLView",
            "style": "IPY_MODEL_78183e86627646139f222d79ba2c1c8e",
            "_dom_classes": [],
            "description": "",
            "_model_name": "HTMLModel",
            "placeholder": "​",
            "_view_module": "@jupyter-widgets/controls",
            "_model_module_version": "1.5.0",
            "value": " 100/100 [02:30&lt;00:00,  1.51s/it]",
            "_view_count": null,
            "_view_module_version": "1.5.0",
            "description_tooltip": null,
            "_model_module": "@jupyter-widgets/controls",
            "layout": "IPY_MODEL_0429d7f265594cc18d01536fceace390"
          }
        },
        "792e817108f64ea289957273753e5695": {
          "model_module": "@jupyter-widgets/controls",
          "model_name": "ProgressStyleModel",
          "state": {
            "_view_name": "StyleView",
            "_model_name": "ProgressStyleModel",
            "description_width": "initial",
            "_view_module": "@jupyter-widgets/base",
            "_model_module_version": "1.5.0",
            "_view_count": null,
            "_view_module_version": "1.2.0",
            "bar_color": null,
            "_model_module": "@jupyter-widgets/controls"
          }
        },
        "a84a37ab14b3465cbab943966669f2e2": {
          "model_module": "@jupyter-widgets/base",
          "model_name": "LayoutModel",
          "state": {
            "_view_name": "LayoutView",
            "grid_template_rows": null,
            "right": null,
            "justify_content": null,
            "_view_module": "@jupyter-widgets/base",
            "overflow": null,
            "_model_module_version": "1.2.0",
            "_view_count": null,
            "flex_flow": null,
            "width": null,
            "min_width": null,
            "border": null,
            "align_items": null,
            "bottom": null,
            "_model_module": "@jupyter-widgets/base",
            "top": null,
            "grid_column": null,
            "overflow_y": null,
            "overflow_x": null,
            "grid_auto_flow": null,
            "grid_area": null,
            "grid_template_columns": null,
            "flex": null,
            "_model_name": "LayoutModel",
            "justify_items": null,
            "grid_row": null,
            "max_height": null,
            "align_content": null,
            "visibility": null,
            "align_self": null,
            "height": null,
            "min_height": null,
            "padding": null,
            "grid_auto_rows": null,
            "grid_gap": null,
            "max_width": null,
            "order": null,
            "_view_module_version": "1.2.0",
            "grid_template_areas": null,
            "object_position": null,
            "object_fit": null,
            "grid_auto_columns": null,
            "margin": null,
            "display": null,
            "left": null
          }
        },
        "78183e86627646139f222d79ba2c1c8e": {
          "model_module": "@jupyter-widgets/controls",
          "model_name": "DescriptionStyleModel",
          "state": {
            "_view_name": "StyleView",
            "_model_name": "DescriptionStyleModel",
            "description_width": "",
            "_view_module": "@jupyter-widgets/base",
            "_model_module_version": "1.5.0",
            "_view_count": null,
            "_view_module_version": "1.2.0",
            "_model_module": "@jupyter-widgets/controls"
          }
        },
        "0429d7f265594cc18d01536fceace390": {
          "model_module": "@jupyter-widgets/base",
          "model_name": "LayoutModel",
          "state": {
            "_view_name": "LayoutView",
            "grid_template_rows": null,
            "right": null,
            "justify_content": null,
            "_view_module": "@jupyter-widgets/base",
            "overflow": null,
            "_model_module_version": "1.2.0",
            "_view_count": null,
            "flex_flow": null,
            "width": null,
            "min_width": null,
            "border": null,
            "align_items": null,
            "bottom": null,
            "_model_module": "@jupyter-widgets/base",
            "top": null,
            "grid_column": null,
            "overflow_y": null,
            "overflow_x": null,
            "grid_auto_flow": null,
            "grid_area": null,
            "grid_template_columns": null,
            "flex": null,
            "_model_name": "LayoutModel",
            "justify_items": null,
            "grid_row": null,
            "max_height": null,
            "align_content": null,
            "visibility": null,
            "align_self": null,
            "height": null,
            "min_height": null,
            "padding": null,
            "grid_auto_rows": null,
            "grid_gap": null,
            "max_width": null,
            "order": null,
            "_view_module_version": "1.2.0",
            "grid_template_areas": null,
            "object_position": null,
            "object_fit": null,
            "grid_auto_columns": null,
            "margin": null,
            "display": null,
            "left": null
          }
        }
      }
    }
  },
  "cells": [
    {
      "cell_type": "markdown",
      "metadata": {
        "id": "k1uhFSLspLGu",
        "colab_type": "text"
      },
      "source": [
        "# **Diner Dash Challenge**\n",
        "\n",
        "---\n",
        "\n",
        "## Objective:\n",
        "\n",
        "Using Reinforcement Learning(RL) algorithms and a **maximum training timestep of 10 million**, maximise the average rewards from 100 games/episodes of Diner Dash.\n",
        "\n",
        "## Instructions and Expectations:\n",
        "\n",
        "1. Please use Google Colabs for all computing needs (installing of dependencies, training of model, testing of model, generation of submission, etc). This is to ensure fairness in this competition. You can run multiple notebooks but please take note of the contraints of GPU usage.\n",
        "\n",
        "2. You are required to submit **a single zipped file (.zip)** containing this google colab notebook as well as a json file which includes action lists for each seeded environment given. Hence, please do not change the code under the \"Testing of policies and verification of submission\" apart from that indicated in the chanageable area. For more information about the submission, please refer to the [workshop repo](https://github.com/AISG-Technology-Team/Diner-Dash-Workshop).\n",
        "\n",
        "3. Please update the group member names as well as names of algorithms used in the \"Details of Submission\" section\n",
        "\n",
        "4. We expect to see that the models are learning during training.\n",
        "\n",
        "5. If you have any questions, please discuss within your groups first. Otherwise, please check if the issue is existing on the [workshop repo](https://github.com/AISG-Technology-Team/Diner-Dash-Workshop/issues) or raise one if it is not.\n",
        "\n",
        "## Advice on approach to challenge\n",
        "\n",
        "1. Spend some time to read up about the various RL algos, especially easily implementable baselines\n",
        "\n",
        "2. Split the shortlisted algos among the group\n",
        "\n",
        "3. You can choose to train for fewer timesteps and later on further train the model\n",
        "\n",
        "4. Take note of the training duration. Time is tight!\n",
        "\n",
        "5. If necessary, tune the hyperparameters to ensure learning\n",
        "\n",
        "6. Have fun!\n",
        "\n",
        "## Important Resources:\n",
        "\n",
        "1. [Diner Dash repo](https://github.com/AdaCompNUS/diner-dash-simulator)\n",
        "\n",
        "2. [Workshop repo](https://github.com/AISG-Technology-Team/Diner-Dash-Workshop)\n",
        "\n",
        "3. [Stable Baselines](https://github.com/hill-a/stable-baselines)\n",
        "\n",
        "## Things to note:\n",
        "\n",
        "1. Please change the runtime to a GPU when using a GPU. In the above tabs, click Runtime > Change runtime type > GPU in the Hardware accelerator dropdown.\n",
        "\n",
        "2. If an \"Error: A module (diner_dash) was specified for the environment but was not found, make sure the package is installed with `pip install` before calling `gym.make()`\" error is raised, please restart the runtime and rerun the installation of the diner dash simulator.\n",
        "\n",
        "2. Please ensure a strong internet connection throughout this challenge to avoid disconnecting from the collab GPUs\n",
        "\n",
        "3. Do not idle your computer as collab automatically disconnects GPUs if the idle time is too long\n",
        "\n",
        "4. GPUs run on CUDA 10.1\n",
        "\n",
        "For other FAQs, refer to this [link](https://research.google.com/colaboratory/faq.html)."
      ]
    },
    {
      "cell_type": "markdown",
      "metadata": {
        "id": "hLMQrYZNhc12",
        "colab_type": "text"
      },
      "source": [
        "---"
      ]
    },
    {
      "cell_type": "markdown",
      "metadata": {
        "id": "hLhRQoYbhGvh",
        "colab_type": "text"
      },
      "source": [
        "# Details of Submission [Please Edit]\n",
        "\n",
        "### Names of Group Members:\n",
        "John, Mary, Bryan\n",
        "\n",
        "### Names of Algorithms Used:\n",
        "Random Agent, PPO\n"
      ]
    },
    {
      "cell_type": "markdown",
      "metadata": {
        "id": "h0Sr4eQLrZ3f",
        "colab_type": "text"
      },
      "source": [
        "# Information on Colab"
      ]
    },
    {
      "cell_type": "markdown",
      "metadata": {
        "id": "xCjo39oa4Wo_",
        "colab_type": "text"
      },
      "source": [
        "## Python Version"
      ]
    },
    {
      "cell_type": "code",
      "metadata": {
        "id": "GwHyupUqn9I0",
        "colab_type": "code",
        "colab": {
          "base_uri": "https://localhost:8080/",
          "height": 34
        },
        "outputId": "e982e1be-5eb4-48be-ae75-18925fe2c050"
      },
      "source": [
        "!python -V"
      ],
      "execution_count": 1,
      "outputs": [
        {
          "output_type": "stream",
          "text": [
            "Python 3.6.9\n"
          ],
          "name": "stdout"
        }
      ]
    },
    {
      "cell_type": "markdown",
      "metadata": {
        "id": "rpmpiz2E4ZIi",
        "colab_type": "text"
      },
      "source": [
        "## Cuda Version"
      ]
    },
    {
      "cell_type": "code",
      "metadata": {
        "id": "P_YqJEiT4LhX",
        "colab_type": "code",
        "colab": {
          "base_uri": "https://localhost:8080/",
          "height": 85
        },
        "outputId": "4e737f2a-776c-4668-be14-24e016d6e71f"
      },
      "source": [
        "!nvcc -V"
      ],
      "execution_count": 2,
      "outputs": [
        {
          "output_type": "stream",
          "text": [
            "nvcc: NVIDIA (R) Cuda compiler driver\n",
            "Copyright (c) 2005-2019 NVIDIA Corporation\n",
            "Built on Sun_Jul_28_19:07:16_PDT_2019\n",
            "Cuda compilation tools, release 10.1, V10.1.243\n"
          ],
          "name": "stdout"
        }
      ]
    },
    {
      "cell_type": "markdown",
      "metadata": {
        "id": "CGTjEEIFFH5u",
        "colab_type": "text"
      },
      "source": [
        "# Mounting Google Drive\n",
        "\n",
        "To store trained models"
      ]
    },
    {
      "cell_type": "code",
      "metadata": {
        "id": "h1zPeIVOE2c6",
        "colab_type": "code",
        "colab": {
          "base_uri": "https://localhost:8080/",
          "height": 34
        },
        "outputId": "fd30cde5-de38-4559-98b6-74c0be3f1988"
      },
      "source": [
        "from google.colab import drive\n",
        "drive.mount(\"/content/drive\")"
      ],
      "execution_count": 3,
      "outputs": [
        {
          "output_type": "stream",
          "text": [
            "Drive already mounted at /content/drive; to attempt to forcibly remount, call drive.mount(\"/content/drive\", force_remount=True).\n"
          ],
          "name": "stdout"
        }
      ]
    },
    {
      "cell_type": "markdown",
      "metadata": {
        "id": "Fb_lw5zhJ6Av",
        "colab_type": "text"
      },
      "source": [
        "## Create Project Directory"
      ]
    },
    {
      "cell_type": "code",
      "metadata": {
        "id": "r4uwe83-Fo0E",
        "colab_type": "code",
        "colab": {
          "base_uri": "https://localhost:8080/",
          "height": 51
        },
        "outputId": "abf4975a-3eea-455d-e0e6-e3988776097e"
      },
      "source": [
        "from os import path, chdir, getcwd, mkdir\n",
        "\n",
        "# Choose a project name\n",
        "projectName = \"DinerDashChallenge\"\n",
        "\n",
        "# Project directory is in My Drive\n",
        "projectDirectory = \"/content/drive/My Drive/\" + projectName\n",
        "\n",
        "# Checks if cwd is in content folder\n",
        "if getcwd() == \"/content\":\n",
        "  # Makes project directory if it does not exist\n",
        "  if not path.isdir(projectDirectory):\n",
        "    mkdir(projectDirectory)\n",
        "    print(f\"Project {projectName} has been created!\")\n",
        "  else:\n",
        "    print(f\"Project {projectName} already exist!\")\n",
        "  # Changes to project directory\n",
        "  chdir(projectDirectory)\n",
        "\n",
        "print(f\"The current working directory is {getcwd()}\")"
      ],
      "execution_count": 4,
      "outputs": [
        {
          "output_type": "stream",
          "text": [
            "Project DinerDashChallenge already exist!\n",
            "The current working directory is /content/drive/My Drive/DinerDashChallenge\n"
          ],
          "name": "stdout"
        }
      ]
    },
    {
      "cell_type": "markdown",
      "metadata": {
        "id": "rhJmt90nhfuz",
        "colab_type": "text"
      },
      "source": [
        "# Installing Dependencies\n",
        "\n",
        "Downloading relevant project dependencies"
      ]
    },
    {
      "cell_type": "markdown",
      "metadata": {
        "id": "4iYXlsBohnCo",
        "colab_type": "text"
      },
      "source": [
        "## Dependencies for [diner dash simulator](https://github.com/AdaCompNUS/diner-dash-simulator)"
      ]
    },
    {
      "cell_type": "code",
      "metadata": {
        "id": "h24WNb92iLo5",
        "colab_type": "code",
        "colab": {
          "base_uri": "https://localhost:8080/",
          "height": 34
        },
        "outputId": "72726984-4d4b-4525-e24d-b7eb883150a6"
      },
      "source": [
        "from os import path, getcwd\n",
        "\n",
        "repoName = \"diner-dash-simulator\"\n",
        "\n",
        "# Clones repo if it does not exist\n",
        "if not path.isdir(repoName):\n",
        "  !git clone https://github.com/AdaCompNUS/diner-dash-simulator.git\n",
        "  print(f\"Diner Dash repo has been cloned to {getcwd()}\")\n",
        "else:\n",
        "  print(f\"Diner Dash repo is already available at {path.join(getcwd(), repoName)}\")"
      ],
      "execution_count": 5,
      "outputs": [
        {
          "output_type": "stream",
          "text": [
            "Diner Dash repo is already available at /content/drive/My Drive/DinerDashChallenge/diner-dash-simulator\n"
          ],
          "name": "stdout"
        }
      ]
    },
    {
      "cell_type": "code",
      "metadata": {
        "id": "ArJDnBT3eq_g",
        "colab_type": "code",
        "colab": {
          "base_uri": "https://localhost:8080/",
          "height": 306
        },
        "outputId": "9b8031d5-499e-4137-d3eb-9647dab00b5c"
      },
      "source": [
        "!pip install -e diner-dash-simulator/DinerDashEnv"
      ],
      "execution_count": 6,
      "outputs": [
        {
          "output_type": "stream",
          "text": [
            "Obtaining file:///content/drive/My%20Drive/DinerDashChallenge/diner-dash-simulator/DinerDashEnv\n",
            "Requirement already satisfied: gym>=0.2.3 in /usr/local/lib/python3.6/dist-packages (from diner-dash==0.0.1) (0.17.2)\n",
            "Requirement already satisfied: numpy in /usr/local/lib/python3.6/dist-packages (from diner-dash==0.0.1) (1.18.5)\n",
            "Requirement already satisfied: requests in /usr/local/lib/python3.6/dist-packages (from diner-dash==0.0.1) (2.23.0)\n",
            "Requirement already satisfied: scipy in /usr/local/lib/python3.6/dist-packages (from gym>=0.2.3->diner-dash==0.0.1) (1.4.1)\n",
            "Requirement already satisfied: cloudpickle<1.4.0,>=1.2.0 in /usr/local/lib/python3.6/dist-packages (from gym>=0.2.3->diner-dash==0.0.1) (1.3.0)\n",
            "Requirement already satisfied: pyglet<=1.5.0,>=1.4.0 in /usr/local/lib/python3.6/dist-packages (from gym>=0.2.3->diner-dash==0.0.1) (1.5.0)\n",
            "Requirement already satisfied: chardet<4,>=3.0.2 in /usr/local/lib/python3.6/dist-packages (from requests->diner-dash==0.0.1) (3.0.4)\n",
            "Requirement already satisfied: certifi>=2017.4.17 in /usr/local/lib/python3.6/dist-packages (from requests->diner-dash==0.0.1) (2020.6.20)\n",
            "Requirement already satisfied: idna<3,>=2.5 in /usr/local/lib/python3.6/dist-packages (from requests->diner-dash==0.0.1) (2.10)\n",
            "Requirement already satisfied: urllib3!=1.25.0,!=1.25.1,<1.26,>=1.21.1 in /usr/local/lib/python3.6/dist-packages (from requests->diner-dash==0.0.1) (1.24.3)\n",
            "Requirement already satisfied: future in /usr/local/lib/python3.6/dist-packages (from pyglet<=1.5.0,>=1.4.0->gym>=0.2.3->diner-dash==0.0.1) (0.16.0)\n",
            "Installing collected packages: diner-dash\n",
            "  Found existing installation: diner-dash 0.0.1\n",
            "    Can't uninstall 'diner-dash'. No files were found to uninstall.\n",
            "  Running setup.py develop for diner-dash\n",
            "Successfully installed diner-dash\n"
          ],
          "name": "stdout"
        }
      ]
    },
    {
      "cell_type": "code",
      "metadata": {
        "id": "yFG_CNITTHDk",
        "colab_type": "code",
        "colab": {
          "base_uri": "https://localhost:8080/",
          "height": 34
        },
        "outputId": "a3c19cd0-21e6-4d91-bd0b-ee6565277300"
      },
      "source": [
        "import gym\n",
        "\n",
        "# Test make environment\n",
        "def testEnv():\n",
        "  env = gym.make('diner_dash:DinerDash-v0').unwrapped\n",
        "  env.flash_sim = False\n",
        "  env.close()\n",
        "  return True\n",
        "\n",
        "if testEnv():\n",
        "  print(\"Installation of diner dash simulator is successful!\")"
      ],
      "execution_count": 7,
      "outputs": [
        {
          "output_type": "stream",
          "text": [
            "Installation of diner dash simulator is successful!\n"
          ],
          "name": "stdout"
        }
      ]
    },
    {
      "cell_type": "markdown",
      "metadata": {
        "id": "sI9AG8cflhV2",
        "colab_type": "text"
      },
      "source": [
        "## Dependencies for Policy [Please Edit]"
      ]
    },
    {
      "cell_type": "code",
      "metadata": {
        "id": "tZQV-Quxmd_H",
        "colab_type": "code",
        "colab": {
          "base_uri": "https://localhost:8080/",
          "height": 119
        },
        "outputId": "53a55347-3b5b-4a90-9831-91eafdf8093a"
      },
      "source": [
        "!pip install torch==1.5.1+cu101 torchvision==0.6.1+cu101 -f https://download.pytorch.org/whl/torch_stable.html"
      ],
      "execution_count": 8,
      "outputs": [
        {
          "output_type": "stream",
          "text": [
            "Looking in links: https://download.pytorch.org/whl/torch_stable.html\n",
            "Requirement already satisfied: torch==1.5.1+cu101 in /usr/local/lib/python3.6/dist-packages (1.5.1+cu101)\n",
            "Requirement already satisfied: torchvision==0.6.1+cu101 in /usr/local/lib/python3.6/dist-packages (0.6.1+cu101)\n",
            "Requirement already satisfied: numpy in /usr/local/lib/python3.6/dist-packages (from torch==1.5.1+cu101) (1.18.5)\n",
            "Requirement already satisfied: future in /usr/local/lib/python3.6/dist-packages (from torch==1.5.1+cu101) (0.16.0)\n",
            "Requirement already satisfied: pillow>=4.1.1 in /usr/local/lib/python3.6/dist-packages (from torchvision==0.6.1+cu101) (7.0.0)\n"
          ],
          "name": "stdout"
        }
      ]
    },
    {
      "cell_type": "code",
      "metadata": {
        "id": "t3vS8KYfpIan",
        "colab_type": "code",
        "colab": {
          "base_uri": "https://localhost:8080/",
          "height": 394
        },
        "outputId": "0ae212c3-835b-4406-c7bc-24441e17180f"
      },
      "source": [
        "# Stable Baselines only supports tensorflow 1.x for now\n",
        "%tensorflow_version 1.x\n",
        "!pip install stable-baselines[mpi]==2.10.0"
      ],
      "execution_count": 9,
      "outputs": [
        {
          "output_type": "stream",
          "text": [
            "TensorFlow 1.x selected.\n",
            "Requirement already satisfied: stable-baselines[mpi]==2.10.0 in /usr/local/lib/python3.6/dist-packages (2.10.0)\n",
            "Requirement already satisfied: pandas in /usr/local/lib/python3.6/dist-packages (from stable-baselines[mpi]==2.10.0) (1.0.5)\n",
            "Requirement already satisfied: opencv-python in /usr/local/lib/python3.6/dist-packages (from stable-baselines[mpi]==2.10.0) (4.1.2.30)\n",
            "Requirement already satisfied: gym[atari,classic_control]>=0.11 in /usr/local/lib/python3.6/dist-packages (from stable-baselines[mpi]==2.10.0) (0.17.2)\n",
            "Requirement already satisfied: numpy in /usr/local/lib/python3.6/dist-packages (from stable-baselines[mpi]==2.10.0) (1.18.5)\n",
            "Requirement already satisfied: matplotlib in /usr/local/lib/python3.6/dist-packages (from stable-baselines[mpi]==2.10.0) (3.2.2)\n",
            "Requirement already satisfied: scipy in /usr/local/lib/python3.6/dist-packages (from stable-baselines[mpi]==2.10.0) (1.4.1)\n",
            "Requirement already satisfied: cloudpickle>=0.5.5 in /usr/local/lib/python3.6/dist-packages (from stable-baselines[mpi]==2.10.0) (1.3.0)\n",
            "Requirement already satisfied: joblib in /usr/local/lib/python3.6/dist-packages (from stable-baselines[mpi]==2.10.0) (0.16.0)\n",
            "Requirement already satisfied: mpi4py; extra == \"mpi\" in /tensorflow-1.15.2/python3.6 (from stable-baselines[mpi]==2.10.0) (3.0.3)\n",
            "Requirement already satisfied: pytz>=2017.2 in /usr/local/lib/python3.6/dist-packages (from pandas->stable-baselines[mpi]==2.10.0) (2018.9)\n",
            "Requirement already satisfied: python-dateutil>=2.6.1 in /usr/local/lib/python3.6/dist-packages (from pandas->stable-baselines[mpi]==2.10.0) (2.8.1)\n",
            "Requirement already satisfied: pyglet<=1.5.0,>=1.4.0 in /usr/local/lib/python3.6/dist-packages (from gym[atari,classic_control]>=0.11->stable-baselines[mpi]==2.10.0) (1.5.0)\n",
            "Requirement already satisfied: Pillow; extra == \"atari\" in /usr/local/lib/python3.6/dist-packages (from gym[atari,classic_control]>=0.11->stable-baselines[mpi]==2.10.0) (7.0.0)\n",
            "Requirement already satisfied: atari-py~=0.2.0; extra == \"atari\" in /usr/local/lib/python3.6/dist-packages (from gym[atari,classic_control]>=0.11->stable-baselines[mpi]==2.10.0) (0.2.6)\n",
            "Requirement already satisfied: pyparsing!=2.0.4,!=2.1.2,!=2.1.6,>=2.0.1 in /usr/local/lib/python3.6/dist-packages (from matplotlib->stable-baselines[mpi]==2.10.0) (2.4.7)\n",
            "Requirement already satisfied: kiwisolver>=1.0.1 in /usr/local/lib/python3.6/dist-packages (from matplotlib->stable-baselines[mpi]==2.10.0) (1.2.0)\n",
            "Requirement already satisfied: cycler>=0.10 in /usr/local/lib/python3.6/dist-packages (from matplotlib->stable-baselines[mpi]==2.10.0) (0.10.0)\n",
            "Requirement already satisfied: six>=1.5 in /usr/local/lib/python3.6/dist-packages (from python-dateutil>=2.6.1->pandas->stable-baselines[mpi]==2.10.0) (1.15.0)\n",
            "Requirement already satisfied: future in /usr/local/lib/python3.6/dist-packages (from pyglet<=1.5.0,>=1.4.0->gym[atari,classic_control]>=0.11->stable-baselines[mpi]==2.10.0) (0.16.0)\n"
          ],
          "name": "stdout"
        }
      ]
    },
    {
      "cell_type": "markdown",
      "metadata": {
        "id": "rzdKjy68IIBL",
        "colab_type": "text"
      },
      "source": [
        "# Check GPU usage"
      ]
    },
    {
      "cell_type": "code",
      "metadata": {
        "id": "jqvFkTbo69ig",
        "colab_type": "code",
        "colab": {
          "base_uri": "https://localhost:8080/",
          "height": 34
        },
        "outputId": "3814e320-0a83-4822-8804-9f5f2f629456"
      },
      "source": [
        "# Check if runtime uses GPU\n",
        "# Ignore error if you do not wish to use a GPU\n",
        "from tensorflow.test import gpu_device_name\n",
        "\n",
        "device_name = gpu_device_name()\n",
        "if device_name != '/device:GPU:0':\n",
        "  print(\n",
        "      '\\n\\nThis error most likely means that this notebook is not '\n",
        "      'configured to use a GPU.  Change this in Notebook Settings via the '\n",
        "      'command palette (cmd/ctrl-shift-P) or the Edit menu.\\n\\n')\n",
        "  raise SystemError('GPU device not found')\n",
        "else:\n",
        "  print(\"GPU runtime is in use!\")"
      ],
      "execution_count": 10,
      "outputs": [
        {
          "output_type": "stream",
          "text": [
            "GPU runtime is in use!\n"
          ],
          "name": "stdout"
        }
      ]
    },
    {
      "cell_type": "markdown",
      "metadata": {
        "id": "jhLb7POHP-Ic",
        "colab_type": "text"
      },
      "source": [
        "# Helper Functions\n",
        "\n",
        "For easier debugging"
      ]
    },
    {
      "cell_type": "code",
      "metadata": {
        "id": "WMDW4nVXQA4Z",
        "colab_type": "code",
        "colab": {}
      },
      "source": [
        "def getAction(actionID):\n",
        "    actionIDtoName = {\n",
        "        0 : \"None\",\n",
        "        1 : \"Move to Table 1\",\n",
        "        2 : \"Move to Table 2\",\n",
        "        3 : \"Move to Table 3\",\n",
        "        4 : \"Move to Table 4\",\n",
        "        5 : \"Move to Table 5\",\n",
        "        6 : \"Move to Table 6\",\n",
        "        7 : \"Move to Counter\",\n",
        "        8 : \"Pick Food for Table 1\",\n",
        "        9 : \"Pick Food for Table 2\",\n",
        "        10 : \"Pick Food for Table 3\",\n",
        "        11 : \"Pick Food for Table 4\",\n",
        "        12 : \"Pick Food for Table 5\",\n",
        "        13 : \"Pick Food for Table 6\",\n",
        "        14 : \"Move to Food Collection\",\n",
        "        15 : \"Pick Table 1 for Group 1\",\n",
        "        16 : \"Pick Table 2 for Group 1\",\n",
        "        17 : \"Pick Table 3 for Group 1\",\n",
        "        18 : \"Pick Table 4 for Group 1\",\n",
        "        19 : \"Pick Table 5 for Group 1\",\n",
        "        20 : \"Pick Table 6 for Group 1\",\n",
        "        21 : \"Pick Table 1 for Group 2\",\n",
        "        22 : \"Pick Table 2 for Group 2\",\n",
        "        23 : \"Pick Table 3 for Group 2\",\n",
        "        24 : \"Pick Table 4 for Group 2\",\n",
        "        25 : \"Pick Table 5 for Group 2\",\n",
        "        26 : \"Pick Table 6 for Group 2\",\n",
        "        27 : \"Pick Table 1 for Group 3\",\n",
        "        28 : \"Pick Table 2 for Group 3\",\n",
        "        29 : \"Pick Table 3 for Group 3\",\n",
        "        30 : \"Pick Table 4 for Group 3\",\n",
        "        31 : \"Pick Table 5 for Group 3\",\n",
        "        32 : \"Pick Table 6 for Group 3\",\n",
        "        33 : \"Pick Table 1 for Group 4\",\n",
        "        34 : \"Pick Table 2 for Group 4\",\n",
        "        35 : \"Pick Table 3 for Group 4\",\n",
        "        36 : \"Pick Table 4 for Group 4\",\n",
        "        37 : \"Pick Table 5 for Group 4\",\n",
        "        38 : \"Pick Table 6 for Group 4\",\n",
        "        39 : \"Pick Table 1 for Group 5\",\n",
        "        40 : \"Pick Table 2 for Group 5\",\n",
        "        41 : \"Pick Table 3 for Group 5\",\n",
        "        42 : \"Pick Table 4 for Group 5\",\n",
        "        43 : \"Pick Table 5 for Group 5\",\n",
        "        44 : \"Pick Table 6 for Group 5\",\n",
        "        45 : \"Pick Table 1 for Group 6\",\n",
        "        46 : \"Pick Table 2 for Group 6\",\n",
        "        47 : \"Pick Table 3 for Group 6\",\n",
        "        48 : \"Pick Table 4 for Group 6\",\n",
        "        49 : \"Pick Table 5 for Group 6\",\n",
        "        50 : \"Pick Table 6 for Group 6\",\n",
        "        51 : \"Pick Table 1 for Group 7\",\n",
        "        52 : \"Pick Table 2 for Group 7\",\n",
        "        53 : \"Pick Table 3 for Group 7\",\n",
        "        54 : \"Pick Table 4 for Group 7\",\n",
        "        55 : \"Pick Table 5 for Group 7\",\n",
        "        56 : \"Pick Table 6 for Group 7\",\n",
        "    }\n",
        "    return actionIDtoName[actionID]"
      ],
      "execution_count": 11,
      "outputs": []
    },
    {
      "cell_type": "markdown",
      "metadata": {
        "id": "sIfwpn5wnTwk",
        "colab_type": "text"
      },
      "source": [
        "# Policies [Please Edit]"
      ]
    },
    {
      "cell_type": "markdown",
      "metadata": {
        "id": "IbkVfqVlKED_",
        "colab_type": "text"
      },
      "source": [
        "## Initialise Environment"
      ]
    },
    {
      "cell_type": "code",
      "metadata": {
        "id": "IN5uGdnlqqmi",
        "colab_type": "code",
        "colab": {}
      },
      "source": [
        "import time\n",
        "import gym\n",
        "import numpy as np\n",
        "\n",
        "# Initialises first env\n",
        "def initEnv(seed=None):\n",
        "  env = gym.make('diner_dash:DinerDash-v0').unwrapped\n",
        "  env.flash_sim = False\n",
        "  \n",
        "  if seed != None:\n",
        "    # sets random seed\n",
        "    env.seed(seed)\n",
        "\n",
        "  obs = env.reset()\n",
        "\n",
        "  return env, obs"
      ],
      "execution_count": 12,
      "outputs": []
    },
    {
      "cell_type": "markdown",
      "metadata": {
        "id": "47LrGgLLHgzy",
        "colab_type": "text"
      },
      "source": [
        "## Self Implemented/Adapted Models"
      ]
    },
    {
      "cell_type": "markdown",
      "metadata": {
        "id": "ul2Fi9PaPgz7",
        "colab_type": "text"
      },
      "source": [
        "### Random Agent"
      ]
    },
    {
      "cell_type": "code",
      "metadata": {
        "id": "StTisAOnPvoS",
        "colab_type": "code",
        "colab": {}
      },
      "source": [
        "from random import randint"
      ],
      "execution_count": 13,
      "outputs": []
    },
    {
      "cell_type": "code",
      "metadata": {
        "id": "W4cYi3VuPjwg",
        "colab_type": "code",
        "colab": {}
      },
      "source": [
        "# Randomly select an action from the action space\n",
        "def testRA(seed):\n",
        "\n",
        "  # init env\n",
        "  env, _ = initEnv(seed=seed)\n",
        "\n",
        "  # init variables\n",
        "  done = False\n",
        "  sumReward = 0\n",
        "  actionList = []\n",
        "\n",
        "  while not done:\n",
        "      action = randint(0, 56)\n",
        "      actionList.append(action)\n",
        "      state, reward, done, _ = env.step(action)\n",
        "      sumReward += reward\n",
        "\n",
        "  return sumReward, actionList"
      ],
      "execution_count": 14,
      "outputs": []
    },
    {
      "cell_type": "markdown",
      "metadata": {
        "id": "_ogJEf9DnYzs",
        "colab_type": "text"
      },
      "source": [
        "### [PPO](https://github.com/nikhilbarhate99/PPO-PyTorch)"
      ]
    },
    {
      "cell_type": "code",
      "metadata": {
        "id": "EaLiVAuEnP4M",
        "colab_type": "code",
        "colab": {
          "base_uri": "https://localhost:8080/",
          "height": 34
        },
        "outputId": "ef539b37-0509-494c-c25e-dc928716d114"
      },
      "source": [
        "import torch\n",
        "import torch.nn as nn\n",
        "import numpy as np\n",
        "from torch.distributions import Categorical\n",
        "\n",
        "device = torch.device(\"cuda:0\" if torch.cuda.is_available() else \"cpu\")\n",
        "print(device)"
      ],
      "execution_count": 15,
      "outputs": [
        {
          "output_type": "stream",
          "text": [
            "cuda:0\n"
          ],
          "name": "stdout"
        }
      ]
    },
    {
      "cell_type": "code",
      "metadata": {
        "id": "pbJ-Mr5ZoCmT",
        "colab_type": "code",
        "colab": {}
      },
      "source": [
        "class Memory:\n",
        "    def __init__(self):\n",
        "        self.actions = []\n",
        "        self.states = []\n",
        "        self.logprobs = []\n",
        "        self.rewards = []\n",
        "        self.is_terminals = []\n",
        "    \n",
        "    def clear_memory(self):\n",
        "        del self.actions[:]\n",
        "        del self.states[:]\n",
        "        del self.logprobs[:]\n",
        "        del self.rewards[:]\n",
        "        del self.is_terminals[:]\n",
        "\n",
        "class ActorCritic(nn.Module):\n",
        "    def __init__(self, state_dim, action_dim, n_latent_var):\n",
        "        super(ActorCritic, self).__init__()\n",
        "\n",
        "        # actor\n",
        "        self.action_layer = nn.Sequential(\n",
        "                nn.Linear(state_dim, n_latent_var),\n",
        "                nn.Tanh(),\n",
        "                nn.Linear(n_latent_var, n_latent_var),\n",
        "                nn.Tanh(),\n",
        "                nn.Linear(n_latent_var, action_dim),\n",
        "                nn.Softmax(dim=-1)\n",
        "                )\n",
        "        \n",
        "        # critic\n",
        "        self.value_layer = nn.Sequential(\n",
        "                nn.Linear(state_dim, n_latent_var),\n",
        "                nn.Tanh(),\n",
        "                nn.Linear(n_latent_var, n_latent_var),\n",
        "                nn.Tanh(),\n",
        "                nn.Linear(n_latent_var, 1)\n",
        "                )\n",
        "        \n",
        "    def forward(self):\n",
        "        raise NotImplementedError\n",
        "        \n",
        "    def act(self, state, memory):\n",
        "        state = torch.from_numpy(state).float().to(device) \n",
        "        action_probs = self.action_layer(state)\n",
        "        dist = Categorical(action_probs)\n",
        "        action = dist.sample()\n",
        "        \n",
        "        memory.states.append(state)\n",
        "        memory.actions.append(action)\n",
        "        memory.logprobs.append(dist.log_prob(action))\n",
        "        \n",
        "        return action.item()\n",
        "    \n",
        "    def evaluate(self, state, action):\n",
        "        action_probs = self.action_layer(state)\n",
        "        dist = Categorical(action_probs)\n",
        "        \n",
        "        action_logprobs = dist.log_prob(action)\n",
        "        dist_entropy = dist.entropy()\n",
        "        \n",
        "        state_value = self.value_layer(state)\n",
        "        \n",
        "        return action_logprobs, torch.squeeze(state_value), dist_entropy\n",
        "        \n",
        "class PPO:\n",
        "    def __init__(self, state_dim, action_dim, n_latent_var, lr, betas, gamma, K_epochs, eps_clip):\n",
        "        self.lr = lr\n",
        "        self.betas = betas\n",
        "        self.gamma = gamma\n",
        "        self.eps_clip = eps_clip\n",
        "        self.K_epochs = K_epochs\n",
        "        \n",
        "        self.policy = ActorCritic(state_dim, action_dim, n_latent_var).to(device)\n",
        "        self.optimizer = torch.optim.Adam(self.policy.parameters(), lr=lr, betas=betas)\n",
        "        self.policy_old = ActorCritic(state_dim, action_dim, n_latent_var).to(device)\n",
        "        self.policy_old.load_state_dict(self.policy.state_dict())\n",
        "        \n",
        "        self.MseLoss = nn.MSELoss()\n",
        "    \n",
        "    def update(self, memory):   \n",
        "        # Monte Carlo estimate of state rewards:\n",
        "        rewards = []\n",
        "        discounted_reward = 0\n",
        "        for reward, is_terminal in zip(reversed(memory.rewards), reversed(memory.is_terminals)):\n",
        "            if is_terminal:\n",
        "                discounted_reward = 0\n",
        "            discounted_reward = reward + (self.gamma * discounted_reward)\n",
        "            rewards.insert(0, discounted_reward)\n",
        "        \n",
        "        # Normalizing the rewards:\n",
        "        rewards = torch.tensor(rewards).to(device)\n",
        "        rewards = (rewards - rewards.mean()) / (rewards.std() + 1e-5)\n",
        "        \n",
        "        # convert list to tensor\n",
        "        old_states = torch.stack(memory.states).to(device).detach()\n",
        "        old_actions = torch.stack(memory.actions).to(device).detach()\n",
        "        old_logprobs = torch.stack(memory.logprobs).to(device).detach()\n",
        "        \n",
        "        # Optimize policy for K epochs:\n",
        "        for _ in range(self.K_epochs):\n",
        "            # Evaluating old actions and values :\n",
        "            logprobs, state_values, dist_entropy = self.policy.evaluate(old_states, old_actions)\n",
        "            \n",
        "            # Finding the ratio (pi_theta / pi_theta__old):\n",
        "            ratios = torch.exp(logprobs - old_logprobs.detach())\n",
        "                \n",
        "            # Finding Surrogate Loss:\n",
        "            advantages = rewards - state_values.detach()\n",
        "            surr1 = ratios * advantages\n",
        "            surr2 = torch.clamp(ratios, 1-self.eps_clip, 1+self.eps_clip) * advantages\n",
        "            loss = -torch.min(surr1, surr2) + 0.5*self.MseLoss(state_values, rewards) - 0.01*dist_entropy\n",
        "            \n",
        "            # take gradient step\n",
        "            self.optimizer.zero_grad()\n",
        "            loss.mean().backward()\n",
        "            self.optimizer.step()\n",
        "        \n",
        "        # Copy new weights into old policy:\n",
        "        self.policy_old.load_state_dict(self.policy.state_dict())"
      ],
      "execution_count": 16,
      "outputs": []
    },
    {
      "cell_type": "code",
      "metadata": {
        "id": "Hb-_zyFloDUt",
        "colab_type": "code",
        "colab": {}
      },
      "source": [
        "def trainPPO():\n",
        "    ############## Hyperparameters ##############\n",
        "    # creating environment\n",
        "    env, _ = initEnv()\n",
        "    state_dim = env.observation_space.shape[0]\n",
        "    action_dim = env.action_space.n\n",
        "    log_directory = \"./logs\"     # log directory\n",
        "    log_interval = 500          # print avg reward in the interval\n",
        "    save_interval = int(5e5)    # checkpoints to save model\n",
        "    max_timesteps = int(1e7)    # max training timesteps\n",
        "    n_latent_var = 64           # number of variables in hidden layer\n",
        "    update_timestep = 2000      # update policy every n timesteps\n",
        "    lr = 0.003\n",
        "    betas = (0.9, 0.999)\n",
        "    gamma = 0.99                # discount factor\n",
        "    K_epochs = 4                # update policy for K epochs\n",
        "    eps_clip = 0.2              # clip parameter for PPO\n",
        "    random_seed = None\n",
        "    #############################################\n",
        "    \n",
        "    # Train model\n",
        "    start_time = time.time()\n",
        "\n",
        "    if random_seed:\n",
        "        torch.manual_seed(random_seed)\n",
        "        env.seed(random_seed)\n",
        "    \n",
        "    memory = Memory()\n",
        "    ppo = PPO(state_dim, action_dim, n_latent_var, lr, betas, gamma, K_epochs, eps_clip)\n",
        "    print(lr,betas)\n",
        "    \n",
        "    # logging variables\n",
        "    running_reward = 0\n",
        "    avg_length = 0\n",
        "    timestep = 0 # train timesteps\n",
        "    t = 0 # timestep within each episode\n",
        "    e = 0 # num of episodes\n",
        "\n",
        "    done = False\n",
        "    \n",
        "    # training loop\n",
        "    while timestep <= max_timesteps:\n",
        "        state = env.reset()\n",
        "        e += 1 # episode number\n",
        "        while not done:\n",
        "            timestep += 1\n",
        "            t += 1 # timestep within each episode\n",
        "\n",
        "            if timestep == max_timesteps:\n",
        "                torch.save(ppo.policy.state_dict(), f'./PPO_diner-dash_{timestep:.0e}.pth')\n",
        "                print(f\"--- Time take to train model = {(time.time() - start_time)//60} minutes ---\")\n",
        "                return\n",
        "            \n",
        "            # Running policy_old:\n",
        "            action = ppo.policy_old.act(state, memory)\n",
        "            state, reward, done, _ = env.step(action)\n",
        "            \n",
        "            # Saving reward and is_terminal:\n",
        "            memory.rewards.append(reward)\n",
        "            memory.is_terminals.append(done)\n",
        "            \n",
        "            # update if its time\n",
        "            if timestep % update_timestep == 0:\n",
        "                ppo.update(memory)\n",
        "                memory.clear_memory()\n",
        "\n",
        "            # save model at checkpoints\n",
        "            if timestep % save_interval == 0:\n",
        "                if not path.isdir(log_directory):\n",
        "                    mkdir(log_directory)\n",
        "                torch.save(ppo.policy.state_dict(), f'{log_directory}/PPO_diner-dash_{timestep:.0e}.pth')\n",
        "            \n",
        "            running_reward += reward\n",
        "                \n",
        "        avg_length += t\n",
        "\n",
        "        # reset timestep t and done since episode ended\n",
        "        t = 0\n",
        "        done = False\n",
        "            \n",
        "        # logging\n",
        "        if e % log_interval == 0:\n",
        "            avg_length = int(avg_length/log_interval)\n",
        "            running_reward = int((running_reward/log_interval))\n",
        "            \n",
        "            print('Episode {} \\t avg length: {} \\t reward: {}'.format(e, avg_length, running_reward))\n",
        "            running_reward = 0\n",
        "            avg_length = 0\n",
        "    return"
      ],
      "execution_count": 19,
      "outputs": []
    },
    {
      "cell_type": "code",
      "metadata": {
        "id": "4c06KtkyZLHC",
        "colab_type": "code",
        "colab": {
          "base_uri": "https://localhost:8080/",
          "height": 1000
        },
        "outputId": "3d577bdb-ee51-4efc-b3c4-85df32ab8c6f"
      },
      "source": [
        "trainPPO()"
      ],
      "execution_count": 20,
      "outputs": [
        {
          "output_type": "stream",
          "text": [
            "0.003 (0.9, 0.999)\n",
            "Episode 500 \t avg length: 138 \t reward: -1147\n",
            "Episode 1000 \t avg length: 137 \t reward: -894\n",
            "Episode 1500 \t avg length: 137 \t reward: -716\n",
            "Episode 2000 \t avg length: 137 \t reward: -597\n",
            "Episode 2500 \t avg length: 137 \t reward: -443\n",
            "Episode 3000 \t avg length: 137 \t reward: -328\n",
            "Episode 3500 \t avg length: 137 \t reward: -261\n",
            "Episode 4000 \t avg length: 136 \t reward: -184\n",
            "Episode 4500 \t avg length: 138 \t reward: -90\n",
            "Episode 5000 \t avg length: 142 \t reward: 58\n",
            "Episode 5500 \t avg length: 142 \t reward: 178\n",
            "Episode 6000 \t avg length: 142 \t reward: 247\n",
            "Episode 6500 \t avg length: 143 \t reward: 257\n",
            "Episode 7000 \t avg length: 143 \t reward: 300\n",
            "Episode 7500 \t avg length: 144 \t reward: 302\n",
            "Episode 8000 \t avg length: 143 \t reward: 238\n",
            "Episode 8500 \t avg length: 145 \t reward: 154\n",
            "Episode 9000 \t avg length: 144 \t reward: 151\n",
            "Episode 9500 \t avg length: 144 \t reward: 236\n",
            "Episode 10000 \t avg length: 143 \t reward: 284\n",
            "Episode 10500 \t avg length: 144 \t reward: 307\n",
            "Episode 11000 \t avg length: 145 \t reward: 373\n",
            "Episode 11500 \t avg length: 145 \t reward: 286\n",
            "Episode 12000 \t avg length: 144 \t reward: 284\n",
            "Episode 12500 \t avg length: 146 \t reward: 375\n",
            "Episode 13000 \t avg length: 148 \t reward: 416\n",
            "Episode 13500 \t avg length: 147 \t reward: 463\n",
            "Episode 14000 \t avg length: 148 \t reward: 498\n",
            "Episode 14500 \t avg length: 152 \t reward: 553\n",
            "Episode 15000 \t avg length: 153 \t reward: 598\n",
            "Episode 15500 \t avg length: 153 \t reward: 616\n",
            "Episode 16000 \t avg length: 153 \t reward: 624\n",
            "Episode 16500 \t avg length: 157 \t reward: 580\n",
            "Episode 17000 \t avg length: 155 \t reward: 524\n",
            "Episode 17500 \t avg length: 156 \t reward: 620\n",
            "Episode 18000 \t avg length: 155 \t reward: 693\n",
            "Episode 18500 \t avg length: 156 \t reward: 714\n",
            "Episode 19000 \t avg length: 156 \t reward: 660\n",
            "Episode 19500 \t avg length: 157 \t reward: 663\n",
            "Episode 20000 \t avg length: 157 \t reward: 679\n",
            "Episode 20500 \t avg length: 157 \t reward: 603\n",
            "Episode 21000 \t avg length: 155 \t reward: 608\n",
            "Episode 21500 \t avg length: 153 \t reward: 638\n",
            "Episode 22000 \t avg length: 156 \t reward: 707\n",
            "Episode 22500 \t avg length: 157 \t reward: 701\n",
            "Episode 23000 \t avg length: 158 \t reward: 692\n",
            "Episode 23500 \t avg length: 160 \t reward: 757\n",
            "Episode 24000 \t avg length: 162 \t reward: 767\n",
            "Episode 24500 \t avg length: 161 \t reward: 747\n",
            "Episode 25000 \t avg length: 163 \t reward: 881\n",
            "Episode 25500 \t avg length: 163 \t reward: 841\n",
            "Episode 26000 \t avg length: 160 \t reward: 789\n",
            "Episode 26500 \t avg length: 162 \t reward: 883\n",
            "Episode 27000 \t avg length: 162 \t reward: 867\n",
            "Episode 27500 \t avg length: 162 \t reward: 856\n",
            "Episode 28000 \t avg length: 162 \t reward: 859\n",
            "Episode 28500 \t avg length: 161 \t reward: 841\n",
            "Episode 29000 \t avg length: 161 \t reward: 842\n",
            "Episode 29500 \t avg length: 157 \t reward: 705\n",
            "Episode 30000 \t avg length: 159 \t reward: 784\n",
            "Episode 30500 \t avg length: 162 \t reward: 896\n",
            "Episode 31000 \t avg length: 161 \t reward: 863\n",
            "Episode 31500 \t avg length: 163 \t reward: 928\n",
            "Episode 32000 \t avg length: 164 \t reward: 936\n",
            "Episode 32500 \t avg length: 161 \t reward: 961\n",
            "Episode 33000 \t avg length: 162 \t reward: 983\n",
            "Episode 33500 \t avg length: 164 \t reward: 927\n",
            "Episode 34000 \t avg length: 166 \t reward: 955\n",
            "Episode 34500 \t avg length: 165 \t reward: 962\n",
            "Episode 35000 \t avg length: 165 \t reward: 970\n",
            "Episode 35500 \t avg length: 169 \t reward: 1074\n",
            "Episode 36000 \t avg length: 170 \t reward: 1072\n",
            "Episode 36500 \t avg length: 166 \t reward: 1020\n",
            "Episode 37000 \t avg length: 165 \t reward: 1077\n",
            "Episode 37500 \t avg length: 168 \t reward: 1065\n",
            "Episode 38000 \t avg length: 169 \t reward: 1034\n",
            "Episode 38500 \t avg length: 170 \t reward: 983\n",
            "Episode 39000 \t avg length: 169 \t reward: 920\n",
            "Episode 39500 \t avg length: 165 \t reward: 939\n",
            "Episode 40000 \t avg length: 168 \t reward: 920\n",
            "Episode 40500 \t avg length: 167 \t reward: 978\n",
            "Episode 41000 \t avg length: 170 \t reward: 949\n",
            "Episode 41500 \t avg length: 168 \t reward: 960\n",
            "Episode 42000 \t avg length: 172 \t reward: 990\n",
            "Episode 42500 \t avg length: 174 \t reward: 990\n",
            "Episode 43000 \t avg length: 169 \t reward: 955\n",
            "Episode 43500 \t avg length: 168 \t reward: 945\n",
            "Episode 44000 \t avg length: 170 \t reward: 996\n",
            "Episode 44500 \t avg length: 174 \t reward: 1033\n",
            "Episode 45000 \t avg length: 171 \t reward: 985\n",
            "Episode 45500 \t avg length: 170 \t reward: 932\n",
            "Episode 46000 \t avg length: 170 \t reward: 954\n",
            "Episode 46500 \t avg length: 174 \t reward: 964\n",
            "Episode 47000 \t avg length: 171 \t reward: 969\n",
            "Episode 47500 \t avg length: 175 \t reward: 1095\n",
            "Episode 48000 \t avg length: 178 \t reward: 1071\n",
            "Episode 48500 \t avg length: 173 \t reward: 967\n",
            "Episode 49000 \t avg length: 172 \t reward: 1035\n",
            "Episode 49500 \t avg length: 173 \t reward: 1056\n",
            "Episode 50000 \t avg length: 168 \t reward: 942\n",
            "Episode 50500 \t avg length: 171 \t reward: 1017\n",
            "Episode 51000 \t avg length: 169 \t reward: 974\n",
            "Episode 51500 \t avg length: 173 \t reward: 1058\n",
            "Episode 52000 \t avg length: 169 \t reward: 998\n",
            "Episode 52500 \t avg length: 173 \t reward: 1031\n",
            "Episode 53000 \t avg length: 174 \t reward: 1098\n",
            "Episode 53500 \t avg length: 171 \t reward: 1005\n",
            "Episode 54000 \t avg length: 171 \t reward: 987\n",
            "Episode 54500 \t avg length: 171 \t reward: 962\n",
            "Episode 55000 \t avg length: 173 \t reward: 1040\n",
            "Episode 55500 \t avg length: 172 \t reward: 1062\n",
            "Episode 56000 \t avg length: 173 \t reward: 1063\n",
            "Episode 56500 \t avg length: 174 \t reward: 1004\n",
            "Episode 57000 \t avg length: 174 \t reward: 1074\n",
            "Episode 57500 \t avg length: 173 \t reward: 1056\n",
            "Episode 58000 \t avg length: 176 \t reward: 1081\n",
            "Episode 58500 \t avg length: 174 \t reward: 1083\n",
            "Episode 59000 \t avg length: 175 \t reward: 1122\n",
            "Episode 59500 \t avg length: 175 \t reward: 1134\n",
            "Episode 60000 \t avg length: 179 \t reward: 1207\n",
            "Episode 60500 \t avg length: 170 \t reward: 1103\n",
            "Episode 61000 \t avg length: 177 \t reward: 1185\n",
            "Episode 61500 \t avg length: 174 \t reward: 1119\n",
            "Episode 62000 \t avg length: 174 \t reward: 1145\n"
          ],
          "name": "stdout"
        }
      ]
    },
    {
      "cell_type": "code",
      "metadata": {
        "id": "eUE1qOV9MN3M",
        "colab_type": "code",
        "colab": {}
      },
      "source": [
        "def testPPO(seed):\n",
        "    ############## Hyperparameters ##############\n",
        "    # creating environment\n",
        "    env, obs = initEnv(seed=seed)\n",
        "    state_dim = env.observation_space.shape[0]\n",
        "    action_dim = env.action_space.n\n",
        "    n_latent_var = 64           # number of variables in hidden layer\n",
        "    filename = \"./PPO_diner-dash_1e+07.pth\" # path to saved model\n",
        "    lr = 0.0007\n",
        "    betas = (0.9, 0.999)\n",
        "    gamma = 0.99                # discount factor\n",
        "    K_epochs = 4                # update policy for K epochs\n",
        "    eps_clip = 0.2              # clip parameter for PPO\n",
        "    #############################################\n",
        "    \n",
        "    memory = Memory()\n",
        "    ppo = PPO(state_dim, action_dim, n_latent_var, lr, betas, gamma, K_epochs, eps_clip)\n",
        "    \n",
        "    ppo.policy_old.load_state_dict(torch.load(filename))\n",
        "\n",
        "    ep_reward = 0\n",
        "    done = False\n",
        "\n",
        "    while not done:\n",
        "      action = ppo.policy_old.act(obs, memory)\n",
        "      state, reward, done, _ = env.step(action)\n",
        "      ep_reward += reward\n",
        "\n",
        "    actionList = [action.item() for action in memory.actions]\n",
        "\n",
        "    return ep_reward, actionList"
      ],
      "execution_count": 34,
      "outputs": []
    },
    {
      "cell_type": "markdown",
      "metadata": {
        "id": "v9AaOurkA68o",
        "colab_type": "text"
      },
      "source": [
        "## [Stable Baselines](https://github.com/hill-a/stable-baselines)"
      ]
    },
    {
      "cell_type": "markdown",
      "metadata": {
        "id": "UhlZv0u3Wyn6",
        "colab_type": "text"
      },
      "source": [
        "### Check Env setup for Stable Baselines"
      ]
    },
    {
      "cell_type": "code",
      "metadata": {
        "id": "fPuA_s1cyeC6",
        "colab_type": "code",
        "colab": {
          "base_uri": "https://localhost:8080/",
          "height": 153
        },
        "outputId": "54ace7d2-1c56-428a-b80d-378da311866d"
      },
      "source": [
        "from stable_baselines.common.env_checker import check_env"
      ],
      "execution_count": 22,
      "outputs": [
        {
          "output_type": "stream",
          "text": [
            "WARNING:tensorflow:\n",
            "The TensorFlow contrib module will not be included in TensorFlow 2.0.\n",
            "For more information, please see:\n",
            "  * https://github.com/tensorflow/community/blob/master/rfcs/20180907-contrib-sunset.md\n",
            "  * https://github.com/tensorflow/addons\n",
            "  * https://github.com/tensorflow/io (for I/O related ops)\n",
            "If you depend on functionality not listed there, please file an issue.\n",
            "\n"
          ],
          "name": "stdout"
        }
      ]
    },
    {
      "cell_type": "code",
      "metadata": {
        "id": "CkerSMaSym9l",
        "colab_type": "code",
        "colab": {
          "base_uri": "https://localhost:8080/",
          "height": 34
        },
        "outputId": "52e7cc2a-1ba2-4aa4-a805-aed54fed9de3"
      },
      "source": [
        "error = check_env(gym.make('diner_dash:DinerDash-v0').unwrapped)\n",
        "if error == None:\n",
        "  print(\"Diner Dash environment is compatible with Stable-Baselines!\")"
      ],
      "execution_count": 23,
      "outputs": [
        {
          "output_type": "stream",
          "text": [
            "Diner Dash environment is compatible with Stable-Baselines!\n"
          ],
          "name": "stdout"
        }
      ]
    },
    {
      "cell_type": "markdown",
      "metadata": {
        "id": "DZN2HqxQXU5j",
        "colab_type": "text"
      },
      "source": [
        "### Saving Models\n"
      ]
    },
    {
      "cell_type": "markdown",
      "metadata": {
        "id": "mgzEa-0CFK0H",
        "colab_type": "text"
      },
      "source": [
        "#### Using Callbacks"
      ]
    },
    {
      "cell_type": "markdown",
      "metadata": {
        "id": "PJSvrc-hGlz-",
        "colab_type": "text"
      },
      "source": [
        "- Save a checkpoint every 1000 steps\n",
        "- Please change the callback variable name and name_prefix to whatever desire/specific to model\n",
        "- Model saved in ./logs directory\n",
        "\n",
        "  `PPO_callback = CheckpointCallback(save_freq=1000, save_path='./logs/', name_prefix='diner-dash-PPO')`"
      ]
    },
    {
      "cell_type": "markdown",
      "metadata": {
        "id": "sHqMaCOzFM2X",
        "colab_type": "text"
      },
      "source": [
        "#### Using save function"
      ]
    },
    {
      "cell_type": "markdown",
      "metadata": {
        "id": "5fagmv0RGGGq",
        "colab_type": "text"
      },
      "source": [
        "- Model saved in current directory\n",
        "\n",
        "  `model.save('name-of-model')`"
      ]
    },
    {
      "cell_type": "markdown",
      "metadata": {
        "id": "fUaGTTZKHDCV",
        "colab_type": "text"
      },
      "source": [
        "### Loading Models"
      ]
    },
    {
      "cell_type": "markdown",
      "metadata": {
        "id": "__TWINPkHMMM",
        "colab_type": "text"
      },
      "source": [
        "- If only for evaluation\n",
        "\n",
        "  `PPO_model = PPO2.load('name-of-model')`\n",
        "\n",
        "  `PPO_model.predict(state)`\n",
        "\n",
        "- If loading for further training\n",
        "\n",
        "  `PPO_model = PPO2.load('name-of-model', env)`\n",
        "\n",
        "  `PPO_model.learn(5000)`"
      ]
    },
    {
      "cell_type": "markdown",
      "metadata": {
        "id": "kITom2RTpWSK",
        "colab_type": "text"
      },
      "source": [
        "### Wrapper for better training performance"
      ]
    },
    {
      "cell_type": "code",
      "metadata": {
        "id": "B1WOnn4XpdYB",
        "colab_type": "code",
        "colab": {}
      },
      "source": [
        "class OneHotWrapper(gym.Wrapper):\n",
        "  \"\"\"\n",
        "  :param env: (gym.Env) Gym environment that will be wrapped\n",
        "  \"\"\"\n",
        "  def __init__(self, env):\n",
        "    # Call the parent constructor, so we can access self.env later\n",
        "    super(OneHotWrapper, self).__init__(env)\n",
        "    self.config = [7, 7, 7, 7, 7, 7, 7, 7, 7, 7, 7, 7, 7, 7, 7, 7, 7, 7, \n",
        "                   2, 2, 2, 2, 2, 2, 7, 7, 7, 7, 7, 7, 7, 7, 7, 7, 7, 7, \n",
        "                   7, 7, 19, 19]\n",
        "    self.low_state = np.array([-20] * sum(self.config), dtype=np.float32)\n",
        "    self.high_state = np.array([20] * sum(self.config), dtype=np.float32)\n",
        "    self.observation_space = gym.spaces.Box(low=self.low_state, high=self.high_state, dtype=np.float32)\n",
        "\n",
        "  def oneHotEncode(self, rawObs):\n",
        "    for i, val in enumerate(rawObs):\n",
        "      tmp = np.zeros(self.config[i])\n",
        "      tmp[val] = 1\n",
        "      if i == 0:\n",
        "        obs = tmp\n",
        "      else:\n",
        "        obs = np.concatenate((obs, tmp))\n",
        "    return obs\n",
        "\n",
        "  def reset(self):\n",
        "    \"\"\"\n",
        "    Reset the environment \n",
        "    \"\"\"\n",
        "    obs = self.env.reset()\n",
        "    return self.oneHotEncode(obs)\n",
        "\n",
        "  def step(self, action):\n",
        "    \"\"\"\n",
        "    :param action: ([float] or int) Action taken by the agent\n",
        "    :return: (np.ndarray, float, bool, dict) observation, reward, is the episode over?, additional informations\n",
        "    \"\"\"\n",
        "    obs, reward, done, info = self.env.step(action)\n",
        "    return self.oneHotEncode(obs), reward, done, info"
      ],
      "execution_count": 24,
      "outputs": []
    },
    {
      "cell_type": "markdown",
      "metadata": {
        "id": "RWruL1pM4X5H",
        "colab_type": "text"
      },
      "source": [
        "### PPO2"
      ]
    },
    {
      "cell_type": "code",
      "metadata": {
        "id": "Mq_Cj8iR0Rqx",
        "colab_type": "code",
        "colab": {
          "base_uri": "https://localhost:8080/",
          "height": 1000
        },
        "outputId": "515693e3-4c05-498a-9bee-ea886d25e18a"
      },
      "source": [
        "# Refer to the stable baseline documentation for alternative implementations\n",
        "# of callbacks, baselines and others\n",
        "from stable_baselines.common.callbacks import CheckpointCallback\n",
        "from stable_baselines.common import make_vec_env\n",
        "from stable_baselines import PPO2\n",
        "\n",
        "# fixed params for challenge\n",
        "# Total timesteps for training\n",
        "tts = int(1e7) \n",
        "\n",
        "# custom params\n",
        "n_envs = 24\n",
        "save_freq = int(1e5)\n",
        "log_interval = 500\n",
        "\n",
        "# Vectorize environment\n",
        "env = make_vec_env(env_id=\"diner_dash:DinerDash-v0\", n_envs=n_envs, wrapper_class=OneHotWrapper)\n",
        "\n",
        "# Initialise model\n",
        "model = PPO2('MlpPolicy', env, verbose=1)\n",
        "\n",
        "# Initialise callback\n",
        "ppo2_callback = CheckpointCallback(save_freq=save_freq, save_path=f'./logs-PPO2-nenv={n_envs}-tts={tts:.0e}/', name_prefix='diner-dash-PPO')\n",
        "\n",
        "# Train model\n",
        "start_time = time.time()\n",
        "model.learn(total_timesteps=tts, log_interval=log_interval, callback=ppo2_callback)\n",
        "print(f\"--- Time take to train model = {(time.time() - start_time)//60} minutes ---\")\n",
        "\n",
        "# Save model\n",
        "print(\"Saving Final Model...\")\n",
        "modelDirectory = \"./\"\n",
        "modelName = f\"PPO2-nenv={n_envs}-tts={tts:.0e}\"\n",
        "model.save(modelDirectory + modelName)\n",
        "print(f\"Model saved as {modelDirectory + modelName}\")"
      ],
      "execution_count": 25,
      "outputs": [
        {
          "output_type": "stream",
          "text": [
            "WARNING:tensorflow:From /usr/local/lib/python3.6/dist-packages/stable_baselines/common/tf_util.py:191: The name tf.ConfigProto is deprecated. Please use tf.compat.v1.ConfigProto instead.\n",
            "\n",
            "WARNING:tensorflow:From /usr/local/lib/python3.6/dist-packages/stable_baselines/common/tf_util.py:200: The name tf.Session is deprecated. Please use tf.compat.v1.Session instead.\n",
            "\n",
            "WARNING:tensorflow:From /usr/local/lib/python3.6/dist-packages/stable_baselines/common/policies.py:116: The name tf.variable_scope is deprecated. Please use tf.compat.v1.variable_scope instead.\n",
            "\n",
            "WARNING:tensorflow:From /usr/local/lib/python3.6/dist-packages/stable_baselines/common/input.py:25: The name tf.placeholder is deprecated. Please use tf.compat.v1.placeholder instead.\n",
            "\n",
            "WARNING:tensorflow:From /usr/local/lib/python3.6/dist-packages/stable_baselines/common/policies.py:561: flatten (from tensorflow.python.layers.core) is deprecated and will be removed in a future version.\n",
            "Instructions for updating:\n",
            "Use keras.layers.flatten instead.\n",
            "WARNING:tensorflow:From /tensorflow-1.15.2/python3.6/tensorflow_core/python/layers/core.py:332: Layer.apply (from tensorflow.python.keras.engine.base_layer) is deprecated and will be removed in a future version.\n",
            "Instructions for updating:\n",
            "Please use `layer.__call__` method instead.\n",
            "WARNING:tensorflow:From /usr/local/lib/python3.6/dist-packages/stable_baselines/common/tf_layers.py:123: The name tf.get_variable is deprecated. Please use tf.compat.v1.get_variable instead.\n",
            "\n",
            "WARNING:tensorflow:From /usr/local/lib/python3.6/dist-packages/stable_baselines/common/distributions.py:326: The name tf.random_uniform is deprecated. Please use tf.random.uniform instead.\n",
            "\n",
            "WARNING:tensorflow:From /usr/local/lib/python3.6/dist-packages/stable_baselines/common/distributions.py:327: The name tf.log is deprecated. Please use tf.math.log instead.\n",
            "\n",
            "WARNING:tensorflow:From /usr/local/lib/python3.6/dist-packages/stable_baselines/ppo2/ppo2.py:190: The name tf.summary.scalar is deprecated. Please use tf.compat.v1.summary.scalar instead.\n",
            "\n",
            "WARNING:tensorflow:From /usr/local/lib/python3.6/dist-packages/stable_baselines/ppo2/ppo2.py:198: The name tf.trainable_variables is deprecated. Please use tf.compat.v1.trainable_variables instead.\n",
            "\n",
            "WARNING:tensorflow:From /tensorflow-1.15.2/python3.6/tensorflow_core/python/ops/math_grad.py:1424: where (from tensorflow.python.ops.array_ops) is deprecated and will be removed in a future version.\n",
            "Instructions for updating:\n",
            "Use tf.where in 2.0, which has the same broadcast rule as np.where\n",
            "WARNING:tensorflow:From /usr/local/lib/python3.6/dist-packages/stable_baselines/ppo2/ppo2.py:206: The name tf.train.AdamOptimizer is deprecated. Please use tf.compat.v1.train.AdamOptimizer instead.\n",
            "\n",
            "WARNING:tensorflow:From /usr/local/lib/python3.6/dist-packages/stable_baselines/ppo2/ppo2.py:240: The name tf.global_variables_initializer is deprecated. Please use tf.compat.v1.global_variables_initializer instead.\n",
            "\n",
            "WARNING:tensorflow:From /usr/local/lib/python3.6/dist-packages/stable_baselines/ppo2/ppo2.py:242: The name tf.summary.merge_all is deprecated. Please use tf.compat.v1.summary.merge_all instead.\n",
            "\n",
            "--------------------------------------\n",
            "| approxkl           | 1.2511197e-05 |\n",
            "| clipfrac           | 0.0           |\n",
            "| ep_len_mean        | 114           |\n",
            "| ep_reward_mean     | -1.59e+03     |\n",
            "| explained_variance | -0.000122     |\n",
            "| fps                | 2272          |\n",
            "| n_updates          | 1             |\n",
            "| policy_entropy     | 4.0430245     |\n",
            "| policy_loss        | -0.0006981317 |\n",
            "| serial_timesteps   | 128           |\n",
            "| time_elapsed       | 3.17e-05      |\n",
            "| total_timesteps    | 3072          |\n",
            "| value_loss         | 34264.61      |\n",
            "--------------------------------------\n",
            "--------------------------------------\n",
            "| approxkl           | 4.4234996e-05 |\n",
            "| clipfrac           | 0.0           |\n",
            "| ep_len_mean        | 139           |\n",
            "| ep_reward_mean     | -1e+03        |\n",
            "| explained_variance | 0.256         |\n",
            "| fps                | 3509          |\n",
            "| n_updates          | 500           |\n",
            "| policy_entropy     | 3.6442633     |\n",
            "| policy_loss        | -0.0004863264 |\n",
            "| serial_timesteps   | 64000         |\n",
            "| time_elapsed       | 425           |\n",
            "| total_timesteps    | 1536000       |\n",
            "| value_loss         | 17925.51      |\n",
            "--------------------------------------\n",
            "---------------------------------------\n",
            "| approxkl           | 2.7582562e-05  |\n",
            "| clipfrac           | 0.0            |\n",
            "| ep_len_mean        | 145            |\n",
            "| ep_reward_mean     | -559           |\n",
            "| explained_variance | 0.539          |\n",
            "| fps                | 3572           |\n",
            "| n_updates          | 1000           |\n",
            "| policy_entropy     | 3.3525887      |\n",
            "| policy_loss        | -0.00035923766 |\n",
            "| serial_timesteps   | 128000         |\n",
            "| time_elapsed       | 847            |\n",
            "| total_timesteps    | 3072000        |\n",
            "| value_loss         | 7454.925       |\n",
            "---------------------------------------\n",
            "--------------------------------------\n",
            "| approxkl           | 1.3780149e-05 |\n",
            "| clipfrac           | 0.0           |\n",
            "| ep_len_mean        | 142           |\n",
            "| ep_reward_mean     | -331          |\n",
            "| explained_variance | 0.691         |\n",
            "| fps                | 3651          |\n",
            "| n_updates          | 1500          |\n",
            "| policy_entropy     | 3.1214075     |\n",
            "| policy_loss        | -0.0002522026 |\n",
            "| serial_timesteps   | 192000        |\n",
            "| time_elapsed       | 1.27e+03      |\n",
            "| total_timesteps    | 4608000       |\n",
            "| value_loss         | 5839.6777     |\n",
            "--------------------------------------\n",
            "--------------------------------------\n",
            "| approxkl           | 0.00014825858 |\n",
            "| clipfrac           | 0.0           |\n",
            "| ep_len_mean        | 146           |\n",
            "| ep_reward_mean     | -81.5         |\n",
            "| explained_variance | 0.73          |\n",
            "| fps                | 3624          |\n",
            "| n_updates          | 2000          |\n",
            "| policy_entropy     | 2.8834507     |\n",
            "| policy_loss        | -0.0008847941 |\n",
            "| serial_timesteps   | 256000        |\n",
            "| time_elapsed       | 1.69e+03      |\n",
            "| total_timesteps    | 6144000       |\n",
            "| value_loss         | 5067.4185     |\n",
            "--------------------------------------\n",
            "-------------------------------------\n",
            "| approxkl           | 0.0005951903 |\n",
            "| clipfrac           | 0.0          |\n",
            "| ep_len_mean        | 150          |\n",
            "| ep_reward_mean     | 279          |\n",
            "| explained_variance | 0.772        |\n",
            "| fps                | 3716         |\n",
            "| n_updates          | 2500         |\n",
            "| policy_entropy     | 2.7322295    |\n",
            "| policy_loss        | 0.0013094348 |\n",
            "| serial_timesteps   | 320000       |\n",
            "| time_elapsed       | 2.1e+03      |\n",
            "| total_timesteps    | 7680000      |\n",
            "| value_loss         | 3243.238     |\n",
            "-------------------------------------\n",
            "--------------------------------------\n",
            "| approxkl           | 9.273723e-05  |\n",
            "| clipfrac           | 0.0           |\n",
            "| ep_len_mean        | 156           |\n",
            "| ep_reward_mean     | 546           |\n",
            "| explained_variance | 0.817         |\n",
            "| fps                | 3660          |\n",
            "| n_updates          | 3000          |\n",
            "| policy_entropy     | 2.7159808     |\n",
            "| policy_loss        | -0.0003469626 |\n",
            "| serial_timesteps   | 384000        |\n",
            "| time_elapsed       | 2.52e+03      |\n",
            "| total_timesteps    | 9216000       |\n",
            "| value_loss         | 2387.1987     |\n",
            "--------------------------------------\n",
            "--- Time take to train model = 45.0 minutes ---\n",
            "Saving Final Model...\n",
            "Model saved as ./PPO2-nenv=24-tts=1e+07\n"
          ],
          "name": "stdout"
        }
      ]
    },
    {
      "cell_type": "code",
      "metadata": {
        "id": "6AhDY9hj1rht",
        "colab_type": "code",
        "colab": {}
      },
      "source": [
        "def testPPO2(seed):\n",
        "  from stable_baselines.common import make_vec_env\n",
        "  from stable_baselines import PPO2\n",
        "\n",
        "  # Vectorize environment with given seed\n",
        "  env = make_vec_env(env_id=\"diner_dash:DinerDash-v0\", wrapper_class=OneHotWrapper, seed=seed)\n",
        "\n",
        "  # Load saved model\n",
        "  PPO_model = PPO2.load(\"PPO2-nenv=24-tts=1e+07\", env=env)\n",
        "\n",
        "  # Reset environment, init obs\n",
        "  obs = env.reset()\n",
        "\n",
        "  done = False\n",
        "  sum_rewards = 0\n",
        "  action_list = []\n",
        "\n",
        "  while not done:\n",
        "    action, _states = PPO_model.predict(obs)\n",
        "    action_list.append(action.item())\n",
        "    obs, rewards, done, info = env.step(action)\n",
        "    sum_rewards += rewards\n",
        "\n",
        "  return sum_rewards, action_list"
      ],
      "execution_count": 36,
      "outputs": []
    },
    {
      "cell_type": "markdown",
      "metadata": {
        "id": "SolGR2yNPGCQ",
        "colab_type": "text"
      },
      "source": [
        "# Testing of Policies and Verification of Submission [Please Edit]"
      ]
    },
    {
      "cell_type": "code",
      "metadata": {
        "id": "JWh2kSf9OGv1",
        "colab_type": "code",
        "colab": {}
      },
      "source": [
        "from random import randint\n",
        "import json\n",
        "from os import getcwd\n",
        "from tqdm.notebook import tqdm\n",
        "\n",
        "# Sample test\n",
        "def test():\n",
        "  # Initiliase environment\n",
        "  env = gym.make('diner_dash:DinerDash-v0').unwrapped\n",
        "  env.flash_sim = False\n",
        "\n",
        "  ############################ CHANGEABLE AREA ##############################\n",
        "  # Changeable parameters\n",
        "  numEpisodes = 100                             # num of test episodes\n",
        "  algos = [testRA, testPPO, testPPO2]           # Add or remove algos (must have unique names)\n",
        "  saveJson = True                              # Whether to save actions_dict\n",
        "  fileDirectory = \"./\"                          # Path of saved json file\n",
        "  fileName = \"submission.json\"                  # Name of json file\n",
        "\n",
        "  ### Replace the list of randomSeeds with that given for submission\n",
        "  # e.g. randomSeeds = [1, 2, 3]\n",
        "  # randomSeeds = [randint(0, 1e8) for i in range(numEpisodes)]\n",
        "  randomSeeds = [25761562, 98027521, 14394919, 92127768, 59621533, 18085631, 16049673, 94679817, 77307738, 59503112, 69312365, 65319883, 34091455, 82383260, 64262806, 65452914, 2178608, 40002912, 23534243, 11796676, 47852858, 35675512, 1083936, 32125953, 14229539, 18004447, 96485653, 32929609, 53239056, 10561442, 47089365, 46895757, 97989075, 5280872, 87023342, 9265156, 62177218, 21639100, 47236205, 4729713, 72136391, 1791708, 87021464, 81094794, 60412830, 13108472, 41104627, 38118428, 12529130, 716105, 96320609, 79124187, 56603269, 5097032, 99427396, 22468185, 82440594, 25734128, 8758206, 94581950, 1468697, 90978379, 23835228, 52981802, 30076674, 27948599, 18709581, 43109391, 46715095, 92140868, 64226303, 96424173, 76454602, 33524124, 86436916, 95311585, 15484502, 59904845, 60400779, 66925028, 34322231, 41710074, 84258482, 26878988, 27647292, 11476154, 89982062, 43518777, 7367595, 54827362, 40520825, 18982032, 22985490, 84550761, 11954039, 78313156, 36952694, 5340415, 6972343, 47981903]\n",
        "\n",
        "  ############################################################################\n",
        "\n",
        "  rewards_dict = {algo.__name__ : [] for algo in algos}\n",
        "  actions_dict = {algo.__name__ : [] for algo in algos}\n",
        "\n",
        "  # Test begins\n",
        "  for seed in tqdm(randomSeeds):\n",
        "    for algo in algos:\n",
        "      # Given a random seed\n",
        "      # Returns the sum of rewards for that episode and the actions list\n",
        "      rewards, actions = algo(seed)\n",
        "\n",
        "      rewards_dict[algo.__name__].append(rewards)\n",
        "      actions_dict[algo.__name__].append(actions)\n",
        "\n",
        "  # Print average rewards from n episodes for each algo\n",
        "  avgReward_dict = {algo : int(sum(rewards)/len(rewards)) for algo, rewards in rewards_dict.items()}\n",
        "  print(f\"Average Rewards for each algo: {avgReward_dict}\")\n",
        "\n",
        "  # Prints best algo\n",
        "  best_algo = max(avgReward_dict.keys(), key=(lambda k: avgReward_dict[k]))\n",
        "  best_reward = avgReward_dict[best_algo]\n",
        "  print(f\"The best algo is {best_algo} with the highest rewards of {best_reward}\")\n",
        "\n",
        "  # Print an action dict containing actions list for each random seed env for each algo\n",
        "  print(f\"Actions list for each env for each algo: {actions_dict}\")\n",
        "\n",
        "  submission_dict = {best_algo: actions_dict[best_algo]}\n",
        "\n",
        "  if saveJson:\n",
        "    print(\"Saving best algo to json file...\")\n",
        "    with open(fileDirectory + fileName, \"w\") as write_file:\n",
        "      json.dump(submission_dict, write_file)\n",
        "      print(f\"{fileName} was saved in {getcwd()}\")\n",
        "    \n",
        "    print(\"-\" * 100)\n",
        "    \n",
        "    print(f\"Verifying {fileName}...\")\n",
        "    (best_algo, best_action_list), = submission_dict.items()\n",
        "    print(f\"Name of best algo: {best_algo}\")\n",
        "    submissionEpisodes = len(best_action_list)\n",
        "    if submissionEpisodes != len(randomSeeds):\n",
        "      raise ValueError(\"Number of episodes in submission does not match the number of random seeds!\")\n",
        "    print(f\"Number of episodes(random seeds): {submissionEpisodes}\")\n",
        "    print(\"Number of episodes in submission matches the number of random seeds\")\n",
        "    print(\"Verification Complete! Please double check the verification results\")\n",
        "  \n",
        "  return None"
      ],
      "execution_count": 50,
      "outputs": []
    },
    {
      "cell_type": "code",
      "metadata": {
        "id": "S9BwcjYfmyfI",
        "colab_type": "code",
        "colab": {
          "base_uri": "https://localhost:8080/",
          "height": 273,
          "referenced_widgets": [
            "69a8e712d17d425fb27ff6becb90ad7f",
            "cef7c59e5e214cd993ce1d4f3b6421f3",
            "80387e0d5c604250a055b12c92bfc312",
            "2c3d34afff2943b58b9fbd0ace64048e",
            "792e817108f64ea289957273753e5695",
            "a84a37ab14b3465cbab943966669f2e2",
            "78183e86627646139f222d79ba2c1c8e",
            "0429d7f265594cc18d01536fceace390"
          ]
        },
        "outputId": "59a4f080-dacb-41a2-c586-99ed9470bf9c"
      },
      "source": [
        "test()"
      ],
      "execution_count": 51,
      "outputs": [
        {
          "output_type": "display_data",
          "data": {
            "application/vnd.jupyter.widget-view+json": {
              "model_id": "69a8e712d17d425fb27ff6becb90ad7f",
              "version_minor": 0,
              "version_major": 2
            },
            "text/plain": [
              "HBox(children=(FloatProgress(value=0.0), HTML(value='')))"
            ]
          },
          "metadata": {
            "tags": []
          }
        },
        {
          "output_type": "stream",
          "text": [
            "\n",
            "Average Rewards for each algo: {'testRA': -1308, 'testPPO': -631, 'testPPO2': 755}\n",
            "The best algo is testPPO2 with the highest rewards of 755\n",
            "Actions list for each env for each algo: {'testRA': [[10, 5, 39, 17, 18, 35, 23, 14, 40, 50, 26, 3, 13, 39, 2, 32, 49, 12, 36, 29, 41, 9, 47, 27, 7, 30, 10, 29, 44, 11, 19, 16, 39, 15, 13, 21, 14, 33, 28, 7, 36, 34, 27, 10, 10, 12, 16, 8, 28, 7, 7, 14, 45, 38, 48, 12, 2, 11, 17, 13, 36, 35, 19, 37, 46, 41, 39, 50, 27, 6, 15, 4, 52, 4, 49, 25, 38, 39, 52, 56, 41, 21, 15, 13, 23, 0, 35, 7, 3, 11, 34, 31, 15, 43, 50, 51, 14, 4, 15, 12, 43, 48, 16, 54, 17, 25, 32, 54, 40, 22, 19, 32, 34, 23, 2, 55, 10, 13, 26, 26, 43, 41, 27, 37, 35, 45, 35, 35, 9, 4, 7, 39, 12, 45, 47, 40, 6, 36, 22], [25, 17, 49, 35, 21, 1, 39, 31, 14, 9, 39, 24, 27, 26, 34, 34, 1, 22, 51, 23, 38, 1, 27, 5, 15, 14, 17, 6, 51, 29, 56, 45, 41, 26, 39, 36, 49, 28, 19, 5, 10, 13, 2, 16, 44, 45, 45, 13, 39, 40, 54, 28, 10, 24, 7, 19, 41, 32, 44, 18, 25, 28, 14, 13, 17, 22, 49, 3, 27, 21, 4, 53, 3, 24, 20, 36, 38, 8, 38, 2, 38, 8, 37, 13, 30, 18, 19, 7, 26, 27, 34, 20, 10, 37, 20, 28, 3, 55, 45, 48, 18, 48, 53, 51, 11, 36, 28, 14, 44, 24, 55, 0, 49, 12, 23, 16, 1, 7, 33, 43, 51], [28, 50, 27, 34, 45, 37, 5, 7, 0, 10, 31, 2, 43, 50, 40, 21, 20, 8, 51, 11, 20, 5, 40, 4, 32, 32, 47, 24, 13, 6, 55, 11, 19, 19, 19, 32, 43, 7, 50, 48, 28, 37, 39, 40, 9, 21, 7, 29, 13, 3, 47, 7, 32, 8, 12, 24, 37, 50, 21, 25, 8, 6, 4, 15, 17, 37, 16, 31, 2, 13, 22, 24, 46, 8, 46, 27, 49, 3, 53, 24, 45, 21, 53, 7, 26, 29, 6, 21, 49, 34, 18, 7, 17, 51, 8, 3, 6, 18, 41, 13, 27, 1, 13, 45, 28, 8, 41, 19, 42, 51, 41, 36, 37, 53, 15, 39, 13, 7, 42, 15, 25, 46, 55, 41, 45, 10, 28, 40, 40, 7, 38], [12, 46, 33, 55, 48, 54, 41, 29, 33, 20, 41, 53, 0, 35, 19, 14, 19, 1, 15, 14, 53, 44, 11, 52, 54, 37, 29, 21, 12, 46, 10, 14, 7, 23, 49, 47, 42, 20, 34, 47, 35, 22, 0, 40, 48, 2, 19, 1, 30, 24, 26, 32, 0, 19, 39, 50, 21, 6, 16, 7, 15, 35, 16, 33, 8, 41, 13, 40, 17, 26, 28, 22, 22, 48, 45, 4, 39, 15, 14, 41, 1, 5, 4, 41, 19, 26, 29, 21, 12, 4, 12, 26, 29, 15, 17, 53, 32, 24, 20, 44, 20, 48, 53, 18, 48, 6, 39, 9, 41, 34, 33, 1, 36, 42, 28, 24, 18, 11, 5, 4, 22, 29, 21, 51, 47, 53, 30, 49, 55, 51], [6, 13, 38, 16, 52, 42, 3, 16, 7, 3, 14, 29, 44, 51, 49, 45, 24, 56, 6, 1, 26, 51, 48, 22, 54, 33, 29, 27, 32, 56, 19, 10, 4, 35, 10, 45, 35, 18, 40, 54, 36, 34, 19, 0, 49, 41, 0, 28, 9, 13, 38, 52, 2, 5, 31, 41, 43, 50, 25, 0, 22, 23, 52, 19, 3, 44, 48, 34, 16, 36, 35, 21, 6, 19, 39, 34, 22, 46, 44, 31, 11, 11, 20, 41, 27, 34, 52, 14, 52, 4, 41, 4, 10, 24, 24, 49, 2, 21, 2, 43, 31, 17, 40, 26, 21, 48, 52, 14, 38, 41, 55, 54, 49, 42, 51, 46, 15, 19, 50, 8, 12, 6, 17, 24, 48, 30, 47, 41, 42, 11, 46], [47, 33, 27, 20, 12, 4, 48, 13, 24, 50, 11, 38, 31, 53, 1, 43, 44, 10, 46, 18, 43, 7, 56, 56, 10, 11, 2, 14, 52, 8, 13, 27, 19, 29, 47, 40, 21, 11, 50, 56, 18, 2, 52, 15, 50, 10, 12, 33, 15, 54, 54, 38, 46, 54, 3, 33, 30, 14, 0, 36, 19, 8, 5, 20, 36, 16, 9, 45, 49, 10, 20, 37, 7, 3, 46, 12, 35, 19, 14, 23, 39, 15, 1, 47, 14, 39, 12, 16, 7, 46, 10, 7, 52, 27, 49, 47, 4, 25, 29, 32, 34, 11, 49, 6, 56, 29, 6, 39, 40, 23, 26, 22, 52, 10, 39, 56, 3, 54, 41, 13, 52, 53, 24, 20, 9, 20, 28, 15, 22, 44, 28, 2, 31, 6, 41, 26, 28, 17, 10, 39, 0, 24, 29, 16, 15, 54, 52, 23, 48, 19, 36, 50, 35, 29, 16, 20, 53], [40, 46, 40, 38, 23, 0, 24, 44, 45, 44, 24, 13, 20, 51, 8, 18, 42, 31, 11, 38, 8, 15, 34, 6, 36, 18, 11, 24, 18, 56, 0, 28, 38, 33, 8, 31, 16, 18, 36, 32, 35, 20, 39, 28, 1, 10, 21, 47, 28, 49, 19, 43, 53, 36, 35, 28, 21, 10, 30, 40, 43, 46, 41, 21, 8, 8, 36, 51, 20, 39, 8, 31, 16, 48, 19, 14, 13, 26, 14, 6, 0, 2, 3, 43, 9, 16, 17, 10, 55, 9, 44, 50, 52, 16, 13, 25, 32, 52, 24, 6, 2, 25, 30, 0, 3, 7, 47, 21, 50, 28, 41, 36, 23, 0, 35, 11, 40, 35, 44, 3, 6, 8, 22, 40, 43, 10, 34, 34, 49, 27, 16, 18, 23, 47, 34, 44, 37, 10, 41], [38, 42, 28, 22, 9, 0, 0, 29, 31, 33, 9, 21, 16, 53, 31, 56, 37, 31, 15, 21, 14, 37, 28, 14, 37, 44, 14, 27, 35, 53, 0, 12, 43, 43, 44, 26, 19, 36, 23, 34, 50, 14, 24, 10, 29, 27, 56, 3, 27, 27, 10, 33, 18, 51, 55, 5, 19, 38, 11, 25, 44, 10, 31, 20, 49, 32, 54, 55, 33, 3, 35, 30, 28, 16, 38, 44, 36, 33, 33, 41, 2, 33, 40, 47, 29, 0, 23, 22, 32, 21, 33, 27, 0, 52, 52, 3, 27, 39, 37, 17, 50, 40, 16, 27, 19, 44, 24, 54, 51, 50, 36, 46, 50, 47, 51, 8, 20, 27, 44, 55, 14, 54, 54, 44, 16, 4, 46, 10, 39, 47, 52], [44, 14, 23, 35, 23, 55, 18, 32, 37, 54, 52, 34, 18, 26, 32, 36, 0, 15, 18, 35, 0, 29, 6, 38, 9, 21, 56, 40, 11, 8, 55, 44, 3, 0, 5, 24, 8, 31, 31, 43, 43, 4, 37, 29, 30, 4, 20, 45, 27, 52, 28, 19, 33, 25, 48, 49, 40, 52, 30, 4, 49, 46, 34, 15, 51, 35, 29, 5, 55, 51, 36, 47, 49, 21, 34, 45, 1, 11, 27, 12, 49, 53, 30, 45, 31, 46, 2, 5, 11, 25, 25, 51, 51, 23, 55, 47, 27, 17, 29, 28, 19, 37, 46, 1, 48, 50, 24, 31, 8, 37, 51, 43, 39, 7, 42, 17, 27, 9, 13, 25, 40, 56, 29, 12, 41, 39, 26, 47, 49, 29, 52, 4, 19, 46, 15, 8, 15, 13, 45], [46, 41, 33, 54, 12, 49, 30, 8, 25, 10, 46, 19, 14, 45, 31, 25, 38, 20, 41, 19, 56, 0, 12, 21, 22, 45, 27, 30, 51, 8, 14, 55, 46, 0, 29, 52, 14, 33, 8, 20, 23, 55, 27, 36, 54, 20, 37, 40, 48, 45, 14, 2, 41, 10, 12, 22, 3, 30, 44, 35, 4, 35, 24, 33, 4, 51, 50, 9, 33, 4, 41, 8, 46, 6, 44, 49, 55, 47, 31, 30, 12, 15, 11, 26, 27, 36, 29, 46, 5, 0, 48, 5, 30, 37, 56, 45, 19, 4, 40, 10, 48, 23, 54, 2, 37, 20, 46, 13, 9, 23, 45, 26, 4, 43, 1, 51, 23, 30, 41, 38, 51, 15, 4, 50, 52, 7, 32, 3, 43], [24, 21, 15, 39, 35, 2, 22, 39, 3, 30, 19, 43, 47, 42, 34, 21, 11, 2, 23, 9, 15, 5, 35, 4, 17, 33, 51, 4, 28, 27, 36, 50, 45, 35, 0, 25, 17, 4, 8, 11, 16, 52, 50, 41, 0, 56, 9, 45, 29, 10, 5, 14, 14, 46, 40, 47, 47, 10, 1, 15, 49, 18, 24, 5, 19, 48, 47, 18, 12, 17, 56, 32, 42, 15, 22, 15, 28, 18, 3, 53, 49, 49, 1, 12, 26, 40, 17, 50, 23, 41, 46, 3, 42, 45, 17, 56, 41, 19, 49, 43, 53, 38, 53, 43, 14, 25, 10, 53, 19, 12, 3, 49, 2, 53, 9, 23, 28, 56, 0, 35, 0], [28, 32, 25, 4, 18, 21, 29, 48, 46, 4, 43, 51, 13, 1, 54, 34, 29, 31, 49, 50, 13, 26, 54, 31, 40, 52, 56, 36, 20, 15, 16, 43, 28, 26, 43, 55, 31, 38, 48, 55, 16, 6, 15, 3, 23, 40, 43, 19, 33, 53, 54, 47, 48, 15, 7, 51, 38, 53, 31, 36, 16, 36, 4, 21, 9, 9, 43, 34, 11, 26, 4, 4, 10, 0, 39, 29, 35, 13, 39, 53, 39, 11, 7, 54, 55, 53, 0, 41, 50, 18, 14, 4, 43, 56, 3, 53, 11, 53, 37, 49, 25, 22, 46, 54, 20, 0, 47, 19, 29, 33, 49, 54, 50, 20, 15, 23, 8, 41, 26, 8, 10, 2, 39, 33, 43, 27, 43, 51, 9, 17, 32, 40, 45, 38, 14, 30, 20, 48, 11, 20], [21, 4, 22, 45, 25, 2, 22, 35, 21, 9, 38, 18, 30, 55, 34, 22, 41, 34, 39, 3, 48, 40, 41, 22, 31, 7, 13, 44, 18, 20, 6, 28, 35, 40, 5, 49, 8, 28, 41, 48, 27, 11, 36, 2, 50, 3, 52, 43, 21, 56, 56, 37, 21, 39, 28, 19, 51, 27, 20, 40, 2, 41, 17, 39, 13, 9, 35, 39, 41, 39, 2, 15, 7, 35, 37, 17, 32, 29, 42, 44, 47, 21, 30, 24, 47, 22, 3, 22, 32, 53, 28, 44, 42, 54, 23, 46, 23, 5, 38, 29, 4, 40, 40, 28, 22, 6, 39, 40, 14, 48, 9, 21, 42, 51, 15, 0, 17, 25, 45, 49, 10, 0, 48, 23, 50, 52, 10, 33, 50, 7, 56, 6, 46, 8, 6, 12, 19, 47, 18, 47, 28, 56, 54], [8, 28, 38, 47, 53, 28, 1, 40, 44, 34, 29, 26, 23, 44, 35, 49, 27, 40, 31, 1, 55, 53, 27, 18, 4, 52, 6, 15, 12, 41, 8, 53, 22, 46, 26, 10, 34, 39, 14, 55, 27, 45, 15, 36, 1, 6, 31, 26, 23, 12, 28, 49, 17, 53, 28, 48, 11, 53, 8, 23, 5, 44, 0, 9, 10, 17, 39, 23, 16, 23, 5, 48, 31, 15, 36, 43, 55, 49, 21, 46, 18, 41, 50, 11, 29, 9, 1, 0, 16, 12, 29, 48, 16, 33, 5, 4, 8, 0, 27, 15, 29, 8, 13, 53, 45, 36, 16, 16, 38, 51, 44, 16, 32], [37, 27, 19, 2, 40, 36, 17, 17, 32, 46, 9, 18, 29, 13, 12, 48, 38, 7, 50, 8, 30, 47, 6, 7, 19, 33, 42, 42, 16, 8, 40, 10, 34, 49, 24, 53, 47, 10, 12, 0, 48, 32, 49, 33, 1, 47, 19, 4, 45, 36, 9, 32, 24, 9, 26, 6, 28, 52, 18, 3, 53, 37, 18, 27, 35, 28, 38, 52, 7, 0, 1, 36, 25, 26, 30, 39, 37, 52, 14, 35, 0, 49, 53, 48, 54, 7, 38, 49, 2, 36, 55, 4, 10, 48, 18, 16, 26, 29, 19, 14, 45, 25, 16, 53, 52, 8, 42, 32, 15, 45, 30, 21, 53, 12, 43, 43, 36, 56, 44, 46, 14, 38, 44, 47, 24, 41, 1, 11, 42, 34, 47, 27, 1, 25, 11, 26, 5, 3, 26, 22, 6, 1, 9, 33, 39, 53, 39, 32, 37, 56, 20, 20, 21, 23, 27, 53, 6], [40, 53, 11, 50, 17, 34, 25, 41, 19, 32, 11, 45, 31, 8, 11, 54, 50, 4, 28, 50, 2, 55, 47, 37, 30, 0, 37, 5, 23, 50, 45, 50, 1, 32, 49, 47, 24, 47, 31, 40, 35, 1, 39, 16, 30, 40, 7, 22, 50, 18, 13, 36, 55, 3, 49, 53, 27, 2, 0, 11, 27, 18, 48, 26, 17, 53, 1, 56, 4, 49, 1, 33, 43, 10, 46, 0, 40, 54, 43, 40, 49, 29, 42, 41, 45, 27, 15, 12, 2, 36, 36, 5, 19, 51, 8, 9, 21, 46, 2, 19, 48, 50, 9, 37, 44, 13, 26, 43, 1, 41, 6, 21, 5, 53, 24, 1, 44, 8, 2, 32, 9, 43], [14, 42, 3, 50, 13, 53, 25, 4, 37, 33, 50, 23, 31, 22, 16, 49, 50, 41, 56, 28, 7, 33, 26, 25, 1, 20, 26, 28, 27, 11, 5, 40, 37, 29, 21, 11, 35, 5, 49, 40, 16, 25, 19, 13, 12, 2, 22, 48, 28, 43, 24, 27, 41, 25, 16, 28, 11, 28, 28, 25, 2, 38, 21, 5, 52, 2, 49, 41, 22, 0, 36, 27, 16, 31, 38, 20, 5, 31, 10, 8, 49, 6, 33, 18, 16, 3, 8, 1, 41, 54, 50, 13, 38, 37, 30, 39, 4, 46, 49, 29, 45, 45, 34, 38, 10, 5, 15, 12, 27, 18, 28, 54, 56, 13, 37, 10, 53, 49, 0, 33, 11, 49, 47, 30, 10, 36, 48, 11, 8, 9, 47], [4, 37, 11, 20, 12, 26, 29, 8, 8, 2, 49, 18, 10, 34, 19, 39, 30, 23, 29, 34, 33, 24, 54, 35, 54, 2, 53, 19, 11, 6, 20, 38, 53, 41, 33, 22, 43, 38, 39, 45, 35, 14, 22, 50, 41, 6, 45, 30, 42, 10, 8, 44, 37, 41, 26, 40, 36, 48, 0, 11, 47, 24, 14, 9, 56, 38, 18, 53, 45, 51, 34, 12, 34, 6, 46, 2, 0, 18, 23, 9, 49, 24, 20, 45, 42, 39, 53, 26, 4, 50, 36, 32, 41, 34, 35, 48, 25, 1, 13, 32, 21, 32, 25, 14, 40, 16, 11, 29, 29, 55, 43, 1, 46, 25, 20, 1, 10, 55, 30, 21, 11, 50, 46, 47, 29, 5, 43, 28, 19, 28, 23, 18, 34, 42, 46, 39, 9, 32, 54], [11, 32, 2, 54, 33, 50, 18, 43, 14, 49, 13, 55, 39, 17, 48, 46, 37, 11, 21, 47, 42, 37, 12, 53, 16, 37, 49, 49, 26, 21, 10, 55, 6, 50, 47, 49, 54, 12, 49, 1, 52, 55, 16, 54, 43, 1, 16, 48, 0, 52, 44, 8, 19, 3, 39, 39, 1, 50, 56, 28, 15, 11, 36, 32, 29, 50, 8, 41, 45, 4, 12, 28, 12, 42, 40, 6, 55, 55, 42, 30, 55, 13, 29, 3, 49, 7, 10, 21, 29, 15, 29, 34, 1, 5, 27, 46, 44, 28, 32, 3, 3, 19, 35, 2], [31, 35, 12, 4, 9, 52, 54, 22, 31, 54, 17, 39, 38, 14, 35, 55, 36, 46, 32, 45, 0, 24, 55, 16, 44, 36, 2, 12, 24, 7, 29, 28, 32, 26, 19, 46, 41, 24, 44, 54, 22, 31, 28, 46, 39, 45, 15, 21, 51, 50, 3, 46, 34, 31, 17, 8, 9, 23, 7, 54, 26, 21, 10, 54, 55, 53, 6, 8, 26, 33, 35, 23, 17, 24, 24, 2, 10, 36, 13, 42, 23, 26, 53, 14, 13, 3, 13, 42, 41, 12, 11, 13, 53, 49, 56, 54, 28, 43, 39, 1, 51, 31, 25, 43, 45, 17, 2, 55, 17, 20, 7, 23, 33, 6, 48, 17, 37, 49, 17, 22, 12, 40, 40, 12, 1, 24, 21, 51, 6, 27, 47], [37, 4, 18, 12, 29, 26, 6, 43, 0, 0, 39, 27, 27, 24, 28, 7, 26, 12, 3, 39, 24, 22, 4, 12, 0, 7, 5, 47, 17, 14, 37, 40, 19, 38, 11, 5, 52, 3, 26, 0, 21, 21, 35, 4, 0, 13, 36, 20, 32, 10, 29, 39, 0, 30, 23, 28, 28, 37, 22, 36, 12, 20, 14, 47, 44, 41, 29, 24, 31, 14, 37, 0, 1, 1, 33, 48, 13, 8, 33, 30, 51, 7, 44, 29, 0, 12, 38, 53, 37, 43, 19, 41, 22, 33, 32, 51, 33, 35, 8, 23, 32, 21, 18, 27, 26, 41, 38, 47, 33, 22, 56, 28, 23, 18, 29, 32, 1, 19, 7, 21, 55, 39, 51, 4, 6, 40, 23, 5, 13, 26, 25, 20, 15, 7, 11, 23, 30, 47, 34], [16, 43, 46, 3, 36, 14, 28, 54, 46, 15, 2, 2, 0, 13, 0, 34, 17, 44, 14, 28, 27, 3, 45, 22, 27, 36, 34, 40, 41, 26, 35, 34, 35, 10, 16, 48, 37, 9, 50, 29, 8, 41, 5, 1, 54, 34, 29, 13, 56, 16, 40, 47, 44, 35, 39, 0, 40, 6, 55, 27, 41, 41, 3, 7, 23, 21, 1, 14, 15, 36, 15, 25, 48, 46, 9, 0, 26, 47, 32, 10, 46, 16, 6, 28, 16, 46, 33, 8, 36, 55, 11, 6, 52, 25, 56, 11, 56, 1, 30, 47, 11, 39, 2, 25, 47, 48, 3, 18, 1, 21, 36, 49, 50, 5, 44, 44, 53, 24, 8, 16, 39, 12], [51, 42, 38, 30, 43, 2, 52, 24, 1, 51, 28, 3, 28, 25, 32, 25, 33, 36, 6, 42, 40, 19, 22, 40, 28, 38, 46, 35, 42, 46, 8, 55, 33, 36, 26, 33, 16, 37, 26, 10, 44, 6, 43, 24, 16, 15, 10, 20, 14, 24, 38, 40, 30, 24, 45, 24, 4, 56, 36, 36, 47, 36, 48, 35, 38, 2, 53, 41, 1, 46, 4, 52, 11, 23, 33, 19, 6, 53, 6, 22, 34, 46, 52, 35, 14, 23, 0, 3, 54, 50, 3, 16, 5, 34, 46, 56, 6, 8, 0, 10, 14, 55, 29, 42, 22, 25, 35, 4, 39, 16, 33, 28, 54, 38, 30, 38, 9, 27, 18, 16, 26, 36, 26, 2, 48, 2, 10, 49, 40, 18, 14, 51, 39, 32, 36, 25, 8, 53, 49], [50, 11, 27, 28, 49, 12, 12, 35, 36, 24, 36, 4, 44, 0, 21, 18, 35, 18, 14, 15, 54, 49, 33, 37, 6, 19, 9, 25, 24, 24, 31, 36, 56, 2, 1, 52, 49, 29, 29, 37, 4, 14, 9, 7, 26, 30, 8, 31, 52, 21, 3, 51, 24, 21, 37, 55, 29, 5, 56, 27, 21, 35, 43, 27, 36, 55, 35, 11, 55, 9, 31, 0, 45, 19, 30, 8, 23, 44, 28, 44, 25, 26, 5, 50, 52, 10, 17, 29, 11, 41, 7, 4, 23, 20, 56, 56, 30, 1, 36, 11, 19, 49, 44, 24, 40, 43, 22, 9, 47, 54, 38, 25, 8, 15, 12, 9, 4, 19, 33, 5, 36, 22, 45, 25, 9, 19, 16, 36, 26, 5, 20, 0, 28, 27, 10, 50, 30, 33, 4, 30, 9, 11, 17, 43, 48, 11, 19, 38, 28, 21, 3, 6, 24, 21, 1, 25, 17], [19, 8, 43, 22, 37, 31, 6, 13, 40, 44, 53, 38, 2, 24, 6, 39, 6, 31, 1, 11, 7, 15, 13, 52, 23, 36, 43, 13, 54, 18, 49, 1, 55, 16, 51, 26, 30, 36, 38, 26, 1, 21, 38, 26, 39, 27, 48, 3, 26, 9, 27, 53, 0, 22, 47, 39, 1, 15, 13, 17, 47, 47, 18, 43, 49, 3, 13, 7, 34, 0, 1, 4, 23, 16, 55, 51, 32, 17, 40, 27, 3, 50, 42, 30, 4, 42, 14, 23, 3, 39, 27, 22, 7, 23, 46, 1, 44, 6, 48, 9, 31, 22, 31, 47, 17, 10, 39, 6, 31, 4, 27, 3, 48, 24, 36, 41, 13, 54, 45, 4, 18, 21, 53, 13, 8, 48, 24, 14, 16, 21, 44, 4, 34, 1, 32, 46, 48, 24, 26, 44, 2, 50, 18, 21, 2, 29, 26, 52, 34, 12, 30, 39, 45, 17, 19, 44, 27, 25, 47, 40, 13, 23, 40, 46, 2, 35, 19], [42, 40, 19, 9, 23, 28, 21, 52, 52, 3, 31, 51, 42, 19, 37, 19, 4, 54, 27, 10, 43, 33, 48, 6, 37, 15, 26, 53, 27, 43, 17, 29, 46, 7, 39, 27, 55, 19, 4, 51, 16, 31, 39, 1, 50, 40, 48, 56, 23, 38, 22, 21, 49, 20, 55, 28, 27, 36, 48, 34, 9, 46, 8, 34, 9, 26, 29, 25, 54, 18, 3, 6, 41, 13, 26, 45, 6, 16, 37, 53, 10, 32, 22, 47, 25, 5, 19, 23, 2, 17, 8, 47, 2, 47, 21, 44, 12, 55, 12, 30, 26, 32, 4, 54, 30, 27, 15, 0, 42, 28, 38, 11, 41, 54, 5, 4, 56, 15, 32, 43, 32, 10, 10, 45, 31, 7, 54, 10, 49, 49, 29, 4, 43, 1, 43, 36, 23, 42, 5], [41, 4, 3, 49, 17, 4, 45, 51, 36, 5, 1, 25, 20, 19, 53, 3, 55, 40, 22, 5, 26, 35, 38, 31, 46, 12, 28, 7, 35, 2, 37, 36, 48, 10, 2, 36, 25, 53, 54, 37, 41, 28, 52, 37, 23, 33, 47, 51, 44, 8, 1, 22, 45, 6, 34, 3, 41, 24, 2, 2, 12, 15, 21, 31, 23, 6, 42, 40, 21, 42, 23, 8, 26, 56, 34, 11, 26, 23, 44, 11, 42, 3, 45, 44, 37, 7, 48, 23, 50, 4, 53, 25, 19, 50, 10, 25, 20, 55, 35, 19, 24, 33, 0, 4, 20, 27, 30, 29, 9, 14, 36, 47, 54, 12, 15, 45, 56, 56, 33, 14, 0, 49, 48, 44, 46, 43, 48, 25, 44, 52, 26, 36, 46, 56, 6, 35, 25, 41, 5], [13, 56, 20, 11, 10, 42, 17, 27, 20, 30, 36, 28, 2, 32, 54, 31, 17, 10, 52, 49, 16, 36, 39, 38, 34, 7, 41, 10, 11, 13, 2, 33, 49, 21, 40, 54, 11, 39, 38, 13, 56, 10, 50, 35, 30, 28, 26, 53, 35, 40, 55, 5, 24, 39, 5, 55, 19, 22, 29, 22, 18, 31, 9, 40, 6, 16, 5, 54, 7, 46, 14, 20, 16, 47, 4, 40, 48, 32, 38, 22, 24, 12, 20, 38, 1, 1, 11, 51, 54, 12, 20, 24, 8, 46, 47, 18, 8, 20, 42, 21, 34, 2, 53, 25, 7, 47, 17, 34, 48, 22, 14, 45, 45, 14, 14, 0, 4, 41, 28, 47, 36, 7, 4, 14, 12, 0, 9, 31, 35, 33, 55, 32, 26, 20, 54, 47, 43, 3, 35, 45, 53, 35, 2, 31, 20, 17, 50, 23, 40, 25, 32, 22, 46, 34, 12, 52, 46, 33, 25, 45, 46, 55], [53, 42, 48, 6, 15, 9, 28, 10, 46, 38, 41, 5, 18, 5, 42, 17, 15, 6, 37, 26, 11, 47, 29, 18, 51, 35, 10, 47, 31, 36, 48, 37, 32, 36, 52, 10, 26, 47, 34, 54, 0, 26, 28, 36, 26, 9, 50, 17, 0, 16, 47, 40, 47, 28, 35, 34, 38, 17, 24, 41, 31, 54, 9, 27, 43, 21, 48, 25, 20, 36, 41, 18, 28, 37, 39, 4, 24, 53, 30, 11, 12, 16, 49, 53, 53, 37, 56, 8, 34, 10, 54, 48, 16, 3, 41, 9, 22, 44, 2, 19, 8, 33, 45, 23, 7, 36, 49, 5, 55, 16, 27, 18, 9, 10, 12, 42, 13, 52, 16, 7, 1, 33, 6, 41, 0, 24, 39, 19, 55, 27, 12, 39, 16, 38, 23, 11, 1, 12, 29, 53, 47, 15, 12, 8, 23, 21, 43, 15, 30, 49, 38, 11, 12, 45, 39, 54, 16, 38, 13, 51, 0, 43, 23, 9, 8, 9, 11, 32, 50, 16, 56, 1, 22, 5, 33, 37], [1, 49, 8, 0, 13, 50, 27, 34, 29, 50, 44, 45, 0, 35, 23, 48, 14, 26, 3, 54, 53, 0, 29, 20, 51, 39, 22, 6, 48, 14, 50, 27, 7, 43, 51, 13, 26, 2, 51, 2, 48, 39, 21, 32, 26, 32, 19, 11, 11, 3, 26, 9, 49, 8, 42, 33, 2, 56, 10, 2, 23, 51, 51, 56, 33, 30, 52, 14, 45, 34, 24, 27, 9, 15, 23, 41, 21, 8, 56, 0, 23, 47, 53, 16, 20, 47, 16, 11, 49, 11, 28, 51, 0, 23, 15, 54, 5, 21, 25, 37, 29, 17, 30, 5, 7, 43, 14, 9, 12, 31, 49, 5, 50, 11, 53, 22, 11, 56, 44, 20, 40, 40, 38, 40, 53, 51, 31, 52, 40, 41, 54, 23, 13, 17, 37, 11, 13, 2, 5, 45, 52, 38, 55, 35, 35, 5, 3], [55, 40, 4, 27, 9, 24, 54, 31, 1, 39, 2, 30, 47, 41, 35, 14, 46, 7, 37, 6, 8, 13, 35, 26, 12, 22, 52, 13, 1, 45, 50, 0, 48, 0, 40, 3, 26, 37, 23, 46, 31, 11, 44, 25, 2, 15, 50, 56, 18, 56, 5, 28, 12, 43, 15, 49, 32, 17, 8, 43, 54, 29, 55, 32, 17, 54, 33, 34, 30, 52, 11, 16, 45, 10, 6, 53, 49, 33, 2, 45, 36, 52, 13, 42, 19, 41, 4, 3, 13, 8, 7, 53, 23, 24, 16, 30, 42, 16, 33, 29, 10, 32, 32, 17, 48, 44, 48, 45, 19, 35, 56, 26, 34, 48, 30, 55, 21, 38, 37, 31, 56, 13, 9, 51, 48, 27, 5, 54, 19, 15, 28, 31, 56, 54, 4, 42, 6, 13, 54, 39, 17, 52, 5, 18, 52, 34, 24], [11, 37, 2, 0, 26, 40, 10, 41, 25, 3, 30, 8, 32, 46, 22, 39, 18, 1, 39, 39, 54, 11, 5, 12, 1, 41, 2, 7, 11, 44, 45, 46, 36, 23, 33, 9, 27, 5, 14, 33, 49, 55, 16, 22, 54, 15, 26, 53, 38, 47, 12, 52, 18, 19, 12, 22, 39, 16, 49, 46, 34, 9, 55, 44, 33, 43, 44, 17, 21, 7, 16, 37, 23, 24, 29, 30, 10, 31, 16, 31, 47, 8, 17, 20, 18, 9, 32, 41, 0, 29, 30, 21, 27, 31, 4, 53, 33, 7, 18, 48, 45, 18, 51, 1, 18, 8, 45, 27, 39, 16, 49, 52, 50, 16, 55, 42, 54, 40, 14, 34, 10, 25, 31, 38, 8, 8, 36, 50, 10, 53], [35, 13, 8, 56, 11, 9, 25, 41, 0, 9, 13, 37, 25, 30, 29, 22, 11, 25, 30, 47, 45, 12, 10, 2, 52, 5, 4, 40, 0, 9, 46, 23, 35, 19, 48, 45, 3, 44, 49, 15, 36, 43, 13, 47, 27, 19, 8, 19, 3, 18, 33, 33, 0, 23, 19, 24, 8, 16, 39, 30, 3, 44, 5, 11, 10, 1, 27, 51, 54, 40, 42, 4, 16, 1, 19, 2, 16, 18, 11, 12, 56, 6, 21, 18, 49, 18, 41, 45, 32, 27, 55, 46, 9, 13, 11, 17, 37, 19, 0, 17, 56, 54, 42, 20, 42, 7, 50, 32, 46, 33, 32, 56, 55, 21, 8, 52, 38, 32, 33, 31, 7, 28, 8, 15, 15, 50, 37, 27, 54, 48, 25, 0, 13, 52, 54, 25, 19, 7, 38, 7, 13, 5, 45, 15, 1, 14, 47, 25, 25], [45, 37, 32, 32, 4, 54, 38, 35, 51, 25, 21, 6, 55, 35, 22, 43, 15, 22, 7, 55, 12, 51, 11, 4, 14, 33, 54, 53, 4, 20, 7, 13, 20, 56, 52, 31, 23, 20, 23, 39, 50, 9, 56, 1, 21, 56, 4, 30, 5, 27, 44, 37, 30, 53, 42, 5, 18, 23, 4, 33, 30, 51, 53, 5, 1, 41, 30, 35, 11, 54, 26, 20, 41, 25, 22, 21, 26, 36, 53, 26, 13, 29, 9, 29, 44, 39, 47, 2, 51, 33, 54, 38, 30, 23, 15, 15, 31, 19, 13, 56, 9, 5, 6, 43, 51, 53, 11, 24, 7, 28, 41, 29, 30, 52, 49, 44, 15, 27, 32, 47, 37, 4, 33, 15, 35, 49, 21, 0, 47, 35, 0, 14, 26, 19, 19, 24, 44, 19, 39, 44, 16, 52, 33, 14, 38, 1, 56, 23, 40, 27, 21, 4, 11, 55, 50, 52, 1, 53, 16, 11, 25, 12, 12, 5, 41, 1, 45], [27, 15, 28, 45, 38, 13, 50, 2, 3, 40, 13, 35, 51, 43, 37, 38, 36, 10, 10, 51, 39, 37, 21, 29, 6, 22, 10, 5, 32, 56, 51, 9, 38, 18, 54, 33, 49, 39, 38, 25, 12, 18, 3, 6, 17, 46, 56, 13, 19, 3, 47, 14, 26, 13, 2, 20, 35, 39, 42, 42, 0, 47, 35, 33, 3, 12, 45, 41, 24, 52, 48, 47, 32, 44, 53, 3, 12, 46, 10, 45, 22, 4, 41, 47, 33, 43, 26, 13, 26, 6, 45, 30, 24, 28, 9, 0, 52, 19, 6, 1, 30, 11, 20, 28, 43, 3, 41, 45, 18, 28, 44, 7, 56, 55, 1, 35, 2, 47, 17, 54, 28, 15, 28, 16, 35, 16, 0, 43, 39, 26, 8, 17, 45, 46, 35, 54, 25, 43, 40, 12, 20, 22, 7, 49, 42, 14, 56, 21, 28, 11, 50, 35, 4, 54, 24, 17, 49, 22], [52, 41, 42, 46, 56, 10, 35, 28, 47, 49, 0, 17, 45, 1, 5, 21, 42, 37, 43, 54, 12, 16, 5, 47, 37, 7, 34, 25, 33, 39, 17, 9, 48, 25, 6, 21, 36, 35, 21, 1, 15, 50, 50, 56, 48, 32, 33, 49, 49, 4, 38, 12, 21, 51, 22, 5, 55, 24, 13, 3, 31, 40, 51, 10, 6, 3, 17, 21, 34, 3, 18, 16, 34, 11, 35, 12, 22, 27, 20, 40, 30, 56, 11, 14, 42, 25, 41, 5, 44, 17, 45, 27, 36, 22, 34, 45, 24, 35, 15, 33, 32, 8, 8, 44, 10, 40, 14, 36, 35, 51, 49, 45, 12, 20, 30, 11, 32, 53, 33, 19, 56, 56, 37, 19, 54, 30, 14, 55, 11, 17, 34, 42, 17, 35, 56, 6, 28, 41, 35, 54, 52, 33, 48, 12, 11, 39, 10, 44], [15, 6, 48, 47, 47, 5, 15, 3, 38, 38, 24, 20, 20, 35, 44, 1, 34, 30, 56, 22, 33, 39, 41, 25, 23, 43, 43, 35, 49, 26, 25, 0, 1, 32, 31, 10, 48, 17, 21, 6, 25, 47, 16, 54, 8, 17, 16, 36, 20, 39, 22, 54, 33, 23, 46, 10, 23, 2, 55, 14, 29, 6, 6, 19, 21, 0, 43, 19, 44, 42, 10, 5, 47, 2, 48, 30, 33, 21, 55, 31, 53, 11, 54, 32, 13, 54, 41, 1, 9, 0, 4, 42, 38, 6, 7, 15, 19, 9, 49, 10, 43, 42, 27, 50, 1, 33, 46, 25, 22, 6, 52, 13, 16, 48, 47, 39, 24, 56, 22, 16, 51, 40, 30, 15, 15, 24, 12, 30, 10, 30], [54, 21, 52, 19, 39, 29, 33, 1, 47, 50, 25, 16, 41, 42, 56, 54, 26, 8, 55, 3, 34, 10, 33, 46, 46, 11, 26, 19, 38, 46, 40, 40, 51, 27, 7, 1, 56, 27, 27, 14, 31, 18, 32, 26, 19, 23, 21, 39, 14, 14, 30, 21, 37, 21, 53, 34, 20, 30, 46, 26, 31, 47, 21, 52, 40, 33, 49, 6, 44, 45, 30, 16, 6, 26, 18, 16, 13, 22, 38, 10, 35, 3, 50, 17, 13, 45, 32, 10, 52, 15, 7, 4, 9, 11, 45, 24, 41, 31, 9, 19, 13, 1, 9, 40, 44, 33, 44, 0, 28, 34, 37, 17, 39, 27, 48, 39, 11, 12, 19, 29, 33, 50, 44, 35, 30, 33, 37, 23, 22, 17, 36, 28, 37, 12, 15, 18, 30, 0, 46, 37, 48, 30, 13], [21, 21, 26, 6, 48, 5, 25, 33, 4, 18, 24, 21, 32, 7, 32, 6, 28, 44, 24, 26, 52, 51, 9, 52, 31, 35, 44, 22, 48, 15, 37, 3, 54, 15, 1, 52, 20, 29, 37, 2, 47, 7, 18, 18, 12, 23, 14, 47, 37, 43, 17, 29, 30, 53, 11, 18, 20, 0, 23, 1, 42, 19, 24, 10, 15, 56, 17, 50, 32, 24, 44, 2, 45, 43, 31, 46, 23, 35, 46, 4, 7, 39, 54, 32, 21, 44, 56, 53, 54, 37, 4, 17, 19, 51, 56, 42, 54, 6, 21, 36, 19, 0, 50, 46, 39, 23, 10, 54, 17, 7, 55, 21, 31, 27, 24, 7, 43, 32, 25, 30, 42, 37, 1, 35, 52, 6, 14, 36, 49, 40], [48, 21, 17, 44, 51, 2, 18, 50, 0, 40, 50, 54, 47, 29, 8, 13, 26, 18, 47, 49, 24, 10, 9, 9, 41, 10, 36, 51, 38, 5, 39, 17, 43, 47, 47, 53, 0, 40, 55, 32, 39, 45, 1, 45, 4, 26, 41, 33, 12, 9, 48, 30, 43, 21, 37, 36, 19, 18, 20, 35, 9, 20, 40, 19, 33, 26, 19, 55, 52, 56, 23, 47, 48, 16, 34, 0, 52, 39, 38, 50, 7, 11, 2, 10, 15, 55, 19, 36, 5, 49, 44, 53, 37, 48, 43, 44, 1, 39, 54, 35, 8, 2, 29, 14, 56, 45, 16, 34, 38, 18, 33, 12, 10, 43, 37, 2, 23, 48, 29, 33, 48, 19, 33, 8, 34, 56, 11, 56, 17, 22, 42], [30, 35, 10, 17, 7, 44, 44, 2, 41, 43, 6, 29, 28, 46, 14, 8, 13, 30, 9, 16, 4, 35, 52, 43, 31, 35, 31, 25, 52, 10, 16, 25, 25, 7, 53, 10, 42, 2, 21, 18, 27, 22, 38, 49, 17, 22, 33, 44, 26, 24, 13, 35, 50, 40, 55, 3, 8, 33, 9, 55, 4, 10, 46, 36, 40, 54, 35, 45, 13, 12, 53, 47, 18, 26, 4, 28, 1, 42, 26, 26, 28, 28, 49, 34, 36, 56, 27, 7, 23, 51, 42, 55, 35, 12, 54, 26, 19, 7, 33, 23, 28, 1, 28, 6, 22, 50, 16, 8, 32, 42, 0, 9, 43, 28, 0, 0, 47, 7, 29, 9, 0, 3, 53, 10, 37, 40, 10, 43, 4, 11, 31, 11, 27, 49, 15, 42, 25, 35, 47], [21, 0, 10, 49, 5, 24, 30, 42, 49, 52, 14, 48, 27, 46, 38, 33, 45, 30, 10, 36, 14, 19, 33, 33, 22, 47, 13, 31, 9, 19, 28, 15, 44, 41, 1, 16, 41, 19, 23, 3, 35, 30, 43, 3, 35, 15, 43, 40, 6, 33, 30, 8, 45, 56, 27, 49, 53, 40, 45, 45, 41, 31, 54, 52, 19, 43, 4, 43, 11, 51, 22, 39, 37, 20, 31, 21, 0, 14, 25, 53, 23, 21, 22, 22, 9, 38, 26, 1, 0, 21, 49, 1, 0, 8, 27, 12, 20, 5, 6, 28, 27, 35, 51, 22, 47, 17, 49, 41, 52, 33, 9, 17, 51, 11, 45, 52, 20, 55, 10, 53, 10, 19, 38, 16, 33, 50, 3, 33, 30, 19, 30, 5, 44, 56, 7, 17, 56, 50, 23], [25, 54, 53, 45, 14, 43, 32, 8, 14, 19, 38, 41, 46, 9, 34, 48, 43, 36, 38, 28, 42, 13, 1, 47, 31, 6, 39, 24, 29, 23, 54, 30, 26, 6, 30, 4, 23, 27, 34, 38, 26, 47, 18, 38, 6, 11, 4, 9, 35, 51, 38, 10, 2, 11, 42, 7, 27, 30, 8, 23, 9, 3, 30, 24, 46, 26, 38, 49, 29, 33, 8, 48, 6, 34, 37, 26, 12, 24, 51, 31, 34, 26, 0, 0, 54, 33, 2, 2, 13, 34, 21, 3, 19, 54, 53, 1, 23, 26, 41, 30, 46, 18, 52, 12, 49, 22, 37, 26, 6, 33, 52, 25, 49, 40, 39, 37, 9, 25, 11, 7, 11, 49, 23, 55, 44, 24, 28, 37, 29, 55, 26, 0, 8, 41, 6, 51, 29, 32, 34, 12, 30, 4, 51], [55, 45, 12, 51, 19, 35, 26, 8, 22, 55, 41, 28, 32, 21, 56, 47, 16, 1, 3, 9, 56, 50, 46, 17, 5, 45, 28, 41, 26, 49, 21, 18, 56, 46, 16, 0, 50, 52, 20, 43, 0, 22, 51, 16, 13, 40, 51, 19, 24, 25, 24, 10, 24, 26, 35, 24, 33, 51, 14, 20, 5, 45, 14, 25, 25, 33, 34, 2, 46, 24, 10, 48, 44, 42, 44, 43, 31, 17, 22, 27, 38, 24, 19, 36, 42, 11, 22, 46, 54, 25, 53, 27, 35, 24, 29, 52, 12, 49, 50, 3, 41, 55, 10, 4, 39, 43, 12, 50, 5, 46, 24, 33, 6, 10, 35, 34, 55, 28, 36, 42, 36, 12, 6, 2, 25, 51, 10, 15, 50, 15, 5], [46, 21, 21, 55, 21, 3, 18, 45, 6, 34, 39, 35, 46, 40, 30, 0, 46, 6, 22, 30, 43, 21, 54, 29, 46, 10, 18, 38, 27, 46, 52, 53, 32, 20, 2, 1, 35, 41, 7, 36, 18, 2, 11, 41, 46, 15, 5, 35, 5, 8, 44, 12, 31, 42, 2, 10, 13, 11, 19, 30, 16, 9, 41, 54, 24, 30, 41, 37, 43, 45, 12, 35, 34, 0, 37, 38, 40, 36, 10, 49, 29, 42, 12, 36, 26, 46, 16, 51, 56, 51, 7, 35, 16, 32, 23, 32, 5, 49, 56, 5, 41, 37, 31, 48, 30, 11, 5, 8, 32, 17, 4, 44, 51, 26, 53, 28, 28, 32, 24, 8, 54, 43, 23, 3, 35, 39, 10, 56, 47, 16, 20, 23, 22, 28, 44, 6, 39, 0, 17, 43, 33, 30, 11, 38, 27, 34, 52, 55], [34, 18, 5, 55, 49, 22, 15, 1, 4, 28, 44, 15, 6, 18, 9, 38, 13, 19, 10, 24, 15, 54, 29, 25, 13, 21, 44, 12, 15, 3, 21, 7, 25, 49, 38, 42, 26, 25, 15, 33, 25, 28, 47, 29, 21, 7, 20, 33, 51, 25, 21, 47, 42, 9, 54, 28, 28, 49, 29, 37, 46, 1, 38, 48, 14, 40, 45, 11, 14, 44, 16, 30, 15, 5, 12, 54, 22, 33, 21, 27, 35, 45, 40, 46, 15, 7, 49, 27, 10, 10, 28, 15, 13, 55, 27, 2, 9, 43, 56, 4, 39, 26, 6, 40, 21, 9, 22, 29, 34, 30, 26, 8, 26, 5, 23, 40, 51, 11, 42, 48, 30, 13, 8, 32, 13, 44, 20, 20, 29, 48, 50, 21, 6, 43, 37, 28, 8, 23, 46, 2, 14, 24, 14, 54, 32, 1, 0, 29, 2, 3, 49, 31, 19, 4, 47, 54, 30, 18, 0, 54, 26, 10, 31, 6, 20, 38], [18, 22, 27, 25, 10, 40, 31, 6, 20, 36, 1, 41, 26, 5, 39, 32, 34, 16, 51, 4, 15, 7, 38, 37, 23, 15, 34, 23, 41, 41, 16, 12, 0, 47, 12, 21, 7, 8, 30, 42, 29, 47, 17, 22, 1, 20, 6, 32, 7, 3, 17, 2, 34, 51, 48, 23, 6, 1, 42, 17, 18, 38, 18, 7, 49, 48, 52, 21, 30, 16, 54, 30, 43, 28, 32, 9, 7, 22, 44, 3, 44, 21, 40, 51, 26, 21, 48, 4, 40, 39, 41, 46, 2, 46, 43, 4, 20, 34, 43, 20, 9, 8, 48, 6, 30, 6, 23, 25, 45, 33, 22, 44, 8, 16, 25, 17, 12, 54, 4, 37, 14, 49, 1, 26, 48, 8, 28, 14, 50, 11, 9, 43, 3, 4, 25, 35, 29, 19, 40, 32, 18, 36, 14, 22, 30, 23, 37, 8, 47, 51, 29, 10, 30, 44, 14, 53, 28, 17, 22, 35, 55, 22, 55, 24, 23, 51, 51, 17, 30, 52, 2, 3, 32, 11, 1, 26], [21, 42, 39, 5, 10, 11, 3, 42, 45, 42, 29, 9, 56, 29, 37, 9, 5, 51, 20, 39, 19, 19, 45, 35, 38, 39, 40, 56, 26, 24, 33, 44, 4, 28, 12, 1, 6, 14, 34, 10, 44, 19, 52, 38, 1, 15, 40, 5, 7, 46, 49, 45, 33, 43, 31, 52, 24, 56, 20, 25, 22, 46, 10, 2, 22, 26, 25, 2, 24, 54, 39, 6, 21, 14, 9, 43, 47, 8, 0, 27, 45, 47, 46, 46, 33, 12, 52, 21, 28, 16, 7, 24, 10, 38, 8, 3, 50, 55, 27, 32, 55, 46, 16, 18, 40, 44, 6, 9, 3, 21, 56, 48, 50, 31, 56, 30, 48, 11, 1, 1, 46, 13, 16, 51, 21, 49, 27, 38, 35, 31, 52, 35, 29, 33, 10, 26, 21, 18, 12, 32, 49, 3, 6, 48, 40, 10, 44, 48, 40, 14, 38, 26, 44], [22, 40, 49, 16, 46, 47, 19, 52, 46, 27, 1, 25, 46, 50, 24, 14, 35, 37, 26, 48, 39, 28, 29, 29, 4, 51, 30, 29, 10, 53, 41, 17, 20, 28, 10, 29, 30, 13, 30, 19, 52, 5, 36, 33, 52, 45, 54, 53, 37, 22, 40, 21, 10, 8, 16, 42, 51, 45, 6, 31, 5, 16, 1, 18, 2, 29, 1, 17, 9, 56, 24, 25, 26, 30, 19, 31, 10, 49, 47, 13, 46, 49, 51, 7, 34, 42, 36, 10, 40, 1, 18, 4, 11, 51, 8, 20, 8, 14, 10, 42, 18, 32, 51, 7, 35, 24, 44, 10, 23, 18, 28, 13, 11, 0, 35, 51, 22, 8, 38, 41, 47, 20, 12, 22, 15, 8, 34, 48, 24, 32, 10, 16, 21, 47, 4, 20, 56, 54, 22, 2, 19, 41, 44, 34, 23, 50, 47, 25], [43, 48, 17, 11, 28, 55, 21, 35, 8, 6, 2, 16, 53, 18, 8, 6, 43, 21, 23, 4, 45, 26, 8, 36, 0, 7, 38, 2, 56, 13, 50, 49, 51, 30, 15, 46, 54, 51, 14, 32, 35, 21, 18, 41, 18, 0, 14, 7, 36, 37, 46, 46, 5, 32, 19, 28, 36, 31, 13, 46, 53, 23, 55, 45, 16, 40, 18, 37, 12, 7, 12, 0, 12, 21, 49, 0, 8, 40, 30, 12, 51, 29, 2, 44, 30, 45, 4, 21, 9, 47, 33, 37, 11, 55, 13, 12, 9, 55, 40, 12, 12, 8, 8, 49, 15, 54, 43, 21, 53, 32, 20, 40, 31, 55, 29, 48, 5, 39, 5, 51, 21], [5, 16, 54, 7, 41, 45, 8, 51, 49, 5, 5, 19, 19, 51, 33, 54, 18, 51, 20, 19, 41, 36, 24, 28, 31, 8, 23, 46, 43, 6, 52, 24, 20, 43, 25, 12, 18, 22, 0, 41, 45, 53, 9, 34, 8, 55, 23, 15, 0, 16, 21, 22, 54, 16, 11, 52, 30, 46, 55, 24, 45, 17, 50, 25, 37, 53, 11, 23, 45, 46, 12, 14, 56, 17, 41, 17, 9, 3, 23, 40, 44, 32, 37, 26, 25, 32, 0, 26, 16, 13, 8, 19, 7, 9, 17, 6, 28, 8, 24, 7, 34, 42, 48, 20, 28, 29, 19, 31, 1, 12, 49, 8, 4, 33, 47, 56, 36, 47, 24, 49, 42, 29, 18, 17, 33, 20, 3, 22, 50, 1, 26, 19, 24, 4, 10, 13, 54, 45, 29, 48, 37, 8, 26, 26, 42, 18, 1, 47, 29, 17, 0, 50, 55], [54, 20, 6, 54, 28, 0, 37, 41, 30, 47, 51, 13, 49, 9, 15, 19, 26, 37, 43, 14, 55, 43, 18, 19, 11, 0, 34, 55, 48, 46, 20, 33, 44, 2, 1, 12, 4, 56, 7, 24, 31, 55, 18, 53, 39, 9, 39, 15, 42, 22, 1, 1, 20, 12, 28, 23, 27, 2, 12, 44, 21, 46, 42, 2, 1, 46, 55, 54, 26, 28, 15, 16, 20, 48, 28, 23, 23, 25, 21, 8, 17, 5, 0, 34, 52, 20, 20, 46, 48, 14, 1, 13, 12, 21, 43, 26, 19, 55, 21, 30, 54, 7, 35, 55, 29, 47, 10, 39, 7, 47, 47, 27, 2, 39, 28, 39, 40, 34, 46, 44, 9], [24, 53, 32, 2, 25, 45, 46, 32, 26, 11, 50, 5, 9, 48, 34, 49, 15, 37, 28, 19, 51, 54, 13, 52, 56, 51, 48, 32, 44, 34, 41, 54, 23, 53, 42, 47, 18, 54, 21, 56, 31, 56, 41, 13, 36, 47, 8, 37, 3, 55, 17, 26, 7, 3, 52, 5, 37, 2, 45, 36, 10, 26, 31, 9, 14, 28, 18, 8, 48, 34, 34, 22, 4, 5, 49, 3, 43, 3, 7, 48, 25, 47, 0, 53, 16, 49, 19, 11, 27, 56, 42, 46, 17, 17, 4, 1, 3, 21, 41, 30, 55, 1, 55, 7, 38, 35, 3, 19, 50, 56, 56, 9, 26, 25, 10, 8, 12, 26, 34, 32, 6, 39, 22, 28, 4, 37, 44, 13, 47, 15, 13, 0, 39, 35, 1, 21, 25, 42, 15, 17, 50, 9, 56, 16, 34, 8, 2, 6, 44, 52, 30, 42, 3, 49, 22, 42, 27, 47, 8, 3, 35, 41, 52, 37, 19, 16, 24], [23, 51, 21, 46, 37, 1, 55, 18, 46, 8, 49, 31, 26, 41, 47, 42, 33, 25, 20, 36, 16, 6, 21, 7, 14, 35, 26, 16, 4, 53, 33, 36, 34, 7, 43, 2, 22, 7, 7, 4, 46, 10, 16, 32, 34, 47, 43, 16, 50, 40, 41, 53, 47, 43, 38, 46, 41, 15, 28, 49, 1, 26, 38, 56, 38, 22, 5, 22, 50, 3, 33, 0, 35, 46, 38, 24, 47, 50, 8, 0, 27, 26, 19, 13, 23, 40, 26, 37, 8, 29, 2, 26, 37, 46, 27, 34, 22, 24, 35, 36, 34, 26, 11, 48, 22, 37, 31, 52, 54, 11, 51, 22, 35, 13, 46, 20, 3, 0, 13, 31, 4, 41, 52, 12, 11, 56, 39, 47, 24, 5, 4, 46, 50, 0, 38, 42, 14, 40, 34, 11], [45, 5, 25, 43, 14, 27, 35, 41, 25, 5, 27, 38, 10, 39, 10, 19, 9, 25, 38, 39, 46, 0, 31, 35, 53, 23, 56, 16, 38, 0, 10, 56, 41, 3, 23, 8, 14, 0, 42, 8, 1, 45, 42, 46, 41, 19, 41, 22, 35, 14, 54, 55, 21, 31, 53, 12, 3, 50, 40, 24, 54, 26, 36, 11, 38, 41, 38, 13, 40, 7, 56, 31, 25, 31, 18, 48, 5, 45, 44, 7, 54, 48, 54, 34, 53, 26, 41, 47, 43, 16, 20, 31, 15, 9, 43, 45, 22, 38, 34, 41, 30, 53, 35, 7, 10, 54, 25, 50, 46, 10, 19, 45, 12, 50, 51, 19, 12, 32, 43, 2, 15, 31, 9, 50, 18, 14, 14, 53, 24, 20, 41], [50, 0, 29, 20, 3, 27, 26, 38, 30, 27, 55, 53, 25, 46, 10, 26, 20, 26, 15, 8, 22, 18, 34, 17, 28, 10, 10, 35, 12, 53, 47, 7, 53, 55, 43, 44, 46, 14, 51, 7, 34, 33, 4, 3, 36, 0, 13, 32, 15, 44, 27, 20, 54, 5, 48, 43, 2, 7, 24, 12, 53, 50, 42, 43, 4, 27, 11, 26, 15, 14, 44, 17, 48, 49, 34, 43, 7, 24, 12, 37, 16, 24, 7, 27, 10, 24, 0, 29, 24, 51, 28, 36, 37, 56, 1, 29, 17, 39, 47, 47, 3, 21, 23, 48, 52, 22, 46, 50, 9, 26, 55, 48, 18, 3, 56, 43, 29, 49, 51, 40, 52, 5, 23, 35, 47, 6, 12, 51, 39, 4, 37, 48, 49, 30, 53, 1, 22, 49, 50, 56, 4, 24, 1], [49, 39, 19, 55, 19, 50, 39, 22, 45, 17, 33, 38, 41, 15, 11, 39, 17, 7, 29, 41, 32, 8, 44, 28, 16, 46, 54, 43, 41, 21, 43, 4, 42, 5, 8, 17, 28, 47, 4, 54, 40, 14, 11, 27, 4, 55, 49, 0, 24, 33, 55, 44, 40, 28, 3, 21, 44, 41, 6, 36, 0, 18, 9, 39, 10, 41, 16, 4, 0, 55, 48, 40, 31, 17, 10, 34, 30, 52, 0, 41, 43, 14, 45, 52, 18, 53, 38, 40, 17, 10, 27, 6, 0, 20, 15, 15, 19, 23, 9, 33, 5, 0, 53, 41, 34, 45, 44, 26, 17, 48, 36, 10, 56, 31, 9, 22, 46, 17, 27, 9, 56, 30, 7, 15, 13, 34, 40, 22, 37, 35, 15, 51, 31, 26, 17, 53, 32, 35, 29, 54, 0, 49, 32, 13, 1, 20, 44, 17, 15, 30, 21, 16, 54, 50, 44, 18, 47, 8, 39, 37, 4, 46, 36, 51, 34, 50], [12, 45, 5, 8, 53, 52, 4, 6, 3, 1, 47, 5, 43, 28, 2, 25, 50, 36, 14, 28, 22, 22, 0, 36, 46, 23, 8, 28, 12, 39, 38, 31, 48, 36, 22, 42, 10, 26, 21, 52, 23, 12, 29, 10, 15, 16, 6, 25, 13, 43, 9, 41, 24, 43, 19, 11, 19, 5, 37, 36, 7, 16, 43, 18, 22, 44, 9, 12, 51, 6, 55, 52, 34, 54, 41, 26, 26, 36, 54, 38, 23, 2, 14, 55, 46, 9, 47, 48, 32, 46, 3, 14, 43, 37, 2, 4, 38, 9, 50, 39, 38, 47, 32, 35, 49, 47, 29, 44, 22, 28, 49, 48, 54, 18, 42, 47, 24, 41, 45, 20, 12, 15, 53, 18, 50, 25, 3, 5, 54, 33, 3, 16, 52, 23, 56, 51, 30, 24, 13, 0, 41, 52, 1, 20, 26, 30, 28, 48, 33, 31, 7, 2, 3, 41, 43, 34, 17, 29, 24, 42, 56, 56, 38, 20, 2, 29, 28], [5, 34, 19, 6, 7, 33, 34, 6, 19, 31, 21, 2, 37, 53, 26, 48, 24, 2, 43, 10, 22, 10, 48, 24, 22, 1, 30, 13, 2, 42, 15, 19, 35, 49, 17, 24, 44, 24, 42, 17, 9, 14, 50, 48, 37, 50, 47, 46, 23, 55, 27, 3, 31, 44, 2, 28, 38, 8, 40, 56, 27, 2, 22, 27, 29, 6, 0, 35, 30, 12, 12, 38, 8, 56, 28, 27, 12, 12, 45, 16, 19, 9, 48, 21, 1, 55, 42, 0, 52, 19, 29, 11, 41, 0, 16, 32, 23, 41, 52, 30, 43, 32, 28, 31, 26, 20, 41, 49, 1, 47, 40, 1, 6, 13, 26, 18, 9, 29, 53, 40, 9], [30, 18, 36, 8, 17, 18, 22, 11, 36, 1, 24, 36, 11, 17, 10, 4, 28, 50, 51, 11, 45, 45, 40, 26, 40, 23, 34, 40, 14, 0, 22, 27, 2, 53, 16, 50, 26, 25, 51, 50, 49, 34, 16, 16, 50, 46, 55, 27, 23, 55, 9, 43, 2, 37, 5, 52, 18, 33, 35, 49, 9, 53, 6, 36, 2, 19, 44, 52, 32, 1, 15, 14, 51, 34, 4, 26, 47, 47, 43, 39, 19, 43, 47, 44, 53, 16, 55, 5, 53, 49, 17, 15, 50, 20, 27, 22, 6, 28, 3, 0, 14, 40, 33, 34, 45, 28, 39, 26, 40, 52, 5, 17, 53, 6, 5, 19, 16, 25, 4, 56, 11], [9, 9, 45, 18, 37, 33, 6, 42, 42, 22, 50, 27, 1, 38, 26, 0, 38, 3, 24, 51, 48, 53, 0, 11, 28, 13, 10, 56, 41, 18, 24, 46, 17, 46, 41, 9, 26, 39, 52, 6, 45, 27, 27, 18, 28, 32, 30, 2, 7, 43, 16, 50, 46, 17, 21, 22, 49, 51, 43, 45, 33, 16, 32, 3, 54, 35, 56, 19, 37, 5, 20, 7, 2, 56, 45, 41, 24, 30, 43, 10, 19, 24, 7, 21, 8, 1, 15, 18, 43, 16, 49, 37, 48, 55, 16, 15, 39, 46, 1, 49, 52, 7, 34, 16, 3, 10, 22, 19, 50, 5, 39, 55, 44, 54, 52, 1, 13, 45, 28, 44, 21, 19, 37, 39, 23, 42, 28, 40, 55, 49, 31, 52, 54, 35, 2, 22, 2, 18, 30, 20, 23, 43, 6, 34, 20, 36, 9, 33, 43, 52, 24, 38, 23, 13, 9, 27, 5, 48, 26, 4, 19, 54, 12, 48, 31, 36, 51], [41, 17, 23, 11, 18, 31, 17, 6, 51, 16, 36, 46, 6, 35, 53, 52, 14, 16, 22, 20, 10, 31, 56, 17, 35, 2, 17, 15, 28, 36, 30, 17, 2, 44, 18, 14, 28, 24, 7, 29, 42, 31, 54, 20, 44, 26, 3, 50, 23, 26, 19, 39, 10, 22, 41, 37, 20, 15, 34, 8, 27, 0, 29, 33, 27, 53, 23, 8, 4, 7, 48, 43, 6, 55, 22, 17, 17, 24, 5, 16, 30, 27, 10, 54, 45, 18, 41, 24, 26, 28, 0, 55, 1, 56, 17, 49, 25, 29, 45, 54, 5, 3, 43, 19, 41, 23, 18, 41, 16, 9, 36, 43, 19, 50, 43, 26, 17, 53, 56, 55, 43, 40, 47, 39, 12, 35, 54, 35, 16, 11, 5, 29, 15, 35, 15, 44, 47, 26, 56, 21, 21, 33, 42, 35, 30, 26, 7, 19, 15], [43, 44, 26, 44, 46, 47, 33, 12, 50, 54, 2, 13, 51, 24, 12, 25, 48, 44, 17, 36, 5, 2, 27, 55, 11, 11, 44, 50, 30, 5, 4, 7, 10, 52, 50, 14, 8, 20, 5, 32, 16, 9, 51, 22, 3, 36, 32, 53, 1, 25, 46, 8, 11, 41, 46, 52, 42, 45, 23, 33, 47, 29, 9, 20, 14, 33, 6, 21, 6, 53, 48, 21, 11, 31, 10, 24, 52, 41, 7, 41, 38, 35, 42, 12, 53, 19, 25, 7, 11, 52, 31, 47, 27, 0, 4, 27, 24, 23, 26, 30, 51, 35, 16, 34, 4, 6, 44, 5, 28, 16, 13, 29, 1, 39, 21, 30, 19, 24, 10, 11, 15, 9, 11, 1, 1, 10, 29, 30, 53, 0, 4, 52, 30, 40, 52, 46, 48, 19, 39], [39, 18, 8, 34, 22, 1, 17, 29, 38, 14, 6, 41, 1, 35, 9, 19, 34, 40, 27, 43, 27, 11, 14, 50, 49, 29, 40, 37, 6, 20, 55, 22, 41, 47, 23, 37, 41, 27, 38, 31, 36, 54, 22, 11, 51, 34, 9, 54, 45, 37, 50, 9, 14, 34, 42, 14, 34, 45, 4, 42, 15, 27, 29, 18, 8, 49, 52, 47, 51, 54, 35, 26, 7, 23, 37, 55, 2, 26, 16, 41, 53, 56, 23, 23, 2, 39, 28, 15, 52, 42, 17, 39, 18, 7, 12, 24, 38, 5, 31, 53, 27, 39, 24, 55, 27, 34, 5, 10, 23, 28, 4, 44, 15, 13, 50, 27, 3, 40, 10, 46, 16, 49, 27, 35, 53, 10, 15, 24, 6, 53, 34, 5, 33, 52, 56, 26, 36, 45, 32, 22, 39, 35, 10, 49, 7, 3, 39], [38, 51, 5, 27, 44, 38, 47, 17, 13, 25, 29, 42, 21, 26, 36, 51, 55, 35, 7, 46, 4, 11, 37, 2, 48, 6, 37, 24, 18, 30, 37, 27, 19, 47, 22, 23, 34, 6, 38, 54, 10, 40, 22, 10, 31, 22, 0, 12, 0, 9, 37, 8, 20, 42, 25, 24, 15, 4, 56, 42, 53, 54, 33, 3, 36, 9, 32, 16, 51, 34, 48, 16, 55, 54, 12, 9, 42, 26, 17, 28, 36, 29, 22, 26, 8, 24, 55, 8, 40, 32, 29, 0, 17, 56, 30, 22, 24, 37, 34, 51, 56, 7, 43, 25, 40, 13, 6, 43, 43, 16, 2, 49, 16, 28, 42, 2, 9, 40, 3, 34, 28, 13, 23, 18, 54, 40, 25, 9, 29, 14, 8, 53, 44, 20, 20, 45, 31, 18], [4, 18, 40, 52, 36, 22, 4, 22, 31, 28, 33, 1, 6, 33, 44, 0, 43, 42, 55, 29, 21, 22, 1, 45, 17, 31, 28, 41, 37, 34, 5, 32, 48, 6, 43, 4, 15, 51, 10, 54, 9, 52, 14, 38, 17, 52, 27, 16, 36, 28, 54, 11, 1, 0, 4, 39, 11, 13, 19, 37, 35, 17, 45, 1, 18, 11, 21, 0, 44, 51, 16, 10, 18, 16, 30, 53, 40, 42, 27, 20, 1, 39, 16, 34, 17, 4, 39, 41, 56, 54, 8, 3, 21, 38, 28, 44, 37, 13, 46, 15, 56, 50, 3, 29, 7, 20, 17, 6, 41, 50, 33, 51, 13, 5, 27, 13, 37, 35, 7, 4], [31, 45, 21, 18, 18, 46, 36, 27, 40, 17, 25, 34, 11, 35, 2, 32, 11, 26, 29, 25, 36, 21, 51, 37, 14, 56, 31, 37, 0, 56, 48, 17, 16, 53, 30, 42, 19, 50, 26, 51, 1, 17, 50, 45, 36, 41, 54, 5, 51, 4, 15, 23, 24, 8, 0, 43, 45, 35, 17, 22, 13, 53, 1, 14, 32, 25, 16, 12, 6, 40, 31, 48, 1, 23, 34, 12, 24, 33, 9, 30, 46, 53, 11, 30, 46, 54, 37, 5, 40, 35, 42, 37, 50, 4, 53, 31, 45, 56, 43, 28, 18, 28, 28, 22, 49, 42, 4, 37, 17, 12, 7, 42, 0, 16, 53, 35, 16, 29, 43, 24, 54, 30, 14, 27, 3, 2, 5, 24, 48, 21, 43], [38, 14, 31, 41, 20, 23, 11, 55, 51, 14, 16, 21, 2, 0, 32, 18, 4, 16, 13, 28, 55, 10, 27, 31, 2, 40, 47, 33, 7, 21, 1, 49, 50, 18, 52, 5, 36, 26, 16, 37, 25, 56, 43, 6, 24, 34, 0, 36, 0, 55, 29, 37, 32, 43, 14, 11, 22, 46, 26, 37, 23, 26, 39, 11, 51, 16, 43, 37, 7, 49, 22, 1, 9, 3, 6, 51, 32, 43, 42, 22, 50, 56, 30, 36, 10, 17, 51, 22, 55, 37, 49, 26, 47, 30, 49], [33, 2, 19, 34, 11, 38, 19, 39, 9, 15, 28, 7, 23, 2, 9, 51, 21, 49, 16, 27, 48, 42, 8, 24, 48, 30, 55, 19, 14, 43, 7, 12, 40, 17, 22, 21, 9, 36, 13, 56, 24, 48, 49, 5, 15, 1, 1, 42, 20, 14, 28, 15, 24, 24, 17, 28, 28, 1, 43, 53, 36, 35, 29, 33, 51, 42, 49, 28, 38, 28, 31, 1, 1, 42, 36, 34, 50, 48, 18, 27, 15, 3, 50, 38, 43, 51, 38, 14, 15, 55, 16, 42, 20, 35, 53, 30, 10, 10, 29, 54, 42, 33, 22, 19, 38, 53, 21, 44, 26, 31, 12, 30, 43, 43, 17, 39, 54, 48, 36, 52, 4, 33, 0, 29, 22, 26, 41, 10, 0, 42, 49, 12, 16, 3, 36, 13, 3, 51, 38, 54, 13, 20, 55, 17, 31, 55, 4, 48, 24, 32, 46, 16, 33, 40, 31, 34, 35], [23, 12, 42, 1, 6, 19, 14, 6, 42, 35, 25, 43, 36, 54, 6, 6, 34, 10, 40, 31, 11, 46, 38, 26, 47, 2, 33, 49, 0, 28, 52, 44, 51, 11, 24, 29, 19, 8, 24, 15, 18, 17, 7, 6, 11, 37, 19, 3, 52, 29, 52, 27, 49, 35, 5, 51, 42, 47, 50, 28, 36, 51, 56, 34, 5, 51, 22, 46, 39, 38, 33, 26, 33, 3, 27, 30, 27, 50, 51, 52, 17, 22, 29, 31, 35, 27, 32, 44, 48, 40, 45, 21, 51, 42, 11, 7, 48, 12, 44, 12, 17, 37, 46, 4, 6, 32, 49, 25, 7, 5, 21, 44, 10, 32, 52, 21, 42, 13, 16, 22, 4, 15, 45, 1, 38, 52, 53, 1, 34, 22, 51, 36, 20, 42, 11, 12, 12, 42, 38, 1], [22, 9, 0, 42, 35, 28, 34, 3, 35, 5, 48, 55, 11, 37, 12, 45, 19, 2, 34, 2, 1, 51, 56, 1, 6, 56, 55, 53, 15, 53, 1, 8, 17, 29, 27, 37, 1, 52, 11, 7, 13, 34, 6, 50, 34, 15, 10, 10, 16, 15, 30, 55, 53, 23, 52, 33, 20, 36, 41, 9, 5, 49, 53, 53, 39, 6, 8, 55, 27, 3, 32, 32, 37, 50, 42, 49, 48, 30, 47, 40, 0, 11, 30, 7, 40, 2, 53, 26, 39, 1, 32, 42, 21, 37, 8, 20, 18, 37, 2, 10, 31, 38, 1, 26, 21, 53, 3, 32, 28, 34, 40, 50, 50, 45, 15, 16, 39, 53, 34, 16, 49, 50, 20, 2, 15, 20, 52, 20, 9, 0, 37], [41, 15, 23, 0, 16, 9, 14, 36, 35, 51, 39, 55, 56, 28, 25, 49, 54, 52, 2, 19, 4, 16, 36, 1, 39, 11, 26, 51, 47, 23, 5, 3, 2, 47, 34, 37, 11, 1, 15, 56, 56, 56, 12, 34, 38, 52, 8, 19, 36, 43, 49, 38, 12, 5, 39, 13, 37, 17, 40, 4, 22, 42, 52, 15, 25, 4, 32, 17, 55, 55, 22, 39, 20, 34, 26, 26, 29, 33, 51, 26, 17, 7, 26, 14, 31, 3, 50, 46, 54, 13, 33, 5, 19, 4, 5, 14, 47, 1, 56, 11, 53, 7, 46, 22, 47, 20, 27, 35, 29, 25, 53, 36, 30, 28, 31, 1, 18, 0, 42, 1, 56, 37, 19, 14, 46, 12, 39, 34, 39, 14, 30, 36, 50, 27, 52, 43, 34, 50, 1, 10, 26, 39, 28, 15, 21, 11, 45, 40], [40, 15, 36, 37, 50, 20, 48, 56, 8, 6, 4, 27, 55, 26, 50, 34, 33, 24, 35, 2, 31, 34, 43, 7, 47, 32, 37, 11, 44, 19, 9, 0, 29, 12, 52, 17, 50, 16, 45, 0, 39, 23, 15, 8, 17, 55, 33, 45, 55, 39, 54, 19, 3, 18, 27, 42, 24, 38, 33, 4, 8, 28, 29, 41, 28, 43, 7, 10, 9, 53, 34, 2, 35, 22, 44, 40, 22, 1, 23, 49, 22, 56, 37, 53, 41, 30, 25, 30, 16, 12, 12, 13, 33, 18, 19, 7, 38, 2, 25, 27, 0, 35, 31, 31, 37, 26, 12, 38, 51, 16, 38, 20, 49, 56, 0, 43, 5, 11, 49, 55, 0, 4, 5, 23, 15, 27, 10, 49, 10, 54, 4, 43, 19, 2, 49, 40, 3, 2], [36, 24, 51, 25, 22, 55, 11, 32, 38, 51, 36, 1, 55, 41, 17, 2, 17, 26, 18, 55, 35, 4, 35, 11, 8, 2, 37, 49, 54, 24, 46, 2, 55, 9, 17, 22, 43, 54, 4, 39, 53, 23, 15, 7, 43, 38, 3, 50, 3, 48, 41, 19, 55, 46, 7, 41, 52, 51, 1, 27, 37, 5, 48, 12, 35, 22, 14, 38, 39, 11, 54, 41, 46, 42, 16, 16, 45, 12, 21, 38, 0, 39, 45, 23, 51, 39, 22, 28, 22, 54, 3, 49, 7, 13, 18, 33, 32, 32, 30, 10, 11, 10, 10, 31], [38, 51, 23, 4, 44, 36, 10, 1, 32, 32, 41, 30, 3, 23, 35, 0, 25, 8, 28, 24, 52, 48, 54, 39, 17, 55, 33, 22, 30, 16, 43, 26, 9, 43, 7, 45, 54, 29, 21, 56, 15, 18, 51, 29, 3, 11, 33, 26, 6, 8, 39, 49, 15, 42, 9, 43, 25, 50, 49, 4, 46, 20, 36, 56, 34, 16, 12, 17, 40, 24, 14, 48, 27, 36, 37, 3, 11, 34, 0, 25, 0, 0, 21, 47, 41, 35, 19, 29, 37, 12, 52, 18, 21, 30, 35, 26, 0, 28, 21, 56, 3, 13, 27, 49, 42, 17, 7, 55, 38, 35, 38, 11, 20, 11, 50, 28, 43, 23, 17, 33, 51, 12, 43, 14, 35, 28, 53, 51, 18, 50, 3, 10, 30, 27, 14, 41, 40, 24, 54, 28, 55, 46, 36, 30, 48, 12, 33, 30, 11], [17, 23, 56, 31, 15, 11, 0, 23, 9, 21, 35, 13, 14, 46, 45, 43, 11, 45, 52, 19, 55, 21, 30, 21, 53, 37, 51, 36, 37, 33, 18, 17, 20, 21, 37, 51, 2, 35, 12, 11, 17, 23, 42, 22, 39, 1, 24, 27, 54, 23, 24, 45, 15, 25, 48, 17, 4, 52, 29, 25, 56, 19, 56, 44, 17, 40, 0, 48, 27, 36, 24, 23, 17, 22, 5, 15, 33, 49, 6, 39, 45, 3, 40, 49, 1, 54, 50, 40, 3, 25, 20, 27, 26, 2, 42, 56, 52, 41, 24, 46, 34, 40, 8, 19, 56, 49, 44, 29, 0, 28, 40, 41, 49, 44, 24, 19, 43, 24, 44, 2, 42, 48, 4, 13, 23, 44, 20, 55, 44, 29, 27], [27, 45, 10, 21, 22, 9, 22, 36, 28, 50, 28, 46, 2, 42, 34, 30, 39, 31, 50, 31, 39, 3, 14, 44, 56, 34, 32, 30, 47, 41, 51, 38, 53, 20, 16, 10, 34, 55, 44, 28, 8, 34, 3, 15, 21, 33, 12, 46, 56, 33, 40, 14, 50, 4, 32, 44, 6, 26, 42, 42, 45, 9, 24, 55, 7, 39, 51, 27, 27, 3, 38, 51, 7, 52, 55, 15, 46, 52, 27, 37, 25, 49, 28, 6, 42, 28, 15, 47, 21, 22, 12, 21, 45, 29, 44, 0, 1, 44, 51, 56, 24, 9, 33, 8, 30, 35, 13, 9, 48, 14, 13, 15, 14, 40, 30, 55, 41, 35, 12, 0, 42, 24, 20, 50, 45, 47, 26, 1, 32], [0, 37, 43, 52, 3, 55, 39, 14, 49, 6, 21, 50, 48, 42, 39, 17, 8, 47, 56, 50, 45, 14, 38, 16, 3, 49, 52, 17, 44, 51, 48, 48, 15, 32, 15, 54, 16, 2, 15, 52, 4, 4, 7, 45, 26, 5, 43, 15, 27, 41, 39, 13, 21, 11, 22, 43, 5, 0, 15, 32, 48, 10, 12, 48, 9, 50, 13, 15, 36, 1, 41, 32, 26, 25, 36, 9, 21, 30, 13, 49, 47, 7, 21, 22, 30, 14, 42, 19, 13, 40, 48, 51, 25, 43, 21, 30, 3, 14, 42, 49, 33, 11, 18, 29, 56, 54, 11, 22, 10, 26, 52, 38, 22, 8, 8, 53, 5, 5, 3, 22, 12, 25, 15, 47, 2, 37, 43, 56, 37, 32, 13, 52, 29, 44, 48, 37, 49, 5, 3, 45, 49, 53, 36, 0, 36, 27, 48, 18], [29, 22, 26, 32, 34, 23, 16, 4, 6, 20, 24, 47, 2, 21, 31, 54, 1, 52, 51, 37, 40, 14, 40, 44, 43, 55, 2, 30, 32, 0, 19, 8, 34, 49, 34, 20, 13, 35, 3, 6, 53, 25, 22, 47, 38, 29, 38, 48, 30, 5, 56, 41, 52, 9, 10, 25, 3, 50, 31, 22, 35, 44, 18, 27, 54, 31, 5, 12, 31, 24, 50, 3, 0, 30, 1, 1, 12, 43, 9, 33, 47, 11, 51, 10, 27, 8, 44, 25, 44, 7, 36, 48, 40, 1, 30, 31, 30, 11, 23, 10, 54, 1, 34, 25, 52, 20, 3, 7, 18, 41, 22, 34, 37, 12, 48, 7, 4, 18, 9, 40, 40, 22, 20, 52, 40, 3, 15, 13, 20, 21, 8, 0, 32, 2, 25, 16, 41, 33, 6, 21, 42, 18, 5, 3, 5, 41, 52, 42], [24, 27, 4, 40, 6, 17, 25, 41, 5, 2, 4, 14, 28, 48, 48, 19, 36, 32, 5, 24, 51, 21, 4, 19, 46, 7, 21, 39, 44, 24, 18, 3, 5, 40, 52, 34, 43, 55, 54, 38, 20, 19, 44, 54, 33, 16, 11, 6, 47, 3, 8, 2, 12, 47, 53, 46, 2, 47, 36, 39, 22, 24, 52, 37, 47, 32, 19, 11, 55, 26, 2, 26, 54, 55, 15, 30, 26, 45, 53, 22, 44, 47, 1, 8, 18, 28, 56, 53, 17, 46, 18, 25, 22, 25, 10, 53, 8, 44, 25, 34, 30, 21, 0, 37, 3, 29, 39, 11, 0, 34, 11, 18, 32, 15, 22, 1, 9, 33, 20, 32, 43, 41, 8, 20, 44, 25, 27, 20, 15, 14, 38, 5, 23, 3, 21, 14, 52, 28, 19, 34, 55, 19, 40, 55, 51, 55, 38, 11, 44], [45, 20, 15, 31, 29, 44, 18, 35, 47, 38, 54, 15, 12, 16, 15, 27, 26, 44, 31, 55, 6, 29, 53, 14, 21, 19, 55, 20, 25, 34, 8, 31, 13, 15, 26, 11, 25, 40, 15, 34, 52, 20, 28, 32, 40, 46, 56, 29, 44, 24, 6, 42, 7, 21, 28, 30, 13, 56, 1, 14, 52, 50, 19, 20, 49, 20, 10, 21, 52, 20, 52, 42, 6, 27, 18, 33, 47, 48, 38, 42, 46, 52, 30, 33, 13, 15, 55, 13, 49, 0, 25, 40, 4, 19, 32, 37, 22, 3, 11, 11, 19, 52, 49, 36, 29, 36, 22, 46, 24, 29, 5, 31, 54, 1, 25, 48, 26, 32, 43, 2, 49, 5, 24, 1, 40, 52, 20, 52, 18, 38, 10, 32, 41, 33, 53, 21, 40, 28, 15, 23, 20, 48, 46, 49, 49, 26, 34, 0, 16, 23, 30, 28, 15, 42, 38, 9, 51, 28], [49, 48, 31, 56, 36, 15, 40, 11, 23, 0, 10, 8, 26, 48, 2, 5, 24, 1, 28, 32, 50, 32, 3, 10, 36, 13, 42, 46, 54, 41, 34, 40, 19, 17, 43, 9, 11, 29, 0, 53, 1, 36, 56, 50, 8, 49, 56, 13, 45, 2, 38, 21, 54, 16, 54, 56, 7, 32, 21, 22, 18, 46, 47, 47, 23, 12, 48, 18, 23, 10, 30, 12, 24, 55, 42, 49, 4, 27, 18, 39, 16, 50, 7, 14, 30, 44, 2, 11, 24, 31, 38, 56, 7, 9, 38, 10, 9, 26, 47, 25, 7, 18, 26, 5, 5, 35, 0, 47, 35, 20, 18, 1, 19, 43, 47, 27, 30, 12, 32, 8, 16, 4, 15, 33, 39, 10, 14, 22, 36, 16, 20, 8, 15, 50, 28, 44, 23, 1, 1, 47, 40, 10, 26, 28, 9, 38, 55, 46, 18], [17, 37, 29, 48, 26, 38, 49, 38, 37, 34, 28, 12, 13, 42, 17, 16, 50, 33, 29, 11, 12, 7, 51, 39, 48, 32, 19, 6, 55, 41, 16, 55, 31, 40, 34, 12, 14, 20, 9, 25, 37, 51, 33, 11, 34, 38, 32, 39, 38, 30, 44, 53, 15, 11, 12, 8, 17, 38, 38, 48, 46, 6, 47, 28, 17, 14, 28, 50, 42, 26, 15, 14, 5, 42, 18, 38, 25, 19, 12, 2, 23, 40, 4, 23, 13, 21, 31, 29, 22, 9, 16, 49, 8, 26, 33, 28, 15, 38, 8, 35, 48, 22, 56, 54, 50, 32, 35, 14, 17, 34, 18, 30, 25, 11, 37, 18, 13, 0, 19, 26, 51, 45, 33, 23, 6, 2, 31, 8, 33, 37, 45, 48, 45, 3, 25, 47, 32, 43, 15, 53], [23, 28, 42, 18, 48, 9, 39, 30, 7, 27, 5, 51, 11, 2, 20, 13, 54, 7, 30, 4, 33, 13, 16, 3, 22, 22, 18, 13, 29, 41, 52, 32, 52, 56, 3, 32, 43, 36, 30, 33, 18, 35, 17, 24, 45, 28, 51, 49, 27, 21, 33, 52, 14, 56, 7, 55, 33, 47, 19, 13, 52, 41, 42, 29, 25, 3, 8, 17, 20, 21, 31, 18, 45, 13, 51, 24, 4, 28, 40, 0, 19, 13, 1, 24, 29, 28, 33, 42, 16, 25, 43, 40, 1, 20, 16, 24, 14, 49, 14, 5, 51, 10, 18, 30, 45, 15, 21, 10, 42, 25, 18, 44, 41, 54, 48, 43, 18, 49, 31, 22, 0, 28, 4, 53, 2, 12, 50, 39, 3, 20, 55, 12, 42, 34, 19, 26, 52, 40], [1, 14, 19, 54, 54, 32, 38, 2, 0, 21, 16, 46, 39, 19, 50, 45, 56, 37, 49, 46, 23, 41, 15, 56, 1, 13, 26, 27, 28, 25, 46, 42, 33, 30, 31, 49, 24, 13, 54, 0, 13, 17, 50, 56, 37, 5, 44, 6, 50, 18, 10, 45, 30, 47, 45, 50, 34, 8, 51, 40, 29, 39, 33, 33, 27, 38, 33, 5, 28, 49, 56, 51, 20, 33, 50, 10, 27, 12, 48, 18, 50, 17, 5, 46, 1, 30, 37, 5, 46, 53, 36, 49, 13, 14, 13, 56, 56, 55, 21, 31, 21, 18, 2, 32, 34, 27, 32, 27, 25, 3, 35, 52, 39, 20, 31, 33, 12, 23, 13, 19, 33, 26, 45, 37, 44, 15, 42, 28, 5, 31, 23], [9, 27, 55, 13, 46, 54, 15, 3, 20, 9, 29, 15, 26, 25, 52, 56, 40, 31, 7, 17, 55, 5, 42, 32, 43, 30, 48, 34, 5, 54, 16, 52, 30, 22, 24, 10, 47, 3, 46, 50, 50, 37, 56, 15, 47, 13, 52, 53, 1, 25, 47, 4, 22, 44, 21, 17, 18, 35, 35, 22, 40, 24, 50, 9, 29, 7, 35, 1, 52, 3, 52, 42, 49, 56, 25, 2, 38, 54, 13, 32, 19, 9, 38, 29, 49, 13, 21, 35, 19, 30, 39, 25, 16, 48, 33, 33, 23, 24, 53, 33, 23, 39, 36, 44, 22, 47, 0, 13, 18, 4, 23, 46, 10, 43, 9, 55, 51, 28, 12, 21, 32, 11, 28, 33, 7, 53, 36, 30, 37, 35], [52, 29, 13, 26, 39, 34, 7, 5, 41, 43, 12, 13, 16, 11, 35, 26, 9, 19, 49, 13, 22, 1, 48, 2, 2, 24, 0, 51, 4, 7, 35, 53, 31, 20, 8, 0, 43, 7, 23, 31, 8, 12, 17, 26, 50, 30, 0, 12, 35, 29, 12, 32, 20, 21, 42, 40, 44, 52, 17, 41, 47, 55, 43, 26, 21, 27, 26, 23, 25, 47, 45, 38, 21, 44, 0, 27, 40, 28, 17, 10, 52, 9, 4, 16, 34, 12, 14, 8, 14, 22, 8, 41, 46, 35, 56, 6, 29, 42, 37, 6, 2, 51, 3, 35, 13, 24, 16, 36, 38, 40, 10, 56, 0, 46, 36, 5, 0, 25, 8, 36, 49, 11, 46, 52, 56, 36, 17, 18, 1, 40, 16], [30, 47, 16, 37, 48, 52, 32, 18, 12, 15, 25, 14, 0, 2, 34, 24, 27, 31, 15, 0, 53, 48, 5, 31, 36, 17, 6, 23, 11, 12, 42, 4, 11, 51, 10, 54, 33, 29, 46, 55, 35, 6, 14, 50, 43, 25, 33, 37, 20, 2, 28, 20, 3, 32, 7, 24, 32, 52, 22, 37, 41, 13, 19, 46, 55, 31, 55, 12, 48, 9, 6, 38, 14, 0, 6, 1, 33, 52, 35, 48, 10, 32, 52, 27, 56, 19, 43, 6, 11, 35, 15, 6, 38, 30, 49, 53, 30, 40, 28, 3, 11, 23, 52, 41, 37, 7, 46, 19, 36, 5, 8, 48, 25, 45, 9, 47, 25, 46, 10, 5, 41, 11, 30, 21, 37, 4, 37, 18, 38, 27, 23], [44, 11, 49, 19, 15, 15, 38, 17, 48, 9, 2, 53, 43, 31, 34, 2, 31, 12, 44, 26, 49, 45, 22, 51, 25, 10, 24, 21, 41, 15, 33, 7, 38, 30, 29, 27, 5, 54, 26, 36, 28, 20, 55, 41, 2, 36, 30, 14, 36, 18, 12, 52, 49, 48, 4, 35, 54, 51, 46, 44, 53, 19, 28, 44, 44, 0, 39, 28, 29, 31, 31, 1, 43, 36, 27, 48, 31, 50, 54, 40, 43, 1, 21, 38, 56, 52, 2, 4, 28, 36, 22, 40, 6, 35, 17, 33, 26, 7, 34, 38, 13, 30, 56, 18, 42, 31, 25, 44, 24, 10, 27, 16, 7, 32, 28, 56, 48, 6, 15, 2, 41, 40, 16, 28, 27, 14, 1, 22, 14, 1, 31, 15, 23, 35, 52, 4, 2, 11, 47, 29, 10, 22, 41, 34, 29, 53, 2, 29], [41, 26, 0, 13, 25, 29, 18, 38, 29, 11, 12, 28, 48, 21, 17, 13, 42, 12, 39, 15, 49, 52, 10, 8, 8, 21, 9, 9, 54, 45, 24, 27, 44, 52, 36, 55, 17, 32, 14, 50, 39, 12, 15, 9, 32, 16, 27, 21, 46, 15, 19, 55, 41, 15, 24, 42, 27, 51, 17, 11, 51, 43, 16, 41, 24, 56, 3, 17, 54, 16, 18, 50, 14, 11, 45, 18, 31, 21, 48, 31, 4, 28, 36, 0, 29, 48, 19, 44, 50, 32, 31, 55, 29, 22, 42, 8, 2, 9, 7, 50, 34, 45, 25, 17, 37, 10, 3, 29, 49, 39, 9, 39, 25, 50, 46, 35, 34, 30, 52, 29, 43, 3, 54, 33, 15, 39, 39, 44, 44, 26, 35, 25, 10, 14, 26, 47, 19, 20, 10, 22, 25, 35, 37, 20, 9, 41, 47, 18], [33, 30, 11, 55, 13, 7, 48, 35, 30, 39, 22, 56, 24, 23, 55, 44, 16, 19, 24, 12, 10, 24, 43, 51, 10, 39, 11, 20, 50, 36, 6, 25, 7, 33, 50, 13, 45, 43, 28, 4, 54, 26, 43, 3, 21, 20, 15, 2, 42, 18, 25, 15, 28, 41, 19, 25, 33, 1, 8, 20, 38, 35, 37, 0, 37, 44, 28, 51, 38, 53, 24, 15, 39, 33, 13, 29, 52, 27, 29, 17, 39, 49, 0, 20, 28, 56, 26, 24, 8, 50, 20, 3, 49, 9, 5, 53, 54, 25, 34, 46, 48, 21, 5, 26, 42, 10, 53, 45, 46, 18, 12, 30, 15, 17, 4, 4, 10, 21, 9, 11, 22, 36, 34, 40, 21, 28, 4, 13, 43, 48, 51, 4, 49, 25, 42, 51, 43, 49, 28, 39, 46, 23, 1, 3, 45, 49, 25, 50, 51, 36, 26, 21, 15, 18, 52, 43, 44, 31, 42, 2, 12, 26, 32, 31, 55, 39], [45, 15, 36, 55, 3, 6, 5, 48, 45, 52, 51, 45, 34, 43, 29, 2, 33, 46, 21, 38, 54, 10, 22, 9, 39, 14, 32, 17, 36, 48, 23, 15, 53, 51, 11, 28, 26, 24, 11, 18, 54, 9, 43, 10, 3, 54, 16, 51, 39, 3, 37, 39, 38, 48, 36, 14, 0, 2, 41, 26, 51, 21, 42, 14, 13, 13, 29, 3, 54, 31, 54, 36, 11, 56, 55, 2, 9, 3, 44, 23, 36, 55, 15, 34, 31, 51, 15, 39, 10, 49, 20, 14, 7, 49, 49, 30, 32, 13, 6, 15, 19, 55, 48, 30, 38, 45, 48, 18, 53, 42, 22, 56, 8, 25, 29, 56, 7, 9, 18, 1, 12, 31, 12, 54, 0, 21, 29, 19, 13, 45, 14, 10, 32, 8, 13, 22, 32, 6, 3, 36, 23, 43, 56, 48, 11, 56, 21, 14, 21], [44, 26, 54, 55, 20, 11, 46, 1, 14, 24, 17, 42, 54, 12, 45, 33, 0, 29, 47, 6, 56, 13, 50, 29, 24, 30, 10, 29, 2, 52, 0, 56, 54, 8, 48, 44, 52, 5, 47, 22, 42, 41, 55, 24, 51, 17, 43, 37, 37, 55, 10, 51, 20, 40, 1, 50, 10, 49, 16, 50, 11, 53, 53, 48, 52, 47, 4, 11, 17, 5, 46, 41, 49, 46, 15, 28, 50, 55, 25, 55, 31, 49, 10, 50, 0, 56, 26, 3, 10, 21, 29, 22, 7, 8, 0, 15, 5, 3, 34, 13, 18, 17, 35, 1, 52, 23, 0, 19, 8, 38, 49, 56, 39, 27, 8, 18, 22, 42, 3, 47, 52, 44, 42, 29, 17, 40, 7, 3, 33, 8, 34, 47, 21, 46, 7, 10, 30, 11, 33, 15, 54, 30, 41, 7, 36, 56, 49, 55], [2, 17, 0, 7, 40, 54, 26, 24, 11, 45, 32, 41, 45, 0, 29, 37, 31, 23, 4, 49, 56, 43, 2, 30, 49, 7, 0, 52, 0, 26, 45, 22, 27, 25, 20, 12, 22, 49, 31, 30, 22, 19, 22, 32, 16, 13, 36, 43, 32, 5, 53, 53, 55, 56, 12, 56, 45, 18, 2, 55, 20, 32, 7, 23, 20, 34, 50, 54, 10, 37, 30, 49, 56, 18, 24, 29, 18, 16, 56, 45, 7, 1, 53, 49, 36, 21, 27, 36, 14, 56, 25, 56, 54, 44, 40, 14, 54, 22, 21, 42, 22, 27, 27, 33, 3, 6, 52, 15, 49, 0, 36, 19, 29, 26, 12, 39, 32, 33, 15, 36, 21, 24, 45, 56, 0, 54, 16, 2, 12, 40, 41], [39, 4, 16, 19, 47, 29, 9, 5, 47, 27, 36, 8, 48, 47, 23, 46, 4, 20, 3, 29, 5, 1, 11, 10, 10, 9, 28, 49, 42, 11, 13, 52, 54, 27, 35, 2, 44, 6, 8, 43, 22, 11, 50, 36, 25, 24, 2, 2, 32, 19, 47, 16, 22, 8, 15, 38, 52, 0, 32, 24, 48, 4, 3, 6, 7, 40, 27, 25, 43, 49, 8, 8, 38, 39, 16, 56, 39, 6, 16, 54, 33, 33, 41, 35, 16, 12, 23, 56, 5, 50, 52, 3, 29, 16, 3, 16, 3, 41, 42, 4, 31, 35, 49, 40, 13, 53, 56, 16, 26, 19, 9, 33, 37, 37, 28, 9, 5, 32, 39, 27, 0, 26, 36, 40, 24, 40, 27, 42, 15, 31], [4, 33, 29, 46, 46, 4, 9, 1, 40, 49, 36, 55, 32, 0, 2, 14, 33, 43, 24, 48, 4, 26, 9, 45, 9, 0, 31, 12, 48, 28, 36, 36, 11, 25, 24, 27, 37, 4, 37, 19, 38, 19, 24, 40, 26, 20, 4, 55, 39, 13, 52, 53, 28, 27, 30, 21, 22, 16, 18, 9, 15, 26, 44, 42, 29, 16, 6, 8, 28, 50, 0, 45, 24, 11, 22, 17, 46, 29, 8, 43, 34, 18, 27, 31, 8, 32, 28, 36, 41, 26, 36, 39, 27, 35, 2, 42, 39, 20, 4, 34, 23, 24, 32, 24, 12, 26, 14, 29, 11, 37, 30, 8, 17], [26, 8, 5, 25, 17, 3, 21, 37, 11, 6, 45, 36, 52, 4, 23, 2, 22, 35, 8, 51, 40, 18, 19, 31, 29, 33, 56, 40, 40, 6, 45, 26, 12, 1, 53, 37, 29, 30, 49, 37, 13, 20, 20, 45, 48, 9, 27, 51, 40, 21, 39, 54, 56, 56, 48, 56, 44, 34, 42, 20, 16, 33, 3, 47, 36, 4, 23, 32, 54, 17, 51, 47, 38, 52, 13, 3, 23, 26, 4, 27, 42, 46, 20, 37, 20, 44, 30, 25, 5, 16, 7, 36, 27, 54, 26, 18, 17, 28, 49, 2, 18, 54, 39, 4, 33, 7, 50, 21, 33, 1, 38, 18, 47, 49, 7, 4, 15, 52, 38, 7, 8, 18, 0, 41, 14, 39, 20, 44, 28, 13, 43, 26, 40, 14, 41, 34, 18, 53, 0, 22, 13, 22, 28, 43, 52, 36, 11, 43, 14, 50, 45, 25, 19, 8, 43, 33, 10], [34, 34, 55, 6, 28, 0, 8, 52, 41, 25, 55, 50, 55, 36, 17, 13, 25, 6, 10, 54, 33, 35, 29, 44, 33, 6, 32, 55, 53, 23, 18, 47, 8, 14, 15, 25, 47, 1, 25, 50, 3, 4, 44, 50, 18, 33, 48, 43, 10, 42, 38, 38, 3, 14, 27, 7, 47, 48, 36, 55, 47, 44, 32, 28, 52, 15, 39, 6, 35, 52, 33, 33, 30, 51, 7, 36, 30, 30, 8, 45, 17, 10, 15, 11, 50, 17, 36, 2, 23, 14, 37, 46, 13, 24, 36, 23, 51, 26, 52, 9, 7, 42, 4, 42, 54, 20, 23, 52, 46, 55, 4, 13, 7, 33, 10, 49, 32, 55, 0, 29, 29, 4, 42, 39, 56, 2, 24, 8, 48, 15, 29, 54, 29, 20, 49, 30, 12, 19, 8, 37, 49, 52, 13, 35, 2, 9, 1, 56, 51, 52, 0, 16, 39, 16, 46, 45, 50], [50, 28, 21, 29, 29, 0, 19, 43, 47, 35, 44, 49, 27, 20, 29, 38, 7, 14, 3, 50, 12, 8, 10, 19, 27, 37, 25, 36, 39, 52, 13, 40, 20, 29, 19, 8, 35, 39, 17, 55, 33, 37, 27, 27, 32, 29, 18, 39, 48, 38, 26, 54, 15, 27, 4, 56, 10, 42, 22, 47, 32, 21, 38, 19, 49, 6, 46, 45, 55, 12, 10, 12, 26, 39, 39, 14, 1, 45, 18, 41, 0, 48, 4, 28, 16, 21, 10, 23, 38, 25, 23, 28, 3, 6, 45, 9, 56, 44, 14, 50, 35, 19, 40, 6, 4, 2, 42, 17, 45, 14, 16, 34, 36, 50, 42, 21, 33, 13, 20, 11, 46, 20, 10, 48, 53, 33, 54, 27, 18, 3, 1, 49, 25, 53, 42, 55, 52, 23, 43, 16, 48, 42, 3, 17, 51, 6, 5, 35, 38, 50, 28, 34, 1], [37, 14, 44, 37, 36, 32, 52, 56, 27, 7, 24, 41, 33, 7, 30, 16, 36, 46, 44, 9, 48, 14, 6, 16, 49, 18, 4, 30, 51, 23, 23, 12, 9, 14, 23, 52, 15, 9, 29, 44, 32, 9, 5, 27, 5, 7, 21, 44, 51, 3, 33, 24, 36, 8, 46, 31, 29, 6, 47, 12, 11, 56, 48, 3, 29, 33, 34, 0, 15, 46, 55, 0, 2, 26, 19, 48, 20, 14, 0, 30, 23, 25, 7, 27, 44, 41, 6, 4, 17, 50, 56, 36, 21, 22, 35, 27, 3, 39, 5, 44, 28, 48, 24, 56, 1, 36, 18, 6, 26, 24, 36, 47, 2, 3, 44, 24, 23, 30, 52, 2, 52, 42, 56, 30, 20, 43, 20, 49, 27, 37, 15, 11, 2, 30, 8, 39, 32, 54, 49, 4, 51, 19, 23, 7, 19, 2, 34, 6]], 'testPPO': [[19, 5, 19, 25, 19, 13, 19, 55, 13, 4, 31, 5, 19, 8, 55, 18, 18, 8, 19, 19, 8, 19, 8, 19, 13, 25, 18, 8, 55, 13, 13, 13, 49, 5, 18, 18, 19, 19, 19, 8, 5, 43, 55, 19, 8, 19, 31, 4, 55, 18, 4, 19, 5, 18, 13, 55, 5, 8, 13, 19, 13, 8, 18, 19, 19, 19, 13, 8, 19, 13, 8, 14, 18, 36, 55, 8, 19, 8, 14, 14, 8, 8, 4, 49, 43, 14, 18, 13, 18, 19, 19, 18, 19, 18, 55, 19, 8, 18, 5, 18, 18, 5, 14, 13, 4, 18, 8, 19, 13, 18, 14, 19, 14, 55, 25, 25, 18, 18, 8, 19, 18, 13, 19, 13, 5, 49, 13, 13, 19, 19, 19, 13, 19, 14, 18, 14, 8, 18, 18, 8], [5, 18, 18, 49, 18, 14, 37, 19, 18, 18, 49, 31, 13, 8, 51, 31, 55, 18, 14, 18, 4, 8, 8, 18, 18, 19, 8, 54, 8, 19, 36, 18, 18, 13, 19, 8, 55, 18, 19, 8, 5, 18, 19, 14, 13, 19, 13, 36, 12, 13, 8, 19, 55, 25, 14, 18, 19, 18, 25, 18, 18, 55, 19, 18, 8, 8, 8, 49, 31, 12, 18, 55, 37, 5, 19, 18, 5, 55, 8, 13, 18, 8, 8, 13, 19, 19, 8, 18, 19, 55, 13, 18, 18, 36, 13, 18, 18, 18, 19, 12, 43, 13, 13, 18, 13, 19, 18, 7, 55, 18, 5, 18, 18], [55, 14, 19, 55, 14, 19, 19, 19, 19, 19, 19, 19, 3, 18, 18, 49, 49, 5, 18, 25, 8, 55, 14, 19, 4, 18, 55, 13, 55, 18, 13, 18, 49, 8, 13, 19, 18, 18, 19, 18, 8, 18, 19, 8, 13, 14, 18, 19, 19, 13, 8, 19, 13, 14, 19, 8, 19, 19, 19, 18, 4, 19, 18, 19, 19, 13, 19, 4, 13, 5, 8, 13, 14, 19, 18, 25, 4, 19, 19, 13, 12, 13, 19, 12, 49, 5, 8, 31, 30, 18, 14, 18, 49, 19, 19, 19, 43, 13, 31, 4, 13, 8, 43, 8, 13, 37, 8, 14, 19, 55, 14, 5, 18, 4, 18, 5, 49, 13, 37, 13, 8, 19, 18, 18, 18, 25, 18, 5, 8, 37, 14], [54, 49, 43, 13, 13, 49, 14, 19, 4, 49, 13, 19, 19, 4, 43, 55, 19, 19, 18, 37, 13, 13, 5, 19, 4, 54, 13, 31, 8, 18, 8, 5, 5, 8, 37, 19, 13, 19, 43, 18, 55, 18, 37, 8, 19, 13, 18, 55, 13, 13, 43, 19, 19, 49, 8, 4, 13, 13, 18, 13, 8, 5, 18, 7, 8, 8, 13, 55, 55, 14, 25, 19, 18, 25, 49, 14, 19, 19, 14, 8, 13, 19, 18, 8, 19, 19, 19, 18, 19, 19, 19, 8, 13, 18, 8, 37, 8, 5, 49, 4, 5, 13, 18, 19, 54, 55, 13, 55, 13, 8, 55, 19, 18, 18, 19, 19, 4, 19, 13, 25, 8, 49, 5, 5, 13, 5, 18, 4, 18, 19, 19, 19, 55, 54, 18, 13, 13, 8], [43, 13, 8, 8, 49, 14, 5, 54, 18, 18, 37, 25, 31, 8, 5, 49, 14, 19, 13, 50, 5, 36, 19, 18, 55, 13, 55, 37, 19, 18, 13, 14, 18, 19, 19, 49, 13, 18, 13, 18, 19, 18, 18, 8, 8, 13, 4, 14, 36, 18, 31, 12, 5, 18, 8, 8, 49, 55, 5, 13, 5, 18, 8, 18, 19, 19, 18, 8, 18, 8, 14, 5, 18, 49, 13, 19, 18, 8, 18, 49, 36, 8, 54, 18, 8, 18, 8, 18, 31, 8, 18, 13, 8, 19, 43, 19, 25, 8, 18, 18, 18, 8, 19, 18, 13, 8, 55, 18, 19, 18, 19, 18, 18, 8, 4, 8, 18, 31, 18, 8, 49, 18, 18, 13, 18, 19, 5, 18, 8, 13, 18], [5, 25, 13, 19, 14, 19, 8, 13, 13, 14, 5, 18, 18, 14, 49, 25, 54, 5, 55, 55, 4, 13, 55, 19, 18, 19, 8, 55, 18, 18, 8, 5, 18, 55, 19, 18, 49, 18, 19, 55, 13, 19, 18, 8, 25, 13, 19, 8, 43, 5, 14, 49, 8, 19, 5, 49, 8, 55, 12, 8, 30, 18, 8, 18, 18, 19, 12, 19, 5, 31, 4, 55, 19, 55, 37, 19, 18, 55, 18, 18, 14, 8, 31, 19, 4, 19, 4, 8, 19, 18, 19, 13, 18, 19, 13, 12, 18, 13, 19, 8, 19, 13, 55, 54, 55, 19, 19, 19, 18, 8, 55, 19, 37, 18, 18, 14, 13, 18, 18, 13, 5, 12, 19, 18, 19, 5, 18, 49, 18, 18, 19, 54, 18, 19, 18, 18, 18, 31, 55, 8, 5, 13, 13, 19, 13, 43, 31, 55, 8, 36, 55, 19, 19, 19, 49, 8, 54], [19, 49, 19, 55, 18, 8, 18, 18, 8, 19, 8, 14, 5, 19, 55, 18, 8, 19, 8, 19, 13, 55, 4, 13, 18, 8, 4, 5, 8, 18, 25, 31, 13, 13, 55, 55, 8, 18, 14, 55, 49, 14, 55, 13, 19, 19, 19, 13, 19, 18, 13, 11, 13, 13, 5, 18, 18, 18, 13, 5, 4, 8, 18, 19, 8, 8, 8, 13, 19, 19, 8, 19, 14, 5, 19, 55, 18, 19, 14, 18, 55, 18, 18, 18, 55, 8, 18, 8, 18, 18, 14, 8, 5, 18, 49, 8, 19, 55, 49, 5, 18, 8, 3, 8, 18, 49, 18, 13, 13, 36, 18, 8, 18, 13, 31, 37, 14, 8, 54, 18, 8, 19, 14, 5, 13, 18, 18, 8, 5, 18, 13], [13, 49, 8, 19, 13, 19, 18, 12, 8, 8, 18, 5, 43, 5, 8, 18, 49, 18, 8, 19, 49, 54, 19, 18, 18, 19, 19, 18, 19, 49, 18, 19, 49, 14, 5, 19, 55, 13, 55, 19, 19, 19, 54, 13, 19, 55, 19, 19, 12, 55, 13, 19, 19, 8, 13, 13, 14, 19, 19, 55, 18, 8, 19, 19, 49, 8, 49, 18, 13, 18, 13, 49, 14, 8, 8, 19, 13, 13, 28, 19, 18, 19, 8, 43, 19, 19, 13, 43, 43, 18, 13, 19, 14, 19, 4, 19, 49, 25, 31, 55, 13, 8, 49, 8, 37, 5, 19, 37, 13, 55, 55, 13, 8, 18, 13, 18, 13, 19, 18, 49, 55, 18, 55, 5, 19, 13, 19, 18, 19, 54, 8], [19, 18, 18, 55, 19, 19, 8, 13, 8, 55, 4, 14, 13, 8, 43, 14, 18, 18, 49, 18, 13, 49, 25, 18, 18, 18, 36, 18, 8, 19, 19, 19, 13, 55, 18, 19, 8, 8, 36, 18, 5, 37, 37, 13, 19, 18, 13, 18, 19, 55, 55, 19, 13, 8, 19, 55, 49, 55, 13, 18, 5, 8, 31, 18, 55, 13, 5, 19, 31, 5, 13, 19, 19, 55, 18, 36, 43, 19, 5, 49, 18, 8, 13, 55, 18, 5, 18, 13, 13, 13, 25, 49, 31, 14, 5, 37, 43, 43, 14, 19, 18, 19, 8, 19, 18, 19, 18, 8, 55, 19, 18, 18, 18, 18, 55, 18, 13, 19, 13, 12, 5, 13, 8, 49, 8, 13, 25, 37, 19, 19, 19, 49, 8, 19, 18, 55, 37, 18, 49], [14, 19, 19, 19, 5, 49, 18, 8, 19, 8, 18, 13, 18, 13, 18, 18, 5, 37, 49, 13, 13, 49, 13, 43, 19, 8, 37, 19, 36, 18, 13, 12, 49, 19, 18, 19, 18, 49, 25, 8, 19, 5, 8, 54, 8, 19, 5, 13, 8, 13, 13, 8, 8, 55, 19, 19, 18, 19, 19, 19, 18, 55, 5, 37, 19, 19, 13, 4, 13, 43, 8, 13, 19, 19, 8, 13, 25, 13, 13, 55, 19, 8, 54, 18, 8, 13, 19, 49, 13, 13, 19, 18, 8, 14, 13, 18, 13, 18, 36, 55, 8, 8, 19, 19, 14, 14, 5, 18, 19, 12, 13, 19, 5], [19, 14, 13, 19, 19, 19, 19, 18, 19, 8, 14, 14, 8, 19, 49, 5, 5, 55, 55, 8, 19, 8, 8, 19, 55, 55, 25, 14, 4, 19, 13, 18, 13, 49, 54, 18, 12, 19, 8, 55, 13, 13, 55, 37, 19, 13, 14, 13, 19, 8, 13, 5, 14, 19, 8, 19, 18, 19, 18, 5, 19, 19, 19, 4, 13, 8, 31, 13, 19, 49, 8, 8, 12, 19, 12, 8, 14, 8, 19, 49, 43, 4, 13, 19, 19, 14, 13, 4, 4, 19, 42, 43, 55, 8, 54, 19, 19, 18, 31, 8, 55, 4, 19, 5, 19, 49, 5, 18, 14, 19, 49, 19, 13], [43, 49, 18, 55, 19, 18, 8, 8, 18, 13, 8, 18, 8, 8, 8, 19, 36, 18, 36, 43, 19, 19, 43, 18, 19, 31, 5, 55, 49, 8, 25, 36, 8, 8, 13, 19, 8, 18, 18, 13, 8, 13, 18, 13, 8, 18, 18, 19, 19, 19, 25, 18, 18, 19, 8, 43, 13, 13, 8, 13, 18, 55, 36, 18, 14, 49, 18, 55, 19, 8, 18, 18, 13, 55, 13, 43, 18, 19, 13, 13, 55, 5, 13, 5, 18, 49, 5, 18, 19, 8, 19, 18, 18, 18, 37, 55, 18, 49, 49, 19, 19, 18, 18, 19, 5, 13, 19, 18, 43, 18, 5, 19, 19, 5, 43, 8, 14, 19, 8, 43, 49, 8, 18, 19, 19, 55, 55, 19, 19, 8, 5, 19, 19, 49, 49, 19, 18, 49, 19, 8, 8, 19, 31], [18, 13, 5, 19, 19, 4, 18, 8, 8, 19, 19, 13, 49, 12, 25, 5, 55, 14, 19, 55, 19, 18, 13, 55, 14, 18, 19, 8, 19, 19, 14, 19, 19, 14, 13, 49, 49, 13, 19, 12, 18, 19, 55, 55, 19, 13, 13, 13, 8, 19, 19, 49, 13, 13, 19, 14, 8, 13, 55, 13, 13, 14, 55, 25, 19, 5, 19, 19, 19, 13, 14, 19, 13, 19, 19, 19, 19, 19, 19, 18, 14, 19, 19, 18, 13, 55, 8, 5, 19, 5, 55, 18, 8, 14, 5, 25, 8, 13, 13, 49, 8, 19, 19, 5, 55, 19, 13, 18, 19, 5, 8, 49, 18, 4, 19, 13, 42, 25, 9, 37, 19, 19, 4, 25, 4, 36, 8, 5, 55, 19, 13, 13, 19, 8, 19, 13, 13, 37, 19, 13, 19, 5, 18, 8, 19, 4, 19, 8, 8, 19, 8, 4, 31, 8, 4, 8, 19], [5, 4, 13, 43, 8, 19, 19, 43, 55, 19, 19, 55, 18, 19, 14, 18, 14, 19, 19, 14, 8, 18, 19, 5, 55, 18, 8, 55, 49, 5, 43, 18, 14, 13, 19, 13, 49, 55, 49, 18, 18, 40, 8, 13, 18, 49, 19, 19, 18, 49, 8, 18, 8, 14, 43, 19, 49, 18, 18, 13, 8, 8, 8, 19, 8, 43, 19, 18, 19, 12, 13, 55, 13, 19, 54, 19, 31, 18, 8, 49, 19, 18, 13, 19, 19, 8, 43, 8, 8, 19, 14, 13, 19, 18, 19, 8, 4, 19, 55, 55, 8, 19, 36, 43, 19, 13, 19, 18, 13, 19, 55, 19, 19], [8, 18, 13, 4, 4, 19, 43, 55, 8, 13, 13, 31, 37, 18, 19, 4, 18, 4, 18, 55, 55, 18, 55, 13, 19, 13, 8, 8, 8, 8, 55, 18, 13, 19, 8, 4, 37, 13, 54, 54, 18, 37, 18, 5, 8, 14, 19, 19, 5, 19, 8, 19, 19, 19, 54, 43, 18, 19, 55, 14, 19, 19, 8, 11, 8, 13, 43, 55, 8, 13, 49, 19, 5, 19, 19, 8, 5, 13, 31, 55, 55, 31, 18, 19, 55, 13, 8, 13, 8, 8, 8, 18, 55, 31, 19, 14, 18, 55, 8, 8, 19, 13, 31, 19, 18, 13, 13, 18, 31, 36, 55, 19, 8, 19, 19, 19, 25, 13, 5, 8, 18, 19, 8, 8, 19, 19, 13, 19, 19, 13, 49, 5, 25, 19, 14, 5, 18, 13, 43, 25, 4, 55, 8, 19, 25, 12, 8, 19, 5, 49, 19, 8, 8], [49, 49, 19, 36, 43, 5, 4, 8, 19, 8, 13, 19, 19, 8, 14, 19, 19, 13, 18, 19, 19, 49, 13, 4, 19, 5, 8, 18, 19, 49, 19, 55, 19, 19, 19, 4, 13, 14, 49, 18, 19, 13, 8, 14, 13, 49, 54, 19, 49, 43, 8, 8, 19, 13, 13, 8, 5, 37, 49, 14, 49, 8, 19, 43, 55, 55, 37, 19, 14, 4, 13, 19, 13, 14, 5, 19, 8, 31, 14, 13, 4, 43, 14, 25, 8, 8, 8, 19, 18, 49, 37, 13, 13, 55, 19, 49, 36, 8, 19, 18, 8, 19, 19, 36, 4, 19, 5, 49, 4, 49, 5, 4, 19, 19, 8, 14, 13, 37, 19, 55, 19, 18], [19, 18, 31, 19, 18, 18, 31, 8, 19, 13, 55, 4, 36, 31, 13, 36, 8, 13, 8, 13, 18, 19, 19, 19, 12, 13, 18, 43, 19, 5, 13, 19, 49, 19, 8, 19, 5, 49, 13, 19, 49, 14, 13, 19, 4, 13, 5, 14, 14, 19, 19, 5, 8, 12, 49, 19, 31, 49, 55, 18, 8, 37, 13, 19, 19, 5, 8, 19, 18, 19, 8, 19, 8, 5, 14, 8, 19, 54, 19, 49, 19, 19, 19, 18, 5, 19, 8, 54, 8, 19, 31, 4, 43, 19, 49, 25, 13, 42, 5, 8, 5, 12, 13, 55, 37, 18, 14, 13, 18, 19, 19, 18, 55, 25, 49, 8, 43, 49, 13, 43, 43, 8, 19, 55, 19, 18, 14, 14, 4, 18, 8], [19, 19, 14, 18, 18, 18, 4, 13, 18, 54, 18, 18, 8, 8, 8, 18, 13, 18, 13, 19, 14, 4, 18, 55, 18, 4, 55, 13, 19, 8, 19, 43, 19, 4, 55, 13, 5, 8, 43, 13, 25, 55, 13, 14, 13, 18, 19, 19, 18, 13, 13, 5, 19, 19, 31, 55, 18, 13, 13, 18, 18, 8, 55, 18, 37, 19, 19, 13, 36, 5, 14, 13, 13, 14, 13, 8, 49, 49, 19, 19, 13, 13, 19, 4, 13, 19, 18, 8, 4, 5, 5, 19, 13, 12, 31, 8, 18, 5, 55, 25, 19, 49, 13, 49, 19, 19, 5, 13, 55, 8, 18, 13, 18, 8, 55, 54, 49, 13, 18, 13, 14, 4, 5, 40, 5, 14, 18, 18, 8, 55, 19, 13, 37, 18, 14, 19, 8, 8], [18, 19, 30, 18, 18, 8, 19, 18, 8, 18, 43, 18, 18, 8, 19, 13, 18, 8, 18, 31, 19, 18, 9, 4, 18, 4, 8, 18, 13, 13, 55, 18, 8, 43, 19, 55, 18, 12, 18, 55, 18, 37, 18, 8, 18, 49, 18, 14, 13, 19, 49, 37, 18, 8, 13, 18, 5, 13, 19, 18, 12, 18, 4, 18, 14, 49, 18, 19, 36, 18, 18, 5, 14, 13, 19, 4, 8, 18, 18, 18, 19, 55, 18, 49, 8, 12, 8, 18, 55, 18, 8, 8, 18, 18, 8, 19, 5, 13, 31, 18, 18, 49, 18, 18, 13, 18, 19, 13, 19, 18, 5], [8, 4, 54, 19, 18, 19, 19, 4, 13, 37, 55, 8, 18, 18, 14, 8, 19, 19, 13, 19, 18, 49, 13, 13, 19, 25, 12, 37, 37, 18, 4, 19, 13, 19, 55, 55, 19, 19, 37, 19, 14, 37, 19, 19, 55, 8, 12, 18, 14, 8, 19, 18, 19, 5, 43, 55, 13, 55, 13, 49, 13, 13, 18, 18, 55, 18, 43, 19, 18, 5, 8, 13, 4, 19, 19, 19, 36, 18, 14, 5, 49, 19, 19, 49, 19, 5, 18, 49, 55, 18, 18, 14, 18, 18, 31, 19, 55, 18, 55, 18, 49, 8, 55, 13, 25, 13, 18, 18, 14, 18, 19, 18, 18, 13, 8, 19, 25, 8, 18, 18, 13, 13, 18, 8, 8, 4, 19, 18, 18, 13, 18], [19, 11, 18, 14, 37, 54, 19, 18, 13, 8, 14, 49, 5, 18, 36, 49, 18, 18, 19, 19, 13, 13, 49, 18, 4, 25, 19, 19, 8, 13, 8, 19, 14, 55, 19, 8, 13, 18, 13, 8, 18, 8, 55, 8, 19, 37, 55, 11, 31, 5, 18, 13, 8, 19, 55, 25, 55, 31, 31, 18, 49, 36, 55, 19, 8, 19, 18, 13, 31, 19, 55, 19, 43, 19, 19, 55, 18, 55, 55, 19, 5, 8, 19, 19, 19, 49, 18, 25, 49, 13, 18, 55, 18, 55, 5, 19, 31, 18, 13, 43, 19, 19, 19, 18, 8, 55, 8, 8, 19, 11, 13, 54, 18, 19, 14, 19, 36, 14, 12, 54, 25, 19, 14, 19, 13, 36, 19, 18, 18, 19, 19, 19, 19, 19, 49, 12, 19, 19, 19, 25, 19, 8, 13, 8, 18, 55, 37, 31, 55, 13, 18, 18, 36, 18, 31, 8, 19], [19, 49, 43, 13, 5, 13, 14, 49, 4, 13, 8, 13, 49, 19, 8, 4, 43, 18, 19, 8, 49, 13, 8, 4, 19, 13, 8, 49, 18, 49, 55, 13, 49, 18, 19, 13, 37, 19, 13, 19, 8, 18, 19, 13, 31, 37, 5, 5, 54, 49, 49, 14, 8, 49, 13, 49, 19, 19, 8, 19, 13, 8, 19, 55, 5, 43, 13, 13, 13, 49, 4, 25, 55, 8, 49, 14, 4, 4, 4, 19, 14, 19, 49, 5, 31, 8, 4, 43, 8, 55, 13, 25, 19, 54, 14, 4, 18, 4, 4, 55, 8, 8, 18, 13, 4, 13, 5, 19, 18, 55, 54, 8, 13, 19, 19, 25, 5, 19, 8, 55, 25, 4], [19, 18, 19, 13, 8, 18, 13, 37, 19, 8, 19, 14, 14, 8, 49, 8, 8, 19, 19, 19, 19, 8, 8, 18, 13, 5, 8, 13, 19, 8, 8, 49, 49, 5, 19, 43, 13, 13, 14, 18, 18, 8, 18, 18, 13, 18, 43, 18, 8, 43, 8, 19, 37, 5, 13, 19, 19, 8, 5, 55, 8, 4, 19, 13, 18, 13, 43, 36, 8, 4, 19, 19, 14, 55, 19, 19, 14, 49, 31, 4, 13, 8, 18, 19, 25, 19, 18, 18, 36, 4, 14, 19, 37, 5, 13, 55, 5, 49, 13, 36, 49, 18, 31, 13, 8, 5, 5, 55, 5, 5, 8, 54, 31, 18, 19, 14, 19, 19, 13, 8, 8, 14, 19, 49, 19, 49, 5, 18, 19, 13, 19], [55, 19, 13, 13, 55, 14, 19, 14, 4, 37, 55, 5, 8, 19, 18, 8, 13, 19, 13, 5, 37, 18, 19, 43, 49, 18, 25, 4, 25, 18, 5, 14, 18, 13, 13, 19, 25, 19, 18, 13, 4, 54, 5, 19, 5, 55, 19, 18, 36, 13, 8, 18, 18, 55, 55, 18, 19, 13, 19, 13, 19, 49, 13, 19, 36, 8, 5, 55, 13, 5, 8, 5, 18, 18, 8, 5, 19, 18, 8, 19, 18, 19, 14, 13, 37, 49, 19, 19, 18, 49, 37, 25, 19, 49, 25, 4, 13, 8, 8, 18, 19, 8, 19, 13, 5, 13, 31, 13, 8, 14, 13, 31, 19, 13, 19, 8, 49, 19, 4, 13, 8, 13, 13, 43, 8, 19, 55, 19, 4, 49, 8, 8, 55, 55, 37, 13, 19, 5, 8, 25, 8, 19, 19, 5, 4, 13, 5, 13], [18, 3, 13, 19, 25, 18, 14, 18, 13, 19, 13, 13, 37, 19, 8, 8, 49, 18, 13, 18, 8, 8, 13, 13, 18, 8, 18, 55, 55, 43, 19, 19, 8, 37, 19, 14, 18, 19, 49, 8, 13, 8, 36, 19, 19, 8, 19, 18, 54, 54, 18, 55, 19, 55, 55, 55, 18, 13, 13, 5, 13, 18, 19, 8, 8, 19, 19, 43, 19, 19, 13, 31, 54, 14, 18, 54, 13, 25, 4, 31, 8, 18, 19, 49, 18, 19, 8, 19, 14, 13, 18, 37, 31, 55, 25, 8, 18, 25, 55, 13, 43, 25, 14, 13, 19, 13, 18, 12, 5, 19, 8, 4, 49, 4, 3, 19, 8, 19, 8, 19, 19, 19, 5, 18, 8, 13, 19, 5, 8, 18, 13, 18, 55, 8, 37, 19, 43, 19, 13, 18, 8, 4, 18, 18, 19, 19, 18, 55, 5, 55, 8, 19, 13, 19, 8, 49, 13, 19, 31, 13, 13, 18, 13, 18, 8, 18, 8], [19, 18, 19, 36, 18, 14, 18, 18, 19, 49, 49, 13, 55, 13, 13, 5, 49, 8, 18, 4, 55, 13, 8, 13, 5, 13, 49, 8, 19, 13, 19, 18, 18, 8, 55, 25, 18, 8, 55, 19, 18, 8, 5, 19, 5, 42, 8, 43, 18, 55, 8, 8, 4, 8, 55, 18, 13, 18, 13, 25, 19, 19, 18, 37, 18, 25, 31, 19, 18, 19, 11, 43, 18, 18, 5, 55, 18, 49, 19, 55, 13, 5, 18, 14, 55, 37, 18, 19, 19, 31, 18, 55, 19, 43, 18, 19, 14, 19, 8, 18, 5, 49, 19, 8, 14, 49, 8, 13, 49, 19, 49, 37, 8, 14, 19, 31, 55, 13, 14, 37, 18, 55, 8, 19, 13, 18, 18, 19, 19, 19, 19], [55, 19, 19, 55, 19, 19, 19, 31, 5, 8, 55, 13, 8, 19, 8, 18, 8, 55, 49, 18, 18, 19, 18, 13, 55, 8, 12, 49, 8, 5, 25, 13, 18, 5, 18, 55, 49, 18, 8, 19, 19, 8, 5, 18, 51, 14, 13, 19, 13, 49, 13, 8, 49, 18, 49, 13, 13, 4, 8, 18, 8, 19, 19, 43, 37, 19, 5, 19, 8, 19, 5, 18, 14, 8, 19, 13, 36, 37, 18, 8, 18, 18, 18, 18, 13, 5, 19, 18, 19, 8, 49, 18, 8, 19, 19, 18, 4, 13, 55, 19, 13, 18, 36, 8, 19, 36, 13, 14, 19, 13, 43, 49, 3, 13, 18, 13, 19, 19, 18, 8, 5, 19, 36, 13, 19, 18, 8, 8, 13, 19, 18, 18, 13, 13, 8, 18, 4, 12, 8, 19, 12, 55, 19, 5, 8, 8, 4, 19], [5, 13, 4, 55, 14, 19, 13, 19, 19, 25, 54, 8, 13, 13, 8, 19, 25, 19, 5, 8, 19, 19, 13, 14, 43, 19, 8, 18, 4, 8, 49, 19, 36, 13, 19, 19, 8, 49, 19, 8, 25, 8, 43, 19, 18, 19, 8, 37, 18, 18, 31, 13, 19, 4, 49, 18, 8, 13, 19, 55, 31, 43, 49, 5, 13, 19, 13, 19, 18, 19, 19, 49, 13, 19, 55, 31, 14, 4, 19, 8, 25, 12, 19, 18, 13, 19, 5, 5, 13, 49, 13, 25, 18, 55, 13, 13, 49, 19, 5, 13, 31, 19, 8, 49, 19, 13, 8, 18, 55, 13, 19, 5, 8, 13, 19, 18, 8, 13, 8, 18, 19, 37, 49, 14, 19, 8, 8, 18, 13, 18, 49, 19, 8, 18, 4, 55, 19, 19, 18, 8, 13, 19, 4, 18, 18, 31, 14, 8, 8, 13, 8, 18, 55, 13, 4, 19, 18], [8, 5, 13, 25, 18, 12, 36, 5, 19, 19, 19, 18, 14, 49, 4, 8, 8, 5, 14, 18, 13, 14, 55, 8, 54, 19, 18, 13, 12, 43, 18, 8, 19, 43, 13, 13, 37, 19, 19, 19, 49, 18, 18, 55, 43, 8, 19, 4, 18, 8, 19, 31, 18, 4, 5, 37, 18, 18, 19, 19, 43, 49, 8, 18, 13, 49, 14, 13, 49, 8, 13, 8, 19, 36, 18, 37, 13, 37, 49, 13, 18, 18, 13, 19, 37, 49, 18, 55, 8, 19, 19, 55, 5, 37, 19, 8, 19, 49, 49, 18, 5, 19, 55, 55, 5, 8, 13, 19, 55, 4, 55, 36, 13, 18, 18, 55, 8, 12, 19, 36, 31, 19, 18, 18, 49, 36, 8, 18, 5, 42, 8, 19, 19, 14, 31, 19, 18, 4, 37, 18, 18, 19, 43, 18, 19, 49, 13, 14, 55, 55, 18, 13, 49, 19, 5, 19, 19, 19, 19, 25, 13, 43, 5, 18, 8, 55, 18, 13, 18, 14, 55, 8, 43, 19, 49], [43, 31, 19, 19, 18, 13, 43, 19, 19, 54, 19, 18, 4, 19, 8, 19, 8, 4, 10, 13, 8, 13, 11, 13, 8, 4, 19, 19, 18, 13, 18, 13, 18, 19, 43, 13, 19, 13, 8, 19, 18, 18, 19, 55, 8, 18, 13, 18, 19, 8, 13, 18, 43, 31, 13, 37, 8, 18, 19, 54, 19, 5, 18, 18, 14, 37, 55, 19, 18, 19, 8, 18, 37, 25, 13, 4, 8, 55, 13, 8, 13, 43, 35, 14, 19, 13, 19, 18, 49, 19, 49, 18, 42, 19, 43, 18, 55, 25, 18, 18, 8, 19, 18, 8, 8, 18, 18, 4, 31, 4, 13, 4, 18, 13, 8, 18, 19, 13, 18, 55, 19, 8, 18, 49, 13, 8, 49, 19, 19, 5, 19, 18, 18, 19, 25, 49, 25, 13, 19, 18, 5, 18, 14, 8, 8, 31], [30, 13, 43, 13, 31, 49, 8, 8, 25, 19, 18, 18, 55, 49, 21, 19, 18, 14, 8, 19, 8, 13, 19, 49, 49, 8, 8, 25, 19, 49, 13, 8, 49, 8, 19, 19, 19, 55, 14, 55, 25, 19, 13, 5, 19, 19, 19, 13, 14, 14, 4, 8, 13, 19, 18, 8, 55, 19, 13, 25, 19, 49, 55, 18, 13, 19, 8, 4, 19, 19, 8, 19, 25, 5, 19, 43, 55, 19, 18, 19, 18, 4, 5, 19, 5, 18, 25, 18, 19, 8, 13, 19, 13, 8, 5, 18, 55, 14, 19, 49, 49, 8, 19, 19, 55, 18, 19, 49, 19, 13, 13, 8, 18, 8, 14, 5, 19, 19, 13, 5, 19, 8, 8, 14, 19, 8, 19, 13, 19, 8, 8, 55, 19, 18, 43, 36, 55, 8, 19, 19, 19, 8, 25, 12, 19, 19, 19, 18, 18, 19, 8, 13, 19, 8, 14, 19, 55], [49, 8, 43, 4, 49, 5, 25, 19, 19, 5, 13, 55, 8, 12, 18, 12, 19, 43, 8, 19, 8, 37, 25, 49, 19, 49, 18, 37, 4, 14, 13, 37, 18, 13, 18, 55, 13, 8, 19, 19, 5, 4, 13, 8, 49, 43, 19, 18, 31, 8, 8, 19, 8, 43, 13, 18, 13, 5, 31, 18, 4, 13, 49, 5, 43, 42, 36, 18, 13, 18, 18, 49, 13, 19, 19, 18, 19, 19, 55, 4, 18, 13, 5, 25, 19, 19, 8, 14, 19, 5, 14, 14, 18, 19, 55, 8, 37, 8, 49, 8, 8, 14, 8, 19, 8, 13, 14, 8, 18, 13, 55, 18, 36, 19, 4, 55, 5, 5, 13, 25, 5, 13], [8, 18, 19, 18, 19, 37, 18, 18, 19, 19, 19, 13, 43, 5, 11, 19, 13, 13, 31, 18, 18, 5, 12, 19, 8, 8, 13, 13, 19, 13, 8, 19, 5, 8, 8, 19, 13, 25, 18, 19, 5, 55, 55, 8, 19, 31, 19, 36, 55, 55, 37, 13, 8, 13, 18, 54, 54, 18, 18, 31, 25, 8, 25, 36, 55, 55, 18, 13, 49, 31, 12, 8, 13, 49, 8, 8, 49, 54, 19, 8, 8, 18, 8, 55, 49, 18, 19, 8, 18, 18, 5, 19, 19, 18, 19, 49, 55, 13, 55, 49, 49, 8, 5, 19, 8, 18, 19, 19, 55, 18, 19, 18, 4, 49, 18, 19, 19, 19, 14, 5, 13, 18, 14, 37, 13, 55, 18, 18, 14, 55, 14, 13, 12, 37, 18, 12, 12, 8, 8, 43, 19, 18, 19, 12, 40, 43, 18, 55, 8, 19, 13, 5, 37, 19, 18, 54, 19], [8, 13, 19, 31, 5, 13, 13, 31, 31, 13, 8, 55, 14, 18, 8, 19, 19, 19, 14, 19, 55, 5, 13, 8, 8, 14, 42, 14, 13, 55, 43, 8, 43, 13, 31, 14, 3, 13, 31, 25, 5, 8, 19, 8, 4, 13, 8, 8, 14, 13, 43, 13, 19, 13, 8, 5, 55, 8, 18, 8, 55, 18, 8, 19, 43, 43, 13, 13, 31, 37, 14, 13, 19, 13, 13, 19, 5, 13, 13, 5, 18, 49, 25, 18, 8, 8, 19, 43, 36, 18, 19, 18, 18, 19, 55, 19, 8, 49, 19, 8, 13, 14, 8, 18, 19, 5, 19, 13, 13, 19, 19, 19, 37, 25, 8, 19, 19, 19, 8, 19, 18, 25, 5, 49, 31, 13, 8, 8, 14, 55, 49, 19, 18, 49, 49, 55, 14, 19, 51, 49, 55, 18, 19, 14, 43, 19, 8, 54, 18, 5, 43, 55, 13, 8, 8, 11, 19, 8, 19, 5, 19, 19, 13, 4, 13, 5, 13], [18, 19, 4, 18, 8, 19, 18, 25, 31, 18, 49, 8, 13, 55, 18, 19, 19, 54, 8, 5, 5, 8, 8, 4, 19, 8, 13, 13, 55, 18, 4, 13, 49, 14, 37, 19, 8, 18, 13, 55, 19, 55, 19, 14, 43, 19, 19, 18, 13, 18, 19, 19, 31, 49, 18, 54, 19, 5, 8, 19, 19, 4, 18, 13, 19, 18, 14, 8, 18, 31, 5, 54, 14, 8, 19, 19, 18, 13, 55, 18, 13, 37, 13, 4, 19, 8, 12, 8, 18, 13, 4, 4, 19, 5, 19, 55, 19, 8, 14, 8, 8, 5, 19, 19, 8, 5, 19, 19, 19, 40, 43, 55, 19, 12, 18, 8, 19, 19, 8, 7, 18, 19, 18, 25, 8, 19, 55, 55, 19, 19, 18, 18, 18, 18, 19, 18, 18, 18, 14, 8, 19, 12, 18, 8, 49, 18, 31, 19, 13, 18, 8, 13, 55, 37, 18, 19, 18], [31, 13, 13, 8, 8, 8, 19, 13, 18, 19, 43, 19, 5, 13, 19, 19, 42, 49, 5, 8, 5, 13, 19, 4, 8, 8, 19, 19, 13, 4, 19, 5, 14, 49, 18, 8, 37, 18, 19, 55, 18, 8, 4, 36, 4, 18, 5, 31, 55, 19, 49, 13, 18, 8, 8, 13, 8, 14, 8, 43, 4, 49, 5, 49, 19, 19, 8, 13, 18, 8, 12, 18, 8, 49, 19, 19, 13, 13, 43, 19, 19, 18, 19, 18, 31, 19, 14, 19, 19, 49, 19, 49, 8, 49, 18, 19, 18, 18, 37, 13, 55, 31, 5, 14, 8, 18, 5, 43, 5, 31, 13, 19, 8, 19, 13, 19, 13, 25, 18, 25, 14, 49, 19, 13, 5, 19, 4, 12, 5, 43, 19, 19, 49, 19, 19, 8, 5, 49, 25, 5], [31, 19, 4, 4, 13, 49, 4, 5, 54, 8, 19, 19, 19, 8, 8, 19, 25, 19, 55, 13, 8, 49, 19, 5, 19, 37, 13, 14, 55, 13, 4, 5, 8, 18, 31, 8, 18, 19, 19, 19, 19, 19, 19, 13, 19, 5, 8, 8, 19, 19, 4, 19, 3, 49, 13, 8, 54, 49, 18, 13, 49, 5, 18, 19, 13, 8, 5, 14, 8, 18, 5, 37, 8, 18, 8, 49, 19, 19, 49, 13, 14, 25, 8, 43, 19, 14, 55, 19, 8, 13, 18, 49, 19, 49, 5, 8, 13, 19, 19, 19, 4, 19, 13, 19, 19, 8, 49, 13, 8, 5, 13, 14, 19, 19, 19, 19, 19, 8, 19, 13, 49, 8], [19, 8, 49, 14, 18, 19, 14, 5, 18, 13, 55, 19, 18, 8, 19, 18, 13, 49, 43, 25, 14, 8, 13, 31, 19, 19, 19, 49, 14, 18, 54, 18, 55, 19, 13, 13, 14, 55, 8, 18, 13, 18, 8, 19, 13, 19, 8, 13, 13, 25, 55, 43, 5, 13, 5, 37, 49, 13, 37, 19, 13, 14, 19, 13, 18, 5, 8, 8, 12, 5, 13, 14, 31, 18, 5, 18, 37, 49, 19, 55, 19, 19, 8, 31, 49, 19, 54, 19, 4, 14, 14, 5, 13, 19, 8, 19, 13, 18, 5, 8, 13, 13, 12, 19, 5, 13, 49, 19, 14, 19, 13, 18, 19, 8, 18, 49, 49, 19, 13, 8, 13, 13, 8, 5, 19, 36, 8, 49, 8, 19, 8, 19, 55, 18, 19, 18, 19, 49, 8, 37, 18, 18, 19, 25, 19, 8, 8, 19, 54, 55, 13, 18, 19, 19, 31, 19, 19], [8, 13, 19, 8, 8, 19, 19, 19, 31, 13, 14, 8, 19, 55, 18, 5, 55, 8, 25, 19, 12, 8, 19, 55, 8, 18, 18, 49, 5, 43, 55, 49, 19, 19, 8, 43, 19, 55, 49, 43, 43, 19, 13, 19, 8, 13, 19, 19, 18, 8, 13, 19, 18, 55, 25, 14, 43, 13, 13, 14, 49, 55, 8, 19, 13, 19, 19, 19, 13, 8, 36, 5, 49, 43, 31, 8, 4, 19, 13, 8, 19, 13, 4, 55, 4, 55, 19, 8, 5, 19, 13, 19, 13, 18, 4, 13, 14, 18, 36, 19, 19, 13, 5, 18, 43, 19, 18, 5, 12, 18, 18, 18, 8, 19, 18, 55, 8, 19, 8, 5, 54, 14], [14, 49, 13, 49, 36, 18, 13, 19, 19, 8, 18, 19, 8, 8, 19, 5, 31, 37, 55, 18, 8, 54, 8, 13, 18, 5, 14, 25, 5, 19, 19, 18, 49, 13, 49, 8, 19, 49, 13, 31, 18, 19, 4, 18, 13, 13, 49, 13, 36, 19, 18, 18, 18, 18, 19, 8, 25, 18, 19, 18, 19, 18, 14, 19, 19, 8, 5, 18, 8, 13, 18, 8, 19, 8, 54, 19, 19, 18, 13, 13, 18, 14, 19, 5, 13, 18, 8, 8, 4, 54, 54, 8, 49, 25, 5, 19, 19, 19, 13, 8, 18, 13, 18, 18, 19, 8, 19, 8, 8, 18, 14, 55, 8, 18, 31, 8, 18, 18, 19, 13, 49, 19, 18, 19, 55, 18, 43, 18, 14, 8, 18], [18, 55, 19, 31, 19, 19, 8, 8, 19, 13, 49, 25, 8, 25, 19, 19, 8, 25, 49, 19, 19, 19, 19, 55, 19, 31, 19, 55, 19, 19, 8, 13, 13, 12, 4, 19, 8, 4, 18, 19, 49, 4, 18, 13, 55, 12, 18, 5, 19, 7, 8, 13, 8, 13, 14, 18, 43, 18, 19, 55, 49, 31, 55, 14, 8, 37, 18, 8, 13, 8, 14, 5, 5, 5, 36, 13, 43, 25, 18, 5, 19, 8, 8, 4, 19, 55, 19, 19, 19, 14, 13, 14, 43, 13, 8, 55, 13, 8, 8, 4, 19, 13, 19, 36, 8, 18, 8, 8, 19, 31, 19, 31, 8, 19, 37, 55, 25, 19, 13, 19, 49, 18, 49, 8, 8, 37, 54, 55, 14, 19, 19], [8, 19, 8, 8, 8, 19, 19, 18, 5, 19, 4, 19, 8, 19, 49, 19, 8, 13, 19, 13, 18, 5, 55, 19, 13, 8, 55, 5, 25, 18, 18, 19, 25, 25, 19, 18, 8, 49, 19, 12, 18, 36, 5, 55, 25, 13, 18, 18, 18, 18, 13, 7, 4, 55, 55, 55, 8, 19, 18, 55, 19, 4, 19, 43, 13, 19, 19, 49, 49, 13, 55, 19, 8, 25, 19, 25, 43, 5, 13, 5, 19, 55, 13, 19, 55, 36, 25, 19, 31, 18, 13, 4, 5, 13, 55, 5, 19, 4, 19, 19, 18, 37, 19, 8, 19, 19, 18, 31, 19, 18, 5, 19, 19, 13, 18, 8, 14, 19, 19, 49, 12, 14, 13, 36, 5, 37, 36, 18, 19, 13, 55, 19, 25, 49, 14, 19, 19, 10, 8, 18], [8, 8, 49, 18, 19, 18, 8, 8, 13, 14, 43, 8, 5, 55, 13, 8, 14, 19, 19, 19, 8, 54, 4, 8, 43, 8, 14, 19, 55, 5, 4, 55, 8, 49, 12, 18, 49, 18, 55, 8, 8, 13, 8, 8, 13, 8, 19, 5, 8, 5, 18, 19, 36, 8, 18, 5, 19, 8, 13, 19, 25, 19, 18, 19, 55, 43, 13, 13, 31, 37, 19, 8, 19, 8, 19, 4, 12, 55, 8, 8, 19, 8, 13, 19, 19, 13, 18, 55, 19, 13, 13, 13, 19, 4, 14, 18, 25, 13, 43, 37, 25, 8, 12, 8, 19, 5, 55, 31, 5, 19, 19, 13, 18, 43, 19, 19, 13, 8, 31, 18, 25, 8, 5, 13, 4, 18, 49, 19, 8, 8, 49, 4, 49, 19, 19, 8, 14, 8, 19, 19, 14, 5, 55, 43, 25, 55, 13, 8, 49, 19, 18, 19, 43, 18, 25, 19, 43], [19, 49, 19, 55, 5, 8, 4, 18, 8, 18, 13, 8, 55, 55, 18, 8, 8, 18, 49, 18, 8, 18, 13, 49, 43, 5, 18, 18, 19, 13, 8, 13, 13, 18, 19, 8, 55, 19, 13, 31, 8, 19, 8, 8, 18, 19, 49, 5, 12, 36, 18, 43, 13, 19, 8, 19, 19, 36, 19, 8, 19, 37, 49, 18, 18, 8, 19, 49, 18, 19, 13, 25, 8, 18, 19, 13, 8, 19, 13, 49, 18, 8, 19, 8, 8, 8, 13, 13, 5, 31, 19, 49, 19, 49, 19, 49, 14, 18, 43, 8, 8, 19, 18, 8, 49, 18, 55, 49, 19, 49, 8, 11, 8, 4, 19, 19, 5, 25, 8, 8, 5, 5, 55, 36, 19, 19, 13, 19, 8, 55, 19], [13, 13, 5, 19, 19, 19, 19, 19, 18, 14, 19, 55, 19, 18, 5, 4, 14, 8, 5, 54, 19, 19, 19, 8, 19, 18, 49, 8, 18, 19, 55, 36, 19, 8, 13, 55, 18, 19, 18, 8, 19, 5, 14, 18, 18, 13, 8, 13, 19, 13, 13, 43, 31, 31, 18, 25, 14, 13, 18, 5, 13, 43, 18, 19, 8, 49, 19, 8, 49, 13, 18, 13, 5, 25, 19, 55, 8, 19, 7, 49, 18, 55, 19, 55, 18, 55, 18, 13, 13, 8, 37, 4, 8, 8, 8, 19, 43, 19, 5, 13, 4, 19, 13, 25, 19, 19, 19, 14, 8, 43, 4, 19, 13, 25, 19, 19, 8, 13, 18, 19, 19, 5, 19, 54, 11, 49, 14, 8, 19, 18, 13, 19, 18, 8, 8, 49, 19, 49, 19, 4, 19, 5, 14, 5, 43, 8, 18, 18, 43, 13, 18, 19, 43, 19, 19, 18, 18], [13, 13, 18, 4, 55, 8, 43, 55, 25, 19, 18, 43, 31, 18, 4, 18, 14, 14, 18, 19, 19, 55, 13, 18, 55, 18, 8, 18, 19, 18, 4, 43, 55, 31, 49, 18, 8, 13, 18, 19, 18, 5, 18, 8, 43, 36, 12, 8, 18, 13, 19, 19, 19, 18, 19, 19, 43, 36, 19, 49, 37, 55, 19, 13, 49, 18, 18, 18, 13, 25, 14, 19, 13, 8, 8, 8, 18, 8, 4, 55, 18, 8, 13, 5, 8, 13, 19, 18, 5, 13, 8, 18, 18, 18, 18, 42, 13, 19, 49, 55, 18, 18, 31, 19, 19, 13, 19, 5, 8, 8, 18, 14, 18, 37, 4, 19, 25, 19, 13, 18, 18, 18, 18, 18, 49, 43, 13, 18, 19, 8, 5, 13, 8, 18, 19, 19, 8, 5, 8, 18, 55, 19, 25, 19, 5, 12, 55, 19, 55, 13, 8, 49, 55, 8, 49, 8, 13, 18, 4, 13, 55, 18, 31, 18, 37, 18], [13, 13, 19, 55, 25, 25, 8, 25, 19, 49, 19, 18, 49, 8, 14, 18, 13, 18, 14, 19, 5, 19, 54, 19, 31, 13, 13, 5, 31, 5, 43, 18, 18, 19, 19, 19, 19, 19, 13, 8, 55, 5, 19, 13, 49, 18, 43, 37, 43, 5, 18, 13, 19, 12, 8, 18, 8, 5, 13, 8, 19, 19, 49, 8, 19, 55, 19, 37, 19, 13, 36, 19, 54, 19, 37, 13, 18, 18, 36, 18, 55, 8, 18, 55, 8, 55, 37, 14, 31, 18, 18, 19, 18, 54, 5, 14, 19, 19, 49, 19, 31, 13, 18, 8, 55, 19, 36, 19, 19, 37, 8, 19, 19, 8, 19, 13, 18, 13, 13, 5, 19, 49, 55, 43, 19, 19, 54, 18, 13, 8, 5, 43, 13, 18, 13, 19, 8, 43, 19, 14, 8, 8, 19, 18, 8, 49, 5, 5, 8, 49, 13, 19, 8, 5, 19, 4, 18], [49, 19, 14, 19, 5, 18, 18, 19, 18, 43, 19, 5, 19, 49, 18, 5, 8, 19, 13, 19, 37, 19, 8, 55, 8, 49, 37, 18, 19, 13, 18, 18, 19, 18, 18, 18, 25, 18, 18, 13, 18, 18, 18, 31, 4, 36, 13, 55, 14, 14, 18, 49, 18, 18, 19, 18, 13, 25, 18, 4, 14, 55, 14, 18, 18, 8, 49, 31, 55, 4, 37, 13, 25, 4, 13, 31, 55, 18, 4, 8, 8, 18, 18, 19, 18, 8, 18, 49, 18, 18, 19, 13, 14, 37, 13, 55, 54, 19, 54, 18, 8, 18, 49, 4, 18, 13, 14, 18, 12, 8, 43, 13, 18, 43, 5, 13, 4, 8, 36, 13, 37, 13, 19, 8, 49, 5, 18, 13, 36, 13, 19, 13, 49, 18, 49, 19, 18, 18, 18, 25, 19, 13, 14, 19, 18, 18, 8, 19, 18, 13, 19, 19, 14, 8, 18, 18, 19, 8], [8, 19, 49, 55, 55, 49, 55, 8, 4, 36, 43, 19, 19, 19, 13, 19, 31, 19, 14, 13, 8, 49, 5, 8, 18, 19, 8, 43, 55, 19, 19, 5, 5, 14, 55, 18, 4, 5, 8, 25, 55, 37, 19, 55, 19, 31, 8, 19, 19, 37, 19, 19, 5, 19, 12, 13, 19, 36, 4, 19, 18, 18, 43, 13, 8, 5, 37, 19, 19, 31, 18, 14, 19, 5, 19, 13, 19, 19, 19, 49, 31, 19, 19, 19, 13, 18, 18, 8, 31, 13, 4, 8, 14, 54, 19, 13, 55, 49, 19, 19, 37, 55, 36, 55, 19, 8, 5, 13, 8, 19, 14, 25, 55, 14, 13, 19, 36, 13, 13, 49, 19, 13, 55, 8, 18, 19, 19, 19, 13, 54, 14, 19, 8, 8, 55, 18, 18, 8, 19, 54, 19, 19, 54, 8], [14, 55, 14, 18, 13, 5, 14, 13, 18, 8, 8, 25, 13, 55, 14, 55, 19, 13, 8, 14, 14, 13, 19, 13, 5, 13, 19, 55, 19, 19, 31, 43, 8, 14, 13, 55, 13, 13, 13, 13, 4, 19, 55, 55, 18, 25, 14, 19, 18, 55, 14, 8, 5, 18, 18, 19, 55, 18, 19, 19, 8, 18, 13, 18, 8, 19, 18, 37, 8, 5, 12, 4, 5, 19, 13, 18, 8, 18, 8, 5, 37, 19, 25, 18, 19, 18, 18, 19, 8, 19, 8, 55, 55, 31, 19, 37, 55, 5, 8, 19, 14, 49, 36, 49, 19, 8, 49, 18, 54, 43, 19, 5, 43], [8, 19, 55, 13, 19, 49, 36, 19, 14, 19, 19, 18, 8, 43, 43, 19, 8, 25, 5, 5, 43, 8, 13, 13, 5, 5, 19, 18, 49, 12, 19, 8, 19, 19, 43, 19, 8, 5, 19, 12, 18, 19, 31, 19, 19, 8, 13, 18, 19, 4, 18, 25, 43, 18, 14, 18, 55, 25, 18, 5, 19, 25, 31, 8, 8, 13, 14, 5, 19, 12, 43, 18, 55, 19, 19, 8, 49, 19, 8, 5, 8, 13, 19, 5, 13, 8, 19, 18, 8, 19, 19, 8, 18, 4, 49, 13, 8, 14, 37, 19, 8, 19, 19, 19, 8, 36, 18, 36, 19, 19, 19, 19, 13, 19, 18, 18, 31, 8, 13, 19, 19, 37, 25, 19, 19, 25, 13, 31, 13, 5, 8, 8, 19, 19, 49, 19, 43, 8, 19, 8, 5, 8, 55, 19, 31, 19, 8, 8, 18, 13, 8, 19, 13, 8, 13, 8, 19], [37, 8, 18, 43, 5, 19, 8, 5, 19, 37, 49, 55, 55, 18, 13, 19, 13, 36, 54, 19, 14, 25, 13, 8, 19, 14, 19, 14, 13, 4, 19, 19, 18, 49, 19, 19, 14, 5, 13, 18, 18, 37, 13, 4, 49, 8, 8, 19, 25, 8, 14, 49, 5, 19, 13, 49, 8, 5, 19, 8, 31, 4, 4, 25, 14, 13, 14, 19, 43, 18, 19, 13, 5, 5, 8, 18, 25, 14, 5, 13, 55, 55, 18, 13, 13, 54, 8, 14, 19, 5, 8, 19, 13, 49, 43, 19, 25, 49, 19, 36, 18, 5, 43, 14, 8, 19, 31, 8, 19, 13, 8, 14, 19], [18, 19, 5, 25, 18, 5, 18, 5, 55, 19, 13, 43, 13, 8, 19, 13, 13, 8, 55, 13, 5, 19, 14, 43, 18, 19, 14, 19, 25, 8, 5, 18, 18, 49, 19, 19, 13, 19, 19, 25, 19, 18, 8, 8, 4, 13, 14, 8, 13, 13, 5, 4, 19, 18, 19, 55, 8, 4, 14, 49, 5, 19, 19, 18, 19, 18, 18, 55, 19, 8, 5, 18, 14, 19, 25, 5, 5, 18, 43, 19, 55, 5, 18, 12, 19, 4, 8, 19, 18, 49, 19, 43, 14, 19, 13, 4, 19, 4, 18, 43, 18, 49, 19, 13, 31, 18, 19, 5, 14, 19, 14, 18, 13, 8, 18, 19, 49, 4, 54, 37, 18, 19, 43, 19, 55, 8, 8, 55, 37, 55, 19, 13, 18, 18, 8, 5, 19, 18, 5, 13, 25, 19, 49, 8, 18, 8, 5, 19, 8, 19, 18, 13, 25, 13, 8, 19, 8], [8, 8, 19, 14, 19, 19, 49, 19, 14, 5, 37, 13, 8, 8, 8, 19, 19, 43, 55, 43, 14, 5, 8, 19, 25, 5, 55, 13, 19, 19, 19, 14, 49, 19, 13, 5, 43, 18, 19, 13, 8, 19, 13, 49, 19, 19, 49, 14, 14, 8, 8, 19, 19, 4, 31, 14, 19, 18, 19, 25, 13, 19, 13, 55, 13, 49, 8, 19, 19, 18, 4, 37, 8, 19, 13, 8, 55, 37, 5, 18, 43, 49, 14, 13, 8, 55, 19, 4, 19, 55, 8, 5, 18, 14, 12, 13, 31, 10, 18, 19, 19, 19, 5, 13, 13, 5, 8, 25, 8, 13, 19, 19, 19, 19, 19, 8, 19, 8, 19, 14, 13, 18, 8, 13, 18, 19, 13, 18, 13, 5, 8, 5, 19, 13, 13, 13, 13, 18, 25, 8, 54, 37, 18, 25, 18, 13, 55, 8], [19, 54, 19, 5, 19, 8, 31, 31, 13, 8, 14, 13, 49, 31, 49, 8, 8, 13, 19, 31, 8, 43, 13, 13, 37, 13, 55, 8, 5, 19, 25, 4, 4, 37, 13, 31, 13, 19, 31, 4, 19, 8, 5, 25, 43, 18, 19, 5, 37, 18, 18, 5, 13, 18, 19, 13, 19, 19, 13, 4, 49, 14, 18, 19, 14, 19, 5, 8, 18, 18, 14, 25, 19, 19, 4, 31, 19, 8, 5, 31, 55, 19, 8, 8, 18, 19, 13, 19, 43, 19, 25, 49, 9, 5, 12, 5, 19, 36, 19, 4, 19, 19, 18, 5, 49, 19, 31, 5, 18, 19, 19, 5, 13, 31, 5, 19, 19, 8, 13, 8, 18, 4, 19, 13, 19, 55, 19, 13, 8, 43, 8], [5, 14, 55, 49, 12, 31, 55, 19, 19, 19, 14, 55, 4, 13, 13, 19, 55, 18, 19, 55, 13, 55, 19, 19, 31, 13, 8, 55, 25, 25, 19, 49, 19, 4, 8, 12, 8, 19, 25, 55, 13, 13, 5, 8, 19, 13, 19, 13, 19, 55, 49, 19, 5, 19, 19, 18, 4, 19, 49, 19, 19, 19, 55, 12, 5, 18, 18, 19, 49, 49, 19, 8, 5, 13, 19, 8, 13, 19, 13, 19, 19, 43, 8, 43, 5, 49, 37, 5, 5, 13, 8, 5, 5, 19, 4, 19, 13, 13, 12, 3, 31, 8, 19, 19, 25, 19, 49, 19, 8, 19, 43, 8, 55, 8, 13, 18, 4, 19, 13, 31, 8, 18, 19, 31, 8, 19, 14, 18, 37, 13, 55], [13, 19, 8, 18, 19, 13, 19, 49, 19, 12, 13, 14, 19, 5, 18, 8, 19, 5, 18, 18, 13, 14, 4, 18, 4, 19, 13, 25, 18, 19, 13, 8, 13, 49, 18, 18, 19, 19, 8, 18, 19, 13, 19, 19, 14, 25, 8, 8, 19, 5, 19, 8, 14, 14, 19, 13, 54, 19, 37, 37, 8, 13, 8, 4, 19, 8, 19, 49, 18, 19, 13, 19, 13, 4, 55, 8, 8, 31, 31, 18, 18, 8, 19, 31, 13, 49, 5, 18, 5, 13, 5, 13, 14, 8, 43, 13, 19, 49, 18, 19, 12, 55, 19, 13, 25, 13, 18, 5, 12, 13, 19, 25, 10, 8, 13, 49, 13, 14, 55, 13, 49, 36, 2, 8, 49, 18, 14, 19, 8, 18, 18, 31, 19, 18, 8, 13, 31, 36, 37, 18, 55, 18, 13, 18, 5, 49, 8, 8, 13, 36, 18, 19, 37, 49, 18, 14, 49, 55, 25, 12, 49, 49, 43, 14, 19, 18, 13], [5, 31, 8, 18, 19, 13, 18, 13, 19, 55, 8, 18, 8, 13, 18, 13, 49, 8, 37, 14, 18, 55, 19, 43, 54, 13, 19, 18, 19, 55, 25, 8, 14, 18, 8, 13, 18, 55, 18, 18, 5, 55, 19, 43, 5, 13, 18, 19, 5, 19, 18, 18, 43, 8, 31, 18, 18, 18, 19, 18, 18, 19, 18, 13, 18, 18, 49, 31, 14, 18, 49, 18, 13, 19, 31, 18, 8, 31, 5, 18, 13, 13, 18, 13, 18, 19, 13, 12, 18, 18, 19, 55, 19, 19, 8, 55, 19, 18, 4, 13, 55, 19, 55, 13, 18, 18, 8, 8, 19, 8, 18, 13, 13, 18, 8, 13, 19, 18, 8, 18, 5, 37, 18, 12, 18, 8, 19, 18, 4, 19, 5, 18, 19, 49, 18, 55, 13, 14, 55, 55, 18, 13, 19, 19, 19, 5, 18, 18, 14, 18, 13, 19, 18, 18, 19, 30, 49, 31, 19, 18, 19, 18, 8, 18, 25, 8, 19], [19, 49, 19, 25, 25, 13, 19, 49, 19, 19, 5, 19, 19, 14, 49, 14, 49, 43, 13, 18, 13, 19, 18, 19, 25, 18, 54, 18, 19, 18, 18, 8, 49, 8, 19, 18, 19, 19, 5, 5, 18, 12, 36, 19, 18, 8, 13, 19, 8, 5, 18, 13, 18, 18, 49, 13, 18, 8, 19, 55, 25, 5, 55, 18, 8, 49, 13, 19, 13, 5, 55, 14, 4, 13, 55, 8, 18, 55, 18, 19, 8, 14, 54, 8, 18, 4, 13, 5, 4, 55, 8, 8, 4, 36, 19, 49, 7, 13, 18, 5, 13, 18, 49, 8, 19, 19, 4, 8, 18, 13, 4, 54, 19], [19, 4, 8, 13, 13, 19, 4, 49, 14, 8, 13, 43, 13, 55, 5, 13, 19, 12, 37, 4, 55, 43, 18, 13, 12, 4, 19, 19, 8, 8, 18, 8, 18, 19, 5, 19, 19, 8, 8, 8, 11, 55, 18, 19, 18, 49, 10, 4, 4, 13, 19, 54, 19, 8, 36, 13, 18, 19, 13, 13, 19, 55, 55, 49, 55, 19, 18, 19, 19, 18, 4, 49, 19, 14, 13, 19, 19, 8, 19, 19, 19, 25, 8, 13, 13, 5, 13, 14, 19, 55, 14, 43, 31, 19, 55, 19, 13, 8, 19, 14, 19, 5, 18, 19, 19, 8, 13, 8, 19, 13, 19, 8, 43], [55, 18, 19, 14, 13, 19, 19, 49, 19, 8, 13, 13, 19, 14, 37, 36, 12, 19, 18, 19, 55, 18, 19, 19, 14, 54, 55, 19, 49, 14, 5, 4, 19, 55, 18, 8, 13, 49, 31, 5, 19, 19, 19, 18, 19, 18, 55, 19, 19, 18, 55, 19, 19, 19, 49, 55, 49, 19, 49, 8, 19, 14, 8, 18, 18, 13, 8, 19, 18, 18, 13, 18, 19, 19, 5, 5, 19, 19, 13, 55, 13, 19, 19, 5, 13, 18, 43, 43, 14, 8, 8, 8, 5, 13, 37, 55, 31, 18, 13, 13, 19, 19, 8, 19, 13, 19, 5, 31, 19, 5, 19, 54, 8, 19, 8, 14, 5, 31, 18, 18, 18, 19, 55, 11, 18, 4, 8, 55, 13, 18, 8, 55, 14, 55, 19, 19, 19, 8, 25, 19, 13, 19, 4, 43, 13, 19, 8, 5, 19, 55, 5, 19, 55, 49, 55, 19, 4, 5, 13, 19, 19, 13, 18, 18, 19, 19, 18], [49, 18, 18, 18, 8, 19, 8, 55, 18, 19, 19, 19, 5, 49, 18, 36, 18, 5, 55, 13, 18, 5, 19, 19, 55, 18, 19, 8, 5, 18, 55, 18, 18, 36, 37, 19, 55, 19, 4, 18, 18, 18, 18, 19, 18, 4, 8, 19, 18, 18, 8, 19, 36, 25, 18, 18, 49, 18, 8, 18, 8, 13, 4, 14, 19, 49, 8, 13, 43, 8, 18, 13, 8, 19, 55, 40, 8, 18, 18, 13, 13, 31, 13, 13, 13, 8, 18, 19, 18, 18, 5, 14, 19, 55, 8, 8, 13, 18, 43, 18, 19, 49, 19, 13, 5, 18, 49, 18, 55, 8, 49, 18, 8, 19, 18, 8, 55, 55, 18, 49, 8, 14, 31, 8, 8, 8, 18, 19, 8, 55, 13, 13, 54, 14, 18, 18, 18, 8, 19, 43, 8, 5, 8, 8, 18, 49, 13, 18, 18, 18, 8, 13, 19, 49, 8, 8, 8], [19, 14, 18, 8, 55, 19, 43, 31, 13, 8, 18, 19, 55, 8, 13, 5, 19, 31, 25, 19, 18, 8, 8, 8, 8, 18, 8, 36, 19, 19, 19, 18, 49, 18, 49, 19, 13, 13, 18, 5, 8, 8, 55, 42, 55, 8, 14, 19, 5, 54, 13, 19, 37, 18, 19, 19, 55, 49, 55, 18, 49, 13, 8, 8, 8, 37, 49, 13, 18, 31, 19, 55, 5, 55, 19, 25, 19, 14, 18, 19, 13, 13, 8, 13, 8, 13, 13, 55, 18, 36, 19, 8, 19, 55, 4, 8, 18, 49, 5, 43, 5, 13, 12, 4, 13, 13, 19, 18, 18, 8, 13, 18, 8, 5, 8, 19, 36, 8, 49, 5, 19, 43, 8, 49, 19, 19, 25, 49, 51, 36, 14], [5, 37, 18, 12, 18, 55, 18, 18, 19, 8, 19, 37, 14, 8, 55, 49, 12, 36, 18, 18, 8, 25, 18, 18, 19, 19, 12, 8, 8, 13, 13, 18, 31, 18, 49, 5, 49, 13, 19, 8, 13, 19, 13, 18, 13, 5, 8, 18, 18, 37, 19, 19, 12, 13, 14, 13, 8, 18, 8, 55, 19, 4, 18, 19, 19, 18, 8, 55, 36, 13, 19, 18, 37, 19, 8, 19, 18, 49, 40, 19, 8, 49, 8, 18, 18, 19, 18, 18, 18, 19, 43, 18, 18, 19, 8, 13, 8, 19, 19, 18, 14, 5, 5, 19, 49, 13, 18, 8, 19, 18, 19, 8, 55, 13, 5, 18, 18, 55, 18, 8, 18, 18, 18, 8, 5, 14, 8, 18, 8, 36, 31, 19, 8, 18, 14, 19, 8, 19, 49, 8], [18, 31, 19, 18, 8, 18, 18, 13, 19, 19, 5, 55, 18, 18, 31, 18, 36, 13, 43, 49, 8, 18, 25, 19, 5, 19, 19, 18, 36, 13, 18, 36, 13, 19, 18, 8, 49, 49, 18, 49, 49, 8, 19, 13, 8, 19, 13, 8, 55, 13, 8, 19, 18, 18, 19, 8, 18, 13, 8, 19, 49, 5, 12, 13, 18, 18, 18, 18, 18, 18, 8, 13, 18, 5, 55, 19, 13, 4, 13, 14, 5, 19, 8, 8, 37, 8, 18, 55, 55, 55, 49, 18, 18, 13, 13, 18, 18, 5, 49, 19, 54, 18, 13, 13, 18, 18, 19, 43, 19, 36, 8, 43, 18, 18, 18, 18, 8, 55, 18, 18, 19, 5, 13, 13, 4, 18, 55, 4, 55, 19, 18], [18, 49, 18, 19, 31, 19, 18, 55, 19, 4, 19, 8, 8, 13, 55, 8, 43, 18, 18, 19, 49, 37, 55, 14, 19, 18, 19, 13, 18, 18, 49, 18, 55, 18, 37, 8, 19, 18, 18, 18, 18, 8, 55, 18, 19, 18, 55, 13, 55, 13, 8, 49, 8, 8, 49, 19, 31, 18, 18, 49, 18, 19, 54, 55, 8, 13, 13, 13, 8, 8, 19, 8, 18, 8, 18, 37, 18, 5, 18, 18, 37, 14, 49, 18, 14, 13, 13, 5, 13, 19, 18, 19, 18, 18, 31, 12, 8, 18, 43, 8, 18, 54, 55, 8, 19, 55, 9, 19, 5, 13, 13, 37, 13], [13, 8, 13, 19, 19, 14, 37, 13, 8, 37, 8, 13, 5, 13, 19, 8, 13, 5, 18, 19, 19, 8, 19, 19, 13, 25, 5, 49, 55, 49, 4, 8, 4, 14, 14, 13, 13, 8, 12, 13, 55, 18, 19, 13, 18, 19, 8, 19, 55, 13, 13, 13, 19, 18, 43, 18, 8, 13, 13, 4, 19, 31, 8, 13, 14, 13, 19, 49, 19, 49, 19, 37, 14, 19, 25, 19, 19, 31, 54, 49, 49, 25, 43, 8, 13, 14, 19, 18, 36, 14, 55, 36, 55, 19, 19, 19, 19, 19, 19, 19, 19, 13, 8, 19, 19, 19, 19, 19, 8, 19, 19, 19, 8, 8, 13, 55, 8, 13, 36, 8, 49, 14, 19, 5, 5, 18, 13, 14, 49, 49, 49], [43, 37, 19, 18, 18, 14, 19, 18, 8, 19, 8, 19, 19, 55, 18, 13, 8, 14, 19, 37, 18, 43, 5, 8, 49, 25, 55, 19, 19, 4, 43, 13, 18, 5, 8, 13, 8, 19, 25, 19, 55, 19, 55, 19, 4, 19, 13, 8, 49, 18, 13, 13, 55, 4, 4, 5, 43, 14, 18, 14, 49, 55, 18, 19, 19, 13, 13, 8, 18, 18, 49, 13, 13, 25, 49, 49, 18, 5, 13, 13, 55, 8, 5, 5, 13, 18, 8, 13, 8, 18, 49, 49, 8, 13, 8], [19, 18, 55, 13, 43, 4, 8, 19, 5, 18, 4, 19, 19, 19, 18, 49, 18, 18, 19, 43, 18, 19, 13, 43, 14, 8, 55, 19, 13, 49, 8, 18, 8, 8, 13, 18, 43, 31, 19, 14, 19, 14, 5, 19, 8, 13, 49, 8, 13, 14, 55, 5, 25, 19, 31, 8, 18, 37, 55, 55, 8, 18, 18, 19, 8, 8, 18, 4, 19, 19, 19, 19, 36, 5, 5, 8, 5, 55, 55, 49, 18, 19, 8, 13, 8, 19, 5, 18, 13, 18, 5, 12, 8, 55, 18, 19, 49, 18, 18, 8, 8, 18, 14, 13, 37, 8, 19, 8, 13, 8, 55, 18, 19, 25, 14, 8, 19, 8, 18, 13, 7, 19, 19, 19, 19, 19, 19, 55, 13, 8, 18, 14, 19, 13, 19, 19, 43, 55, 18, 5, 13, 13, 4, 19, 8, 49, 18, 19, 4, 8, 19, 5, 8, 14, 5, 31, 13], [8, 8, 19, 55, 19, 13, 55, 49, 12, 18, 8, 19, 18, 19, 5, 8, 5, 19, 14, 19, 13, 49, 13, 19, 13, 19, 25, 49, 19, 19, 49, 13, 19, 4, 18, 19, 19, 13, 8, 55, 19, 19, 5, 37, 49, 49, 8, 19, 18, 13, 55, 11, 37, 8, 13, 19, 43, 8, 18, 31, 18, 55, 19, 19, 43, 19, 5, 19, 18, 37, 12, 37, 49, 8, 5, 37, 18, 13, 5, 18, 55, 19, 55, 14, 8, 13, 8, 5, 5, 18, 43, 18, 8, 19, 25, 49, 19, 55, 13, 18, 8, 8, 8, 36, 13, 19, 5, 55, 19, 54, 13, 19, 8, 18, 13, 19, 14, 19, 4, 19, 8, 18, 18, 8, 5, 18, 43, 19, 19, 19, 55, 18, 19, 18, 18, 5, 19, 43, 8, 8], [8, 36, 19, 13, 14, 14, 19, 19, 8, 19, 43, 19, 8, 13, 55, 18, 19, 8, 19, 8, 14, 55, 8, 19, 19, 19, 5, 8, 18, 19, 19, 4, 13, 36, 18, 49, 19, 8, 19, 19, 31, 8, 8, 8, 8, 19, 19, 55, 19, 8, 25, 19, 5, 13, 8, 14, 54, 13, 8, 43, 5, 14, 43, 19, 8, 13, 18, 18, 13, 36, 8, 13, 31, 31, 49, 18, 13, 37, 49, 55, 19, 49, 43, 55, 5, 36, 31, 19, 8, 19, 5, 49, 43, 19, 14, 19, 19, 14, 8, 14, 19, 8, 19, 8, 18, 18, 8, 5, 19, 19, 18, 19, 13, 37, 55, 36, 19, 13, 14, 5, 8, 55, 19, 25, 8, 19, 14, 49, 55, 4, 49], [19, 13, 8, 13, 12, 8, 43, 49, 19, 19, 19, 49, 25, 25, 19, 19, 55, 4, 19, 5, 8, 19, 37, 19, 5, 5, 19, 12, 43, 19, 18, 14, 14, 37, 49, 13, 14, 43, 25, 19, 19, 5, 49, 8, 4, 5, 5, 8, 19, 8, 19, 19, 55, 19, 55, 18, 55, 19, 54, 4, 19, 19, 8, 13, 55, 19, 19, 14, 19, 25, 8, 18, 43, 19, 13, 14, 19, 19, 37, 18, 31, 5, 36, 25, 49, 19, 18, 19, 14, 13, 13, 19, 8, 19, 5, 49, 8, 36, 30, 4, 8, 19, 43, 55, 19, 43, 19, 49, 11, 55, 5, 43, 5, 19, 8, 19, 19, 19, 14, 18, 14, 19, 13, 8, 19, 25, 18, 18, 13, 13, 19, 19, 5, 19, 19, 18, 18, 18, 19, 43, 31, 14, 19, 5, 19], [8, 13, 8, 18, 19, 14, 13, 19, 19, 49, 4, 5, 49, 19, 13, 49, 55, 13, 36, 18, 49, 55, 25, 4, 18, 13, 18, 8, 5, 5, 55, 8, 49, 19, 13, 55, 18, 13, 19, 8, 25, 19, 19, 8, 8, 14, 8, 14, 4, 5, 5, 19, 12, 19, 14, 18, 18, 13, 31, 49, 19, 18, 18, 43, 19, 13, 8, 14, 8, 14, 18, 18, 18, 8, 19, 8, 43, 55, 5, 8, 19, 8, 19, 55, 4, 43, 19, 19, 8, 19, 8, 18, 8, 18, 19, 49, 8, 18, 19, 18, 5, 13, 19, 8, 43, 49, 8, 13, 49, 13, 13, 19, 5, 19, 13, 14, 37, 49, 13, 55, 49, 25], [19, 8, 8, 18, 31, 49, 5, 55, 37, 43, 19, 43, 18, 18, 14, 5, 8, 43, 19, 49, 8, 5, 14, 43, 18, 4, 54, 13, 4, 4, 14, 12, 19, 18, 18, 8, 8, 49, 19, 14, 8, 19, 19, 8, 4, 25, 8, 55, 36, 13, 13, 19, 25, 19, 18, 5, 13, 13, 55, 31, 19, 12, 19, 19, 18, 8, 5, 18, 5, 18, 13, 49, 8, 13, 5, 13, 31, 18, 13, 14, 19, 25, 25, 5, 18, 7, 18, 13, 31, 54, 4, 43, 25, 18, 18, 14, 4, 49, 14, 18, 8, 55, 13, 19], [18, 18, 19, 5, 8, 4, 37, 18, 18, 18, 8, 43, 36, 19, 55, 19, 13, 13, 18, 25, 18, 8, 8, 18, 25, 14, 8, 8, 18, 8, 19, 18, 19, 13, 31, 19, 37, 25, 13, 19, 19, 54, 19, 13, 13, 19, 36, 55, 5, 5, 55, 19, 5, 8, 13, 18, 18, 4, 18, 13, 18, 8, 18, 13, 13, 31, 37, 25, 55, 43, 49, 8, 13, 5, 18, 19, 18, 37, 8, 8, 13, 5, 55, 13, 19, 4, 49, 18, 55, 5, 19, 13, 19, 8, 18, 55, 13, 18, 19, 8, 55, 13, 55, 49, 18, 5, 18, 43, 18, 19, 13, 49, 8, 40, 31, 13, 19, 18, 3, 13, 49, 18, 13, 8, 13, 4, 13, 55, 4, 54, 25, 14, 4, 19, 55, 18, 13, 19, 18, 13, 49, 4, 19, 13, 37, 55, 49, 55, 19, 49, 36, 31, 42, 19, 13, 18, 4], [5, 18, 31, 31, 13, 13, 19, 19, 19, 14, 14, 18, 8, 19, 8, 13, 13, 19, 55, 55, 14, 19, 25, 18, 37, 5, 49, 19, 19, 8, 13, 18, 19, 19, 54, 19, 43, 55, 49, 13, 19, 37, 13, 14, 31, 19, 13, 49, 25, 18, 19, 14, 14, 18, 37, 8, 19, 18, 8, 13, 19, 13, 8, 13, 13, 19, 5, 18, 13, 19, 37, 8, 19, 5, 19, 19, 8, 13, 13, 19, 43, 8, 18, 25, 8, 4, 19, 19, 13, 19, 5, 37, 19, 5, 37, 19, 19, 55, 14, 19, 19, 14, 12, 5, 12, 18, 19, 19, 5, 8, 19, 14, 5, 19, 54, 19, 13, 18, 13, 19, 18, 12, 14, 25, 8, 14, 19, 49, 13, 19, 5], [18, 8, 18, 55, 18, 8, 19, 13, 43, 19, 13, 18, 5, 54, 49, 12, 18, 13, 36, 36, 31, 8, 19, 8, 8, 18, 19, 19, 18, 55, 18, 18, 18, 8, 49, 13, 49, 19, 13, 14, 19, 18, 19, 25, 18, 19, 8, 13, 18, 19, 19, 8, 31, 18, 18, 8, 13, 18, 55, 5, 18, 54, 18, 18, 8, 8, 19, 8, 18, 37, 19, 13, 5, 18, 19, 19, 31, 8, 49, 55, 8, 18, 19, 37, 13, 49, 13, 43, 18, 13, 37, 55, 43, 37, 49, 8, 55, 19, 13, 13, 5, 18, 49, 18, 18, 13, 13, 19, 8, 5, 36, 13, 8, 55, 14, 31, 55, 19, 19, 5, 13, 19, 13, 31, 49, 18, 31, 12, 19, 19, 8], [8, 49, 18, 19, 19, 49, 19, 13, 37, 25, 37, 5, 37, 55, 43, 19, 13, 55, 18, 37, 19, 13, 43, 8, 54, 54, 8, 18, 43, 14, 49, 5, 19, 19, 8, 19, 14, 14, 54, 19, 18, 19, 19, 18, 19, 5, 13, 55, 13, 18, 8, 5, 13, 13, 8, 19, 25, 13, 18, 18, 55, 49, 5, 8, 13, 8, 19, 37, 14, 8, 19, 49, 13, 18, 55, 19, 19, 14, 55, 19, 8, 4, 19, 19, 18, 19, 13, 14, 55, 19, 18, 55, 8, 8, 14, 31, 13, 25, 55, 55, 14, 5, 13, 19, 19, 49, 19, 43, 5, 8, 37, 55, 18, 19, 13, 8, 19, 5, 19, 43, 55, 18, 13, 8, 19, 8, 49, 18, 55, 19, 5, 8, 49, 8, 12, 8, 18, 8, 31, 8], [19, 18, 13, 55, 18, 4, 55, 12, 18, 5, 8, 14, 8, 5, 19, 55, 18, 18, 5, 18, 18, 5, 19, 43, 55, 19, 49, 54, 31, 18, 19, 55, 13, 43, 14, 49, 18, 18, 37, 19, 19, 19, 13, 19, 8, 13, 19, 13, 19, 19, 19, 13, 25, 25, 18, 8, 14, 18, 18, 31, 18, 13, 8, 55, 19, 8, 19, 13, 18, 5, 18, 8, 8, 18, 5, 18, 14, 55, 55, 18, 25, 19, 18, 13, 13, 18, 13, 55, 55, 49, 8, 31, 25, 19, 31, 31, 19, 18, 8, 19, 19, 55, 18, 19, 8, 18, 18, 5, 8, 55, 5, 14, 18, 5, 19, 8, 8, 49, 31, 43, 10, 14, 14, 13, 8, 19, 18, 18, 13, 55, 13, 31, 4, 8, 36, 18, 8, 25, 19, 5, 49, 8, 14, 4, 18, 18, 19, 8, 19, 49, 55, 18, 8, 5, 18, 18, 18], [19, 19, 19, 19, 8, 55, 13, 14, 13, 8, 19, 13, 19, 8, 19, 13, 25, 43, 49, 19, 13, 14, 11, 19, 18, 19, 5, 49, 55, 13, 19, 14, 8, 8, 8, 8, 18, 19, 19, 49, 13, 13, 43, 8, 54, 8, 18, 19, 12, 49, 49, 13, 19, 13, 19, 19, 19, 43, 19, 18, 19, 18, 19, 18, 31, 19, 19, 8, 19, 18, 13, 8, 25, 55, 19, 19, 13, 54, 19, 5, 8, 14, 5, 25, 19, 5, 31, 4, 43, 49, 8, 8, 19, 18, 49, 49, 19, 14, 4, 13, 14, 49, 14, 13, 49, 8, 55, 55, 19, 13, 19, 19, 19, 25, 25, 8, 19, 37, 18, 25, 49, 8, 8, 13, 43, 4, 19, 18, 8, 14, 18, 8, 18, 14, 8, 13, 19, 13, 19, 49, 18, 13, 13, 14, 18, 18, 25, 18, 18], [5, 43, 31, 19, 13, 14, 19, 19, 25, 19, 5, 19, 19, 18, 19, 49, 18, 55, 19, 19, 5, 25, 18, 5, 31, 25, 4, 19, 18, 49, 19, 14, 8, 18, 13, 31, 19, 8, 55, 8, 8, 13, 31, 19, 5, 8, 19, 8, 49, 8, 13, 19, 19, 49, 14, 25, 5, 31, 5, 19, 13, 18, 4, 13, 19, 14, 18, 43, 19, 13, 19, 25, 19, 19, 18, 5, 49, 18, 49, 43, 13, 8, 8, 19, 19, 5, 18, 19, 18, 55, 19, 8, 49, 18, 19, 5, 13, 43, 18, 7, 5, 8, 13, 19, 14, 5, 12, 36, 19, 8, 10, 19, 13, 55, 13, 18, 25, 18, 13, 8, 19, 55, 18, 5, 5, 18, 37, 19, 49, 19, 19, 13, 19, 13, 55, 19, 18, 18, 36, 13, 37, 13, 55, 8, 49, 36, 19, 55, 43, 8, 19, 8, 19, 18, 5, 5, 36, 13, 25, 13, 49, 13], [12, 31, 55, 5, 19, 5, 8, 19, 4, 4, 8, 4, 19, 19, 49, 19, 55, 19, 19, 8, 25, 14, 8, 13, 8, 31, 49, 18, 19, 5, 55, 19, 37, 19, 19, 18, 19, 13, 25, 13, 19, 8, 18, 13, 18, 55, 5, 5, 18, 13, 13, 31, 31, 14, 18, 18, 43, 14, 14, 18, 18, 19, 8, 8, 36, 13, 13, 49, 13, 13, 5, 5, 8, 55, 25, 13, 13, 13, 18, 13, 13, 55, 19, 5, 12, 14, 19, 8, 18, 18, 25, 49, 5, 5, 8, 8, 19, 14, 13, 8, 13, 13, 8, 43, 55, 13, 18, 8, 13, 5, 13, 18, 8, 37, 55, 49, 37, 5, 19, 13, 4, 18, 8, 19, 19, 49, 49, 13, 31, 12, 5, 8, 8, 19, 49, 19, 19, 8, 49, 19, 19, 43, 18, 19, 14, 19, 8, 19, 55], [13, 8, 25, 49, 19, 18, 8, 14, 19, 8, 19, 49, 5, 19, 18, 13, 4, 19, 13, 13, 18, 8, 55, 18, 19, 18, 36, 25, 55, 13, 18, 49, 19, 55, 13, 13, 55, 18, 4, 19, 8, 55, 18, 8, 12, 19, 8, 31, 18, 18, 19, 18, 13, 8, 18, 18, 8, 55, 18, 5, 18, 19, 18, 19, 18, 18, 13, 49, 19, 18, 31, 49, 5, 13, 13, 8, 25, 8, 49, 12, 25, 49, 28, 8, 49, 19, 18, 14, 19, 18, 19, 18, 18, 8, 18, 19, 13, 18, 8, 18, 55, 8, 19, 18, 18, 14, 18, 18, 8, 18, 13, 8, 49, 18, 18, 8, 18, 13, 11, 11, 13, 5, 8, 5, 8, 8, 55, 18, 19, 18, 13, 14, 5, 14, 55, 8, 18, 37, 18, 19, 18], [18, 18, 18, 8, 19, 8, 43, 8, 14, 8, 19, 19, 8, 13, 5, 18, 8, 12, 19, 8, 18, 19, 18, 12, 18, 18, 36, 18, 54, 18, 54, 8, 18, 25, 18, 13, 18, 8, 36, 19, 18, 49, 49, 19, 19, 8, 19, 19, 8, 13, 19, 19, 54, 5, 5, 13, 8, 18, 19, 18, 13, 19, 19, 8, 13, 8, 18, 43, 8, 18, 5, 13, 19, 55, 13, 18, 8, 18, 18, 4, 8, 13, 12, 19, 8, 37, 55, 18, 13, 19, 8, 19, 13, 18, 8, 13, 18, 4, 18, 19, 49, 18, 31, 55, 25, 55, 8, 55, 19, 13, 13, 19, 18, 13, 19, 49, 18, 49, 18, 49, 49, 31], [18, 31, 18, 55, 18, 18, 8, 8, 5, 13, 8, 13, 12, 18, 19, 4, 19, 19, 18, 14, 19, 25, 18, 8, 19, 13, 49, 49, 8, 18, 19, 13, 8, 18, 19, 4, 14, 13, 18, 43, 18, 55, 8, 43, 8, 14, 49, 31, 55, 8, 54, 8, 13, 4, 49, 36, 31, 19, 25, 14, 8, 8, 55, 5, 18, 18, 18, 18, 18, 14, 31, 13, 55, 55, 19, 19, 18, 18, 13, 19, 19, 19, 18, 4, 18, 13, 19, 18, 13, 19, 8, 19, 8, 5, 19, 55, 18, 19, 42, 18, 7, 55, 18, 19, 13, 49, 19, 18, 55, 8, 13, 8, 8, 19, 25, 13, 8, 31, 18, 4, 10, 19, 18, 37, 18, 8, 13, 18, 55, 8, 19], [8, 43, 18, 14, 49, 18, 19, 55, 55, 18, 18, 25, 19, 19, 13, 18, 8, 19, 49, 37, 19, 8, 8, 18, 8, 13, 13, 8, 8, 19, 19, 13, 8, 13, 37, 13, 13, 19, 19, 25, 5, 4, 19, 19, 25, 31, 19, 8, 18, 19, 8, 19, 54, 18, 18, 8, 55, 49, 8, 55, 19, 18, 5, 13, 43, 14, 18, 13, 13, 13, 8, 14, 18, 55, 43, 18, 55, 49, 8, 19, 36, 36, 18, 18, 19, 49, 55, 19, 18, 8, 18, 13, 49, 19, 8, 13, 12, 13, 8, 13, 8, 18, 18, 19, 13, 13, 13, 19, 18, 8, 19, 18, 18, 25, 19, 18, 13, 19, 19, 5, 8, 13, 18, 19, 19, 19, 19, 55, 19, 19, 18], [25, 8, 5, 49, 19, 19, 13, 37, 18, 49, 19, 49, 18, 49, 18, 5, 25, 14, 19, 13, 19, 54, 49, 49, 4, 8, 19, 43, 8, 18, 49, 49, 13, 13, 31, 19, 31, 8, 14, 19, 19, 8, 19, 8, 18, 14, 19, 8, 43, 43, 18, 19, 5, 5, 13, 55, 18, 18, 18, 49, 25, 19, 55, 54, 54, 49, 13, 19, 19, 13, 13, 49, 8, 18, 5, 18, 14, 8, 8, 49, 55, 14, 14, 19, 14, 43, 13, 49, 55, 18, 18, 4, 5, 36, 19, 19, 13, 18, 19, 19, 19, 8, 4, 8, 49, 54, 31, 19, 49, 13, 18, 49, 5, 19, 25, 19, 8, 5, 18, 14, 4, 19, 5, 43, 55, 8, 5, 14, 25, 19, 8], [19, 49, 55, 19, 55, 5, 49, 19, 55, 49, 55, 12, 13, 18, 25, 13, 25, 8, 19, 18, 18, 8, 19, 19, 13, 55, 49, 18, 18, 18, 43, 14, 18, 8, 55, 13, 18, 36, 8, 13, 13, 19, 13, 49, 37, 19, 36, 19, 8, 14, 19, 4, 18, 19, 18, 49, 18, 55, 8, 25, 19, 43, 13, 8, 8, 19, 8, 14, 19, 13, 13, 13, 19, 55, 13, 19, 8, 19, 4, 4, 8, 19, 14, 18, 19, 19, 5, 19, 5, 19, 5, 5, 18, 49, 19, 13, 8, 18, 49, 55, 55, 8, 54, 19, 25, 4, 18, 13, 25, 19, 8, 37, 55, 8, 13, 19, 19, 5, 13, 13, 18, 19, 19, 43, 18, 43, 43, 13, 14, 13, 19], [19, 8, 13, 49, 8, 37, 8, 8, 14, 18, 18, 13, 18, 13, 18, 4, 19, 19, 25, 37, 18, 18, 18, 19, 8, 8, 49, 18, 8, 8, 25, 12, 31, 13, 8, 19, 8, 19, 13, 12, 5, 19, 49, 8, 4, 19, 19, 25, 12, 14, 4, 25, 19, 18, 19, 13, 4, 19, 13, 5, 18, 49, 18, 19, 19, 19, 19, 13, 19, 19, 31, 55, 55, 8, 18, 4, 43, 18, 25, 18, 19, 19, 19, 55, 13, 18, 43, 19, 19, 19, 43, 18, 8, 19, 37, 19, 8, 19, 8, 19, 18, 36, 13, 13, 55, 49, 19, 55, 14, 36, 8, 19, 8, 8, 13, 43, 13, 8, 18, 43, 13, 8, 8, 19, 5, 5, 13, 19, 19, 5, 8, 18, 49, 13, 19, 8, 31, 19, 4, 19, 19, 13, 8, 8], [19, 19, 19, 8, 19, 19, 14, 12, 8, 18, 5, 13, 55, 8, 4, 54, 13, 55, 5, 19, 14, 18, 55, 8, 18, 19, 5, 19, 8, 19, 36, 8, 8, 43, 5, 19, 5, 19, 18, 36, 25, 19, 8, 19, 18, 19, 25, 19, 5, 11, 5, 8, 13, 43, 13, 8, 5, 18, 13, 14, 19, 18, 37, 4, 19, 19, 19, 13, 13, 19, 49, 13, 8, 18, 13, 8, 37, 19, 55, 19, 18, 8, 49, 8, 37, 54, 19, 13, 5, 18, 8, 55, 4, 55, 8, 36, 37, 37, 19, 19, 31, 19, 49, 8, 4, 13, 13, 8, 43, 19, 13, 5, 19, 4, 8, 19, 8, 11, 8, 19, 18, 19, 13, 25, 14, 19, 13, 13, 37, 19, 13, 55, 19, 5, 10, 19, 36, 19, 25, 8, 37, 19, 19, 8, 19, 8, 8, 19, 4, 13, 18, 19, 14, 19, 19, 8], [4, 49, 19, 49, 5, 8, 18, 49, 19, 19, 13, 25, 36, 49, 37, 18, 13, 4, 19, 5, 19, 37, 18, 13, 13, 12, 18, 19, 5, 19, 19, 54, 55, 19, 19, 19, 19, 7, 55, 19, 19, 42, 19, 18, 14, 19, 19, 5, 18, 19, 43, 14, 8, 5, 13, 55, 55, 54, 8, 55, 13, 55, 25, 18, 19, 55, 19, 18, 14, 18, 49, 5, 19, 8, 18, 19, 5, 8, 18, 37, 18, 4, 14, 8, 5, 8, 8, 13, 13, 19, 19, 18, 5, 18, 31, 5, 13, 8, 13, 5, 25, 19, 18, 8, 31, 54, 8, 19, 37, 25, 18, 19, 19, 13, 13, 19, 13, 19, 13, 8, 13, 19, 19, 13, 19, 13, 25, 19, 5, 12, 8, 19, 55, 49, 19, 43, 13, 13, 8, 8, 5, 8, 4, 14, 18, 8, 4, 5, 19, 8, 19, 19, 49, 25, 18, 18, 13, 8, 14, 12, 49, 18, 5, 55, 13, 43], [19, 13, 37, 18, 18, 18, 43, 14, 19, 43, 13, 8, 8, 19, 14, 55, 14, 8, 43, 19, 43, 4, 19, 49, 19, 19, 8, 18, 19, 49, 5, 55, 13, 8, 8, 13, 13, 8, 14, 25, 18, 8, 54, 8, 19, 19, 14, 19, 13, 14, 19, 19, 5, 25, 18, 19, 19, 13, 43, 14, 19, 13, 8, 5, 19, 13, 4, 8, 49, 55, 19, 13, 18, 19, 37, 14, 13, 18, 36, 10, 8, 43, 8, 8, 5, 13, 19, 5, 19, 5, 19, 8, 36, 8, 14, 54, 19, 19, 19, 19, 43, 4, 13, 5, 13, 13, 19, 19, 19, 13, 13, 19, 8, 49, 8, 4, 25, 25, 55, 49, 13, 4, 19, 13, 18, 49, 13, 19, 8, 55, 5, 25, 13, 19, 19, 19, 14, 19, 18, 8, 55, 12, 18, 11, 55, 19, 4, 18], [40, 19, 19, 5, 55, 4, 8, 5, 13, 18, 19, 18, 8, 49, 13, 36, 49, 18, 19, 19, 18, 8, 14, 19, 13, 25, 13, 19, 18, 5, 25, 14, 18, 55, 18, 18, 19, 8, 18, 19, 8, 19, 5, 13, 49, 18, 43, 13, 19, 8, 13, 13, 19, 18, 4, 18, 5, 19, 18, 55, 18, 19, 55, 55, 18, 55, 8, 18, 13, 55, 5, 8, 18, 49, 13, 49, 55, 19, 13, 19, 43, 19, 8, 36, 18, 13, 12, 19, 49, 19, 8, 13, 19, 55, 8, 19, 55, 13, 4, 14, 8, 18, 36, 37, 49, 18, 13, 8, 14, 8, 18, 8, 5, 13, 49, 19, 8, 19, 13, 5, 19, 4, 12, 14, 5, 18, 18, 8, 36, 37, 13, 18, 8, 49, 8, 18, 8, 19, 13, 14], [13, 18, 19, 18, 13, 8, 19, 31, 5, 19, 49, 55, 13, 55, 8, 49, 5, 13, 10, 13, 37, 13, 8, 19, 49, 14, 19, 43, 4, 19, 18, 14, 13, 19, 19, 19, 5, 19, 18, 43, 8, 19, 14, 8, 55, 49, 19, 25, 18, 19, 13, 19, 19, 19, 18, 19, 19, 5, 13, 13, 8, 18, 19, 18, 8, 40, 19, 8, 55, 43, 5, 25, 8, 31, 19, 49, 19, 18, 49, 55, 54, 8, 14, 43, 19, 19, 18, 18, 18, 19, 19, 8, 19, 18, 19, 43, 19, 8, 13, 19, 25, 14, 19, 31, 13, 19, 19, 18, 14, 8, 18, 19, 18, 19, 8, 37, 13, 43, 8, 19, 25, 25, 25, 8, 18, 18, 55, 49, 40, 19, 19], [18, 19, 18, 18, 8, 49, 31, 11, 18, 19, 18, 25, 8, 18, 18, 13, 8, 8, 13, 19, 18, 19, 13, 8, 49, 18, 31, 55, 36, 8, 19, 8, 19, 18, 55, 19, 5, 13, 8, 5, 18, 36, 37, 19, 13, 18, 18, 40, 18, 18, 13, 8, 18, 19, 5, 8, 13, 4, 18, 19, 55, 54, 18, 4, 8, 13, 31, 19, 18, 18, 18, 8, 25, 14, 19, 5, 19, 19, 18, 49, 19, 18, 25, 13, 13, 31, 55, 18, 18, 18, 18, 12, 54, 19, 18, 4, 8, 18, 49, 14, 18, 5, 43, 13, 37, 18, 18, 19, 18, 18, 55, 18, 25, 5, 18, 18, 19, 19, 8, 8, 19, 18], [13, 14, 18, 55, 8, 18, 13, 25, 18, 55, 19, 19, 8, 55, 54, 8, 19, 19, 8, 18, 5, 49, 49, 14, 13, 8, 8, 13, 19, 18, 7, 14, 31, 19, 19, 18, 13, 18, 13, 19, 8, 13, 5, 18, 18, 13, 19, 19, 4, 5, 43, 4, 49, 12, 43, 13, 19, 18, 55, 19, 43, 49, 19, 55, 55, 55, 19, 13, 19, 43, 31, 18, 8, 18, 14, 19, 13, 18, 18, 55, 18, 55, 8, 13, 19, 19, 19, 19, 19, 14, 18, 5, 12, 18, 18, 13, 19, 18, 8, 49, 54, 13, 55, 19, 19, 18, 8, 13, 49, 55, 18, 19, 8], [18, 18, 13, 19, 55, 55, 18, 5, 5, 5, 19, 19, 55, 8, 19, 25, 19, 8, 13, 14, 18, 19, 19, 19, 18, 13, 55, 8, 19, 55, 19, 55, 19, 19, 8, 49, 19, 8, 19, 14, 31, 13, 19, 36, 5, 19, 55, 19, 19, 31, 13, 49, 43, 55, 55, 19, 55, 4, 25, 5, 19, 5, 55, 19, 14, 4, 31, 18, 49, 19, 55, 18, 19, 55, 25, 25, 18, 19, 55, 14, 31, 51, 13, 25, 19, 37, 8, 13, 4, 13, 8, 13, 13, 19, 8, 55, 19, 40, 19, 5, 55, 19, 19, 49, 19, 5, 19, 19, 19, 13, 25, 8, 13, 4, 18, 18, 14, 19, 18, 13, 8, 13, 13, 18, 8, 4, 19, 19, 18, 13, 18, 49, 18, 19, 8, 13, 19, 8, 25, 13, 13, 8, 37, 31, 55, 8, 19, 25, 13, 4, 18, 13, 13, 19, 18, 4, 13], [18, 8, 19, 31, 5, 49, 13, 8, 14, 8, 55, 18, 4, 19, 43, 5, 13, 18, 49, 19, 19, 18, 13, 36, 55, 18, 4, 55, 43, 49, 18, 8, 13, 18, 18, 19, 5, 13, 49, 19, 18, 18, 49, 14, 13, 18, 19, 18, 19, 31, 18, 13, 18, 14, 18, 12, 12, 19, 55, 8, 8, 18, 18, 14, 49, 19, 19, 55, 8, 18, 13, 13, 5, 49, 31, 13, 49, 18, 13, 8, 13, 31, 13, 19, 19, 19, 19, 18, 8, 18, 8, 14, 19, 49, 5, 18, 8, 42, 18, 19, 49, 18, 55, 18, 5, 14, 13, 55, 55, 55, 18, 5, 43, 18, 19, 18, 55, 19, 18, 55, 19, 19, 19, 43, 18, 8, 13, 18, 18, 19, 18, 18, 55, 19, 49, 18, 18, 19, 19, 18, 37, 18, 19, 8, 18, 18, 19, 18, 4, 19, 19, 8, 19, 31, 18, 18, 19, 18, 55, 19, 5, 55, 13, 5, 54, 18], [55, 18, 19, 5, 37, 18, 19, 14, 19, 4, 18, 4, 55, 13, 14, 18, 49, 5, 14, 19, 19, 8, 19, 8, 14, 4, 13, 19, 31, 31, 19, 13, 13, 49, 18, 5, 18, 5, 13, 13, 18, 19, 19, 43, 19, 19, 55, 37, 13, 18, 13, 19, 19, 19, 5, 18, 13, 13, 19, 19, 13, 19, 55, 31, 55, 8, 19, 13, 19, 18, 13, 19, 19, 19, 18, 8, 19, 8, 8, 43, 4, 19, 11, 18, 18, 19, 55, 18, 43, 13, 19, 13, 13, 36, 5, 49, 4, 19, 18, 8, 8, 43, 19, 37, 13, 19, 19, 5, 13, 55, 19, 18, 19, 8, 49, 14, 8, 5, 19, 18, 19, 55, 8, 8, 8, 8, 18, 18, 13, 19, 18, 19, 13, 13, 18, 55, 5, 8, 25, 49, 19, 19, 8, 14, 19, 18, 18, 13, 8, 18, 19, 19, 18], [43, 19, 37, 31, 31, 18, 55, 49, 8, 8, 49, 13, 5, 4, 19, 5, 55, 5, 55, 18, 19, 8, 13, 43, 19, 49, 49, 43, 13, 49, 19, 5, 4, 19, 55, 25, 10, 18, 37, 49, 8, 13, 13, 19, 19, 4, 49, 18, 14, 5, 19, 13, 13, 18, 13, 8, 13, 54, 55, 4, 19, 8, 8, 54, 5, 18, 55, 13, 18, 5, 31, 13, 18, 11, 8, 13, 19, 49, 8, 19, 7, 13, 19, 8, 8, 49, 11, 5, 37, 8, 12, 19, 8, 8, 55, 13, 14, 19, 49, 13, 31, 49, 14, 8, 8, 19, 19, 13, 18, 14, 18, 49, 18, 8, 8, 5, 8, 8, 19, 49, 13, 54, 19, 13, 13, 8, 13, 18, 13, 13, 14, 5, 19, 18, 4, 8, 19, 8, 19, 8]], 'testPPO2': [[15, 18, 3, 10, 48, 24, 22, 24, 18, 5, 5, 48, 38, 1, 7, 56, 11, 8, 1, 8, 42, 53, 45, 27, 45, 24, 21, 1, 15, 48, 1, 1, 8, 7, 1, 39, 4, 7, 4, 4, 4, 5, 1, 8, 45, 39, 1, 36, 39, 11, 7, 4, 21, 4, 4, 2, 11, 45, 9, 4, 54, 1, 1, 1, 4, 4, 14, 48, 4, 9, 5, 14, 48, 34, 51, 4, 1, 14, 39, 5, 14, 48, 4, 7, 1, 4, 14, 1, 2, 7, 45, 4, 4, 2, 4, 11, 4, 45, 2, 4, 14, 2, 4, 1, 7, 1, 45, 45, 46, 4, 8, 4, 14, 45, 2, 1, 6, 9, 13, 7, 14, 15, 8, 7, 1, 1, 42, 1, 1, 45, 4, 2, 36, 14, 4, 1, 1, 4, 4, 8, 4, 4, 7, 2, 4, 2, 39, 1, 45, 4, 48, 4, 7, 1, 11, 14, 4, 1], [18, 48, 39, 42, 54, 54, 4, 18, 53, 50, 18, 4, 14, 42, 12, 11, 6, 54, 12, 20, 24, 7, 49, 21, 4, 40, 5, 24, 18, 4, 4, 1, 11, 4, 14, 7, 15, 7, 7, 11, 44, 18, 7, 15, 14, 34, 4, 1, 4, 4, 7, 7, 27, 10, 1, 14, 24, 1, 14, 14, 42, 8, 8, 7, 7, 2, 7, 4, 48, 4, 14, 4, 4, 7, 1, 42, 11, 1, 14, 36, 1, 1, 6, 48, 9, 11, 1, 4, 11, 11, 8, 14, 4, 48, 48, 1, 1, 9, 4, 45, 2, 14, 14, 4, 2, 7, 14, 2, 1, 39, 2, 1, 7, 1, 1, 1, 7, 2, 8, 45, 4, 45, 9, 8, 7, 1, 1, 4, 48, 1, 1, 45, 39, 1, 1, 1, 1, 6, 1, 2], [45, 15, 11, 45, 12, 46, 24, 0, 4, 24, 1, 9, 4, 14, 54, 15, 39, 1, 14, 24, 1, 7, 53, 9, 1, 24, 4, 24, 4, 45, 55, 4, 24, 7, 7, 8, 5, 1, 39, 4, 45, 11, 8, 4, 42, 1, 11, 4, 1, 45, 40, 4, 11, 8, 7, 9, 8, 4, 4, 8, 2, 4, 1, 45, 2, 7, 2, 14, 2, 39, 15, 15, 1, 4, 48, 53, 42, 8, 2, 4, 6, 1, 4, 4, 7, 1, 11, 11, 39, 1, 46, 7, 1, 8, 7, 1, 8, 1, 39, 4, 48, 7, 8, 11, 8, 7, 4, 14, 1, 7, 14, 1, 2, 7, 11, 4, 46, 7, 4, 48, 14, 4, 1, 1, 11, 1, 14, 8, 2, 9, 4, 2, 1, 2, 7, 4, 14, 48, 7, 42, 14, 14, 1, 28, 1, 39, 4, 52, 6], [21, 15, 27, 14, 8, 54, 4, 24, 13, 6, 15, 24, 35, 44, 21, 24, 27, 1, 15, 7, 8, 18, 1, 8, 0, 21, 51, 11, 8, 54, 13, 13, 1, 4, 7, 7, 28, 11, 32, 39, 8, 1, 7, 53, 15, 11, 45, 40, 4, 45, 7, 51, 36, 8, 4, 39, 1, 49, 4, 14, 39, 48, 11, 4, 4, 9, 5, 18, 4, 42, 4, 14, 8, 11, 8, 8, 48, 1, 5, 2, 1, 14, 4, 7, 7, 39, 5, 4, 1, 11, 1, 4, 14, 2, 11, 4, 52, 14, 48, 39, 45, 1, 53, 4, 4, 4, 2, 4, 2, 2, 7, 11, 1, 2, 7, 2, 45, 1, 4, 14, 45, 4, 45, 4, 1, 39, 24, 4, 8, 1, 1, 45, 14, 30, 39, 9, 7, 2, 2, 2, 14, 8, 14, 4, 14, 14, 7, 54, 1, 8, 4, 1, 2, 7, 7, 4, 8], [15, 48, 1, 42, 15, 2, 18, 4, 45, 4, 11, 24, 21, 21, 38, 31, 2, 11, 7, 45, 11, 43, 1, 24, 24, 4, 7, 0, 11, 1, 15, 11, 7, 1, 7, 4, 9, 11, 7, 14, 4, 4, 1, 14, 7, 8, 39, 7, 8, 1, 8, 8, 2, 1, 54, 8, 2, 14, 48, 1, 4, 14, 1, 48, 8, 8, 1, 4, 1, 4, 14, 14, 4, 1, 1, 2, 5, 1, 2, 35, 40, 14, 1, 39, 14, 14, 45, 45, 14, 48, 45, 1, 2, 2, 14, 7, 4, 1, 7, 2, 7, 11, 7, 2, 14, 1, 7, 42, 4, 2, 4, 8, 14, 4, 1, 39, 9, 1, 4, 7, 7, 1, 2, 2, 39, 11, 2, 14, 4, 1, 11, 4, 4, 14, 8, 4, 2, 2, 1, 14, 8, 2, 4, 5, 45, 1, 14, 1], [24, 24, 23, 24, 10, 1, 1, 48, 39, 52, 46, 15, 4, 39, 4, 24, 39, 4, 15, 22, 14, 7, 18, 21, 24, 15, 15, 5, 48, 45, 11, 39, 24, 9, 53, 11, 21, 3, 4, 7, 1, 4, 4, 4, 13, 11, 1, 1, 1, 4, 11, 2, 1, 3, 9, 8, 4, 14, 45, 4, 14, 4, 4, 45, 14, 9, 4, 39, 4, 1, 7, 4, 1, 14, 2, 9, 1, 5, 8, 1, 54, 14, 8, 1, 45, 48, 39, 1, 1, 1, 39, 2, 45, 39, 1, 48, 4, 4, 4, 54, 4, 1, 14, 2, 14, 7, 11, 14, 52, 1, 8, 2, 1, 45, 4, 1, 7, 11, 4, 14, 15, 4, 14, 4, 45, 11, 8, 1, 14, 8, 14, 14, 1, 14, 14, 1, 4, 1, 1, 1, 9, 4, 1, 9, 7, 11, 48, 3, 4, 45, 7, 8, 7, 14, 14, 8, 1], [3, 46, 15, 4, 24, 27, 21, 45, 15, 24, 24, 21, 4, 1, 27, 24, 7, 8, 24, 8, 18, 1, 48, 15, 8, 1, 1, 46, 35, 2, 54, 8, 1, 11, 4, 7, 1, 4, 11, 1, 55, 45, 45, 1, 8, 4, 30, 11, 11, 1, 11, 4, 21, 11, 4, 11, 48, 4, 11, 6, 11, 14, 2, 4, 54, 14, 1, 14, 48, 4, 45, 14, 9, 2, 12, 48, 7, 45, 48, 4, 14, 1, 9, 1, 1, 1, 4, 7, 11, 8, 2, 1, 1, 14, 9, 8, 8, 4, 46, 1, 8, 24, 1, 11, 1, 4, 48, 9, 14, 7, 1, 8, 48, 1, 45, 45, 1, 7, 8, 4, 9, 2, 2, 7, 48, 2, 48, 7, 48, 39, 1, 45, 4, 2, 2, 1, 1, 5, 14, 14, 14, 1, 2, 4, 9, 1, 2, 8], [24, 52, 37, 18, 24, 7, 49, 48, 4, 18, 18, 43, 4, 2, 15, 8, 21, 48, 4, 21, 15, 7, 7, 21, 11, 15, 52, 18, 4, 30, 5, 4, 42, 45, 39, 24, 11, 4, 10, 5, 48, 48, 42, 7, 2, 2, 48, 45, 4, 48, 45, 4, 9, 6, 14, 11, 6, 28, 11, 14, 14, 45, 40, 2, 1, 9, 48, 11, 2, 48, 5, 1, 14, 5, 7, 9, 4, 4, 7, 1, 4, 11, 2, 3, 9, 2, 4, 48, 4, 11, 48, 4, 54, 46, 9, 48, 2, 4, 52, 2, 45, 7, 4, 11, 4, 1, 7, 1, 1, 14, 1, 14, 1, 1, 2, 14, 9, 7, 48, 1, 48, 2, 11, 1, 1, 14, 4, 1, 48, 2, 8], [48, 15, 34, 9, 15, 34, 18, 21, 3, 15, 48, 5, 5, 14, 11, 45, 45, 48, 11, 54, 42, 2, 15, 33, 14, 27, 54, 4, 42, 2, 7, 2, 9, 39, 24, 48, 4, 11, 4, 15, 42, 4, 8, 11, 4, 47, 47, 1, 13, 7, 2, 2, 2, 8, 14, 4, 14, 9, 8, 1, 8, 4, 14, 9, 40, 9, 21, 2, 45, 1, 7, 4, 4, 9, 45, 4, 1, 14, 8, 1, 1, 2, 14, 1, 51, 7, 10, 9, 1, 39, 42, 9, 1, 2, 9, 2, 9, 4, 4, 4, 45, 4, 7, 1, 8, 1, 14, 1, 4, 4, 4, 1, 8, 14, 2, 4, 7, 4, 11, 5, 11, 48, 1, 1, 4, 4, 4, 9, 8, 1, 14, 4, 4, 2, 4, 8, 1, 4, 1, 42, 1, 11, 14, 5, 1, 4, 54, 6, 39, 1, 14, 4, 1], [32, 4, 34, 4, 15, 48, 48, 15, 4, 48, 24, 21, 24, 48, 3, 15, 42, 21, 22, 1, 1, 7, 14, 21, 41, 3, 4, 27, 48, 4, 28, 15, 24, 8, 1, 45, 1, 51, 4, 1, 4, 1, 21, 5, 52, 4, 14, 7, 1, 11, 4, 1, 45, 4, 7, 7, 4, 7, 7, 1, 6, 11, 4, 13, 2, 1, 10, 4, 4, 7, 52, 4, 7, 11, 2, 9, 4, 14, 4, 45, 14, 2, 51, 8, 11, 13, 54, 8, 8, 1, 48, 1, 1, 9, 7, 2, 2, 4, 2, 7, 45, 4, 45, 4, 39, 4, 4, 48, 14, 4, 14, 11, 39, 14, 48, 2, 2, 45, 4, 2, 9, 5], [36, 4, 6, 15, 14, 7, 4, 8, 15, 49, 21, 48, 15, 2, 10, 4, 48, 1, 46, 8, 1, 7, 30, 45, 15, 24, 24, 54, 4, 4, 46, 1, 36, 1, 21, 15, 8, 4, 7, 7, 1, 24, 48, 3, 1, 1, 48, 4, 4, 14, 4, 11, 1, 8, 4, 7, 4, 1, 4, 2, 14, 8, 1, 1, 52, 14, 2, 8, 4, 48, 45, 4, 48, 14, 9, 1, 1, 1, 4, 4, 1, 1, 8, 14, 7, 1, 48, 11, 8, 1, 2, 1, 1, 8, 1, 8, 1, 8, 1, 4, 48, 1, 1, 7, 8, 14, 12, 1, 1, 8, 1, 1, 7, 5, 7, 14, 5, 11, 4, 27, 45, 14, 8, 8, 14, 1, 11, 4, 4, 14, 14, 1, 4, 4, 7, 1, 8, 7, 14], [21, 15, 8, 31, 11, 22, 48, 48, 24, 28, 3, 24, 15, 1, 7, 46, 24, 6, 18, 1, 8, 49, 48, 39, 18, 4, 36, 1, 45, 4, 14, 7, 8, 2, 0, 7, 1, 33, 4, 1, 11, 21, 11, 14, 11, 4, 18, 1, 4, 21, 48, 45, 11, 48, 4, 1, 14, 9, 9, 54, 15, 1, 4, 1, 1, 14, 48, 4, 4, 9, 14, 8, 6, 24, 2, 37, 4, 8, 4, 45, 4, 4, 1, 8, 4, 4, 54, 4, 48, 9, 4, 7, 4, 39, 4, 8, 4, 11, 8, 4, 11, 4, 1, 9, 7, 39, 4, 7, 51, 4, 11, 1, 8, 1, 14, 8, 7, 2, 1, 8, 1, 4, 1, 1, 14, 4, 14, 45, 1, 1, 14, 4, 11, 1, 14, 48, 45, 45, 14, 14], [15, 13, 1, 48, 24, 9, 14, 45, 21, 21, 15, 36, 40, 21, 1, 24, 15, 24, 46, 42, 7, 31, 48, 15, 42, 15, 56, 7, 1, 15, 8, 8, 51, 4, 8, 9, 37, 1, 45, 1, 11, 8, 24, 37, 1, 27, 48, 5, 14, 8, 1, 7, 14, 33, 40, 4, 7, 4, 11, 11, 11, 42, 11, 1, 7, 7, 7, 48, 13, 1, 8, 11, 14, 4, 2, 11, 14, 9, 11, 45, 1, 4, 11, 39, 1, 4, 4, 48, 50, 8, 1, 14, 28, 2, 9, 2, 8, 7, 8, 4, 7, 1, 8, 7, 51, 1, 11, 4, 4, 8, 1, 8, 11, 1, 4, 1, 2, 48, 39, 11, 1, 1, 7, 1, 2, 4, 14, 8, 2, 4, 7, 48, 8, 4, 7, 1, 45, 1, 1, 4, 4, 51, 1, 4, 2, 14, 7, 8, 1, 1, 4, 9, 1, 7, 11, 4, 4, 48], [21, 15, 6, 21, 52, 33, 24, 24, 48, 15, 50, 1, 33, 1, 15, 24, 21, 24, 14, 42, 7, 21, 24, 1, 1, 9, 14, 15, 22, 1, 9, 9, 8, 48, 4, 7, 14, 7, 14, 31, 7, 7, 7, 7, 9, 7, 14, 1, 11, 2, 14, 1, 3, 4, 7, 1, 1, 4, 54, 1, 1, 7, 4, 7, 4, 7, 9, 2, 9, 6, 14, 1, 7, 39, 8, 7, 4, 7, 7, 1, 6, 11, 14, 14, 14, 2, 1, 14, 2, 1, 1, 14, 54, 7, 8, 1, 9, 2, 2, 1, 39, 1, 48, 1, 8, 39, 7, 9, 1, 7, 39, 14, 5, 1, 4, 7, 4, 1, 2, 1, 39, 1, 5, 14, 5, 8, 11, 4, 8, 48, 14, 51, 9, 5, 7, 1, 1, 45, 4, 8, 4, 14, 1, 8, 8, 45, 8, 45, 4], [54, 28, 24, 15, 48, 54, 1, 7, 12, 15, 21, 24, 18, 4, 4, 1, 14, 7, 2, 54, 1, 6, 5, 56, 45, 7, 4, 7, 8, 1, 39, 21, 4, 15, 46, 52, 9, 4, 11, 4, 1, 27, 24, 39, 42, 4, 30, 1, 2, 50, 3, 42, 45, 7, 7, 14, 13, 4, 4, 21, 39, 4, 7, 11, 7, 6, 4, 6, 1, 4, 2, 4, 1, 21, 1, 7, 4, 14, 7, 45, 39, 4, 9, 8, 14, 1, 9, 8, 48, 1, 1, 4, 1, 1, 14, 1, 1, 11, 1, 1, 14, 45, 14, 8, 1, 45, 4, 1, 7, 48, 14, 39, 8, 4, 1, 11, 1, 11, 8, 8, 11, 4, 2, 1, 1, 1, 1, 1, 39, 14, 7, 45, 14, 2, 1, 2, 52, 8, 39, 9, 2, 4, 8, 1, 45, 1, 1, 9, 4, 48, 8, 39, 4, 48, 7, 14, 1, 4], [24, 24, 41, 11, 52, 22, 55, 21, 24, 48, 24, 33, 24, 38, 18, 45, 15, 4, 45, 39, 24, 10, 4, 7, 39, 7, 4, 48, 15, 8, 1, 10, 1, 23, 1, 45, 4, 1, 48, 1, 4, 14, 21, 1, 45, 11, 7, 4, 12, 48, 36, 8, 4, 7, 1, 8, 39, 1, 39, 8, 4, 1, 7, 7, 1, 1, 1, 1, 1, 9, 56, 4, 14, 4, 4, 1, 2, 48, 4, 8, 8, 4, 45, 6, 1, 48, 4, 4, 4, 45, 14, 14, 7, 14, 9, 7, 39, 4, 1, 48, 11, 1, 1, 7, 11, 7, 7, 1, 36, 14, 14, 2, 14, 46, 14, 4, 9, 8, 14, 7, 1, 45, 1, 7, 5, 4, 4, 4, 48, 1, 45, 7, 4, 8, 48, 1, 7, 4, 2, 9, 7, 4, 9, 4, 2, 7, 4, 1, 7, 9, 2, 48, 6, 9, 0, 2, 11, 51, 14, 39, 39, 51, 4, 2, 11, 14], [15, 48, 32, 48, 33, 15, 1, 15, 15, 45, 48, 1, 14, 15, 24, 24, 14, 18, 14, 7, 4, 24, 1, 4, 11, 26, 48, 1, 5, 4, 1, 1, 54, 7, 14, 48, 8, 4, 1, 21, 14, 21, 1, 4, 4, 4, 11, 2, 14, 4, 45, 2, 1, 1, 1, 2, 14, 1, 45, 2, 4, 48, 1, 4, 7, 14, 11, 42, 8, 14, 1, 54, 39, 1, 1, 1, 1, 3, 5, 4, 2, 14, 36, 2, 1, 7, 4, 6, 4, 7, 2, 39, 4, 11, 4, 4, 11, 2, 14, 39, 2, 4, 1, 1, 1, 1, 2, 48, 1, 8, 1, 1, 46, 9, 48, 8, 7, 2, 2, 4, 1, 52, 1, 8, 14, 9, 4, 8, 14, 48, 1, 2, 1, 1, 48, 7, 4, 14, 4, 2, 9, 4, 1, 7, 1, 51, 14, 4], [39, 45, 24, 45, 15, 11, 40, 54, 21, 1, 39, 15, 9, 18, 14, 8, 1, 7, 4, 2, 1, 42, 41, 4, 15, 48, 8, 15, 10, 1, 42, 41, 33, 8, 1, 4, 7, 7, 4, 21, 1, 11, 4, 1, 4, 5, 4, 11, 4, 1, 51, 14, 15, 4, 28, 7, 1, 42, 4, 9, 4, 14, 4, 54, 14, 28, 11, 4, 38, 14, 11, 8, 39, 1, 7, 55, 54, 46, 24, 6, 45, 7, 1, 48, 14, 4, 1, 7, 14, 4, 7, 11, 8, 1, 39, 1, 7, 1, 4, 4, 8, 1, 39, 4, 11, 4, 1, 1, 4, 4, 14, 8, 1, 11, 24, 11, 14, 45, 8, 4, 45, 4, 45, 7, 48, 2, 14, 1, 2, 14, 4, 39, 1, 1, 39, 2, 9, 7, 4, 2, 1, 7, 1, 7, 39, 42, 2, 45, 1], [24, 2, 15, 13, 45, 24, 24, 24, 1, 21, 24, 18, 4, 15, 15, 24, 5, 39, 4, 21, 15, 4, 7, 4, 36, 34, 1, 4, 45, 14, 24, 4, 7, 11, 1, 7, 7, 4, 1, 1, 48, 14, 4, 8, 48, 3, 11, 8, 14, 1, 48, 4, 1, 48, 2, 4, 14, 43, 48, 45, 1, 42, 38, 54, 1, 45, 1, 52, 45, 54, 6, 14, 4, 52, 48, 24, 9, 4, 7, 48, 4, 42, 4, 1, 4, 4, 14, 7, 2, 11, 4, 48, 11, 14, 8, 1, 11, 14, 11, 1, 4, 14, 39, 1, 14, 45, 8, 53, 14, 4, 1, 7, 4, 48, 48, 1, 2, 4, 5, 14, 1, 7, 39, 2, 52, 8, 1, 14, 1, 1, 1, 1, 8, 14, 8, 5, 1, 45, 1, 54, 4, 1, 1, 1, 11, 52, 12, 8, 4], [15, 16, 15, 15, 43, 24, 21, 3, 3, 15, 18, 48, 48, 48, 18, 7, 48, 3, 15, 0, 42, 45, 48, 4, 2, 7, 24, 15, 45, 1, 21, 15, 7, 24, 48, 54, 11, 4, 1, 48, 3, 1, 4, 8, 1, 45, 9, 1, 4, 1, 4, 48, 15, 7, 1, 7, 54, 1, 48, 2, 9, 48, 48, 2, 48, 4, 45, 14, 39, 11, 2, 1, 4, 48, 48, 14, 4, 2, 2, 11, 4, 7, 48, 1, 6, 39, 11, 11, 1, 48, 9, 1, 11, 53, 45, 4, 1, 4, 8, 2, 2, 1, 45, 4, 0, 7, 1, 7, 2, 4, 4, 39, 48, 39, 8, 1, 2, 14, 8, 1, 9, 1, 1, 4, 7, 45, 4, 4, 1, 1, 1, 8, 4, 45, 4, 11, 4, 14, 11, 1, 7, 45, 14, 2, 9, 8, 4, 4], [15, 21, 39, 5, 9, 45, 18, 24, 1, 18, 11, 14, 8, 48, 15, 13, 11, 8, 7, 15, 48, 1, 7, 1, 42, 21, 24, 40, 1, 7, 7, 24, 1, 12, 8, 1, 7, 1, 8, 4, 11, 48, 1, 4, 12, 7, 1, 53, 4, 11, 39, 7, 1, 4, 14, 39, 45, 11, 48, 4, 8, 3, 2, 11, 1, 4, 1, 14, 39, 7, 2, 11, 11, 11, 45, 22, 1, 11, 7, 51, 8, 1, 15, 14, 4, 9, 39, 4, 48, 14, 0, 4, 1, 33, 1, 14, 12, 7, 47, 14, 4, 42, 1, 52, 7, 7, 48, 14, 11, 48, 14, 7, 3, 7, 14, 11, 1, 15, 4, 48, 21, 11, 14, 8, 1, 2, 2, 4, 1, 4, 4, 45, 54, 14, 1, 1, 1, 39, 48, 1, 4, 2, 4, 4, 7, 2, 1, 2, 11, 14, 1, 7, 4, 48, 4, 1, 52], [4, 24, 33, 52, 15, 39, 45, 15, 1, 1, 15, 10, 1, 15, 24, 48, 24, 1, 7, 1, 7, 43, 24, 1, 27, 40, 46, 7, 52, 5, 6, 8, 7, 1, 4, 7, 4, 5, 24, 48, 1, 0, 7, 14, 1, 4, 8, 6, 11, 4, 8, 11, 45, 1, 45, 14, 46, 2, 2, 48, 1, 4, 1, 48, 4, 33, 48, 45, 45, 15, 1, 14, 14, 14, 44, 7, 4, 11, 2, 48, 4, 9, 1, 6, 2, 48, 14, 42, 7, 6, 54, 1, 7, 39, 3, 48, 24, 4, 14, 11, 42, 11, 4, 4, 4, 14, 1, 2, 2, 9, 48, 14, 14, 45, 1, 4, 39, 39, 48, 4, 14, 1, 1, 21, 45, 7, 4, 1, 14, 1, 2, 5, 7, 48, 1, 2, 4, 48, 1, 39], [18, 3, 15, 15, 44, 15, 51, 10, 21, 45, 12, 28, 18, 55, 3, 15, 2, 4, 2, 39, 7, 4, 39, 45, 9, 14, 28, 24, 51, 24, 4, 55, 24, 1, 7, 11, 4, 8, 39, 8, 8, 1, 5, 3, 39, 1, 1, 8, 4, 9, 8, 8, 4, 1, 16, 7, 14, 14, 14, 1, 48, 1, 48, 4, 7, 1, 9, 7, 14, 21, 1, 45, 2, 10, 14, 2, 7, 48, 14, 45, 8, 4, 14, 6, 13, 2, 4, 9, 9, 45, 1, 4, 7, 1, 4, 14, 7, 2, 14, 14, 7, 2, 1, 54, 7, 48, 9, 14, 7, 14, 11, 1, 2, 8, 7, 8, 7, 14, 14, 1, 14, 4, 4, 1, 4, 14, 2, 14, 4, 6, 1, 4, 1, 39, 4, 18, 2, 2, 14, 9, 4, 14, 39, 15, 6, 1, 8, 1, 4, 8, 39, 46, 2, 1, 1, 8, 14, 1, 1, 14, 2, 22, 2, 45, 9, 14, 14, 7, 1, 5, 8, 1, 39, 1, 2, 14], [21, 15, 15, 22, 36, 45, 18, 15, 24, 14, 34, 4, 18, 4, 1, 21, 7, 7, 7, 11, 2, 36, 43, 14, 39, 54, 9, 11, 5, 5, 14, 8, 4, 13, 5, 4, 7, 7, 1, 18, 3, 11, 21, 4, 9, 11, 9, 4, 1, 1, 52, 11, 43, 1, 14, 7, 39, 4, 1, 45, 14, 7, 45, 1, 4, 1, 4, 1, 7, 7, 7, 1, 2, 2, 8, 8, 4, 52, 2, 8, 4, 2, 4, 1, 48, 14, 48, 7, 1, 1, 1, 14, 45, 7, 1, 5, 42, 1, 4, 4, 7, 12, 1, 11, 7, 7, 7, 54, 48, 14, 8, 11, 9, 4, 1, 7, 51, 4, 42, 14, 1, 1, 8, 4, 8, 3, 4, 1, 7, 8, 4, 7, 13, 1, 14, 1, 10, 8, 54, 8, 48, 9, 8, 51, 1, 8, 4, 1, 39, 4, 1, 7, 51, 4, 1, 52, 4, 1, 4, 1, 36, 2, 2, 2, 48, 2], [11, 24, 15, 45, 11, 3, 41, 45, 21, 14, 22, 47, 11, 1, 12, 24, 5, 36, 18, 48, 1, 2, 7, 21, 8, 40, 56, 1, 1, 4, 2, 4, 7, 9, 39, 44, 4, 8, 7, 46, 8, 39, 8, 11, 14, 14, 7, 7, 4, 1, 54, 8, 4, 4, 8, 9, 45, 39, 42, 5, 48, 56, 1, 4, 4, 11, 9, 8, 1, 7, 2, 4, 4, 4, 48, 7, 14, 4, 51, 4, 4, 7, 11, 4, 1, 4, 7, 4, 11, 48, 2, 11, 4, 4, 11, 4, 14, 7, 39, 4, 9, 3, 11, 4, 42, 3, 9, 39, 9, 45, 8, 7, 3, 8, 4, 4, 14, 6, 1, 48, 8, 1, 14, 7, 14, 8, 1, 14, 8, 1, 8, 7, 14, 8, 4, 8, 14, 7, 11, 1, 4, 8, 9, 1, 4, 5, 39, 8, 8, 1, 1, 52, 1, 11, 4, 1, 11, 6, 2, 45, 11, 14, 54, 4, 9, 4, 11, 4, 2, 7, 7, 7, 51, 48, 7, 4, 39, 14], [45, 46, 56, 21, 4, 15, 15, 15, 40, 24, 9, 15, 14, 24, 11, 39, 50, 4, 52, 18, 14, 9, 40, 24, 21, 48, 39, 15, 9, 7, 39, 4, 39, 7, 4, 48, 1, 7, 11, 14, 40, 4, 1, 4, 11, 4, 39, 4, 8, 1, 2, 4, 51, 11, 4, 42, 8, 4, 4, 7, 48, 52, 4, 45, 1, 12, 39, 1, 15, 42, 42, 7, 21, 12, 14, 24, 36, 1, 4, 1, 9, 48, 14, 4, 1, 1, 7, 14, 4, 1, 1, 2, 1, 45, 7, 1, 4, 48, 4, 4, 8, 7, 7, 1, 11, 1, 11, 14, 1, 1, 7, 1, 48, 4, 1, 14, 2, 48, 1, 4, 45, 4, 9, 2, 51, 2, 4, 14, 4, 45, 45, 9, 14, 8, 48, 4, 8, 2, 14, 14], [21, 48, 24, 15, 15, 8, 39, 11, 7, 39, 15, 52, 1, 1, 10, 18, 1, 7, 39, 24, 1, 1, 6, 1, 48, 1, 10, 15, 48, 4, 4, 21, 7, 8, 48, 45, 1, 4, 4, 24, 1, 2, 8, 6, 11, 4, 4, 4, 4, 1, 27, 45, 1, 42, 18, 7, 4, 7, 5, 2, 7, 4, 7, 39, 7, 48, 45, 52, 7, 7, 9, 7, 7, 9, 14, 5, 1, 1, 2, 4, 11, 7, 1, 11, 1, 1, 4, 7, 45, 14, 39, 5, 42, 11, 4, 11, 18, 9, 4, 1, 1, 7, 9, 1, 8, 54, 4, 4, 2, 39, 1, 14, 11, 4, 4, 1, 8, 8, 1, 14, 2, 45, 1, 7, 48, 9, 55, 4, 1, 1, 1, 8, 4, 18, 14, 2, 8, 7, 45, 4, 1, 9, 4, 2, 7, 4, 39, 7, 4], [15, 15, 15, 21, 51, 11, 14, 4, 48, 7, 15, 24, 45, 1, 24, 8, 18, 7, 1, 45, 51, 15, 7, 24, 15, 36, 1, 1, 8, 8, 5, 4, 1, 1, 7, 51, 6, 42, 11, 2, 4, 1, 52, 4, 43, 1, 1, 47, 4, 14, 30, 11, 48, 11, 4, 54, 1, 45, 4, 4, 4, 45, 45, 37, 14, 4, 48, 4, 48, 1, 1, 1, 7, 14, 14, 14, 9, 4, 48, 11, 4, 45, 7, 11, 45, 45, 14, 8, 4, 7, 1, 2, 11, 11, 4, 45, 11, 27, 2, 4, 7, 4, 14, 4, 6, 4, 4, 4, 9, 42, 5, 4, 4, 14, 8, 11, 4, 39, 1, 1, 1, 1, 1, 1, 1, 4, 6, 4, 4, 14, 7, 11, 1, 4, 1, 14, 2, 7, 4, 51, 9, 4, 11, 7, 7, 45, 45, 8, 39, 4, 8, 4, 45, 1, 7, 11, 4, 4, 39, 4, 4, 4, 48, 4, 1, 7, 7, 1, 14, 42, 1, 14, 4, 9, 9, 4, 1, 7, 4, 4], [24, 24, 45, 24, 18, 48, 1, 1, 42, 15, 15, 51, 21, 48, 45, 4, 10, 33, 14, 14, 7, 14, 39, 51, 8, 14, 4, 4, 7, 1, 7, 39, 11, 24, 7, 1, 7, 4, 4, 1, 1, 1, 15, 8, 1, 52, 24, 7, 4, 4, 45, 11, 7, 48, 2, 1, 7, 21, 1, 7, 7, 48, 15, 21, 2, 9, 7, 4, 46, 1, 4, 6, 4, 4, 42, 48, 7, 2, 1, 4, 14, 2, 1, 14, 1, 1, 4, 4, 9, 7, 11, 9, 1, 1, 8, 45, 4, 4, 8, 3, 1, 4, 1, 8, 42, 11, 7, 1, 1, 1, 9, 4, 1, 39, 1, 7, 53, 11, 45, 14, 1, 45, 1, 2, 7, 4, 33, 4, 14, 6, 24, 14, 1, 2, 45, 1, 1, 4, 14, 1, 14, 48, 1, 1, 4, 4, 14, 1, 2, 7, 11, 39, 4, 51, 1, 4, 4, 1, 7, 2, 11, 3, 1, 11, 1, 1, 54, 8, 4, 7, 2, 2, 8, 4, 7, 14, 1, 4, 4, 4, 46, 14, 8, 27, 6, 2, 1, 4, 1, 2, 45, 7, 2, 48, 21, 1, 7, 48, 1, 2, 39, 1], [15, 24, 48, 15, 24, 24, 21, 14, 15, 21, 48, 36, 15, 21, 15, 41, 39, 7, 14, 8, 21, 2, 45, 21, 35, 14, 24, 4, 1, 7, 11, 51, 1, 8, 14, 1, 7, 1, 39, 48, 8, 4, 1, 2, 7, 4, 11, 11, 43, 11, 45, 14, 8, 11, 1, 11, 2, 2, 4, 10, 11, 4, 1, 42, 1, 4, 39, 39, 9, 14, 4, 4, 4, 52, 14, 39, 48, 45, 1, 45, 51, 47, 8, 4, 4, 4, 5, 4, 22, 14, 7, 21, 14, 4, 4, 39, 4, 2, 7, 4, 14, 48, 48, 1, 11, 1, 14, 1, 7, 1, 1, 14, 4, 48, 8, 8, 14, 8, 14, 1, 8, 1, 1, 4, 4, 1, 2, 4, 1, 14, 2, 1, 1, 48, 1, 1, 1, 1, 4, 1, 1, 1, 2, 14, 1, 9, 45, 4, 4, 7, 5, 8, 4, 11, 4, 9, 11, 1, 48, 39, 8, 8, 7, 1, 1, 8, 11, 4, 1, 1, 4, 4, 4, 8, 4], [24, 49, 24, 36, 17, 24, 14, 15, 1, 24, 24, 2, 46, 21, 5, 14, 24, 24, 1, 1, 7, 4, 21, 1, 2, 15, 10, 18, 14, 1, 4, 36, 1, 45, 8, 1, 53, 15, 1, 11, 4, 11, 8, 1, 7, 11, 1, 4, 4, 11, 39, 1, 5, 1, 30, 54, 11, 4, 7, 4, 42, 4, 4, 4, 11, 14, 9, 14, 8, 48, 39, 14, 1, 1, 48, 4, 8, 18, 4, 1, 7, 1, 1, 4, 12, 1, 1, 7, 48, 9, 1, 14, 1, 9, 1, 9, 48, 54, 11, 48, 4, 8, 1, 7, 1, 8, 1, 1, 11, 1, 45, 4, 7, 7, 48, 1, 49, 1, 14, 11, 9, 2, 48, 4, 7, 2, 14, 21, 11, 1, 1, 2, 7, 1, 4, 48, 48, 39, 1, 1, 7, 14, 14, 30, 48, 1, 4, 8, 14, 1, 1, 8, 7, 4, 4, 48, 11, 1, 14, 1, 48, 48, 48, 1, 4, 1, 4, 1, 14, 1, 1, 1, 14, 2, 7], [45, 24, 15, 1, 48, 8, 15, 4, 9, 48, 14, 15, 52, 46, 1, 39, 21, 52, 42, 7, 15, 45, 9, 15, 24, 44, 7, 1, 7, 48, 3, 4, 8, 24, 1, 21, 45, 14, 4, 48, 14, 7, 7, 30, 1, 11, 1, 1, 11, 1, 14, 4, 11, 14, 4, 4, 1, 1, 6, 45, 4, 8, 4, 1, 9, 4, 3, 1, 14, 4, 15, 27, 7, 1, 1, 8, 7, 48, 36, 1, 1, 1, 4, 1, 1, 14, 14, 8, 45, 4, 7, 7, 8, 9, 8, 1, 4, 46, 48, 1, 4, 45, 52, 11, 1, 14, 2, 1, 45, 7, 4, 14, 4, 14, 14, 2, 2, 45, 2, 53, 11, 2, 2, 14, 2, 4, 2, 7, 4, 4, 39, 2, 14, 4, 21, 42, 2, 14, 4, 4], [4, 14, 15, 1, 15, 11, 8, 5, 1, 4, 24, 24, 14, 7, 48, 39, 15, 15, 4, 15, 24, 10, 38, 1, 1, 7, 15, 8, 5, 1, 7, 4, 7, 11, 51, 1, 4, 6, 8, 24, 14, 7, 9, 1, 1, 8, 11, 7, 2, 4, 14, 1, 15, 4, 1, 2, 14, 4, 1, 42, 14, 7, 4, 5, 14, 4, 9, 14, 48, 48, 39, 3, 21, 8, 42, 11, 39, 4, 1, 14, 1, 7, 7, 46, 7, 4, 7, 48, 7, 1, 7, 1, 1, 8, 1, 8, 47, 11, 1, 4, 1, 8, 7, 42, 1, 1, 4, 1, 9, 8, 1, 4, 4, 48, 7, 7, 1, 48, 9, 2, 14, 1, 9, 45, 4, 2, 39, 14, 14, 7, 11, 14, 14, 11, 11, 4, 7, 11, 9, 1, 30, 45, 11, 11, 14, 4, 9, 45, 4, 2, 4, 5, 4, 11, 21, 1, 4, 1], [7, 54, 42, 45, 48, 6, 55, 27, 45, 15, 6, 1, 7, 24, 45, 15, 1, 7, 48, 8, 18, 1, 48, 7, 21, 8, 14, 2, 42, 1, 8, 15, 22, 1, 7, 8, 4, 7, 4, 1, 14, 2, 39, 1, 39, 11, 14, 7, 2, 7, 11, 7, 1, 4, 1, 9, 48, 14, 4, 39, 9, 4, 1, 2, 56, 14, 2, 4, 8, 2, 1, 48, 14, 48, 52, 2, 4, 4, 2, 11, 2, 46, 7, 7, 48, 9, 48, 7, 14, 42, 8, 7, 46, 45, 48, 2, 52, 4, 2, 7, 39, 54, 4, 4, 46, 9, 4, 8, 4, 8, 11, 54, 7, 14, 7, 4, 4, 1, 4, 2, 7, 8, 1, 1, 1, 9, 4, 4, 14, 9, 54, 8, 2, 1, 9, 39, 4, 11, 9, 2, 1, 14, 9, 1, 4, 48, 48, 1, 7, 4, 13, 8, 7, 8, 4, 4, 11, 11, 4, 11, 4, 8, 45, 4, 7, 46, 2, 14, 1, 2, 11, 4, 14, 4, 42], [45, 33, 21, 24, 24, 33, 14, 8, 24, 15, 8, 5, 14, 14, 4, 5, 54, 39, 37, 7, 52, 24, 18, 48, 50, 1, 7, 13, 4, 8, 8, 24, 21, 4, 7, 1, 15, 8, 1, 42, 8, 4, 1, 39, 39, 8, 2, 8, 33, 8, 1, 11, 14, 1, 39, 8, 14, 4, 4, 14, 6, 1, 48, 8, 1, 5, 46, 4, 9, 9, 45, 46, 4, 8, 9, 8, 14, 42, 6, 4, 3, 48, 14, 14, 1, 1, 15, 7, 4, 45, 8, 6, 48, 36, 8, 8, 11, 1, 48, 8, 1, 7, 4, 7, 4, 11, 1, 7, 4, 4, 11, 4, 8, 14, 1, 48, 51, 45, 11, 48, 4, 4, 11, 1, 1, 8, 9, 1, 4, 11, 1, 9, 4, 2, 1, 1, 14, 2, 4, 1, 14, 39, 14, 1, 1, 45, 52, 1, 9, 14, 14, 14, 9, 11, 1, 1, 1, 9, 7, 4, 1, 1, 8, 45, 8, 4, 1, 1, 1, 8, 1, 4, 1, 4, 27, 1, 52, 48, 1, 1, 1, 1, 42, 1], [21, 21, 48, 39, 15, 24, 4, 15, 11, 5, 46, 3, 42, 53, 24, 15, 48, 5, 42, 14, 21, 7, 7, 7, 21, 13, 15, 1, 7, 13, 24, 3, 3, 18, 39, 7, 45, 1, 1, 8, 7, 42, 3, 3, 7, 1, 8, 18, 1, 4, 7, 1, 4, 4, 11, 2, 14, 1, 1, 2, 9, 52, 11, 2, 7, 45, 7, 54, 14, 4, 39, 1, 7, 11, 54, 4, 1, 7, 4, 4, 2, 1, 4, 1, 1, 14, 2, 4, 46, 7, 48, 1, 14, 14, 4, 4, 4, 11, 1, 1, 45, 8, 1, 1, 14, 14, 9, 14, 14, 2, 4, 7, 8, 4, 2, 2, 11, 4, 2, 48, 1, 4, 11, 4, 4, 2, 1, 45, 4, 5, 4, 11, 4, 4, 14, 9, 39, 1, 39, 14, 46, 4, 14, 4, 1, 14, 8, 14, 7], [7, 41, 24, 9, 24, 18, 15, 15, 21, 56, 18, 18, 49, 15, 9, 12, 1, 15, 39, 4, 9, 5, 7, 11, 15, 37, 18, 45, 4, 1, 1, 20, 13, 1, 1, 3, 48, 4, 11, 14, 4, 54, 2, 4, 48, 4, 6, 1, 3, 11, 14, 14, 16, 4, 11, 2, 13, 39, 11, 2, 11, 11, 14, 4, 7, 14, 48, 2, 5, 7, 39, 11, 54, 45, 11, 11, 11, 4, 14, 1, 7, 4, 7, 42, 54, 1, 14, 7, 8, 4, 4, 11, 11, 4, 45, 1, 8, 11, 8, 7, 7, 7, 14, 14, 4, 14, 48, 4, 1, 14, 39, 1, 8, 1, 1, 8, 1, 2, 1, 4, 4, 1, 11, 11, 1, 9, 2, 9, 14, 4, 1, 4, 45, 4, 8, 48, 8, 9, 4], [9, 18, 9, 1, 21, 18, 14, 18, 48, 53, 39, 46, 15, 45, 4, 7, 39, 52, 4, 14, 15, 4, 14, 4, 4, 4, 1, 3, 9, 9, 15, 18, 40, 2, 55, 37, 7, 8, 30, 8, 30, 7, 11, 7, 4, 6, 8, 8, 7, 7, 7, 8, 1, 1, 1, 2, 2, 8, 4, 7, 1, 45, 4, 14, 1, 9, 1, 7, 7, 7, 36, 2, 48, 1, 7, 14, 1, 4, 4, 13, 1, 4, 14, 14, 14, 7, 8, 4, 39, 8, 0, 1, 4, 11, 45, 48, 11, 4, 4, 14, 1, 1, 1, 7, 42, 8, 1, 45, 6, 2, 9, 4, 8, 5, 8, 4, 7, 14, 16, 8, 48, 1, 1, 1, 9, 9, 46, 2, 8, 39, 8, 11, 4, 7, 1, 9, 39, 1, 45, 14, 6, 4, 1, 7, 48, 4, 1, 11, 8, 4, 1, 14, 7, 2, 9, 1, 7, 1, 1, 1, 4, 4, 4, 4, 14, 1, 8, 8, 9, 2, 7, 1, 15, 53, 4, 14, 48, 11, 1, 7, 4, 4, 45, 2], [18, 4, 4, 41, 45, 14, 52, 39, 1, 1, 34, 4, 10, 48, 7, 45, 21, 36, 21, 33, 11, 3, 12, 54, 40, 21, 21, 48, 48, 14, 5, 11, 48, 4, 21, 24, 4, 39, 4, 5, 15, 21, 14, 4, 4, 39, 4, 9, 14, 2, 1, 39, 1, 7, 11, 8, 1, 8, 36, 1, 8, 8, 52, 2, 4, 14, 8, 1, 4, 4, 7, 4, 1, 7, 4, 51, 1, 1, 14, 1, 4, 11, 6, 9, 4, 1, 48, 4, 21, 14, 1, 1, 1, 4, 11, 1, 2, 4, 4, 48, 1, 7, 9, 4, 4, 1, 8, 14, 14, 1, 4, 7, 48, 4, 4, 4, 39, 8, 4, 4, 4, 4, 11, 14, 8, 8, 1, 4, 2, 1, 9], [12, 22, 46, 15, 1, 15, 18, 9, 46, 11, 15, 4, 15, 15, 52, 1, 24, 4, 2, 7, 21, 4, 9, 4, 1, 2, 54, 8, 39, 4, 4, 21, 18, 1, 11, 48, 1, 7, 4, 54, 2, 7, 1, 8, 42, 4, 2, 48, 8, 9, 1, 45, 45, 14, 45, 4, 1, 1, 52, 4, 4, 48, 4, 1, 48, 4, 11, 1, 39, 7, 45, 4, 14, 7, 2, 48, 4, 7, 46, 11, 2, 45, 11, 4, 4, 12, 4, 4, 48, 8, 24, 4, 48, 45, 1, 11, 4, 9, 9, 1, 2, 2, 14, 1, 2, 4, 1, 4, 14, 7, 14, 4, 1, 48, 1, 14, 7, 4, 4, 14, 8, 42, 4, 1, 4, 4, 45, 7, 4, 48, 1, 14, 4, 1, 1, 8, 4, 14, 8, 11], [21, 21, 18, 21, 24, 39, 11, 5, 46, 4, 48, 5, 24, 8, 9, 4, 45, 7, 39, 45, 21, 54, 54, 18, 21, 6, 16, 14, 11, 5, 49, 7, 54, 45, 7, 4, 33, 11, 11, 2, 45, 36, 54, 48, 18, 45, 7, 47, 36, 2, 4, 45, 45, 4, 10, 1, 7, 45, 1, 2, 6, 14, 9, 14, 9, 14, 1, 7, 7, 14, 2, 45, 48, 48, 48, 51, 5, 2, 48, 2, 1, 1, 45, 4, 2, 14, 4, 7, 4, 34, 11, 4, 3, 14, 4, 48, 52, 2, 1, 4, 5, 1, 7, 11, 4, 48, 11, 45, 14, 4, 8, 8, 2, 8, 4, 4, 4, 8, 11, 48, 8, 7, 7, 1, 1, 14, 5, 8, 1, 6, 4, 2, 7, 9, 1, 1, 39, 1, 14, 11, 11, 4, 39, 1, 2, 39, 37, 8, 11, 4, 3, 45, 14, 39, 39, 4, 7], [46, 55, 15, 51, 5, 56, 15, 24, 24, 4, 29, 45, 40, 48, 48, 45, 7, 21, 1, 24, 7, 1, 1, 14, 7, 2, 51, 1, 15, 54, 8, 45, 36, 4, 10, 8, 7, 8, 1, 14, 14, 4, 7, 1, 1, 4, 9, 11, 1, 4, 1, 7, 11, 1, 14, 13, 39, 15, 45, 4, 21, 4, 4, 18, 1, 1, 1, 1, 14, 8, 7, 28, 45, 56, 9, 21, 8, 1, 4, 1, 7, 39, 8, 2, 7, 4, 4, 4, 1, 39, 4, 1, 14, 2, 9, 14, 54, 1, 9, 7, 43, 2, 48, 7, 1, 45, 11, 53, 2, 4, 8, 14, 1, 3, 2, 2, 7, 7, 2, 4, 10, 4, 14, 1, 1, 8, 4, 1, 39, 9, 6, 1, 8, 9, 9, 14, 2, 8, 14, 1, 48, 7, 48, 45, 7, 8, 46, 54, 1, 6, 1, 39, 8, 1, 45, 4, 2], [21, 18, 9, 3, 52, 30, 15, 4, 18, 48, 15, 47, 45, 9, 45, 8, 9, 18, 42, 39, 48, 9, 18, 27, 18, 24, 48, 22, 39, 53, 11, 4, 45, 14, 15, 7, 56, 41, 51, 8, 4, 4, 2, 45, 7, 54, 8, 2, 11, 6, 4, 14, 39, 9, 2, 9, 1, 39, 1, 7, 8, 7, 7, 4, 4, 39, 2, 4, 1, 7, 14, 9, 7, 48, 7, 48, 8, 8, 14, 2, 48, 42, 4, 14, 8, 7, 1, 48, 21, 1, 8, 8, 1, 39, 48, 1, 4, 7, 1, 8, 4, 14, 8, 1, 7, 2, 14, 4, 11, 45, 2, 2, 8, 3, 14, 4, 2, 1, 7, 8, 14, 1, 9, 7, 1, 4, 8, 8, 4, 1, 1, 36, 8, 9, 45, 7, 8, 1, 1, 1, 1, 46, 4, 1, 4, 1, 48, 4, 8, 1, 48, 14, 4, 4, 4, 1, 55, 1, 45, 14, 4, 4, 7, 2, 1, 4], [11, 2, 15, 0, 8, 4, 8, 15, 45, 4, 18, 48, 39, 1, 30, 18, 7, 39, 21, 15, 1, 45, 21, 4, 4, 1, 7, 8, 7, 1, 4, 14, 15, 8, 6, 4, 39, 11, 24, 8, 45, 4, 14, 14, 1, 50, 1, 15, 7, 7, 1, 1, 4, 4, 48, 7, 48, 7, 1, 7, 27, 14, 8, 45, 1, 4, 8, 4, 1, 7, 4, 33, 48, 8, 14, 48, 1, 1, 48, 1, 8, 39, 4, 1, 4, 9, 4, 1, 1, 14, 11, 8, 48, 48, 1, 39, 54, 1, 7, 2, 7, 45, 4, 7, 48, 4, 1, 4, 4, 9, 1, 43, 9, 4, 11, 2, 5, 7, 4, 4, 45, 48, 14, 48, 11, 14, 39, 1, 14, 1, 11, 39, 4, 8, 1, 8, 8, 4, 1, 7, 7, 1, 14, 14, 8, 48, 8, 8, 1, 48, 8, 45, 45, 14, 1, 1, 11], [49, 42, 14, 15, 15, 45, 48, 52, 6, 48, 27, 47, 24, 1, 7, 55, 51, 48, 2, 1, 18, 7, 41, 24, 7, 15, 48, 8, 7, 13, 54, 1, 53, 15, 1, 8, 1, 4, 1, 7, 45, 4, 14, 4, 21, 45, 2, 51, 1, 11, 8, 11, 8, 4, 8, 39, 53, 11, 30, 4, 1, 4, 4, 5, 9, 1, 4, 4, 2, 45, 7, 2, 2, 1, 14, 1, 1, 14, 5, 4, 1, 4, 1, 14, 42, 14, 4, 1, 1, 4, 4, 4, 14, 7, 1, 4, 1, 1, 9, 45, 7, 8, 1, 1, 11, 8, 1, 1, 11, 1, 8, 11, 4, 4, 1, 45, 7, 1, 1, 4, 39, 4, 4, 4, 4, 4, 51, 14, 24, 8, 8, 4, 42, 1, 48, 14, 4, 1, 2, 4, 14, 5, 14, 4, 7, 4, 8, 8, 2, 8, 6, 4, 8, 5, 1, 8, 1, 11, 4, 4, 4, 4, 4, 4, 2, 4, 1, 52, 4, 9, 4, 8, 1, 14, 4, 14, 14, 14, 14], [24, 2, 18, 47, 15, 54, 15, 4, 4, 14, 44, 52, 15, 4, 42, 7, 51, 1, 36, 4, 50, 4, 21, 7, 1, 30, 7, 40, 39, 4, 15, 11, 1, 1, 43, 21, 7, 8, 7, 1, 2, 14, 9, 4, 11, 4, 40, 14, 1, 8, 1, 4, 4, 4, 1, 48, 4, 7, 2, 5, 4, 11, 14, 48, 14, 1, 11, 39, 5, 7, 2, 5, 9, 14, 40, 14, 12, 1, 1, 4, 7, 21, 8, 45, 45, 14, 1, 1, 8, 11, 48, 5, 1, 8, 1, 1, 1, 1, 14, 48, 8, 4, 45, 39, 47, 1, 7, 4, 48, 4, 1, 2, 1, 1, 2, 11, 14, 11, 9, 4, 7, 8, 7, 46, 7, 4, 14, 9, 39, 45, 2, 1, 14, 39, 14, 1, 1, 4, 48, 48, 4, 14, 3, 1, 7, 8, 1, 14, 6, 9, 7, 48, 14, 14, 7, 8, 1, 1, 1, 4, 48, 9, 2, 7, 1, 14], [12, 23, 22, 39, 24, 18, 1, 39, 4, 16, 24, 7, 18, 15, 48, 14, 4, 7, 34, 18, 14, 42, 8, 1, 45, 1, 14, 45, 24, 6, 11, 1, 7, 1, 39, 1, 7, 1, 7, 4, 15, 1, 1, 52, 1, 8, 14, 7, 1, 1, 7, 9, 9, 4, 2, 11, 39, 40, 4, 42, 14, 14, 1, 11, 1, 39, 1, 4, 2, 1, 4, 7, 1, 39, 1, 1, 7, 7, 1, 7, 8, 4, 7, 1, 45, 14, 33, 11, 7, 7, 9, 8, 14, 7, 1, 4, 2, 2, 1, 1, 11, 9, 1, 1, 2, 1, 4, 45, 4, 14, 4, 4, 11, 48, 1, 7, 1, 2, 7, 14, 48, 4, 4, 1, 1, 11, 11, 14, 1, 11, 4, 7, 45, 14, 8, 11, 1, 1, 9, 8, 2, 4, 1, 1, 11, 7, 1, 7, 4, 4, 8, 4, 1, 2, 8, 39, 1, 8, 1, 4, 4, 1, 4, 39, 2, 52, 1, 1, 9, 54, 40, 1, 11, 4, 14], [53, 24, 13, 12, 15, 24, 10, 50, 7, 36, 21, 42, 24, 18, 52, 36, 12, 39, 46, 6, 15, 39, 54, 14, 4, 14, 15, 5, 23, 7, 11, 9, 1, 22, 11, 48, 21, 24, 4, 11, 0, 9, 21, 11, 7, 6, 4, 8, 4, 2, 8, 4, 4, 8, 14, 9, 45, 7, 4, 11, 18, 7, 8, 1, 7, 2, 4, 45, 7, 2, 4, 7, 7, 7, 1, 7, 14, 1, 27, 14, 11, 39, 1, 1, 48, 1, 1, 1, 2, 8, 1, 4, 4, 7, 48, 1, 1, 4, 10, 1, 7, 1, 14, 39, 4, 1, 9, 7, 4, 1, 7, 12, 1, 4, 39, 39, 48, 2, 39, 1, 11, 8, 1, 4, 45, 7, 14, 8, 1, 1, 1, 8, 6, 2, 1, 1, 4, 1, 14, 14, 1, 7, 8, 7, 8, 11, 7, 8, 4, 7, 2, 1, 14, 8, 48, 4, 1, 1], [54, 8, 15, 35, 44, 48, 54, 15, 7, 15, 24, 15, 45, 24, 1, 7, 9, 0, 47, 45, 11, 24, 8, 14, 1, 1, 11, 8, 7, 1, 41, 8, 8, 8, 4, 7, 14, 1, 1, 7, 14, 1, 7, 11, 4, 11, 15, 11, 7, 4, 45, 8, 8, 4, 4, 42, 4, 45, 1, 14, 4, 9, 48, 8, 1, 4, 46, 14, 4, 1, 14, 4, 1, 9, 7, 14, 1, 9, 48, 9, 9, 21, 1, 4, 4, 8, 14, 1, 14, 4, 4, 7, 4, 1, 7, 1, 1, 2, 48, 39, 11, 9, 8, 1, 7, 1, 8, 48, 1, 11, 7, 1, 1, 4, 14, 45, 1, 6, 7, 56, 11, 42, 11, 48, 11, 4, 4, 9, 11, 14, 8, 14, 48, 4, 39, 1, 42, 4, 1, 7], [4, 15, 5, 18, 7, 42, 1, 1, 10, 1, 39, 48, 21, 1, 24, 7, 15, 10, 24, 51, 24, 21, 23, 45, 1, 4, 39, 15, 45, 23, 5, 8, 7, 1, 1, 45, 4, 7, 7, 45, 18, 4, 8, 11, 1, 48, 48, 3, 11, 1, 8, 2, 9, 7, 7, 2, 5, 4, 45, 45, 7, 2, 14, 2, 8, 4, 14, 11, 4, 4, 54, 48, 48, 48, 14, 14, 54, 48, 14, 18, 11, 4, 11, 36, 48, 4, 1, 7, 4, 2, 18, 1, 4, 11, 48, 4, 48, 1, 11, 4, 48, 2, 1, 4, 4, 8, 4, 39, 8, 45, 1, 7, 4, 4, 55, 7, 51, 48, 2, 4, 7, 51, 4, 48, 14, 10, 46, 1, 27, 14, 4, 1, 7, 4, 9, 2, 7, 7, 1, 1, 1, 4, 1, 7, 1, 4, 6, 45, 11], [21, 11, 28, 41, 11, 45, 42, 50, 24, 21, 15, 10, 2, 18, 8, 39, 4, 48, 4, 21, 1, 18, 5, 14, 4, 7, 11, 7, 8, 1, 5, 7, 4, 7, 10, 9, 42, 1, 11, 4, 48, 4, 8, 9, 15, 1, 8, 1, 6, 9, 1, 27, 2, 9, 11, 4, 46, 8, 1, 4, 21, 1, 54, 11, 39, 7, 7, 14, 11, 9, 14, 45, 1, 45, 45, 8, 45, 1, 14, 8, 4, 7, 48, 7, 1, 4, 11, 8, 4, 48, 8, 7, 8, 7, 1, 14, 9, 9, 4, 4, 45, 7, 2, 14, 4, 4, 1, 36, 8, 37, 4, 8, 11, 48, 7, 2, 4, 1, 14, 11, 1, 9, 4, 8, 11, 1, 39, 9, 1, 2, 4, 4, 12, 8, 8, 46, 14, 51, 48, 1, 45, 4, 2, 1, 4, 1, 14, 4, 2, 4, 14, 4, 2, 14, 4, 14, 14], [53, 45, 15, 7, 7, 14, 9, 15, 18, 15, 13, 15, 28, 22, 21, 14, 8, 7, 18, 8, 15, 1, 4, 1, 14, 43, 5, 7, 24, 2, 2, 4, 45, 1, 7, 54, 1, 1, 46, 1, 11, 8, 48, 1, 1, 1, 11, 14, 1, 13, 1, 1, 1, 2, 14, 2, 1, 7, 4, 8, 1, 39, 7, 14, 2, 1, 4, 48, 45, 4, 2, 14, 8, 8, 1, 1, 45, 14, 48, 2, 9, 4, 7, 1, 2, 8, 21, 8, 45, 14, 8, 48, 1, 1, 8, 1, 39, 1, 8, 10, 1, 3, 2, 1, 4, 48, 1, 7, 4, 8, 4, 39, 8, 11, 1, 45, 1, 2, 9, 7, 44, 1, 11, 7, 39, 1, 4, 1, 1, 8, 1, 7, 39, 8, 14, 8, 9, 4, 1, 4, 4, 1, 48, 8, 1, 1, 1, 8, 2, 1, 4, 54, 14, 14, 1, 4, 8, 1, 1, 7, 2, 8, 4, 11, 8, 4, 14, 4, 7, 45, 48, 11, 8, 4, 51], [15, 48, 1, 1, 22, 14, 33, 4, 15, 6, 41, 27, 24, 4, 18, 1, 39, 7, 4, 14, 21, 18, 48, 8, 1, 48, 39, 14, 24, 4, 3, 8, 7, 1, 14, 4, 51, 40, 4, 1, 24, 14, 48, 7, 8, 1, 7, 4, 45, 11, 7, 4, 2, 11, 4, 1, 9, 14, 52, 4, 14, 42, 18, 8, 1, 38, 8, 4, 4, 10, 42, 1, 4, 1, 1, 8, 45, 1, 14, 4, 1, 45, 45, 4, 2, 14, 7, 1, 45, 4, 2, 2, 4, 2, 39, 4, 14, 14, 3, 11, 48, 2, 4, 4, 4, 14, 4, 1, 14, 1, 2, 7, 1, 1, 7, 4, 2, 4, 8, 14, 7, 14, 8, 14, 1, 1, 14, 45, 2, 14, 54, 14, 52, 11, 45, 1, 8, 39, 4, 1, 4, 55, 45, 6, 1, 11, 1, 1, 4, 7, 2, 14, 8, 14, 9, 1, 14, 7, 45, 4, 1, 42, 8, 11, 1, 4, 11, 14, 8, 8, 1, 4, 1, 1, 1], [36, 24, 0, 18, 4, 39, 42, 7, 14, 45, 8, 15, 15, 18, 4, 7, 18, 15, 11, 54, 48, 6, 24, 7, 39, 56, 15, 10, 48, 42, 11, 1, 9, 4, 22, 39, 55, 27, 1, 9, 55, 11, 15, 43, 14, 4, 8, 8, 4, 39, 1, 7, 7, 14, 24, 2, 21, 14, 1, 8, 1, 48, 8, 45, 2, 14, 7, 4, 7, 1, 8, 1, 4, 8, 14, 4, 1, 4, 9, 1, 8, 14, 11, 45, 2, 1, 4, 4, 11, 4, 9, 2, 9, 8, 9, 7, 4, 11, 14, 9, 4, 4, 4, 2, 1, 51, 2, 7, 7, 7, 14, 4, 1, 1, 2, 6, 1, 7, 1, 7, 7, 4, 52, 1, 4, 1, 8, 1, 14, 1, 8, 42, 1, 8, 4, 8, 1, 1, 1, 4, 8, 1, 4, 14, 2, 7, 4, 1, 6, 14, 39, 11, 4, 11, 1, 4, 11, 4, 14, 4, 9, 11, 4, 55, 2, 4, 1, 4, 1, 48, 4, 4, 1, 8, 53, 2, 7, 8, 14, 2, 11, 14, 15, 4, 9, 5, 14, 1, 7, 2], [21, 14, 45, 40, 46, 2, 54, 4, 15, 15, 8, 36, 5, 24, 56, 24, 18, 15, 1, 1, 7, 15, 1, 4, 51, 14, 0, 4, 7, 18, 5, 4, 8, 51, 11, 45, 7, 21, 1, 21, 42, 39, 1, 48, 31, 11, 4, 18, 1, 45, 39, 1, 42, 11, 48, 45, 12, 2, 4, 42, 9, 8, 5, 7, 45, 14, 1, 48, 14, 45, 48, 4, 26, 42, 1, 8, 2, 28, 14, 5, 2, 4, 13, 21, 48, 14, 48, 4, 7, 45, 46, 4, 45, 1, 7, 7, 8, 14, 48, 1, 14, 7, 11, 39, 7, 7, 7, 1, 11, 4, 1, 1, 8, 1, 1, 4, 1, 36, 1, 8, 4, 1, 14, 4, 14, 1, 8, 40, 2, 1, 10, 9, 2, 14, 14, 1, 48, 4, 14, 2, 14, 39, 48, 1, 4, 1, 6, 1, 2, 14, 7, 1, 4, 4, 8, 7, 2, 1], [21, 15, 41, 8, 1, 14, 1, 8, 56, 18, 50, 48, 21, 45, 1, 15, 45, 7, 30, 36, 15, 15, 1, 48, 35, 21, 24, 24, 7, 8, 11, 1, 7, 24, 4, 48, 24, 4, 7, 4, 46, 10, 1, 12, 8, 45, 24, 52, 11, 45, 11, 4, 1, 45, 52, 34, 1, 4, 2, 48, 7, 44, 1, 4, 39, 14, 2, 2, 1, 2, 4, 48, 48, 48, 2, 1, 1, 7, 7, 48, 12, 39, 54, 1, 14, 8, 11, 1, 4, 48, 9, 5, 48, 1, 4, 8, 14, 14, 4, 1, 7, 1, 14, 4, 4, 8, 45, 45, 7, 1, 4, 6, 7, 8, 1, 51, 1, 11, 1, 7, 39, 11, 4, 4, 8, 9, 14, 1, 1, 4, 2, 1, 14, 4, 2, 4, 52, 45, 1, 48, 8, 2, 14, 8, 51, 2, 4, 14, 1, 7, 4, 1, 9, 2, 7, 2, 48], [14, 14, 45, 15, 24, 3, 21, 24, 40, 6, 46, 11, 11, 15, 24, 18, 56, 4, 14, 6, 4, 7, 24, 48, 45, 18, 50, 4, 7, 11, 15, 4, 4, 11, 46, 11, 7, 39, 6, 45, 4, 11, 39, 1, 2, 4, 21, 4, 1, 54, 39, 1, 51, 2, 4, 1, 45, 4, 8, 2, 4, 7, 1, 8, 52, 14, 48, 1, 4, 14, 14, 1, 1, 1, 9, 14, 45, 45, 8, 11, 7, 9, 9, 2, 39, 14, 8, 1, 1, 8, 39, 8, 7, 7, 1, 15, 39, 39, 8, 2, 48, 14, 14, 14, 39, 1, 4, 8, 4, 14, 2, 1, 6, 1, 1, 11, 14, 39, 4, 7, 1, 1, 14, 1, 4, 4, 1, 1, 1, 11, 1, 1, 7, 30, 8, 11, 4, 1, 1, 1, 7, 14, 1, 8, 14, 4, 14, 1, 4, 4, 7, 14, 4, 2, 6, 1, 14, 39, 1], [1, 15, 8, 48, 15, 15, 24, 15, 46, 15, 21, 1, 55, 6, 5, 39, 14, 21, 39, 24, 1, 44, 4, 47, 1, 7, 18, 54, 7, 42, 51, 12, 18, 4, 7, 39, 42, 45, 5, 4, 8, 1, 48, 4, 39, 11, 2, 4, 11, 7, 1, 1, 1, 8, 4, 1, 9, 2, 7, 4, 18, 7, 7, 1, 7, 4, 4, 4, 52, 2, 7, 7, 14, 1, 9, 8, 48, 14, 1, 39, 1, 48, 2, 9, 8, 4, 4, 4, 2, 7, 1, 14, 6, 7, 4, 1, 14, 48, 1, 1, 11, 7, 11, 14, 1, 8, 7, 7, 4, 8, 7, 14, 14, 8, 7, 45, 6, 1, 4, 8, 4, 4, 7, 1, 2, 7, 12, 7, 8, 1, 14, 8, 1, 6, 52, 36, 2, 14, 4, 2, 4, 45, 45, 39, 7, 8, 4, 14, 14, 7, 39, 8, 14, 1, 4, 8, 1, 7, 14, 51, 1, 1, 1, 4, 4, 2, 7, 7, 7, 11, 14, 4, 2, 4, 1, 14, 14, 45, 14, 1, 1, 8, 2, 1], [15, 48, 10, 4, 45, 1, 50, 49, 7, 45, 15, 45, 1, 5, 42, 14, 21, 7, 7, 21, 21, 54, 15, 45, 1, 48, 1, 12, 8, 13, 1, 21, 48, 1, 4, 48, 21, 1, 15, 48, 2, 48, 45, 1, 36, 4, 4, 40, 0, 45, 24, 14, 2, 1, 7, 4, 14, 2, 51, 11, 14, 4, 7, 2, 2, 1, 11, 8, 11, 14, 3, 11, 8, 49, 48, 11, 14, 8, 11, 39, 4, 1, 4, 4, 11, 8, 45, 8, 1, 4, 5, 11, 4, 4, 14, 51, 1, 45, 4, 39, 8, 39, 1, 2, 1, 51, 1, 7, 8, 8, 14, 8, 46, 28, 8, 1, 48, 48, 5, 1, 45, 33, 8, 1, 14, 3, 4, 2, 4, 7, 48, 4, 1, 14, 2, 4, 8, 4, 5, 1, 45, 11, 4, 8, 4, 14, 11, 7], [21, 24, 24, 18, 45, 24, 46, 24, 12, 4, 1, 15, 21, 11, 42, 3, 30, 15, 2, 24, 24, 18, 4, 52, 36, 7, 24, 18, 4, 11, 4, 24, 27, 1, 3, 39, 7, 4, 11, 4, 39, 55, 8, 8, 4, 14, 14, 1, 48, 14, 14, 1, 7, 1, 1, 39, 4, 8, 39, 9, 4, 1, 1, 7, 8, 14, 51, 5, 8, 8, 7, 1, 8, 14, 52, 48, 39, 45, 7, 4, 48, 4, 2, 53, 4, 42, 4, 1, 45, 55, 11, 1, 1, 4, 39, 14, 7, 2, 45, 1, 4, 8, 2, 8, 1, 1, 5, 11, 2, 2, 7, 4, 10, 4, 1, 8, 8, 1, 45, 8, 1, 7, 8, 8, 1, 1, 1, 1, 8, 1, 1, 1, 1, 4, 14, 1, 4, 14, 11, 2, 48, 4, 2, 39, 4, 48, 1, 2], [4, 15, 1, 44, 1, 15, 18, 4, 21, 7, 51, 46, 12, 3, 1, 5, 2, 1, 15, 24, 48, 2, 7, 4, 1, 40, 9, 1, 7, 4, 15, 9, 4, 7, 8, 7, 7, 7, 1, 54, 45, 4, 7, 1, 40, 8, 11, 48, 4, 1, 4, 40, 14, 8, 4, 4, 48, 9, 4, 4, 9, 48, 2, 4, 2, 48, 4, 1, 30, 2, 7, 39, 5, 7, 1, 45, 4, 4, 52, 7, 9, 1, 2, 4, 14, 1, 45, 4, 2, 2, 14, 7, 8, 1, 7, 45, 5, 7, 1, 4, 14, 4, 14, 1, 39, 11, 1, 4, 4, 8, 1, 2, 1, 8, 4, 39, 1, 2, 4, 4, 1, 46, 1, 14, 14, 14, 2, 48, 9, 9, 11, 14, 39, 4, 4, 4, 14, 2, 4, 2, 7, 2, 45, 45, 45, 11, 51, 4, 7, 48, 2, 11, 4, 2, 1, 4, 39, 1, 14, 49, 4, 1, 1, 4, 1, 11, 4, 1, 11, 14, 1, 7, 1, 7, 1], [21, 24, 45, 18, 14, 11, 14, 42, 4, 15, 4, 4, 21, 4, 1, 45, 4, 7, 42, 45, 18, 15, 45, 1, 11, 36, 14, 24, 40, 4, 11, 40, 4, 0, 39, 45, 28, 7, 11, 9, 4, 4, 21, 4, 24, 4, 51, 48, 7, 2, 45, 7, 55, 8, 2, 1, 48, 54, 4, 7, 4, 14, 9, 7, 48, 5, 14, 14, 2, 8, 1, 1, 39, 8, 48, 7, 1, 2, 2, 9, 45, 8, 14, 4, 14, 4, 4, 7, 4, 8, 1, 1, 2, 14, 1, 9, 4, 4, 11, 7, 4, 4, 39, 45, 4, 1, 1, 1, 4, 45, 7, 2, 4, 1, 1, 14, 7, 14, 8, 4, 2, 53, 14, 11, 4, 4, 14, 9, 48, 4, 8, 8, 14, 7, 1, 1, 4, 51, 14, 4, 1, 4, 7, 4, 7, 5, 7, 4, 4], [4, 11, 15, 20, 48, 15, 49, 4, 45, 18, 15, 42, 35, 15, 15, 30, 48, 8, 24, 7, 18, 1, 14, 7, 8, 5, 1, 8, 1, 45, 14, 5, 4, 7, 8, 1, 1, 4, 1, 12, 7, 1, 21, 11, 11, 4, 7, 1, 1, 4, 55, 8, 4, 14, 14, 14, 9, 4, 4, 26, 24, 4, 53, 54, 14, 7, 41, 4, 4, 55, 11, 11, 11, 9, 4, 45, 39, 7, 1, 11, 48, 39, 8, 4, 14, 8, 7, 45, 11, 2, 1, 7, 11, 45, 1, 11, 39, 7, 4, 39, 45, 1, 8, 1, 45, 8, 5, 4, 2, 14, 45, 4, 9, 2, 1, 4, 14, 8, 48, 39, 1, 1, 7, 4, 7, 4, 14, 5, 4, 4, 7, 4, 14, 11, 14, 4, 46, 11, 11, 7, 7, 39, 11, 4, 4, 4, 8, 4, 2, 8, 42, 4, 11, 1, 4, 14, 45, 6, 4, 9, 45, 3, 48, 1, 1, 7, 4, 14, 8, 2, 14, 1, 48, 8, 4, 7, 45, 1, 4, 4, 1, 14, 52, 7], [24, 21, 15, 15, 29, 21, 21, 41, 24, 52, 54, 8, 15, 15, 18, 13, 3, 15, 49, 7, 11, 1, 40, 1, 15, 4, 7, 52, 1, 21, 7, 7, 5, 45, 1, 4, 21, 7, 1, 8, 11, 4, 8, 8, 7, 4, 7, 4, 1, 5, 4, 45, 9, 4, 4, 7, 14, 39, 1, 48, 48, 1, 41, 1, 39, 39, 4, 8, 13, 48, 45, 1, 11, 2, 11, 7, 1, 4, 1, 2, 14, 48, 8, 39, 1, 7, 1, 2, 4, 1, 8, 1, 14, 4, 1, 14, 1, 9, 11, 1, 8, 14, 7, 14, 8, 4, 4, 3, 7, 48, 1, 11, 42, 11, 21, 14, 11, 14, 11, 1, 1, 1, 11, 1, 14, 4, 1, 9, 12, 4, 1, 48, 45, 4, 48, 48, 4, 4, 14, 41, 48, 4, 1, 4, 4, 1, 7, 4, 8], [15, 21, 18, 33, 11, 45, 24, 48, 4, 11, 21, 45, 4, 55, 15, 12, 27, 14, 4, 7, 4, 11, 15, 18, 4, 1, 8, 7, 1, 39, 45, 11, 8, 7, 1, 14, 4, 51, 7, 8, 48, 4, 11, 39, 1, 1, 7, 54, 45, 11, 1, 4, 2, 53, 4, 48, 48, 1, 48, 8, 9, 1, 2, 45, 42, 2, 48, 4, 9, 48, 4, 2, 39, 14, 14, 0, 4, 7, 4, 48, 48, 4, 4, 8, 1, 14, 4, 14, 14, 45, 8, 9, 8, 12, 1, 8, 7, 8, 1, 11, 4, 45, 14, 1, 45, 4, 2, 45, 8, 14, 7, 1, 4, 4, 54, 4, 14, 4, 1, 4, 52, 1, 1, 4, 4, 6, 4, 2, 8, 7, 42, 2, 8, 48, 8, 7, 2, 4, 14, 39, 4, 11, 4, 4, 4, 4, 45, 14, 9, 4, 4, 11, 4, 1, 9, 4, 14, 46, 4, 9, 2, 15, 1, 1, 2, 1, 48, 1, 4, 14, 4, 1, 1], [15, 18, 45, 18, 4, 52, 2, 13, 4, 54, 12, 48, 4, 52, 2, 33, 55, 7, 11, 14, 9, 42, 11, 55, 14, 28, 45, 9, 45, 54, 14, 4, 22, 48, 24, 18, 39, 18, 1, 11, 14, 7, 2, 9, 2, 7, 51, 4, 8, 4, 15, 14, 14, 4, 9, 48, 42, 53, 1, 9, 9, 2, 9, 5, 4, 2, 14, 45, 14, 8, 45, 52, 4, 14, 2, 48, 9, 24, 4, 9, 8, 4, 8, 4, 4, 45, 2, 14, 4, 1, 7, 4, 8, 4, 5, 3, 1, 2, 4, 7, 48, 1, 8, 1, 1, 4, 14, 1, 39, 7, 8, 11, 4, 14, 1, 48, 8, 1, 1, 4, 1, 2, 11, 4, 4, 8, 48, 1, 9, 7, 1, 7, 2, 4, 8, 4, 7, 52, 1, 4], [55, 21, 40, 18, 45, 3, 39, 4, 11, 46, 24, 24, 27, 21, 4, 7, 24, 4, 14, 36, 55, 52, 8, 9, 8, 13, 11, 4, 54, 4, 7, 21, 21, 9, 1, 5, 1, 14, 8, 1, 11, 8, 1, 7, 8, 11, 7, 4, 4, 7, 8, 8, 11, 14, 8, 45, 51, 1, 2, 1, 11, 8, 4, 30, 1, 1, 48, 1, 41, 21, 1, 2, 4, 11, 39, 4, 7, 4, 14, 42, 4, 11, 4, 45, 4, 1, 11, 11, 1, 39, 3, 4, 7, 42, 39, 2, 2, 7, 39, 14, 1, 2, 54, 9, 4, 14, 2, 9, 4, 15, 37, 45, 48, 1, 1, 14, 14, 14, 2, 48, 7, 1, 14, 5, 4, 1, 7, 8, 14, 2, 1, 8, 11, 1, 1, 4, 1, 8, 7, 1, 8, 8, 11, 14, 1, 1, 8, 1, 1, 1, 7, 45, 4, 11, 1, 9, 39, 11, 1, 9, 1, 7, 2, 45, 8, 1, 4, 2, 5, 4, 1], [24, 35, 53, 15, 14, 42, 45, 24, 4, 9, 24, 15, 24, 18, 1, 42, 48, 42, 7, 24, 8, 21, 48, 9, 39, 4, 7, 52, 21, 1, 4, 1, 45, 45, 8, 1, 2, 11, 4, 8, 39, 2, 14, 9, 1, 8, 11, 45, 48, 7, 4, 4, 1, 7, 2, 4, 14, 14, 48, 45, 11, 8, 4, 4, 11, 14, 48, 8, 54, 39, 3, 11, 2, 8, 8, 8, 11, 4, 7, 1, 4, 14, 7, 14, 8, 4, 4, 8, 11, 11, 1, 4, 14, 8, 7, 48, 41, 2, 45, 4, 4, 11, 4, 4, 48, 15, 18, 1, 40, 7, 1, 48, 1, 8, 42, 12, 4, 1, 7, 7, 1, 8, 4, 7, 7, 4, 8, 9, 48], [18, 1, 45, 39, 30, 14, 24, 45, 48, 39, 40, 15, 4, 7, 1, 24, 39, 1, 4, 1, 14, 1, 1, 4, 48, 7, 2, 39, 27, 10, 11, 1, 6, 4, 45, 1, 1, 7, 4, 2, 8, 42, 4, 7, 8, 1, 4, 28, 7, 14, 11, 51, 1, 11, 45, 4, 45, 14, 8, 1, 24, 33, 6, 1, 2, 1, 4, 8, 48, 4, 7, 4, 14, 7, 9, 42, 14, 45, 9, 11, 1, 4, 1, 1, 11, 4, 4, 1, 2, 2, 7, 48, 4, 7, 1, 7, 7, 7, 1, 4, 10, 4, 48, 7, 14, 1, 8, 14, 1, 14, 4, 4, 42, 9, 52, 4, 7, 8, 4, 1, 4, 4, 4, 1, 7, 4, 2, 2, 11, 8, 42, 1, 2, 11, 2, 42, 14, 48, 11, 54, 7, 4, 4, 13, 1, 8, 39, 1, 9, 4, 51, 52, 4, 1, 15, 14, 4, 9, 1, 14, 2, 42, 4, 2, 2, 9], [46, 15, 34, 4, 2, 21, 4, 51, 15, 7, 45, 48, 7, 1, 14, 24, 7, 47, 24, 18, 14, 15, 22, 42, 1, 39, 21, 52, 24, 21, 8, 7, 51, 7, 7, 2, 4, 14, 14, 1, 7, 10, 5, 21, 1, 4, 6, 46, 4, 48, 1, 9, 27, 22, 24, 11, 3, 4, 4, 45, 29, 8, 14, 1, 1, 7, 55, 4, 4, 7, 2, 4, 9, 4, 7, 2, 4, 45, 7, 14, 2, 48, 14, 4, 4, 1, 14, 39, 4, 9, 14, 2, 15, 11, 3, 1, 48, 9, 0, 4, 45, 39, 7, 1, 6, 7, 4, 1, 6, 7, 45, 8, 4, 7, 1, 14, 11, 1, 8, 7, 7, 9, 10, 7, 1, 39, 1, 14, 1, 45, 11, 4, 14, 1, 8, 45, 1, 2, 18, 4, 8, 8, 1, 48, 4, 2, 48, 14, 4, 1, 14, 0, 9, 6, 45, 9, 7, 1, 40, 14, 9, 15, 9, 4, 2, 11, 48], [6, 24, 24, 45, 48, 4, 24, 15, 48, 24, 1, 42, 35, 1, 15, 24, 21, 40, 24, 1, 1, 8, 7, 24, 1, 15, 21, 1, 23, 22, 24, 52, 8, 8, 8, 1, 2, 4, 18, 7, 39, 11, 42, 4, 4, 48, 4, 4, 14, 8, 13, 48, 11, 11, 4, 1, 1, 7, 7, 39, 21, 14, 52, 8, 14, 48, 4, 2, 11, 1, 9, 4, 52, 1, 7, 1, 48, 1, 8, 1, 1, 1, 1, 1, 4, 8, 7, 14, 8, 2, 1, 8, 1, 1, 4, 7, 48, 8, 8, 42, 8, 4, 1, 2, 1, 39, 11, 3, 14, 48, 4, 8, 4, 4, 1, 8, 1, 1, 1, 1, 1, 4, 4, 2, 17, 7, 48, 5, 1, 1, 14, 1, 1, 9, 4, 1, 48, 4, 14, 8, 14, 7, 7, 5, 1, 14, 39, 4, 7, 52, 1, 4, 11, 14, 4, 5, 8], [15, 30, 15, 54, 21, 21, 15, 1, 18, 46, 1, 15, 21, 15, 46, 0, 1, 18, 7, 42, 8, 1, 1, 9, 18, 1, 15, 22, 4, 7, 4, 1, 29, 8, 49, 7, 1, 4, 11, 8, 46, 7, 1, 11, 1, 1, 1, 1, 8, 4, 45, 2, 14, 11, 1, 48, 7, 7, 2, 5, 7, 4, 39, 4, 45, 14, 1, 39, 4, 8, 1, 8, 5, 1, 7, 7, 48, 14, 1, 7, 8, 1, 1, 1, 4, 1, 1, 8, 1, 2, 4, 7, 1, 1, 4, 8, 4, 4, 11, 1, 48, 45, 4, 11, 7, 1, 1, 4, 8, 3, 39, 1, 1, 9, 8, 7, 4, 1, 4, 1, 14, 2, 1, 1, 7, 8, 1, 1, 4, 4, 7, 7, 8, 9, 14, 1, 1, 7, 45, 4, 8, 1, 39, 14, 9, 48, 11, 1, 1, 1, 4, 1, 1, 8, 4, 1, 7, 4, 45, 7, 1, 5, 2, 45, 14, 4, 39, 4, 4, 4, 11, 4, 11, 4, 8], [35, 24, 15, 52, 42, 27, 8, 8, 24, 7, 18, 1, 8, 1, 7, 4, 4, 5, 14, 1, 4, 15, 4, 7, 0, 46, 45, 14, 18, 1, 1, 11, 42, 5, 13, 9, 11, 1, 48, 51, 8, 4, 8, 1, 8, 55, 4, 14, 1, 4, 4, 9, 4, 9, 32, 1, 50, 39, 4, 15, 9, 4, 1, 4, 2, 9, 1, 7, 21, 14, 1, 10, 4, 14, 15, 48, 4, 18, 18, 1, 2, 4, 4, 7, 14, 4, 7, 14, 39, 4, 14, 4, 4, 7, 2, 8, 4, 8, 4, 1, 4, 2, 4, 4, 8, 14, 11, 1, 1, 4, 1, 45, 4, 11, 2, 14, 2, 8, 9, 39, 4, 4, 33, 4, 54, 1, 14, 48, 9, 4, 39, 4, 1, 14, 51, 11, 39, 4, 45, 4, 14, 7, 11, 4, 1, 14, 1, 4, 7, 4, 8, 1, 8, 48, 1, 4, 11, 2, 36, 4, 4, 1, 8, 2, 7, 4, 1, 1, 1, 9, 8, 4, 9, 4, 1, 7, 1, 7, 2, 54, 14, 1, 4, 4, 5], [11, 4, 15, 9, 4, 46, 5, 48, 1, 24, 13, 15, 24, 52, 8, 15, 18, 48, 1, 7, 1, 4, 7, 4, 48, 7, 1, 4, 7, 4, 4, 7, 8, 6, 1, 15, 1, 1, 4, 42, 11, 7, 4, 1, 8, 1, 9, 14, 12, 8, 9, 45, 1, 48, 4, 52, 15, 2, 1, 14, 9, 14, 4, 39, 14, 9, 39, 54, 51, 18, 2, 1, 9, 1, 48, 1, 2, 13, 4, 9, 4, 15, 4, 4, 7, 14, 45, 4, 9, 1, 8, 2, 1, 1, 2, 1, 54, 1, 7, 14, 4, 52, 1, 4, 14, 7, 46, 4, 4, 8, 14, 14, 8, 7, 35, 1, 1, 4, 7, 1, 6, 1, 39, 1, 1, 4, 1, 4, 2, 1, 2, 46, 2, 48, 7, 3, 14, 4, 1, 4, 14, 4, 3, 4, 51, 4, 39, 8, 8], [45, 24, 11, 11, 24, 28, 15, 24, 18, 51, 23, 39, 45, 18, 6, 9, 24, 45, 15, 1, 1, 15, 54, 5, 14, 4, 3, 7, 1, 7, 1, 7, 48, 1, 1, 1, 1, 1, 1, 11, 1, 8, 14, 8, 4, 1, 14, 1, 48, 1, 1, 4, 1, 4, 1, 4, 1, 4, 4, 45, 48, 9, 2, 14, 46, 1, 45, 2, 48, 48, 2, 4, 1, 51, 1, 2, 4, 4, 6, 4, 7, 9, 0, 39, 9, 2, 4, 4, 7, 1, 7, 42, 8, 7, 8, 7, 7, 1, 3, 7, 1, 8, 21, 1, 14, 1, 1, 4, 8, 11, 48, 52, 1, 7, 14, 7, 2, 8, 2, 2, 4, 14, 7, 2, 1, 14, 7, 2, 1, 2, 14, 4, 48, 11, 48, 1, 39, 8, 7, 39, 4, 7, 4, 14, 2, 14, 6, 21, 45, 8, 14, 48, 9, 14, 2, 4, 51], [15, 45, 23, 45, 15, 1, 7, 3, 13, 45, 36, 4, 48, 48, 15, 14, 24, 1, 24, 7, 15, 15, 24, 36, 39, 36, 8, 1, 24, 21, 49, 45, 7, 9, 39, 8, 5, 4, 7, 24, 7, 4, 8, 7, 18, 1, 3, 39, 4, 11, 9, 4, 45, 39, 1, 8, 1, 4, 14, 1, 14, 14, 1, 46, 1, 9, 14, 39, 34, 4, 21, 4, 14, 12, 13, 56, 1, 1, 1, 1, 7, 4, 48, 4, 1, 48, 48, 7, 7, 54, 39, 8, 5, 48, 3, 45, 48, 2, 14, 24, 1, 7, 14, 1, 2, 7, 1, 14, 14, 4, 52, 4, 4, 7, 9, 2, 1, 48, 4, 48, 1, 14, 2, 54, 48, 48, 39, 2, 8, 4, 8, 8, 7, 48, 4, 7, 7, 1, 7, 4, 4, 4, 4, 1, 1, 8, 8, 11, 9], [53, 21, 24, 51, 15, 15, 18, 1, 4, 51, 4, 15, 10, 4, 14, 4, 4, 2, 4, 7, 33, 4, 1, 1, 1, 7, 11, 8, 11, 11, 11, 8, 1, 7, 4, 4, 8, 8, 13, 7, 48, 14, 1, 4, 7, 4, 4, 8, 1, 7, 7, 8, 7, 1, 11, 3, 1, 39, 8, 14, 21, 8, 1, 1, 1, 2, 48, 9, 8, 1, 8, 7, 14, 1, 14, 11, 1, 5, 15, 8, 48, 14, 8, 1, 1, 45, 14, 15, 5, 4, 48, 11, 54, 14, 42, 4, 1, 48, 1, 4, 7, 39, 1, 7, 1, 4, 7, 14, 4, 4, 14, 4, 2, 4, 1, 14, 14, 11, 1, 7, 39, 4, 4, 14, 1, 4, 2, 14, 1, 1, 1, 27, 1, 8, 1, 10, 4, 15, 14, 45, 4, 4, 2, 1, 48, 1, 2, 11, 39, 1, 7, 1, 14, 9, 4, 14, 45, 4, 14, 4, 7, 1, 4, 7, 11, 14, 4, 4, 1, 4, 4, 2, 11, 7, 4], [40, 4, 27, 15, 6, 51, 14, 12, 15, 1, 24, 43, 24, 11, 1, 36, 5, 48, 21, 42, 7, 46, 8, 8, 48, 1, 24, 48, 48, 46, 43, 15, 48, 48, 30, 5, 1, 4, 4, 7, 8, 1, 8, 21, 8, 1, 14, 1, 7, 39, 48, 8, 8, 11, 1, 7, 9, 8, 48, 4, 4, 5, 1, 7, 14, 1, 45, 9, 1, 4, 1, 4, 1, 4, 8, 7, 46, 48, 4, 36, 7, 8, 1, 7, 14, 1, 9, 14, 4, 8, 4, 7, 39, 10, 7, 11, 11, 14, 1, 7, 8, 7, 14, 14, 14, 1, 45, 1, 9, 6, 1, 8, 6, 7, 11, 14, 4, 48, 1, 9, 1, 1, 4, 2, 4, 3, 3, 2, 7, 4, 4, 1, 14, 14, 4, 6, 2, 2, 14, 4, 52, 48, 21, 1, 4, 1, 4], [40, 41, 24, 24, 18, 39, 15, 4, 11, 2, 7, 24, 21, 7, 45, 4, 4, 14, 7, 15, 4, 15, 7, 45, 45, 1, 11, 4, 52, 1, 1, 24, 6, 11, 7, 7, 1, 4, 8, 14, 4, 5, 40, 4, 51, 6, 1, 8, 7, 4, 1, 4, 24, 4, 19, 7, 6, 51, 1, 2, 4, 4, 1, 39, 48, 4, 14, 7, 1, 4, 11, 39, 7, 14, 1, 11, 4, 4, 11, 45, 4, 14, 4, 9, 1, 1, 7, 4, 32, 1, 1, 9, 7, 1, 21, 4, 4, 8, 4, 14, 2, 8, 2, 56, 8, 14, 2, 1, 51, 4, 1, 1, 14, 1, 4, 9, 46, 6, 1, 14, 45, 48, 7, 4, 14, 14, 4, 1, 1, 4, 2, 14, 4, 2, 7, 4, 9, 39, 7, 11, 2, 48, 4, 8, 14, 39, 11, 14, 45, 14, 39, 4, 2, 1, 4, 4, 1, 4, 7, 11, 11, 14, 14, 2, 14, 1, 9, 2, 48, 8, 14, 7, 14, 7], [48, 36, 51, 29, 51, 42, 15, 6, 18, 1, 7, 15, 12, 47, 18, 30, 1, 14, 8, 11, 1, 7, 48, 14, 1, 4, 34, 7, 24, 8, 21, 39, 48, 1, 4, 1, 48, 11, 8, 4, 42, 8, 1, 4, 1, 21, 11, 4, 1, 4, 8, 1, 48, 1, 7, 52, 27, 4, 9, 14, 13, 1, 14, 51, 45, 11, 4, 48, 48, 1, 14, 2, 45, 2, 2, 2, 8, 1, 39, 13, 4, 42, 45, 14, 7, 9, 8, 45, 4, 1, 10, 45, 4, 14, 1, 4, 8, 7, 1, 1, 11, 8, 2, 4, 4, 9, 14, 9, 45, 11, 8, 1, 2, 1, 4, 4, 2, 14, 8, 39, 1, 4, 4, 1, 4, 4, 1, 14, 2, 4, 8, 1, 11, 7, 8, 1, 4, 1, 14, 8, 8, 14, 2, 4, 1, 1, 8, 1, 8, 1, 1, 7, 42, 4, 1, 14, 9, 8, 1, 4, 1, 2, 7, 4, 7, 14, 8, 4, 2, 4, 45, 4, 1, 8, 1], [42, 21, 21, 24, 14, 45, 15, 45, 18, 33, 3, 24, 24, 40, 48, 15, 50, 27, 36, 48, 1, 15, 24, 7, 24, 4, 1, 39, 21, 42, 7, 1, 39, 4, 7, 10, 8, 14, 21, 1, 8, 7, 1, 24, 8, 1, 14, 14, 1, 11, 1, 30, 4, 10, 4, 2, 4, 8, 11, 11, 7, 48, 4, 4, 11, 4, 45, 7, 39, 56, 11, 1, 7, 2, 5, 6, 4, 4, 4, 48, 2, 4, 48, 1, 48, 14, 45, 7, 48, 14, 30, 1, 45, 48, 1, 14, 7, 1, 1, 4, 7, 2, 8, 5, 48, 1, 2, 12, 9, 4, 11, 24, 11, 4, 4, 1, 8, 7, 14, 1, 14, 4, 39, 2, 4, 8, 4, 48, 1, 48, 4, 1, 1, 4, 14, 1, 45, 1, 14, 1, 4, 1, 1, 2, 14, 7, 4, 14, 1, 1, 7, 4, 4, 7, 1, 7, 14, 11, 4, 4, 2, 8, 8, 1, 14, 39, 1, 4, 4, 4, 1, 1, 14, 4, 1, 42, 1, 2, 1, 14, 2, 1, 8, 4], [13, 21, 15, 21, 45, 8, 18, 4, 4, 21, 21, 21, 35, 1, 24, 21, 7, 24, 8, 1, 2, 9, 8, 15, 3, 54, 45, 24, 1, 4, 8, 7, 14, 1, 56, 41, 48, 42, 9, 45, 4, 7, 7, 1, 1, 15, 11, 1, 14, 48, 45, 4, 11, 4, 1, 8, 48, 48, 21, 1, 30, 2, 1, 14, 39, 48, 48, 45, 4, 1, 7, 8, 14, 11, 52, 8, 4, 7, 39, 2, 1, 6, 2, 48, 45, 15, 48, 8, 7, 1, 1, 2, 1, 2, 2, 1, 4, 7, 7, 4, 14, 1, 14, 4, 7, 4, 14, 39, 4, 11, 7, 4, 1, 14, 11, 11, 48, 4, 4, 7, 4, 48, 47, 30, 14, 4, 6, 3, 2, 11, 2, 4, 2, 7, 4, 9, 2, 1, 45, 14, 1, 2, 1, 14, 1, 14, 4, 14, 45, 14, 1, 45, 1, 1, 8, 7, 8, 4, 2, 14, 1, 2, 2, 2, 7, 42, 11, 8, 1, 1, 4, 14, 4, 4, 1], [15, 18, 4, 18, 56, 45, 21, 4, 48, 9, 4, 15, 4, 52, 2, 7, 9, 1, 1, 45, 30, 4, 7, 7, 1, 47, 2, 7, 11, 4, 4, 27, 49, 18, 11, 48, 54, 39, 1, 1, 11, 4, 24, 14, 8, 1, 8, 4, 39, 14, 42, 7, 39, 42, 45, 7, 8, 14, 52, 40, 47, 15, 1, 48, 1, 14, 14, 2, 2, 14, 15, 48, 36, 1, 1, 2, 1, 7, 4, 11, 11, 14, 14, 14, 14, 1, 4, 7, 4, 4, 4, 4, 4, 4, 8, 4, 9, 7, 11, 7, 4, 1, 48, 8, 2, 39, 1, 1, 9, 4, 11, 14, 4, 2, 8, 39, 4, 14, 2, 14, 4, 4, 1, 8, 1, 7, 14, 48, 45, 14, 2, 14, 11, 14, 2, 7, 39, 14, 4, 4, 4, 7, 2, 14, 2, 6, 45, 2, 1, 4, 11, 14, 11, 4, 27, 1, 1, 1, 8, 4, 7, 1, 48, 1, 45, 1], [40, 15, 45, 45, 45, 13, 48, 50, 24, 15, 15, 7, 15, 15, 39, 21, 7, 37, 1, 21, 15, 48, 1, 1, 7, 3, 1, 21, 1, 48, 24, 14, 4, 42, 24, 21, 51, 48, 8, 4, 1, 45, 4, 4, 7, 7, 8, 1, 4, 1, 48, 7, 1, 10, 21, 11, 10, 9, 11, 8, 4, 1, 7, 14, 11, 5, 11, 11, 50, 8, 14, 42, 4, 2, 4, 45, 14, 39, 18, 1, 9, 7, 1, 14, 1, 14, 1, 3, 7, 1, 4, 7, 14, 48, 8, 1, 4, 8, 8, 4, 4, 11, 1, 8, 5, 11, 2, 7, 2, 7, 1, 4, 4, 4, 4, 2, 1, 11, 42, 5, 1, 14, 4, 39, 4, 7, 14, 39, 9, 54, 1, 45, 4, 4, 48, 48, 8, 48, 4, 1, 4, 7, 4, 7, 4, 33, 14, 30, 12, 1, 1, 1, 11, 4, 1, 1, 8, 8, 14, 45, 8, 4, 42, 8, 4, 5], [15, 11, 28, 45, 15, 21, 39, 11, 27, 15, 24, 1, 4, 39, 22, 15, 15, 15, 15, 11, 1, 15, 48, 45, 32, 21, 4, 14, 5, 7, 7, 15, 45, 52, 1, 8, 11, 14, 4, 14, 4, 28, 4, 1, 4, 7, 39, 11, 39, 8, 1, 39, 1, 4, 45, 1, 8, 7, 1, 1, 2, 2, 14, 2, 11, 14, 4, 2, 4, 11, 1, 3, 47, 52, 14, 39, 7, 8, 2, 48, 2, 11, 11, 9, 2, 4, 10, 14, 48, 48, 39, 4, 1, 7, 7, 5, 2, 48, 2, 39, 8, 9, 7, 45, 8, 7, 7, 7, 2, 4, 8, 7, 14, 1, 11, 14, 7, 14, 14, 8, 1, 4, 1, 8, 1, 1, 45, 3, 14, 8, 9, 1, 1, 1, 4, 39, 1, 1, 1, 1, 11, 4, 1, 7, 4, 24, 1, 4, 7], [14, 51, 24, 4, 48, 15, 7, 18, 56, 42, 46, 56, 4, 46, 39, 15, 21, 15, 14, 24, 4, 11, 45, 39, 18, 7, 7, 1, 45, 4, 46, 7, 45, 5, 12, 1, 52, 39, 18, 11, 11, 11, 4, 4, 4, 4, 18, 4, 54, 45, 42, 39, 8, 28, 4, 4, 7, 1, 33, 2, 1, 4, 14, 9, 8, 11, 27, 45, 8, 7, 51, 8, 48, 1, 7, 2, 9, 7, 7, 4, 9, 8, 2, 2, 4, 2, 8, 1, 4, 5, 1, 45, 1, 1, 48, 4, 27, 4, 5, 14, 4, 1, 39, 11, 11, 8, 14, 8, 51, 4, 2, 14, 4, 2, 4, 7, 4, 4, 1, 44, 4, 14, 4, 14, 9, 14, 11, 4, 14, 14, 3, 48, 7, 9, 8, 2, 11, 9, 4], [24, 21, 52, 21, 53, 21, 3, 3, 30, 15, 18, 14, 12, 1, 6, 7, 56, 14, 14, 48, 52, 1, 2, 7, 4, 3, 14, 1, 40, 7, 44, 1, 21, 54, 24, 8, 8, 7, 4, 4, 1, 1, 27, 15, 11, 4, 4, 52, 7, 7, 1, 48, 1, 9, 1, 54, 2, 4, 4, 7, 48, 42, 45, 48, 2, 1, 21, 7, 7, 1, 7, 7, 4, 3, 15, 2, 4, 4, 4, 7, 4, 4, 4, 7, 1, 7, 1, 14, 4, 1, 7, 11, 8, 2, 7, 4, 1, 14, 4, 14, 1, 11, 1, 39, 8, 45, 42, 7, 7, 2, 4, 1, 11, 9, 1, 1, 1, 8, 1, 1, 9, 4, 4, 8, 1, 7, 46, 2, 13, 8, 45, 7, 9, 14, 4, 11, 8, 7, 14, 39, 14, 8, 39, 39, 8, 1, 2, 3, 1, 6, 45, 11, 4, 7, 7, 1, 9, 7, 2, 7, 7, 7, 14, 40, 7, 1, 1, 2, 4, 45, 14, 6, 14, 9], [21, 24, 15, 13, 24, 5, 48, 14, 2, 4, 9, 1, 1, 1, 15, 8, 7, 36, 39, 42, 11, 24, 52, 1, 48, 39, 1, 52, 14, 8, 1, 1, 1, 30, 15, 4, 7, 7, 15, 24, 4, 45, 48, 5, 11, 1, 11, 11, 48, 4, 4, 12, 4, 21, 51, 9, 11, 4, 40, 1, 14, 4, 54, 45, 4, 8, 48, 9, 7, 14, 4, 8, 15, 9, 39, 2, 7, 9, 3, 1, 11, 9, 48, 1, 45, 1, 2, 4, 7, 4, 1, 1, 54, 4, 14, 4, 7, 2, 18, 8, 9, 2, 2, 2, 1, 4, 5, 9, 4, 54, 11, 4, 7, 14, 8, 4, 1, 2, 1, 8, 4, 1, 4, 4, 1, 42, 2, 14, 44, 14, 2, 48, 7, 45, 14, 1, 2, 45, 7, 4, 1, 7, 8, 14, 11, 7, 8, 4, 11, 4, 5, 2, 11, 14, 4, 1, 7], [15, 15, 3, 48, 14, 14, 39, 18, 7, 48, 18, 1, 1, 1, 45, 4, 7, 14, 8, 1, 1, 32, 14, 8, 10, 45, 5, 2, 1, 24, 48, 8, 1, 21, 54, 7, 45, 49, 31, 7, 24, 4, 7, 1, 1, 2, 1, 9, 39, 14, 18, 15, 45, 48, 45, 11, 4, 14, 15, 1, 4, 54, 1, 7, 48, 2, 14, 1, 14, 4, 48, 2, 8, 6, 4, 9, 8, 1, 7, 14, 8, 48, 1, 14, 8, 1, 42, 10, 48, 4, 4, 1, 4, 4, 7, 42, 4, 2, 1, 39, 1, 4, 14, 11, 48, 8, 11, 45, 1, 4, 11, 8, 1, 1, 1, 4, 4, 1, 7, 11, 1, 8, 48, 4, 11, 11, 42, 4, 1, 8, 1, 48, 14, 4, 4, 1, 11, 11, 8, 1], [45, 10, 45, 51, 24, 15, 15, 11, 13, 4, 21, 39, 15, 18, 51, 33, 1, 4, 1, 45, 1, 4, 14, 40, 12, 4, 4, 13, 7, 45, 7, 48, 44, 7, 12, 1, 4, 8, 1, 45, 8, 1, 36, 11, 4, 39, 12, 39, 48, 2, 8, 14, 48, 1, 4, 1, 4, 1, 8, 1, 2, 28, 12, 53, 4, 36, 4, 7, 42, 9, 2, 10, 2, 11, 4, 2, 45, 4, 4, 4, 7, 45, 1, 2, 2, 4, 14, 1, 15, 7, 11, 4, 2, 45, 51, 8, 1, 7, 52, 14, 48, 4, 8, 4, 1, 1, 4, 8, 14, 4, 11, 9, 1, 11, 7, 1, 39, 11, 4, 9, 2, 39, 39, 1, 3, 45, 14, 51, 4, 8, 4, 14, 2, 34, 2, 39, 2, 14, 8, 7, 1, 2, 2, 14, 14, 48, 7, 4, 7, 39, 1, 2, 1, 14, 2, 7, 2, 40, 4, 1, 45, 8, 48, 8, 4, 39, 1, 11, 8, 2, 9, 14, 2, 7, 4, 5, 45, 4, 7, 4, 4, 4, 2], [48, 42, 39, 48, 21, 34, 42, 21, 5, 5, 39, 4, 18, 15, 1, 3, 21, 2, 4, 52, 45, 22, 8, 4, 1, 7, 1, 8, 7, 4, 1, 24, 1, 5, 4, 39, 10, 48, 8, 2, 21, 5, 2, 4, 11, 4, 1, 11, 4, 1, 45, 39, 45, 1, 4, 2, 1, 1, 36, 45, 45, 4, 14, 4, 2, 2, 14, 8, 42, 1, 4, 51, 39, 7, 9, 14, 8, 1, 48, 9, 4, 4, 4, 7, 1, 7, 8, 7, 9, 1, 8, 1, 1, 7, 11, 11, 4, 1, 8, 4, 11, 8, 1, 55, 1, 51, 13, 2, 4, 1, 4, 7, 4, 45, 1, 14, 47, 14, 8, 14, 8, 1, 7, 46, 7, 7, 7, 11, 14, 1, 54, 14, 39, 48, 2, 42, 14, 4, 48, 3, 1, 4, 2, 1, 14, 7, 4, 4, 4, 14, 48, 39, 4, 7, 14, 42, 55, 11, 4, 1, 1, 14, 14, 1, 1, 7], [24, 39, 4, 49, 6, 21, 1, 51, 52, 21, 15, 48, 15, 7, 21, 24, 9, 35, 13, 46, 24, 4, 46, 4, 29, 54, 4, 5, 18, 1, 36, 8, 4, 7, 4, 12, 15, 39, 24, 8, 8, 2, 1, 8, 8, 1, 4, 15, 11, 39, 4, 1, 14, 1, 3, 11, 8, 1, 1, 48, 15, 7, 7, 4, 7, 9, 48, 1, 39, 4, 7, 54, 48, 45, 1, 1, 1, 7, 45, 1, 45, 1, 39, 1, 14, 54, 1, 48, 7, 1, 4, 14, 48, 1, 1, 8, 2, 39, 1, 8, 1, 4, 4, 14, 7, 2, 4, 4, 11, 14, 1, 48, 1, 14, 1, 7, 48, 11, 7, 2, 14, 48, 2, 9, 4, 42, 4, 14, 4, 1, 8, 9, 4, 2, 48, 1, 4, 11, 9, 9, 1, 44, 9, 14, 4, 1, 48, 10, 4, 4, 4, 4, 2, 4, 4, 4, 11, 4, 7, 48, 5, 4, 1, 7, 46, 4, 7], [48, 21, 45, 42, 48, 15, 5, 15, 15, 39, 37, 15, 21, 15, 51, 15, 1, 42, 46, 54, 6, 14, 53, 39, 56, 12, 15, 3, 1, 7, 54, 8, 45, 51, 11, 11, 24, 4, 1, 4, 8, 8, 4, 1, 9, 5, 11, 45, 14, 45, 4, 21, 1, 7, 1, 9, 5, 1, 14, 14, 8, 4, 4, 4, 1, 11, 4, 7, 1, 2, 1, 2, 9, 4, 1, 11, 1, 4, 14, 4, 18, 6, 2, 2, 13, 48, 4, 13, 42, 1, 39, 4, 7, 4, 5, 8, 14, 1, 1, 4, 1, 1, 14, 28, 7, 1, 6, 11, 4, 1, 4, 4, 14, 8, 39, 8, 1, 4, 4, 14, 1, 2, 1, 4, 14, 4, 14, 8, 1, 26, 4, 42, 45, 1, 48, 4, 2, 4, 7, 7, 2, 0, 14, 4, 14, 7, 4, 48, 45, 1, 48, 1, 1, 2, 1, 11, 1, 11, 14, 1, 1, 14, 1, 2, 7, 4, 1, 45, 9, 4, 1, 11, 1, 51, 4], [15, 24, 42, 15, 45, 39, 48, 54, 4, 16, 18, 1, 7, 4, 21, 24, 1, 54, 14, 8, 1, 2, 7, 1, 8, 14, 1, 4, 7, 1, 1, 51, 22, 8, 11, 7, 52, 48, 1, 39, 15, 11, 7, 4, 39, 39, 1, 8, 4, 48, 2, 45, 4, 5, 9, 4, 48, 8, 1, 45, 14, 39, 11, 45, 1, 48, 8, 11, 4, 7, 14, 4, 1, 36, 7, 1, 12, 1, 9, 1, 48, 1, 4, 9, 4, 9, 14, 8, 14, 8, 7, 1, 9, 14, 1, 45, 1, 4, 45, 4, 1, 4, 48, 48, 1, 13, 1, 11, 7, 7, 1, 4, 1, 2, 14, 45, 48, 1, 1, 14, 1, 14, 1, 1, 8, 1, 4, 14, 1, 14, 4, 1, 14, 14, 2, 2, 14, 14, 1, 45, 7, 7, 8, 4, 8, 8, 1, 1], [21, 2, 21, 24, 21, 15, 24, 21, 3, 21, 4, 5, 15, 24, 8, 7, 15, 21, 4, 21, 11, 14, 11, 4, 4, 14, 2, 3, 7, 39, 39, 11, 39, 1, 2, 18, 7, 4, 7, 1, 11, 1, 4, 1, 7, 1, 2, 8, 1, 52, 4, 1, 1, 1, 4, 1, 4, 14, 39, 51, 21, 14, 1, 48, 5, 8, 48, 1, 45, 45, 14, 1, 48, 45, 5, 11, 54, 2, 11, 1, 14, 45, 4, 14, 8, 2, 7, 39, 8, 14, 45, 45, 12, 0, 14, 54, 8, 12, 1, 0, 16, 45, 27, 4, 1, 14, 8, 9, 8, 7, 27, 8, 39, 1, 2, 7, 4, 5, 14, 8, 13, 8, 8, 2, 8, 8, 8, 52, 9, 48, 7], [26, 18, 0, 2, 42, 39, 48, 6, 51, 2, 48, 51, 48, 40, 4, 14, 18, 52, 45, 7, 4, 16, 48, 24, 9, 4, 15, 1, 4, 46, 11, 4, 14, 11, 8, 1, 10, 48, 1, 46, 7, 8, 4, 4, 1, 21, 21, 2, 7, 14, 14, 49, 21, 1, 7, 1, 7, 54, 4, 8, 4, 8, 1, 9, 4, 14, 9, 9, 7, 2, 1, 1, 2, 51, 55, 9, 9, 8, 8, 1, 2, 48, 45, 1, 7, 4, 4, 7, 7, 14, 14, 7, 4, 7, 2, 2, 7, 14, 9, 4, 11, 11, 4, 4, 4, 11, 14, 4, 4, 3, 14, 1, 7, 45, 48, 45, 14, 9, 4, 54, 1, 39, 14, 4, 7, 1, 45, 1, 9, 24, 1, 4, 1, 14, 4, 7, 1, 8, 11, 48, 39, 14, 48, 4, 7, 4, 11, 9, 4], [39, 21, 30, 15, 1, 4, 15, 4, 10, 39, 24, 14, 2, 24, 10, 1, 7, 40, 15, 27, 8, 22, 45, 3, 11, 45, 42, 24, 3, 9, 1, 48, 8, 34, 2, 5, 7, 18, 1, 4, 1, 45, 22, 1, 21, 5, 8, 1, 8, 9, 1, 39, 4, 1, 2, 9, 7, 4, 11, 8, 39, 1, 11, 1, 2, 8, 45, 2, 36, 4, 2, 14, 4, 11, 42, 14, 4, 4, 1, 5, 8, 2, 1, 46, 48, 2, 2, 14, 1, 4, 9, 4, 45, 45, 39, 48, 7, 7, 11, 3, 39, 4, 11, 49, 14, 2, 7, 48, 14, 1, 7, 2, 1, 12, 48, 4, 4, 7, 56, 9, 14, 8, 7, 48, 1, 1, 14, 7, 4, 1, 7, 1, 2, 46, 14, 8, 11, 2, 48, 52, 1, 11, 1, 7, 2, 14, 4, 7, 4, 3, 45, 1, 5, 1, 4, 7, 5, 4, 8, 1, 14, 4, 14, 2, 1, 1, 14, 7, 48, 9, 7, 4, 4, 4, 4, 7], [24, 25, 52, 15, 48, 51, 15, 24, 39, 22, 11, 21, 4, 24, 15, 15, 8, 15, 21, 46, 14, 15, 1, 15, 54, 14, 18, 1, 1, 1, 48, 7, 0, 1, 24, 2, 7, 24, 4, 48, 1, 1, 48, 1, 4, 5, 8, 7, 1, 9, 4, 48, 11, 7, 42, 4, 2, 4, 30, 11, 4, 4, 4, 1, 4, 9, 4, 1, 4, 45, 2, 4, 9, 14, 4, 45, 14, 36, 54, 1, 4, 1, 4, 4, 8, 9, 45, 14, 7, 4, 1, 1, 42, 7, 4, 4, 1, 11, 4, 8, 14, 8, 4, 1, 11, 14, 48, 14, 9, 4, 1, 7, 45, 4, 1, 5, 48, 4, 4, 1, 7, 4, 7, 2, 4, 14, 48, 4, 4, 11, 9, 1, 4, 45, 4, 14, 1, 11, 9, 2, 8, 4, 7, 14, 4, 1, 1, 2, 14, 4, 2, 4, 4, 11, 8, 4, 4, 1, 1, 2, 14, 4, 7, 7, 8, 1, 8, 1, 13, 1, 11, 39, 4, 1, 8, 1, 1, 48, 7, 1, 48, 1, 14, 7], [24, 14, 3, 10, 2, 30, 45, 54, 9, 15, 24, 4, 53, 15, 14, 24, 18, 21, 24, 51, 21, 4, 2, 7, 51, 52, 21, 14, 10, 4, 45, 4, 54, 4, 11, 9, 4, 9, 4, 39, 10, 4, 11, 11, 8, 4, 11, 8, 4, 4, 1, 5, 48, 48, 14, 1, 9, 36, 24, 48, 22, 2, 4, 14, 30, 14, 8, 1, 5, 2, 45, 2, 30, 4, 14, 7, 8, 4, 11, 5, 11, 4, 9, 1, 8, 4, 11, 11, 7, 4, 4, 8, 8, 1, 0, 48, 45, 7, 4, 4, 4, 1, 14, 1, 4, 5, 39, 1, 8, 48, 7, 8, 5, 1, 2, 8, 1, 8, 14, 4, 4, 8, 7, 1, 4, 4, 14, 1, 4, 14, 4, 8, 4, 1, 11, 4, 1, 1, 14, 14, 4, 22, 4, 2, 14, 4, 4, 39, 10, 39, 4, 2, 1, 2, 48, 14, 1], [21, 52, 18, 55, 15, 8, 4, 24, 24, 4, 4, 54, 48, 45, 2, 6, 9, 24, 54, 42, 49, 50, 50, 4, 39, 51, 2, 15, 7, 7, 39, 1, 46, 39, 7, 1, 1, 22, 34, 21, 39, 39, 18, 11, 7, 48, 4, 14, 48, 6, 14, 14, 10, 4, 11, 11, 1, 14, 4, 14, 0, 14, 2, 14, 14, 2, 45, 1, 7, 4, 7, 2, 1, 8, 14, 1, 1, 48, 1, 42, 5, 48, 4, 1, 51, 14, 7, 1, 48, 4, 4, 7, 1, 8, 4, 4, 8, 4, 4, 14, 8, 7, 48, 1, 1, 4, 11, 4, 1, 39, 1, 1, 45, 45, 1, 2, 14, 8, 4, 4, 9, 14, 14, 1, 48, 2, 14, 4, 4, 4, 1, 2, 39, 48, 9, 11, 4, 14, 14, 2, 7, 4, 48, 45, 33, 9, 48, 4, 4]]}\n",
            "Saving best algo to json file...\n",
            "submission.json was saved in /content/drive/My Drive/DinerDashChallenge\n",
            "----------------------------------------------------------------------------------------------------\n",
            "Verifying submission.json...\n",
            "Name of best algo: testPPO2\n",
            "Number of episodes(random seeds): 100\n",
            "Number of episodes in submission matches the number of random seeds\n",
            "Verification Complete! Please double check the verification results\n"
          ],
          "name": "stdout"
        }
      ]
    },
    {
      "cell_type": "code",
      "metadata": {
        "id": "BZphOQa_RVJJ",
        "colab_type": "code",
        "colab": {}
      },
      "source": [
        ""
      ],
      "execution_count": null,
      "outputs": []
    }
  ]
}
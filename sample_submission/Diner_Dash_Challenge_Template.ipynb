{
  "nbformat": 4,
  "nbformat_minor": 0,
  "metadata": {
    "colab": {
      "name": "Diner_Dash_Challenge_Template.ipynb",
      "provenance": [],
      "collapsed_sections": []
    },
    "kernelspec": {
      "name": "python3",
      "display_name": "Python 3"
    },
    "accelerator": "GPU"
  },
  "cells": [
    {
      "cell_type": "markdown",
      "metadata": {
        "id": "k1uhFSLspLGu",
        "colab_type": "text"
      },
      "source": [
        "# **Diner Dash Challenge**\n",
        "\n",
        "---\n",
        "\n",
        "## Objective:\n",
        "\n",
        "Using Reinforcement Learning(RL) algorithms, maximise the average rewards from 100 games/episodes of Diner Dash.\n",
        "\n",
        "## Game information:\n",
        "\n",
        "1. 40 states\n",
        "\n",
        "2. 57 actions\n",
        "\n",
        "For more information, visit the [diner dash repo](https://github.com/AdaCompNUS/diner-dash-simulator).\n",
        "\n",
        "## Things to note:\n",
        "\n",
        "1. If an \"Error: A module (diner_dash) was specified for the environment but was not found, make sure the package is installed with `pip install` before calling `gym.make()`\" error is raised, please restart the kernel and rerun all\n",
        "\n",
        "2. Please ensure a strong internet connection throughout this challenge to avoid disconnecting from the collab GPUs\n",
        "\n",
        "3. Do not idle your computer as collab automatically disconnects GPUs if the idle time is too long\n",
        "\n",
        "4. GPUs run on CUDA 10.1\n",
        "\n",
        "For other FAQs, refer to this [link](https://research.google.com/colaboratory/faq.html).\n",
        "\n",
        "## Workshop Repo\n",
        "If you have any questions regarding the use of this template, please raise an issue on the [workshop repo]()."
      ]
    },
    {
      "cell_type": "markdown",
      "metadata": {
        "id": "hLMQrYZNhc12",
        "colab_type": "text"
      },
      "source": [
        "---"
      ]
    },
    {
      "cell_type": "markdown",
      "metadata": {
        "id": "hLhRQoYbhGvh",
        "colab_type": "text"
      },
      "source": [
        "# Details of Submission [Please Edit]\n",
        "\n",
        "### Names of Group Members:\n",
        "John, Mary, Bryan\n",
        "\n",
        "### Names of Algorithms Used:\n",
        "Random Agent, PPO\n"
      ]
    },
    {
      "cell_type": "markdown",
      "metadata": {
        "id": "CGTjEEIFFH5u",
        "colab_type": "text"
      },
      "source": [
        "# Mounting Google Drive\n",
        "\n",
        "To store trained models"
      ]
    },
    {
      "cell_type": "code",
      "metadata": {
        "id": "h1zPeIVOE2c6",
        "colab_type": "code",
        "colab": {
          "base_uri": "https://localhost:8080/",
          "height": 34
        },
        "outputId": "5b9f3e4f-0032-4554-93c3-9e8db4cde0c9"
      },
      "source": [
        "from google.colab import drive\n",
        "drive.mount('/content/drive')"
      ],
      "execution_count": null,
      "outputs": [
        {
          "output_type": "stream",
          "text": [
            "Drive already mounted at /content/drive; to attempt to forcibly remount, call drive.mount(\"/content/drive\", force_remount=True).\n"
          ],
          "name": "stdout"
        }
      ]
    },
    {
      "cell_type": "markdown",
      "metadata": {
        "id": "Fb_lw5zhJ6Av",
        "colab_type": "text"
      },
      "source": [
        "## Create Project Directory"
      ]
    },
    {
      "cell_type": "code",
      "metadata": {
        "id": "r4uwe83-Fo0E",
        "colab_type": "code",
        "colab": {
          "base_uri": "https://localhost:8080/",
          "height": 34
        },
        "outputId": "ecc763f6-439d-4c5d-e1a0-568ff1ba24e6"
      },
      "source": [
        "!mkdir drive/My\\ Drive/DinerDashChallenge\n",
        "\n",
        "import os\n",
        "os.chdir(\"drive/My Drive/DinerDashChallenge\")"
      ],
      "execution_count": null,
      "outputs": [
        {
          "output_type": "stream",
          "text": [
            "mkdir: cannot create directory ‘drive/My Drive/DinerDashChallenge’: File exists\n"
          ],
          "name": "stdout"
        }
      ]
    },
    {
      "cell_type": "markdown",
      "metadata": {
        "id": "rhJmt90nhfuz",
        "colab_type": "text"
      },
      "source": [
        "# Installing Dependencies\n",
        "\n",
        "Downloading relevant project dependencies"
      ]
    },
    {
      "cell_type": "markdown",
      "metadata": {
        "id": "4iYXlsBohnCo",
        "colab_type": "text"
      },
      "source": [
        "## Dependencies for [diner dash simulator](https://github.com/AdaCompNUS/diner-dash-simulator)"
      ]
    },
    {
      "cell_type": "code",
      "metadata": {
        "id": "h24WNb92iLo5",
        "colab_type": "code",
        "colab": {
          "base_uri": "https://localhost:8080/",
          "height": 34
        },
        "outputId": "c1356f57-9897-4cc2-f5b5-5231c768c7ed"
      },
      "source": [
        "!git clone https://github.com/AdaCompNUS/diner-dash-simulator.git"
      ],
      "execution_count": null,
      "outputs": [
        {
          "output_type": "stream",
          "text": [
            "fatal: destination path 'diner-dash-simulator' already exists and is not an empty directory.\n"
          ],
          "name": "stdout"
        }
      ]
    },
    {
      "cell_type": "code",
      "metadata": {
        "id": "ArJDnBT3eq_g",
        "colab_type": "code",
        "colab": {
          "base_uri": "https://localhost:8080/",
          "height": 306
        },
        "outputId": "3cb6f0fa-bb2c-4c1a-d16a-4e0cd00b0fa9"
      },
      "source": [
        "!pip install -e diner-dash-simulator/DinerDashEnv"
      ],
      "execution_count": null,
      "outputs": [
        {
          "output_type": "stream",
          "text": [
            "Obtaining file:///content/drive/My%20Drive/DinerDashChallenge/diner-dash-simulator/DinerDashEnv\n",
            "Requirement already satisfied: gym>=0.2.3 in /usr/local/lib/python3.6/dist-packages (from diner-dash==0.0.1) (0.17.2)\n",
            "Requirement already satisfied: numpy in /usr/local/lib/python3.6/dist-packages (from diner-dash==0.0.1) (1.18.5)\n",
            "Requirement already satisfied: requests in /usr/local/lib/python3.6/dist-packages (from diner-dash==0.0.1) (2.23.0)\n",
            "Requirement already satisfied: pyglet<=1.5.0,>=1.4.0 in /usr/local/lib/python3.6/dist-packages (from gym>=0.2.3->diner-dash==0.0.1) (1.5.0)\n",
            "Requirement already satisfied: scipy in /usr/local/lib/python3.6/dist-packages (from gym>=0.2.3->diner-dash==0.0.1) (1.4.1)\n",
            "Requirement already satisfied: cloudpickle<1.4.0,>=1.2.0 in /usr/local/lib/python3.6/dist-packages (from gym>=0.2.3->diner-dash==0.0.1) (1.3.0)\n",
            "Requirement already satisfied: chardet<4,>=3.0.2 in /usr/local/lib/python3.6/dist-packages (from requests->diner-dash==0.0.1) (3.0.4)\n",
            "Requirement already satisfied: urllib3!=1.25.0,!=1.25.1,<1.26,>=1.21.1 in /usr/local/lib/python3.6/dist-packages (from requests->diner-dash==0.0.1) (1.24.3)\n",
            "Requirement already satisfied: certifi>=2017.4.17 in /usr/local/lib/python3.6/dist-packages (from requests->diner-dash==0.0.1) (2020.6.20)\n",
            "Requirement already satisfied: idna<3,>=2.5 in /usr/local/lib/python3.6/dist-packages (from requests->diner-dash==0.0.1) (2.10)\n",
            "Requirement already satisfied: future in /usr/local/lib/python3.6/dist-packages (from pyglet<=1.5.0,>=1.4.0->gym>=0.2.3->diner-dash==0.0.1) (0.16.0)\n",
            "Installing collected packages: diner-dash\n",
            "  Found existing installation: diner-dash 0.0.1\n",
            "    Can't uninstall 'diner-dash'. No files were found to uninstall.\n",
            "  Running setup.py develop for diner-dash\n",
            "Successfully installed diner-dash\n"
          ],
          "name": "stdout"
        }
      ]
    },
    {
      "cell_type": "code",
      "metadata": {
        "id": "JZWvVHKSKi1S",
        "colab_type": "code",
        "colab": {
          "base_uri": "https://localhost:8080/",
          "height": 34
        },
        "outputId": "b49db4ef-01d2-45ef-dcd3-7b7f2d223170"
      },
      "source": [
        "!pip install more_itertools"
      ],
      "execution_count": null,
      "outputs": [
        {
          "output_type": "stream",
          "text": [
            "Requirement already satisfied: more_itertools in /usr/local/lib/python3.6/dist-packages (8.4.0)\n"
          ],
          "name": "stdout"
        }
      ]
    },
    {
      "cell_type": "markdown",
      "metadata": {
        "id": "sI9AG8cflhV2",
        "colab_type": "text"
      },
      "source": [
        "## Dependencies for Policy"
      ]
    },
    {
      "cell_type": "code",
      "metadata": {
        "id": "tZQV-Quxmd_H",
        "colab_type": "code",
        "colab": {
          "base_uri": "https://localhost:8080/",
          "height": 119
        },
        "outputId": "1237e6ee-845a-44f0-a578-cb1bff634a3b"
      },
      "source": [
        "!pip install torch==1.5.1+cu101 torchvision==0.6.1+cu101 -f https://download.pytorch.org/whl/torch_stable.html"
      ],
      "execution_count": null,
      "outputs": [
        {
          "output_type": "stream",
          "text": [
            "Looking in links: https://download.pytorch.org/whl/torch_stable.html\n",
            "Requirement already satisfied: torch==1.5.1+cu101 in /usr/local/lib/python3.6/dist-packages (1.5.1+cu101)\n",
            "Requirement already satisfied: torchvision==0.6.1+cu101 in /usr/local/lib/python3.6/dist-packages (0.6.1+cu101)\n",
            "Requirement already satisfied: numpy in /usr/local/lib/python3.6/dist-packages (from torch==1.5.1+cu101) (1.18.5)\n",
            "Requirement already satisfied: future in /usr/local/lib/python3.6/dist-packages (from torch==1.5.1+cu101) (0.16.0)\n",
            "Requirement already satisfied: pillow>=4.1.1 in /usr/local/lib/python3.6/dist-packages (from torchvision==0.6.1+cu101) (7.0.0)\n"
          ],
          "name": "stdout"
        }
      ]
    },
    {
      "cell_type": "markdown",
      "metadata": {
        "id": "jhLb7POHP-Ic",
        "colab_type": "text"
      },
      "source": [
        "# Helper Functions\n",
        "\n",
        "For easier debugging"
      ]
    },
    {
      "cell_type": "code",
      "metadata": {
        "id": "WMDW4nVXQA4Z",
        "colab_type": "code",
        "colab": {}
      },
      "source": [
        "def getAction(actionID):\n",
        "    actionIDtoName = {\n",
        "        0 : \"None\",\n",
        "        1 : \"Move to Table 1\",\n",
        "        2 : \"Move to Table 2\",\n",
        "        3 : \"Move to Table 3\",\n",
        "        4 : \"Move to Table 4\",\n",
        "        5 : \"Move to Table 5\",\n",
        "        6 : \"Move to Table 6\",\n",
        "        7 : \"Move to Counter\",\n",
        "        8 : \"Pick Food for Table 1\",\n",
        "        9 : \"Pick Food for Table 2\",\n",
        "        10 : \"Pick Food for Table 3\",\n",
        "        11 : \"Pick Food for Table 4\",\n",
        "        12 : \"Pick Food for Table 5\",\n",
        "        13 : \"Pick Food for Table 6\",\n",
        "        14 : \"Move to Food Collection\",\n",
        "        15 : \"Pick Table 1 for Group 1\",\n",
        "        16 : \"Pick Table 2 for Group 1\",\n",
        "        17 : \"Pick Table 3 for Group 1\",\n",
        "        18 : \"Pick Table 4 for Group 1\",\n",
        "        19 : \"Pick Table 5 for Group 1\",\n",
        "        20 : \"Pick Table 6 for Group 1\",\n",
        "        21 : \"Pick Table 1 for Group 2\",\n",
        "        22 : \"Pick Table 2 for Group 2\",\n",
        "        23 : \"Pick Table 3 for Group 2\",\n",
        "        24 : \"Pick Table 4 for Group 2\",\n",
        "        25 : \"Pick Table 5 for Group 2\",\n",
        "        26 : \"Pick Table 6 for Group 2\",\n",
        "        27 : \"Pick Table 1 for Group 3\",\n",
        "        28 : \"Pick Table 2 for Group 3\",\n",
        "        29 : \"Pick Table 3 for Group 3\",\n",
        "        30 : \"Pick Table 4 for Group 3\",\n",
        "        31 : \"Pick Table 5 for Group 3\",\n",
        "        32 : \"Pick Table 6 for Group 3\",\n",
        "        33 : \"Pick Table 1 for Group 4\",\n",
        "        34 : \"Pick Table 2 for Group 4\",\n",
        "        35 : \"Pick Table 3 for Group 4\",\n",
        "        36 : \"Pick Table 4 for Group 4\",\n",
        "        37 : \"Pick Table 5 for Group 4\",\n",
        "        38 : \"Pick Table 6 for Group 4\",\n",
        "        39 : \"Pick Table 1 for Group 5\",\n",
        "        40 : \"Pick Table 2 for Group 5\",\n",
        "        41 : \"Pick Table 3 for Group 5\",\n",
        "        42 : \"Pick Table 4 for Group 5\",\n",
        "        43 : \"Pick Table 5 for Group 5\",\n",
        "        44 : \"Pick Table 6 for Group 5\",\n",
        "        45 : \"Pick Table 1 for Group 6\",\n",
        "        46 : \"Pick Table 2 for Group 6\",\n",
        "        47 : \"Pick Table 3 for Group 6\",\n",
        "        48 : \"Pick Table 4 for Group 6\",\n",
        "        49 : \"Pick Table 5 for Group 6\",\n",
        "        50 : \"Pick Table 6 for Group 6\",\n",
        "        51 : \"Pick Table 1 for Group 7\",\n",
        "        52 : \"Pick Table 2 for Group 7\",\n",
        "        53 : \"Pick Table 3 for Group 7\",\n",
        "        54 : \"Pick Table 4 for Group 7\",\n",
        "        55 : \"Pick Table 5 for Group 7\",\n",
        "        56 : \"Pick Table 6 for Group 7\",\n",
        "    }\n",
        "    return actionIDtoName[actionID]"
      ],
      "execution_count": null,
      "outputs": []
    },
    {
      "cell_type": "markdown",
      "metadata": {
        "id": "sIfwpn5wnTwk",
        "colab_type": "text"
      },
      "source": [
        "# Policies"
      ]
    },
    {
      "cell_type": "markdown",
      "metadata": {
        "id": "ul2Fi9PaPgz7",
        "colab_type": "text"
      },
      "source": [
        "## Random Agent"
      ]
    },
    {
      "cell_type": "code",
      "metadata": {
        "id": "StTisAOnPvoS",
        "colab_type": "code",
        "colab": {}
      },
      "source": [
        "from random import randint"
      ],
      "execution_count": null,
      "outputs": []
    },
    {
      "cell_type": "code",
      "metadata": {
        "id": "W4cYi3VuPjwg",
        "colab_type": "code",
        "colab": {}
      },
      "source": [
        "# Randomly select an action from the action space\n",
        "def testRA(env, state):\n",
        "    # init variables\n",
        "    done = False\n",
        "    sumReward = 0\n",
        "    actionList = []\n",
        "\n",
        "    while not done:\n",
        "        action = randint(0, 56)\n",
        "        actionList.append(action)\n",
        "        state, reward, done, _ = env.step(action)\n",
        "        sumReward += reward\n",
        "\n",
        "    return sumReward, actionList"
      ],
      "execution_count": null,
      "outputs": []
    },
    {
      "cell_type": "markdown",
      "metadata": {
        "id": "_ogJEf9DnYzs",
        "colab_type": "text"
      },
      "source": [
        "## [PPO](https://github.com/nikhilbarhate99/PPO-PyTorch)"
      ]
    },
    {
      "cell_type": "code",
      "metadata": {
        "id": "EaLiVAuEnP4M",
        "colab_type": "code",
        "colab": {}
      },
      "source": [
        "import torch\n",
        "import torch.nn as nn\n",
        "import numpy as np\n",
        "from torch.distributions import Categorical\n",
        "import gym"
      ],
      "execution_count": null,
      "outputs": []
    },
    {
      "cell_type": "code",
      "metadata": {
        "id": "WOdTXCzYmvBw",
        "colab_type": "code",
        "colab": {}
      },
      "source": [
        "device = torch.device(\"cuda:0\" if torch.cuda.is_available() else \"cpu\")"
      ],
      "execution_count": null,
      "outputs": []
    },
    {
      "cell_type": "code",
      "metadata": {
        "id": "pbJ-Mr5ZoCmT",
        "colab_type": "code",
        "colab": {}
      },
      "source": [
        "class Memory:\n",
        "    def __init__(self):\n",
        "        self.actions = []\n",
        "        self.states = []\n",
        "        self.logprobs = []\n",
        "        self.rewards = []\n",
        "        self.is_terminals = []\n",
        "    \n",
        "    def clear_memory(self):\n",
        "        del self.actions[:]\n",
        "        del self.states[:]\n",
        "        del self.logprobs[:]\n",
        "        del self.rewards[:]\n",
        "        del self.is_terminals[:]\n",
        "\n",
        "class ActorCritic(nn.Module):\n",
        "    def __init__(self, state_dim, action_dim, n_latent_var):\n",
        "        super(ActorCritic, self).__init__()\n",
        "\n",
        "        # actor\n",
        "        self.action_layer = nn.Sequential(\n",
        "                nn.Linear(state_dim, n_latent_var),\n",
        "                nn.Tanh(),\n",
        "                nn.Linear(n_latent_var, n_latent_var),\n",
        "                nn.Tanh(),\n",
        "                nn.Linear(n_latent_var, action_dim),\n",
        "                nn.Softmax(dim=-1)\n",
        "                )\n",
        "        \n",
        "        # critic\n",
        "        self.value_layer = nn.Sequential(\n",
        "                nn.Linear(state_dim, n_latent_var),\n",
        "                nn.Tanh(),\n",
        "                nn.Linear(n_latent_var, n_latent_var),\n",
        "                nn.Tanh(),\n",
        "                nn.Linear(n_latent_var, 1)\n",
        "                )\n",
        "        \n",
        "    def forward(self):\n",
        "        raise NotImplementedError\n",
        "        \n",
        "    def act(self, state, memory):\n",
        "        state = torch.from_numpy(state).float().to(device) \n",
        "        action_probs = self.action_layer(state)\n",
        "        dist = Categorical(action_probs)\n",
        "        action = dist.sample()\n",
        "        \n",
        "        memory.states.append(state)\n",
        "        memory.actions.append(action)\n",
        "        memory.logprobs.append(dist.log_prob(action))\n",
        "        \n",
        "        return action.item()\n",
        "    \n",
        "    def evaluate(self, state, action):\n",
        "        action_probs = self.action_layer(state)\n",
        "        dist = Categorical(action_probs)\n",
        "        \n",
        "        action_logprobs = dist.log_prob(action)\n",
        "        dist_entropy = dist.entropy()\n",
        "        \n",
        "        state_value = self.value_layer(state)\n",
        "        \n",
        "        return action_logprobs, torch.squeeze(state_value), dist_entropy\n",
        "        \n",
        "class PPO:\n",
        "    def __init__(self, state_dim, action_dim, n_latent_var, lr, betas, gamma, K_epochs, eps_clip):\n",
        "        self.lr = lr\n",
        "        self.betas = betas\n",
        "        self.gamma = gamma\n",
        "        self.eps_clip = eps_clip\n",
        "        self.K_epochs = K_epochs\n",
        "        \n",
        "        self.policy = ActorCritic(state_dim, action_dim, n_latent_var).to(device)\n",
        "        self.optimizer = torch.optim.Adam(self.policy.parameters(), lr=lr, betas=betas)\n",
        "        self.policy_old = ActorCritic(state_dim, action_dim, n_latent_var).to(device)\n",
        "        self.policy_old.load_state_dict(self.policy.state_dict())\n",
        "        \n",
        "        self.MseLoss = nn.MSELoss()\n",
        "    \n",
        "    def update(self, memory):   \n",
        "        # Monte Carlo estimate of state rewards:\n",
        "        rewards = []\n",
        "        discounted_reward = 0\n",
        "        for reward, is_terminal in zip(reversed(memory.rewards), reversed(memory.is_terminals)):\n",
        "            if is_terminal:\n",
        "                discounted_reward = 0\n",
        "            discounted_reward = reward + (self.gamma * discounted_reward)\n",
        "            rewards.insert(0, discounted_reward)\n",
        "        \n",
        "        # Normalizing the rewards:\n",
        "        rewards = torch.tensor(rewards).to(device)\n",
        "        rewards = (rewards - rewards.mean()) / (rewards.std() + 1e-5)\n",
        "        \n",
        "        # convert list to tensor\n",
        "        old_states = torch.stack(memory.states).to(device).detach()\n",
        "        old_actions = torch.stack(memory.actions).to(device).detach()\n",
        "        old_logprobs = torch.stack(memory.logprobs).to(device).detach()\n",
        "        \n",
        "        # Optimize policy for K epochs:\n",
        "        for _ in range(self.K_epochs):\n",
        "            # Evaluating old actions and values :\n",
        "            logprobs, state_values, dist_entropy = self.policy.evaluate(old_states, old_actions)\n",
        "            \n",
        "            # Finding the ratio (pi_theta / pi_theta__old):\n",
        "            ratios = torch.exp(logprobs - old_logprobs.detach())\n",
        "                \n",
        "            # Finding Surrogate Loss:\n",
        "            advantages = rewards - state_values.detach()\n",
        "            surr1 = ratios * advantages\n",
        "            surr2 = torch.clamp(ratios, 1-self.eps_clip, 1+self.eps_clip) * advantages\n",
        "            loss = -torch.min(surr1, surr2) + 0.5*self.MseLoss(state_values, rewards) - 0.01*dist_entropy\n",
        "            \n",
        "            # take gradient step\n",
        "            self.optimizer.zero_grad()\n",
        "            loss.mean().backward()\n",
        "            self.optimizer.step()\n",
        "        \n",
        "        # Copy new weights into old policy:\n",
        "        self.policy_old.load_state_dict(self.policy.state_dict())"
      ],
      "execution_count": null,
      "outputs": []
    },
    {
      "cell_type": "markdown",
      "metadata": {
        "id": "v2pRyXLDBtnV",
        "colab_type": "text"
      },
      "source": [
        "### Training PPO"
      ]
    },
    {
      "cell_type": "code",
      "metadata": {
        "id": "Hb-_zyFloDUt",
        "colab_type": "code",
        "colab": {}
      },
      "source": [
        "def trainPPO():\n",
        "    ############## Hyperparameters ##############\n",
        "    env_name = \"diner_dash:DinerDash-v0\"\n",
        "    # creating environment\n",
        "    env = gym.make(env_name).unwrapped\n",
        "    state_dim = env.observation_space.shape[0]\n",
        "    action_dim = 57\n",
        "    render = False\n",
        "    solved_reward = 500         # stop training if avg_reward > solved_reward\n",
        "    log_interval = 1000         # print avg reward in the interval\n",
        "    max_episodes = int(1e8)     # max training episodes\n",
        "    max_timesteps = int(1e8)    # max timesteps in one episode\n",
        "    n_latent_var = 64           # number of variables in hidden layer\n",
        "    update_timestep = 2000      # update policy every n timesteps\n",
        "    lr = 0.002\n",
        "    betas = (0.9, 0.999)\n",
        "    gamma = 0.99                # discount factor\n",
        "    K_epochs = 4                # update policy for K epochs\n",
        "    eps_clip = 0.2              # clip parameter for PPO\n",
        "    random_seed = None          # do NOT train with a random seed\n",
        "    #############################################\n",
        "    \n",
        "    if random_seed:\n",
        "        torch.manual_seed(random_seed)\n",
        "        env.seed(random_seed)\n",
        "    \n",
        "    memory = Memory()\n",
        "    ppo = PPO(state_dim, action_dim, n_latent_var, lr, betas, gamma, K_epochs, eps_clip)\n",
        "    print(f\"Device used: {device}\")\n",
        "    print(f\"Learning rate: {lr}, Betas: {betas}\")\n",
        "    \n",
        "    # logging variables\n",
        "    running_reward = 0\n",
        "    avg_length = 0\n",
        "    timestep = 0\n",
        "    \n",
        "    # training loop\n",
        "    for i_episode in range(1, max_episodes+1):\n",
        "        state = env.reset()\n",
        "        state = np.array(state)\n",
        "        \n",
        "        for t in range(max_timesteps):\n",
        "          timestep += 1\n",
        "\n",
        "          # Running policy_old:\n",
        "          action = ppo.policy_old.act(state, memory)\n",
        "          state, reward, done, _ = env.step(action)\n",
        "          state = np.array(state)\n",
        "          \n",
        "          # Saving reward and is_terminal:\n",
        "          memory.rewards.append(reward)\n",
        "          memory.is_terminals.append(done)\n",
        "          \n",
        "          # update if its time\n",
        "          if timestep % update_timestep == 0:\n",
        "              ppo.update(memory)\n",
        "              memory.clear_memory()\n",
        "              timestep = 0\n",
        "          \n",
        "          running_reward += reward\n",
        "          if render:\n",
        "              env.render()\n",
        "          if done:\n",
        "              break\n",
        "                \n",
        "        avg_length += t\n",
        "        \n",
        "        # stop training if avg_reward > solved_reward\n",
        "        if running_reward > (log_interval*solved_reward):\n",
        "            print(\"########## Solved! ##########\")\n",
        "            torch.save(ppo.policy.state_dict(), 'PPO_{}_{}.pth'.format(env_name, solved_reward))\n",
        "            break\n",
        "            \n",
        "        # logging\n",
        "        if i_episode % log_interval == 0:\n",
        "            avg_length = int(avg_length/log_interval)\n",
        "            running_reward = int((running_reward/log_interval))\n",
        "            \n",
        "            print('Episode {} \\t avg length: {} \\t reward: {}'.format(i_episode, avg_length, running_reward))\n",
        "            running_reward = 0\n",
        "            avg_length = 0"
      ],
      "execution_count": null,
      "outputs": []
    },
    {
      "cell_type": "code",
      "metadata": {
        "id": "4c06KtkyZLHC",
        "colab_type": "code",
        "colab": {
          "base_uri": "https://localhost:8080/",
          "height": 765
        },
        "outputId": "a6e63cb3-2069-4fff-f028-6a7256ea96f7"
      },
      "source": [
        "trainPPO()"
      ],
      "execution_count": 14,
      "outputs": [
        {
          "output_type": "stream",
          "text": [
            "Device used: cuda:0\n",
            "Learning rate: 0.002, Betas: (0.9, 0.999)\n",
            "Device used: cuda:0\n",
            "Learning rate: 0.002, Betas: (0.9, 0.999)\n",
            "Episode 1000 \t avg length: 137 \t reward: -960\n",
            "Episode 1000 \t avg length: 137 \t reward: -960\n",
            "Episode 2000 \t avg length: 137 \t reward: -369\n",
            "Episode 2000 \t avg length: 137 \t reward: -369\n",
            "Episode 3000 \t avg length: 139 \t reward: 50\n",
            "Episode 3000 \t avg length: 139 \t reward: 50\n",
            "Episode 4000 \t avg length: 141 \t reward: 163\n",
            "Episode 4000 \t avg length: 141 \t reward: 163\n",
            "Episode 5000 \t avg length: 141 \t reward: 249\n",
            "Episode 5000 \t avg length: 141 \t reward: 249\n",
            "Episode 6000 \t avg length: 143 \t reward: 318\n",
            "Episode 6000 \t avg length: 143 \t reward: 318\n",
            "Episode 7000 \t avg length: 141 \t reward: 267\n",
            "Episode 7000 \t avg length: 141 \t reward: 267\n",
            "Episode 8000 \t avg length: 142 \t reward: 235\n",
            "Episode 8000 \t avg length: 142 \t reward: 235\n",
            "Episode 9000 \t avg length: 142 \t reward: 273\n",
            "Episode 9000 \t avg length: 142 \t reward: 273\n",
            "Episode 10000 \t avg length: 142 \t reward: 310\n",
            "Episode 10000 \t avg length: 142 \t reward: 310\n",
            "Episode 11000 \t avg length: 145 \t reward: 370\n",
            "Episode 11000 \t avg length: 145 \t reward: 370\n",
            "Episode 12000 \t avg length: 145 \t reward: 417\n",
            "Episode 12000 \t avg length: 145 \t reward: 417\n",
            "Episode 13000 \t avg length: 145 \t reward: 426\n",
            "Episode 13000 \t avg length: 145 \t reward: 426\n",
            "Episode 14000 \t avg length: 147 \t reward: 478\n",
            "Episode 14000 \t avg length: 147 \t reward: 478\n",
            "Episode 15000 \t avg length: 146 \t reward: 477\n",
            "Episode 15000 \t avg length: 146 \t reward: 477\n",
            "Episode 16000 \t avg length: 146 \t reward: 463\n",
            "Episode 16000 \t avg length: 146 \t reward: 463\n",
            "Episode 17000 \t avg length: 146 \t reward: 437\n",
            "Episode 17000 \t avg length: 146 \t reward: 437\n",
            "Episode 18000 \t avg length: 147 \t reward: 494\n",
            "Episode 18000 \t avg length: 147 \t reward: 494\n",
            "Episode 19000 \t avg length: 147 \t reward: 468\n",
            "Episode 19000 \t avg length: 147 \t reward: 468\n",
            "########## Solved! ##########\n",
            "########## Solved! ##########\n"
          ],
          "name": "stdout"
        }
      ]
    },
    {
      "cell_type": "markdown",
      "metadata": {
        "id": "C4Z3eCMVMLx9",
        "colab_type": "text"
      },
      "source": [
        "### Testing PPO"
      ]
    },
    {
      "cell_type": "code",
      "metadata": {
        "id": "eUE1qOV9MN3M",
        "colab_type": "code",
        "colab": {}
      },
      "source": [
        "def testPPO(env, state):\n",
        "    ############## Hyperparameters ##############\n",
        "    env_name = \"diner_dash:DinerDash-v0\"\n",
        "    # creating environment\n",
        "    # env = gym.make(env_name).unwrapped\n",
        "    state_dim = 40\n",
        "    action_dim = 57\n",
        "    exp_reward = 500            # expected reward to load saved model     \n",
        "    n_latent_var = 64           # number of variables in hidden layer\n",
        "    lr = 0.0007\n",
        "    betas = (0.9, 0.999)\n",
        "    gamma = 0.99                # discount factor\n",
        "    K_epochs = 4                # update policy for K epochs\n",
        "    eps_clip = 0.2              # clip parameter for PPO\n",
        "    #############################################\n",
        "    \n",
        "    filename = \"PPO_{}_{}.pth\".format(env_name, exp_reward)\n",
        "    \n",
        "    memory = Memory()\n",
        "    ppo = PPO(state_dim, action_dim, n_latent_var, lr, betas, gamma, K_epochs, eps_clip)\n",
        "    \n",
        "    ppo.policy_old.load_state_dict(torch.load(filename))\n",
        "\n",
        "    ep_reward = 0\n",
        "    state = np.array(state)\n",
        "    done = False\n",
        "\n",
        "    while not done:\n",
        "      action = ppo.policy_old.act(state, memory)\n",
        "      state, reward, done, _ = env.step(action)\n",
        "      state = np.array(state)\n",
        "      ep_reward += reward\n",
        "\n",
        "    actionList = [action.item() for action in memory.actions]\n",
        "\n",
        "    return ep_reward, actionList"
      ],
      "execution_count": 26,
      "outputs": []
    },
    {
      "cell_type": "markdown",
      "metadata": {
        "id": "SolGR2yNPGCQ",
        "colab_type": "text"
      },
      "source": [
        "# Testing of Policies and Verification of Submission"
      ]
    },
    {
      "cell_type": "code",
      "metadata": {
        "id": "JWh2kSf9OGv1",
        "colab_type": "code",
        "colab": {}
      },
      "source": [
        "from random import randint\n",
        "import json\n",
        "import os\n",
        "\n",
        "# Sample test\n",
        "def test():\n",
        "    # Initiliase environment\n",
        "    env = gym.make('diner_dash:DinerDash-v0').unwrapped\n",
        "    env.flash_sim = False\n",
        "\n",
        "    ############################ CHANGEABLE AREA ##############################\n",
        "    # Changeable parameters\n",
        "    numEpisodes = 100                             # num of test episodes\n",
        "    algos = [testRA, testPPO]                     # Add or remove algos (must have unique names)\n",
        "    saveJson = True                               # Whether to save actions_dict\n",
        "    group_member_list = [\"john\", \"mary\", \"bryan\"] # List of group members\n",
        "\n",
        "    ### Replace the list of randomSeeds with that given for submission\n",
        "    # e.g. randomSeeds = [1, 2, 3]\n",
        "    randomSeeds = [randint(0, 1e8) for i in range(numEpisodes)]\n",
        "\n",
        "    ############################################################################\n",
        "\n",
        "    rewards_dict = {algo.__name__ : [] for algo in algos}\n",
        "    actions_dict = {algo.__name__ : [] for algo in algos}\n",
        "\n",
        "    # Test begins\n",
        "    for e, seed in enumerate(randomSeeds):\n",
        "        # Sets random seed\n",
        "        env.seed(seed)\n",
        "        \n",
        "        # Resets the environment based on random seed\n",
        "        state = env.reset()\n",
        "\n",
        "        for algo in algos:\n",
        "            # create copy of environment for testing\n",
        "            t_env = env.env.duplicate()\n",
        "\n",
        "            # Given an environment and initial state\n",
        "            # Returns the sum of rewards for that episode and the actions list\n",
        "            rewards, actions = algo(t_env, state)\n",
        "\n",
        "            rewards_dict[algo.__name__].append(rewards)\n",
        "            actions_dict[algo.__name__].append(actions)\n",
        "\n",
        "    # Print average rewards from n episodes for each algo\n",
        "    avgReward_dict = {algo : int(sum(rewards)/len(rewards)) for algo, rewards in rewards_dict.items()}\n",
        "    print(f\"Average Rewards for each algo: {avgReward_dict}\")\n",
        "\n",
        "    # Print an action dict containing actions list for each random seed env for each algo\n",
        "    print(f\"Actions list for each env for each algo: {actions_dict}\")\n",
        "    \n",
        "    submission_dict = {\n",
        "        \"names\": group_member_list,\n",
        "        \"actionDict\": actions_dict}\n",
        "\n",
        "    if saveJson:\n",
        "      print(\"Saving Json file...\")\n",
        "      fileName = \"submission.json\"\n",
        "      with open(fileName, \"w\") as write_file:\n",
        "          json.dump(submission_dict, write_file)\n",
        "          print(f\"{fileName} was saved in {os.getcwd()}\")\n",
        "      \n",
        "      print(\"-\" * 100)\n",
        "      \n",
        "      print(f\"Verifying {fileName}...\")\n",
        "      print(f\"Group Members include: {submission_dict['names']}\")\n",
        "      print(f\"Names of Algos used: {list(submission_dict['actionDict'].keys())}\")\n",
        "      for val in submission_dict['actionDict'].values():\n",
        "        submissionEpisodes = len(val)\n",
        "        if submissionEpisodes != len(randomSeeds):\n",
        "          raise ValueError(\"Number of episodes in submission does not match the number of random seeds!\")\n",
        "      print(f\"Number of episodes(random seeds): {submissionEpisodes}\")\n",
        "      print(\"Number of episodes in submission matches the number of random seeds\")\n",
        "      print(\"Verification Complete! Please double check the verification results\")\n",
        "    \n",
        "    return None"
      ],
      "execution_count": 33,
      "outputs": []
    },
    {
      "cell_type": "code",
      "metadata": {
        "id": "2EwikBvPOstH",
        "colab_type": "code",
        "colab": {
          "base_uri": "https://localhost:8080/",
          "height": 224
        },
        "outputId": "2e48a824-357b-412d-e3a5-4aca79ef7fd7"
      },
      "source": [
        "test()"
      ],
      "execution_count": 34,
      "outputs": [
        {
          "output_type": "stream",
          "text": [
            "Average Rewards for each algo: {'testRA': -1269, 'testPPO': 521}\n",
            "Actions list for each env for each algo: {'testRA': [[46, 13, 8, 29, 40, 16, 34, 21, 48, 36, 53, 27, 25, 11, 18, 17, 48, 29, 13, 36, 51, 6, 36, 24, 10, 5, 46, 28, 4, 53, 32, 17, 6, 14, 9, 50, 54, 4, 56, 37, 8, 22, 8, 1, 25, 17, 1, 20, 54, 1, 17, 43, 54, 54, 16, 28, 56, 11, 33, 46, 0, 14, 55, 37, 50, 26, 36, 11, 2, 8, 41, 37, 1, 21, 12, 28, 24, 18, 12, 6, 32, 3, 10, 38, 1, 35, 37, 11, 6, 28, 7, 1, 23, 1, 31, 27, 0, 10, 10, 7, 31, 21, 49, 47, 13, 36, 38, 32, 4, 0, 47, 38, 10, 41, 41, 20, 12, 23, 48, 14, 4, 5, 24, 24, 44, 10, 13, 49, 48, 34, 26, 55, 22, 49, 22, 46, 46, 33, 22, 38, 53, 6, 42, 42, 36, 39, 27, 52, 22, 28, 49, 34, 43, 35, 2, 24, 39, 51], [15, 52, 48, 41, 25, 46, 2, 20, 54, 29, 46, 5, 24, 1, 28, 35, 21, 21, 19, 48, 45, 33, 31, 34, 48, 0, 26, 0, 30, 47, 29, 40, 42, 20, 45, 17, 50, 7, 14, 4, 53, 18, 30, 23, 22, 39, 39, 30, 22, 52, 53, 35, 8, 33, 27, 48, 23, 7, 43, 8, 42, 2, 9, 42, 43, 40, 19, 24, 43, 15, 14, 48, 13, 6, 0, 55, 56, 37, 47, 50, 32, 20, 44, 39, 39, 25, 32, 32, 40, 4, 22, 23, 51, 53, 4, 51, 27, 31, 7, 12, 37, 11, 7, 35, 2, 46, 11, 12, 21, 53, 3, 1, 42, 37, 24, 25, 42, 16, 10, 34, 20, 28, 39, 32, 32, 52, 33, 35, 21], [30, 42, 47, 16, 45, 45, 27, 33, 36, 54, 10, 18, 2, 34, 6, 11, 19, 35, 17, 14, 47, 9, 53, 44, 22, 13, 23, 53, 14, 36, 0, 54, 19, 43, 49, 35, 39, 11, 34, 9, 24, 38, 36, 9, 4, 56, 46, 48, 42, 16, 33, 9, 39, 24, 42, 41, 24, 52, 56, 29, 32, 26, 50, 8, 1, 36, 26, 16, 47, 0, 16, 19, 45, 17, 37, 24, 3, 29, 29, 56, 1, 36, 8, 56, 10, 50, 0, 5, 37, 11, 41, 22, 16, 48, 15, 15, 1, 47, 35, 8, 40, 5, 51, 22, 24, 8, 41, 42, 34, 1, 55, 14, 45, 12, 48, 43, 6, 38, 32, 44, 50, 54, 36, 28, 0, 21, 49, 27, 19, 52, 53, 12, 45, 42, 54, 31, 2, 7, 28, 9, 34, 8, 45, 36, 30, 40, 0, 50, 52, 54, 21, 16, 50, 15, 27, 17, 3], [55, 41, 3, 52, 24, 25, 5, 14, 55, 13, 14, 46, 43, 8, 50, 9, 45, 17, 55, 26, 49, 40, 29, 0, 26, 10, 14, 41, 34, 10, 26, 12, 12, 55, 42, 44, 11, 29, 5, 23, 11, 26, 43, 34, 52, 6, 21, 41, 0, 43, 28, 18, 6, 40, 30, 30, 19, 11, 34, 56, 33, 52, 3, 46, 37, 16, 2, 29, 11, 20, 18, 31, 31, 53, 32, 38, 45, 25, 8, 37, 4, 10, 4, 22, 16, 56, 0, 56, 28, 6, 29, 43, 11, 22, 31, 9, 50, 53, 43, 17, 18, 24, 33, 19, 24, 46, 22, 48, 32, 29, 23, 0, 22, 11, 47, 32, 21, 22, 45, 50, 10, 45, 2, 25, 39, 21, 41, 36, 19, 32, 36, 41, 26, 14, 53, 51, 45, 46, 18], [39, 55, 30, 16, 23, 11, 7, 1, 44, 2, 1, 37, 33, 25, 5, 31, 10, 34, 52, 2, 0, 21, 3, 21, 52, 29, 19, 45, 19, 54, 33, 29, 45, 46, 49, 0, 0, 35, 10, 49, 26, 45, 29, 36, 55, 29, 13, 20, 46, 36, 3, 42, 30, 16, 53, 14, 44, 29, 36, 44, 13, 40, 3, 21, 49, 23, 25, 4, 15, 21, 53, 46, 14, 44, 36, 15, 29, 0, 4, 42, 31, 23, 49, 55, 6, 6, 47, 10, 43, 52, 20, 38, 29, 11, 22, 53, 10, 44, 22, 8, 39, 30, 21, 33, 5, 29, 28, 52, 31, 18, 27, 8, 42, 14, 21, 29, 27, 0, 54, 16, 40, 43, 5, 8, 53, 56, 10, 42, 8, 2, 35], [2, 8, 2, 44, 36, 48, 8, 11, 35, 56, 46, 8, 29, 49, 23, 0, 10, 6, 36, 0, 9, 20, 19, 9, 54, 30, 56, 16, 31, 56, 4, 54, 35, 25, 40, 7, 18, 16, 44, 54, 46, 6, 3, 31, 48, 32, 54, 54, 4, 48, 56, 5, 9, 18, 13, 36, 0, 44, 52, 33, 3, 23, 24, 17, 21, 12, 12, 36, 26, 9, 12, 34, 28, 32, 36, 45, 18, 36, 56, 6, 18, 34, 4, 50, 22, 16, 20, 50, 53, 26, 47, 4, 36, 24, 30, 47, 7, 36, 7, 50, 40, 37, 20, 42, 11, 42, 17, 27, 43, 46, 42, 4, 18, 23, 21, 16, 33, 20, 12, 47, 28, 18, 41, 42, 29, 11, 30, 16, 29, 35, 12, 30, 19, 8, 21, 56, 43, 49, 0, 26], [48, 53, 35, 29, 16, 42, 3, 3, 4, 34, 10, 5, 50, 22, 12, 4, 6, 26, 40, 24, 5, 10, 9, 35, 33, 14, 53, 19, 11, 31, 6, 11, 33, 20, 48, 42, 29, 53, 54, 22, 18, 2, 53, 32, 45, 28, 4, 19, 39, 1, 0, 12, 9, 55, 1, 48, 9, 47, 51, 10, 4, 36, 30, 29, 54, 54, 42, 23, 41, 2, 14, 33, 46, 0, 35, 11, 7, 50, 49, 4, 40, 35, 9, 41, 0, 20, 19, 54, 35, 36, 50, 31, 10, 45, 46, 22, 28, 16, 49, 38, 16, 37, 3, 2, 14, 7, 26, 46, 5, 18, 0, 40, 54, 15, 43, 51, 9, 48, 34, 35, 41, 31, 43, 12, 19, 48, 2, 18, 0, 8], [34, 52, 56, 24, 53, 17, 40, 13, 41, 51, 37, 28, 6, 41, 37, 49, 42, 49, 16, 31, 42, 52, 1, 16, 18, 11, 17, 36, 21, 44, 30, 25, 45, 30, 17, 51, 8, 38, 25, 56, 35, 56, 0, 34, 49, 42, 30, 42, 56, 7, 43, 49, 41, 39, 41, 30, 38, 44, 20, 8, 54, 34, 31, 22, 10, 41, 2, 21, 33, 34, 18, 5, 21, 7, 20, 46, 40, 53, 14, 46, 23, 11, 14, 49, 46, 8, 8, 31, 5, 42, 11, 44, 7, 49, 40, 52, 56, 48, 3, 50, 12, 9, 30, 12, 24, 5, 0, 53, 48, 46, 6, 34, 5, 30, 35, 39, 46, 17, 2, 42, 23, 38, 20, 19, 8, 34, 26, 22, 11, 29, 20], [21, 3, 49, 46, 15, 29, 25, 42, 49, 50, 13, 21, 27, 1, 14, 28, 8, 36, 55, 37, 31, 27, 13, 29, 3, 44, 44, 0, 50, 2, 4, 11, 0, 35, 29, 19, 32, 34, 15, 49, 5, 19, 14, 38, 39, 5, 51, 53, 19, 38, 20, 28, 12, 35, 33, 9, 35, 41, 26, 23, 25, 3, 49, 20, 7, 1, 7, 34, 34, 14, 13, 43, 29, 10, 17, 46, 29, 1, 16, 50, 47, 44, 24, 42, 28, 33, 36, 34, 36, 13, 41, 31, 9, 0, 11, 44, 52, 28, 34, 23, 12, 5, 31, 39, 18, 54, 44, 9, 20, 27, 45, 14, 6, 33, 10, 32, 32, 3, 26, 50, 40, 31, 55, 51, 18, 36, 43, 43, 32, 35, 14], [56, 37, 54, 42, 24, 19, 48, 17, 15, 54, 5, 47, 52, 42, 38, 10, 47, 18, 8, 26, 48, 11, 34, 38, 39, 50, 12, 39, 3, 15, 27, 43, 31, 26, 47, 35, 47, 10, 28, 32, 25, 26, 36, 5, 11, 38, 26, 15, 26, 32, 55, 51, 11, 55, 43, 25, 9, 20, 32, 49, 28, 38, 46, 4, 56, 35, 1, 34, 21, 27, 25, 8, 55, 17, 36, 4, 44, 45, 36, 36, 52, 30, 32, 10, 23, 41, 30, 30, 29, 48, 9, 11, 1, 27, 7, 3, 13, 31, 20, 26, 35, 0, 44, 50, 39, 1, 27, 10, 33, 46, 47, 22, 53, 27, 23, 54, 39, 35, 26, 56, 47, 43, 24, 45, 17, 31, 7, 26, 36, 43, 37, 25, 2, 15, 49, 55, 56, 43, 49, 3, 8, 48, 44, 23, 29, 7, 28, 21, 44, 32, 41, 6, 9, 7, 1, 52, 19, 35, 16, 15, 16, 20, 29, 42, 9, 26, 2], [20, 2, 42, 41, 40, 24, 10, 8, 47, 1, 46, 47, 56, 54, 18, 30, 2, 55, 26, 27, 12, 50, 33, 44, 5, 26, 23, 27, 51, 7, 24, 16, 9, 4, 55, 29, 39, 39, 15, 29, 9, 37, 13, 6, 49, 21, 9, 40, 15, 24, 27, 15, 40, 20, 5, 50, 37, 19, 30, 27, 35, 34, 21, 25, 12, 44, 5, 36, 45, 51, 7, 46, 0, 39, 54, 54, 55, 41, 30, 2, 54, 45, 15, 23, 9, 17, 45, 11, 17, 42, 28, 56, 9, 10, 36, 40, 18, 53, 2, 14, 48, 22, 2, 50, 49, 52, 30, 9, 0, 30, 37, 26, 3, 27, 17, 48, 52, 23, 23, 33, 11, 28], [3, 36, 6, 45, 13, 36, 9, 27, 10, 41, 32, 36, 18, 48, 49, 12, 35, 55, 26, 1, 54, 46, 4, 19, 25, 27, 54, 9, 23, 25, 23, 41, 1, 13, 23, 22, 49, 9, 32, 51, 25, 29, 24, 33, 42, 51, 50, 7, 18, 43, 56, 22, 55, 33, 26, 35, 51, 40, 10, 42, 54, 21, 40, 51, 48, 38, 11, 45, 28, 24, 40, 30, 32, 9, 30, 35, 18, 28, 11, 4, 38, 33, 28, 15, 46, 8, 16, 3, 28, 42, 7, 26, 7, 47, 55, 38, 30, 54, 11, 53, 13, 5, 31, 24, 34, 48, 24, 36, 31, 6, 36, 27, 48, 33, 39, 14, 2, 48, 3, 22], [24, 53, 40, 4, 12, 33, 3, 54, 15, 29, 34, 16, 52, 39, 26, 8, 1, 12, 21, 7, 5, 36, 38, 12, 23, 32, 16, 55, 4, 32, 29, 49, 8, 36, 34, 38, 30, 44, 41, 38, 47, 1, 46, 17, 11, 36, 40, 3, 53, 30, 44, 42, 47, 7, 49, 7, 36, 17, 46, 56, 27, 31, 35, 19, 28, 3, 37, 33, 41, 43, 38, 6, 36, 20, 43, 20, 25, 0, 38, 15, 55, 39, 38, 38, 42, 8, 21, 32, 38, 55, 9, 17, 29, 1, 39, 24, 26, 8, 25, 27, 12, 32, 18, 27, 49, 13, 39, 22, 52, 22, 19, 17, 10, 54, 45, 23, 50, 49, 8, 17, 16, 27, 14, 3, 31, 50, 20, 29, 8, 54, 53], [39, 3, 27, 56, 7, 12, 19, 38, 8, 4, 10, 19, 55, 48, 39, 40, 50, 21, 29, 14, 50, 41, 50, 27, 53, 31, 20, 13, 3, 42, 54, 6, 28, 24, 18, 5, 17, 33, 3, 4, 10, 41, 43, 7, 1, 14, 23, 35, 0, 56, 1, 12, 50, 47, 55, 25, 24, 11, 4, 35, 56, 44, 43, 44, 15, 9, 32, 1, 17, 14, 55, 45, 46, 3, 15, 8, 51, 24, 47, 8, 6, 2, 18, 41, 45, 31, 37, 54, 49, 51, 27, 46, 31, 25, 24, 54, 15, 7, 45, 13, 39, 41, 8, 31], [25, 30, 33, 19, 13, 24, 22, 20, 1, 10, 24, 42, 29, 17, 36, 37, 3, 9, 56, 23, 39, 56, 30, 36, 46, 28, 1, 31, 20, 4, 6, 23, 47, 23, 55, 15, 23, 49, 5, 13, 21, 22, 48, 15, 3, 39, 42, 23, 29, 32, 28, 0, 20, 47, 40, 33, 26, 6, 51, 17, 4, 0, 34, 39, 40, 55, 24, 25, 29, 47, 8, 7, 48, 50, 41, 36, 49, 15, 41, 30, 47, 4, 45, 3, 45, 30, 5, 50, 17, 3, 33, 0, 32, 18, 37, 44, 13, 31, 17, 50, 7, 16, 31, 21, 22, 48, 45, 8, 56, 49, 52, 53, 44, 31, 27, 4, 53, 33, 26, 32, 31, 32, 20, 38, 52, 32, 33, 3, 37, 0, 28, 21, 40, 27, 17, 43, 54, 39, 56, 18, 54, 53, 6, 44, 17, 1, 14, 18, 39, 20, 48, 7, 5, 45, 6, 32, 52], [55, 26, 12, 12, 49, 3, 31, 44, 25, 44, 38, 53, 48, 10, 28, 21, 52, 19, 11, 52, 7, 34, 45, 9, 25, 6, 51, 27, 36, 15, 41, 53, 10, 55, 40, 8, 8, 51, 14, 33, 54, 39, 51, 36, 8, 51, 21, 19, 3, 6, 25, 6, 33, 55, 6, 37, 14, 5, 14, 21, 2, 54, 4, 55, 4, 30, 37, 24, 26, 56, 55, 22, 28, 19, 35, 17, 54, 43, 27, 39, 18, 39, 50, 24, 13, 53, 38, 30, 1, 40, 17, 14, 49, 9, 36, 5, 0, 13, 5, 13, 6, 13, 36, 32, 19, 38, 14, 20, 37, 3, 7, 2, 40, 6, 19, 34, 52, 20, 6, 51, 35, 47, 10, 50, 26, 49, 44, 11, 51, 36, 45, 30, 42, 48, 9, 22, 48, 36], [28, 49, 11, 12, 3, 23, 1, 39, 27, 3, 52, 11, 32, 28, 10, 38, 22, 18, 55, 43, 28, 48, 41, 1, 29, 30, 18, 13, 16, 52, 21, 22, 23, 32, 1, 31, 40, 18, 21, 17, 25, 32, 9, 54, 39, 19, 2, 14, 19, 32, 52, 3, 13, 47, 25, 12, 31, 43, 36, 54, 46, 1, 34, 0, 53, 25, 54, 26, 5, 50, 45, 33, 46, 38, 22, 34, 1, 6, 6, 2, 43, 29, 40, 26, 10, 48, 25, 30, 24, 11, 32, 39, 37, 45, 18, 7, 24, 3, 35, 3, 10, 15, 47, 4, 33, 15, 11, 18, 40, 49, 1, 27, 14, 50, 28, 44, 42, 29, 23, 19, 21, 31, 4, 46, 41, 21, 16, 32, 46, 19, 47, 33, 27, 47, 18, 53, 0, 35, 5, 21, 41, 23, 1, 21, 25, 37, 5, 14, 40, 54, 16, 7, 16, 20, 8, 17, 33], [7, 19, 56, 29, 8, 53, 52, 52, 32, 41, 24, 50, 25, 13, 45, 22, 31, 17, 36, 46, 45, 28, 6, 46, 16, 41, 27, 37, 20, 20, 6, 35, 28, 36, 40, 36, 8, 22, 27, 11, 32, 2, 5, 30, 54, 22, 54, 38, 15, 24, 7, 25, 4, 46, 53, 37, 44, 53, 27, 6, 14, 8, 27, 41, 44, 21, 28, 32, 12, 48, 50, 29, 40, 16, 37, 5, 38, 10, 39, 27, 28, 4, 4, 19, 43, 8, 25, 5, 12, 17, 13, 38, 4, 40, 24, 15, 35, 37, 35, 50, 6, 54, 49, 16, 4, 6, 11, 17, 37, 54, 1, 16, 35, 17, 53, 50, 17, 41, 49, 55, 47, 1, 46, 19, 46, 37, 22, 18, 28, 22, 34, 16, 4, 29, 24, 39, 10, 1, 49, 11, 29, 50, 15, 35, 51, 1, 6, 37, 47, 34, 9, 37, 56, 21, 47, 49, 36, 53, 39, 50, 10, 35, 8, 41, 6, 35, 6], [6, 3, 45, 18, 13, 2, 8, 8, 51, 34, 21, 46, 43, 3, 49, 33, 31, 22, 52, 42, 1, 26, 32, 17, 32, 5, 20, 35, 41, 35, 51, 5, 51, 0, 12, 29, 50, 27, 15, 47, 24, 0, 15, 21, 38, 31, 29, 30, 54, 52, 17, 13, 45, 50, 29, 37, 38, 36, 22, 37, 7, 22, 48, 25, 7, 40, 28, 36, 49, 52, 6, 39, 38, 33, 18, 14, 29, 27, 24, 16, 38, 4, 32, 16, 38, 34, 22, 18, 34, 32, 26, 41, 52, 54, 43, 31, 23, 47, 34, 15, 15, 52, 21, 53], [56, 36, 8, 4, 40, 36, 15, 29, 42, 38, 9, 5, 7, 15, 48, 26, 27, 31, 54, 20, 25, 35, 45, 44, 23, 32, 39, 8, 36, 55, 28, 39, 21, 32, 45, 43, 39, 41, 51, 45, 50, 18, 40, 33, 48, 20, 19, 53, 30, 2, 56, 26, 3, 2, 44, 19, 9, 25, 8, 30, 19, 20, 42, 25, 45, 7, 43, 38, 12, 5, 23, 31, 50, 15, 13, 51, 29, 18, 18, 41, 16, 5, 13, 40, 7, 22, 38, 12, 10, 50, 2, 27, 11, 46, 33, 14, 11, 14, 3, 55, 54, 2, 56, 43, 21, 6, 1, 46, 35, 44, 28, 30, 7, 47, 4, 27, 42, 37, 3, 53, 48, 24, 49, 56, 31, 11, 0, 39, 22, 20, 4, 14, 28, 16, 44, 12, 22, 19, 46, 36, 35, 42, 21, 28, 13, 29, 49, 47, 51, 27, 8, 44, 35, 16, 15, 3, 16, 44], [2, 16, 47, 44, 17, 43, 50, 1, 37, 26, 22, 40, 15, 54, 37, 33, 40, 32, 7, 54, 34, 17, 37, 7, 22, 27, 38, 26, 18, 6, 20, 40, 26, 0, 23, 50, 1, 27, 32, 12, 29, 2, 2, 23, 9, 34, 39, 20, 32, 54, 15, 22, 30, 29, 28, 54, 48, 32, 53, 55, 31, 11, 20, 36, 29, 33, 31, 15, 25, 18, 45, 13, 25, 34, 20, 48, 38, 24, 6, 39, 15, 11, 16, 7, 1, 2, 19, 6, 27, 38, 33, 55, 13, 54, 47, 0, 52, 22, 56, 19, 19, 37, 47, 12, 25, 33, 51, 14, 38, 36, 48, 19, 43, 52, 39, 44, 54, 23, 44, 32, 17, 37, 32, 40, 50, 13, 18, 55, 22, 5, 42], [2, 40, 11, 45, 4, 52, 12, 10, 10, 13, 2, 42, 47, 51, 18, 11, 16, 51, 42, 19, 47, 11, 17, 9, 13, 13, 12, 24, 12, 48, 16, 5, 40, 48, 7, 29, 28, 20, 17, 34, 20, 53, 30, 13, 30, 46, 1, 11, 22, 33, 51, 1, 32, 55, 1, 52, 25, 44, 55, 4, 29, 28, 32, 5, 8, 20, 23, 20, 10, 2, 45, 31, 3, 47, 54, 49, 45, 18, 29, 44, 53, 45, 40, 20, 33, 36, 25, 53, 29, 23, 54, 38, 19, 24, 56, 50, 2, 3, 47, 4, 43, 39, 26, 36, 38, 44, 10, 35, 36, 42, 44, 7, 15, 8, 22, 49, 29, 51, 14, 31, 11, 24, 34, 48, 55, 17, 29, 31, 42, 32], [7, 27, 15, 1, 11, 25, 36, 49, 32, 15, 54, 48, 46, 1, 47, 47, 49, 36, 48, 23, 38, 28, 51, 34, 8, 21, 33, 26, 11, 24, 53, 4, 34, 1, 39, 4, 51, 46, 48, 47, 33, 52, 22, 22, 33, 24, 19, 9, 0, 26, 18, 13, 5, 26, 1, 51, 11, 28, 10, 47, 15, 32, 21, 30, 47, 24, 9, 34, 47, 55, 9, 29, 4, 35, 35, 47, 34, 39, 46, 1, 0, 5, 21, 13, 41, 53, 25, 1, 40, 35, 56, 30, 43, 49, 16, 31, 27, 12, 53, 44, 56, 3, 32, 55, 0, 26, 42, 40, 18, 48, 32, 31, 4, 31, 44, 10, 22, 40, 14, 44, 39, 17, 19, 49, 27, 9, 29, 22, 2, 43, 2, 7, 49, 42, 33, 19, 10, 55, 13, 39, 11, 54, 0, 19, 44, 18, 32, 40, 31, 34, 19, 25, 13, 19, 48, 41, 21], [29, 48, 41, 35, 24, 23, 1, 48, 6, 16, 8, 51, 34, 3, 10, 12, 42, 36, 12, 14, 34, 34, 40, 19, 24, 24, 0, 18, 45, 23, 18, 10, 20, 16, 4, 29, 54, 55, 27, 10, 47, 49, 31, 20, 34, 34, 5, 29, 1, 14, 21, 15, 34, 7, 39, 12, 52, 31, 50, 22, 10, 32, 13, 20, 15, 12, 24, 25, 41, 21, 36, 3, 30, 40, 42, 54, 49, 43, 32, 2, 38, 24, 4, 32, 20, 2, 0, 25, 31, 53, 41, 0, 42, 33, 30, 27, 31, 36, 52, 0, 9, 6, 49, 17, 14, 0, 48, 11, 12, 55, 38, 22, 22, 31, 52, 13, 29, 24, 33, 39, 14, 26, 3, 4, 47, 25, 43, 9, 28], [41, 40, 49, 27, 43, 8, 53, 26, 40, 44, 10, 16, 43, 24, 21, 17, 9, 28, 4, 50, 14, 17, 39, 28, 26, 34, 41, 29, 40, 39, 18, 6, 45, 10, 22, 37, 12, 31, 56, 11, 47, 15, 33, 22, 43, 36, 32, 44, 14, 47, 29, 45, 27, 33, 29, 47, 11, 8, 10, 14, 31, 52, 48, 46, 29, 20, 22, 41, 16, 53, 19, 22, 45, 21, 0, 24, 29, 52, 4, 28, 32, 44, 18, 54, 21, 7, 16, 53, 36, 27, 37, 56, 37, 55, 51, 3, 26, 43, 52, 52, 10, 32, 42, 21, 22, 34, 44, 26, 12, 49, 55, 20, 26, 14, 7, 2, 52, 35, 24, 41, 37, 52, 43, 25, 3, 5, 42, 46, 35, 1, 40, 35, 56, 7, 27, 29, 21, 3, 41, 0, 10, 8, 29, 35, 48, 27, 20, 40, 10], [5, 56, 29, 48, 14, 5, 5, 5, 0, 45, 15, 17, 27, 21, 38, 54, 39, 40, 31, 43, 14, 47, 50, 27, 43, 32, 38, 55, 35, 53, 3, 16, 44, 26, 34, 29, 24, 17, 33, 21, 16, 5, 34, 49, 19, 44, 44, 53, 21, 19, 43, 33, 55, 41, 25, 31, 3, 6, 14, 8, 54, 45, 9, 17, 9, 44, 17, 15, 22, 19, 22, 4, 16, 43, 14, 3, 54, 40, 11, 33, 21, 47, 37, 34, 10, 22, 14, 4, 46, 9, 54, 10, 52, 32, 4, 33, 0, 17, 30, 27, 49, 31, 8, 28, 42, 11, 56, 44, 13, 42, 12, 13, 33, 36, 30, 45, 24, 44, 13, 38, 33, 15, 29, 29, 2, 6, 39, 30, 52, 41, 31, 14, 12, 10, 37, 6, 10, 0, 21, 10], [33, 10, 16, 54, 1, 38, 29, 55, 49, 41, 14, 8, 51, 54, 53, 56, 52, 2, 16, 18, 50, 39, 53, 42, 36, 50, 31, 38, 7, 35, 13, 15, 45, 55, 38, 2, 5, 1, 26, 52, 49, 42, 6, 46, 26, 40, 20, 20, 29, 12, 13, 8, 34, 5, 55, 28, 10, 29, 3, 48, 44, 18, 47, 15, 21, 45, 52, 47, 8, 3, 12, 36, 22, 46, 36, 6, 19, 32, 25, 15, 6, 26, 13, 14, 28, 2, 7, 28, 10, 25, 35, 56, 29, 47, 56, 7, 9, 54, 56, 41, 38, 8, 34, 21, 28, 30, 37, 23, 36, 56, 48], [56, 22, 51, 25, 50, 14, 42, 30, 6, 6, 45, 7, 33, 46, 54, 5, 56, 21, 31, 45, 56, 55, 54, 14, 54, 34, 8, 40, 52, 4, 31, 39, 34, 32, 45, 31, 18, 17, 50, 31, 44, 22, 27, 48, 4, 3, 21, 4, 41, 21, 56, 9, 24, 20, 7, 8, 9, 7, 53, 55, 34, 0, 37, 34, 44, 49, 0, 51, 22, 39, 6, 14, 28, 1, 54, 56, 16, 19, 15, 18, 41, 51, 41, 24, 9, 22, 47, 33, 7, 54, 47, 51, 32, 4, 28, 7, 44, 39, 19, 27, 41, 25, 34, 12, 9, 25, 51, 5, 39, 11, 14, 47, 36, 37, 51, 49, 41, 28, 29, 1, 47, 45, 47, 47, 45, 51, 54, 49, 36, 52, 11, 47, 50, 54, 51, 22, 30, 22, 52, 32, 49, 15, 7, 31, 55, 14, 38, 31, 36, 32, 1, 11, 38, 46, 47, 51, 56, 48], [3, 34, 46, 45, 38, 35, 51, 53, 44, 38, 33, 14, 2, 12, 3, 27, 50, 11, 44, 42, 35, 19, 14, 22, 18, 12, 24, 26, 20, 48, 35, 20, 44, 3, 50, 42, 1, 36, 32, 10, 1, 43, 3, 55, 25, 20, 53, 45, 38, 52, 35, 8, 15, 54, 24, 5, 20, 12, 46, 5, 30, 30, 1, 17, 35, 12, 36, 27, 2, 4, 24, 48, 49, 54, 20, 10, 38, 9, 40, 33, 44, 35, 51, 46, 48, 19, 15, 8, 31, 56, 33, 27, 23, 2, 21, 39, 10, 48, 54, 53, 32, 36, 1, 46, 48, 45, 32, 11, 51, 55, 2, 10, 3, 12, 11, 5, 6, 45, 49, 28, 30, 48, 41, 4, 18, 17, 50, 4, 33, 39, 31, 14, 35, 25, 16, 44, 15, 27, 17, 34, 54, 13, 10, 21, 15, 15, 17, 10, 9, 2, 48, 25, 10, 27, 22, 41, 34], [30, 36, 12, 34, 29, 32, 34, 40, 7, 32, 30, 14, 12, 3, 46, 56, 25, 55, 34, 53, 44, 19, 18, 20, 37, 39, 1, 26, 41, 42, 12, 26, 31, 26, 13, 48, 46, 19, 4, 28, 30, 7, 30, 4, 55, 43, 5, 46, 35, 11, 3, 40, 11, 17, 30, 22, 44, 16, 12, 32, 7, 45, 5, 6, 9, 21, 40, 24, 35, 8, 45, 52, 42, 19, 27, 29, 56, 46, 51, 42, 49, 11, 55, 29, 13, 53, 7, 56, 50, 25, 36, 50, 25, 30, 10, 47, 32, 31, 24, 10, 14, 33, 54, 5, 39, 48, 21, 21, 38, 30, 52, 12, 51, 17, 49, 6, 56, 5, 55, 6, 0, 9, 11, 47, 10, 39, 43, 47, 56, 3, 11, 3, 2, 4, 3, 12, 45, 14, 39], [30, 35, 41, 5, 14, 32, 29, 21, 16, 41, 22, 3, 26, 1, 47, 9, 48, 4, 22, 43, 55, 44, 19, 49, 16, 7, 35, 46, 26, 49, 31, 4, 52, 23, 31, 22, 13, 44, 0, 48, 49, 15, 36, 32, 39, 31, 20, 25, 34, 43, 49, 35, 36, 22, 49, 37, 33, 53, 47, 10, 25, 14, 1, 43, 56, 52, 14, 7, 28, 28, 14, 19, 46, 20, 12, 50, 52, 17, 0, 31, 39, 17, 1, 36, 17, 4, 9, 3, 7, 53, 38, 52, 17, 29, 53, 12, 52, 49, 31, 40, 40, 53, 43, 23, 23, 35, 29, 18, 13, 29, 54, 51, 53, 36, 16, 11, 4, 26, 19, 34, 55, 47, 37, 12, 21, 52, 39, 53, 35, 33, 40, 31, 12, 48, 28, 51, 52, 37, 46, 2, 43, 6, 40, 22, 8, 2, 42, 55, 24, 53, 6, 48, 21, 22, 25, 30, 0], [10, 55, 51, 55, 54, 47, 22, 42, 46, 2, 17, 54, 1, 0, 42, 27, 34, 53, 49, 40, 5, 35, 42, 21, 23, 56, 45, 33, 46, 48, 11, 16, 39, 47, 19, 51, 47, 56, 44, 11, 0, 46, 1, 20, 52, 17, 34, 6, 29, 26, 27, 7, 33, 43, 7, 31, 44, 7, 3, 26, 24, 46, 32, 12, 41, 55, 15, 42, 34, 45, 1, 4, 5, 23, 37, 37, 7, 16, 16, 46, 31, 5, 22, 10, 10, 2, 28, 41, 13, 33, 41, 46, 31, 30, 29, 22, 3, 38, 45, 21, 3, 47, 47, 36, 35, 55, 53, 51, 46, 22, 32, 21, 25, 30, 55, 24, 37, 26, 55, 52, 0, 29, 51, 53, 26, 40, 10, 53, 21, 45, 48, 15, 15, 32, 33, 53, 38, 18, 34, 51, 44, 16, 39, 34, 32, 4, 40, 12, 10, 48, 50, 13, 2, 6, 6, 50, 39, 36], [17, 36, 49, 13, 42, 55, 32, 55, 41, 51, 44, 30, 21, 16, 4, 7, 50, 49, 56, 54, 37, 3, 22, 6, 42, 1, 53, 28, 2, 0, 5, 45, 42, 41, 0, 19, 22, 37, 12, 9, 22, 1, 11, 32, 28, 51, 24, 14, 24, 33, 41, 36, 5, 18, 32, 9, 24, 38, 8, 2, 1, 5, 38, 49, 38, 2, 36, 37, 31, 55, 19, 55, 33, 4, 28, 39, 25, 12, 7, 4, 29, 36, 47, 37, 28, 4, 55, 6, 10, 14, 27, 54, 0, 3, 0, 16, 26, 12, 44, 1, 33, 14, 46, 47, 9, 3, 54, 28, 52, 47, 37, 19, 39, 5, 15, 49, 53, 56, 47, 27, 35, 28, 24, 3, 54, 43, 42, 39, 14, 3, 21, 3, 34, 45, 0, 9, 41, 10, 29, 35, 34, 33, 37, 49, 12, 2, 41, 48, 10, 14, 20, 48, 23, 14, 49, 8, 33], [10, 20, 48, 49, 38, 23, 15, 19, 24, 42, 34, 42, 26, 4, 23, 23, 41, 2, 46, 54, 24, 7, 24, 43, 23, 17, 56, 11, 30, 3, 7, 40, 18, 40, 43, 24, 23, 10, 5, 10, 48, 35, 45, 11, 51, 24, 30, 47, 17, 29, 39, 12, 18, 22, 9, 9, 18, 54, 22, 38, 11, 1, 43, 33, 1, 11, 8, 40, 49, 8, 28, 4, 3, 5, 11, 4, 5, 11, 32, 40, 49, 54, 21, 48, 49, 45, 28, 2, 41, 14, 33, 5, 37, 15, 25, 8, 0, 55, 36, 0, 27, 7, 30, 3, 11, 35, 48, 38, 53, 40, 48, 16, 23, 31, 47, 43, 29, 49, 7, 6, 37, 48], [16, 35, 48, 43, 5, 4, 45, 56, 51, 5, 47, 44, 49, 53, 10, 36, 10, 42, 23, 0, 53, 32, 12, 49, 30, 3, 8, 1, 26, 48, 26, 24, 46, 38, 33, 34, 12, 28, 19, 48, 56, 56, 11, 19, 40, 48, 44, 56, 3, 35, 5, 12, 33, 9, 9, 37, 33, 21, 39, 50, 55, 13, 0, 2, 8, 50, 6, 44, 31, 12, 50, 17, 14, 22, 54, 42, 39, 55, 15, 22, 41, 29, 1, 10, 18, 9, 48, 25, 42, 10, 37, 9, 0, 55, 18, 37, 53, 16, 14, 15, 19, 48, 3, 39, 6, 3, 42, 33, 13, 34, 8, 25, 42, 14, 39, 40, 25, 8, 53, 23, 25, 32, 53, 25, 37, 50, 46, 29, 7, 21, 39, 51, 24, 20, 23, 13, 25, 46, 25, 3, 18, 16, 24, 46, 35, 34, 4, 22, 20], [13, 16, 22, 54, 1, 3, 35, 28, 43, 35, 41, 22, 16, 29, 38, 23, 0, 22, 21, 16, 6, 42, 4, 31, 11, 24, 33, 5, 29, 13, 11, 56, 18, 12, 5, 41, 8, 3, 2, 47, 52, 6, 1, 20, 12, 52, 43, 0, 33, 53, 19, 1, 26, 28, 15, 33, 12, 20, 42, 56, 39, 33, 2, 53, 1, 30, 41, 18, 43, 12, 32, 36, 36, 36, 7, 30, 8, 52, 20, 10, 40, 52, 10, 27, 51, 53, 53, 49, 3, 52, 37, 43, 26, 52, 4, 19, 52, 1, 3, 47, 41, 13, 7, 16, 1, 26, 16, 9, 22, 52, 1, 35, 48, 30, 41, 42, 7, 0, 16, 7, 28, 7, 43, 36, 35, 0, 15, 49, 54, 50, 15, 16, 31, 35, 3, 27, 51, 12, 39, 24, 50, 29, 56, 31, 47, 45, 44, 5, 51], [25, 35, 46, 47, 1, 35, 43, 13, 4, 37, 45, 33, 33, 11, 46, 35, 39, 44, 5, 53, 13, 14, 49, 22, 29, 51, 23, 8, 48, 0, 48, 24, 51, 18, 39, 11, 31, 41, 26, 35, 4, 22, 53, 1, 53, 46, 52, 37, 43, 9, 35, 56, 48, 47, 7, 41, 50, 31, 49, 21, 10, 22, 25, 29, 4, 11, 8, 37, 15, 37, 10, 5, 36, 31, 9, 42, 15, 54, 17, 9, 16, 44, 38, 24, 51, 28, 47, 16, 11, 2, 38, 30, 7, 43, 12, 33, 52, 6, 50, 44, 0, 33, 19, 4, 46, 56, 15, 9, 13, 25, 42, 5], [52, 7, 6, 56, 44, 44, 12, 34, 22, 38, 19, 6, 33, 35, 4, 56, 42, 29, 42, 19, 24, 45, 28, 54, 35, 12, 2, 20, 5, 50, 50, 17, 24, 42, 36, 20, 14, 40, 4, 32, 17, 50, 16, 27, 0, 6, 35, 23, 13, 10, 13, 48, 7, 23, 17, 54, 7, 55, 53, 42, 9, 37, 49, 6, 52, 28, 55, 38, 34, 27, 41, 35, 33, 34, 23, 26, 15, 27, 52, 30, 7, 47, 26, 49, 49, 2, 9, 20, 26, 7, 8, 27, 28, 34, 45, 53, 44, 40, 44, 30, 56, 14, 18, 46, 15, 26, 0, 41, 48, 27, 43, 7, 27, 11, 38, 48, 28, 54, 56, 47, 22, 49, 3, 20, 6, 16, 30, 27, 1, 34, 9, 48, 54, 49, 52, 54, 44, 38, 12, 36, 8, 7, 11, 55, 2, 44, 26, 29, 47], [5, 49, 7, 25, 16, 4, 7, 27, 35, 5, 36, 35, 49, 26, 36, 8, 18, 16, 48, 16, 28, 31, 48, 52, 41, 0, 35, 29, 0, 49, 16, 43, 16, 12, 8, 41, 46, 24, 56, 19, 14, 46, 56, 42, 17, 32, 3, 14, 43, 18, 47, 32, 25, 17, 55, 40, 53, 1, 49, 8, 44, 38, 42, 11, 47, 24, 1, 44, 0, 25, 33, 36, 2, 39, 54, 41, 29, 31, 10, 32, 49, 39, 11, 27, 52, 48, 34, 0, 37, 9, 12, 21, 30, 42, 33, 6, 7, 39, 27, 50, 25, 14, 7, 29, 36, 12, 26, 54, 35, 3, 35, 54, 17, 54, 25, 51, 29, 6, 36, 16, 12, 53, 15, 27, 40, 40, 41, 33, 24, 51, 24, 13, 2, 37, 42, 9, 9, 30, 0, 36, 26, 39, 55, 32, 13, 13, 31, 46, 53, 11, 54, 30, 47], [30, 36, 22, 49, 38, 29, 35, 32, 53, 19, 28, 23, 1, 36, 14, 55, 38, 39, 1, 34, 25, 20, 38, 54, 16, 45, 56, 13, 8, 7, 9, 8, 22, 25, 53, 6, 6, 41, 11, 17, 27, 52, 11, 1, 12, 47, 49, 33, 49, 5, 36, 46, 36, 39, 12, 6, 4, 45, 22, 20, 29, 29, 37, 10, 28, 45, 50, 30, 38, 26, 44, 15, 12, 55, 49, 42, 9, 41, 22, 45, 50, 53, 19, 26, 28, 37, 54, 6, 24, 56, 46, 41, 7, 35, 32, 40, 54, 39, 51, 25, 42, 32, 18, 47, 56, 6, 44, 45, 47, 35, 44, 47], [8, 46, 42, 14, 54, 30, 21, 43, 32, 16, 8, 54, 38, 20, 27, 21, 26, 48, 45, 42, 52, 28, 30, 31, 40, 11, 3, 55, 47, 13, 23, 6, 49, 56, 28, 53, 42, 31, 25, 17, 22, 16, 34, 0, 35, 36, 12, 50, 12, 9, 26, 28, 6, 52, 31, 3, 6, 14, 32, 39, 40, 51, 23, 5, 51, 9, 53, 23, 1, 9, 32, 35, 3, 12, 36, 46, 0, 34, 22, 37, 5, 48, 1, 35, 15, 37, 31, 41, 25, 28, 8, 54, 40, 23, 51, 10, 19, 27, 40, 45, 44, 25, 30, 4, 33, 49, 1, 42, 47, 1, 19, 4, 5, 1, 55, 15, 23, 38, 42, 33, 55, 49, 32, 13, 29, 50, 9, 40, 40, 30, 44, 7, 8, 1, 48, 13, 19, 48, 37, 6, 38, 21, 46, 17, 53, 28, 46, 31, 6, 35, 32, 35, 9, 43, 38, 45, 31, 19, 32, 38, 43, 38], [27, 32, 44, 17, 6, 10, 17, 20, 42, 2, 20, 51, 48, 42, 53, 4, 29, 36, 47, 29, 11, 21, 39, 32, 26, 40, 11, 11, 55, 2, 6, 38, 9, 42, 54, 33, 53, 6, 41, 55, 52, 41, 41, 28, 52, 46, 44, 46, 9, 0, 51, 47, 22, 48, 35, 4, 51, 37, 7, 16, 37, 41, 37, 37, 18, 28, 42, 0, 5, 7, 1, 23, 27, 23, 19, 36, 4, 35, 7, 10, 7, 1, 8, 10, 36, 10, 50, 18, 11, 0, 5, 17, 29, 47, 55, 37, 37, 31, 31, 5, 31, 22, 9, 28, 36, 25, 52, 21, 48, 31, 22, 3, 44, 24, 39, 53, 9, 30, 35, 35, 48, 30, 18, 4, 14, 7, 25, 25, 37, 32], [44, 2, 18, 1, 48, 1, 36, 31, 35, 28, 45, 0, 55, 42, 1, 17, 9, 14, 18, 30, 2, 13, 15, 25, 26, 45, 30, 9, 43, 32, 9, 48, 2, 53, 46, 12, 23, 25, 54, 10, 28, 15, 27, 37, 39, 43, 39, 47, 21, 36, 33, 53, 54, 11, 53, 5, 47, 2, 1, 18, 12, 15, 10, 27, 28, 22, 40, 27, 0, 21, 7, 47, 53, 36, 16, 12, 56, 21, 30, 8, 38, 40, 28, 6, 29, 28, 36, 34, 28, 26, 36, 15, 6, 38, 48, 20, 48, 28, 7, 48, 52, 21, 9, 37, 0, 33, 28, 43, 39, 55, 53, 21, 7, 4, 15, 45, 56, 53, 36, 44, 9, 2, 21, 12, 20, 28, 46, 51, 52, 8, 53, 6, 13, 33, 10, 51, 23, 3, 19, 44, 34, 34, 0, 28, 38, 20, 10, 33, 42, 48, 2, 41, 37], [53, 9, 44, 13, 41, 37, 44, 3, 8, 18, 7, 31, 51, 48, 31, 35, 20, 20, 48, 0, 39, 22, 37, 37, 6, 13, 21, 15, 27, 39, 10, 51, 43, 44, 45, 33, 4, 4, 36, 26, 53, 46, 38, 32, 11, 36, 13, 53, 54, 34, 27, 17, 20, 41, 10, 0, 50, 16, 6, 0, 27, 0, 7, 39, 16, 47, 15, 8, 54, 46, 33, 13, 11, 26, 31, 54, 56, 43, 55, 3, 8, 49, 50, 22, 11, 39, 12, 9, 20, 32, 7, 50, 14, 8, 23, 48, 12, 45, 52, 9, 24, 28, 32, 42, 8, 43, 23, 36, 48, 40, 27, 46, 48, 32, 9, 23, 13, 30, 52, 24, 44, 9, 50, 43, 34, 48, 5, 48, 13, 19, 38, 47, 2, 11, 19, 43, 22, 9, 11, 41], [28, 6, 40, 40, 5, 54, 16, 32, 21, 7, 3, 5, 28, 52, 52, 39, 21, 51, 25, 8, 18, 48, 5, 0, 25, 7, 14, 44, 53, 36, 26, 3, 7, 40, 32, 54, 14, 15, 53, 47, 33, 19, 39, 40, 25, 7, 39, 23, 21, 6, 41, 14, 52, 43, 41, 33, 35, 35, 0, 48, 0, 10, 25, 54, 42, 21, 4, 30, 10, 3, 12, 1, 27, 35, 19, 15, 18, 21, 28, 55, 55, 28, 55, 55, 37, 20, 36, 47, 23, 39, 22, 46, 45, 51, 9, 0, 32, 3, 43, 29, 51, 43, 24, 53], [4, 49, 56, 28, 10, 52, 40, 44, 2, 52, 31, 4, 13, 14, 41, 49, 2, 14, 44, 12, 3, 33, 10, 11, 25, 45, 20, 37, 47, 7, 2, 40, 40, 0, 22, 45, 14, 11, 14, 55, 12, 10, 8, 54, 29, 45, 0, 30, 25, 52, 52, 40, 4, 44, 11, 42, 33, 41, 46, 45, 38, 55, 17, 11, 47, 11, 2, 54, 26, 8, 37, 56, 10, 51, 38, 48, 7, 28, 4, 15, 36, 36, 18, 1, 44, 48, 36, 49, 48, 27, 56, 37, 8, 52, 39, 8, 37, 20, 19, 52, 24, 13, 10, 36, 43, 39, 2, 28, 26, 26, 44, 16, 31, 29, 6, 9, 3, 38, 0, 54, 17, 29, 1, 35, 6, 0, 54, 27, 18, 25, 6, 7, 33, 7, 46, 32, 30, 40, 6, 0, 18, 43, 4, 1, 22, 56, 49], [12, 28, 26, 37, 10, 28, 25, 30, 8, 35, 5, 0, 46, 26, 22, 40, 55, 42, 51, 41, 39, 20, 40, 6, 44, 1, 30, 41, 8, 48, 48, 37, 21, 27, 55, 43, 38, 5, 28, 27, 33, 29, 45, 13, 44, 23, 51, 20, 53, 43, 2, 29, 48, 21, 45, 6, 48, 25, 2, 55, 52, 22, 6, 27, 22, 25, 32, 32, 54, 2, 46, 7, 24, 23, 34, 29, 37, 42, 19, 46, 12, 25, 16, 42, 12, 45, 40, 11, 47, 3, 28, 14, 17, 35, 12, 5, 30, 1, 1, 37, 49, 41, 31, 31, 30, 30, 27, 4, 3, 27, 14, 48, 45, 28, 31, 38, 14, 56, 29, 6, 20, 53, 22, 12, 52, 39, 54, 24, 5], [35, 45, 3, 38, 6, 55, 55, 19, 12, 4, 38, 34, 51, 45, 48, 9, 52, 44, 0, 39, 37, 6, 19, 35, 45, 53, 44, 9, 56, 49, 55, 27, 16, 33, 50, 20, 3, 35, 15, 21, 20, 40, 12, 11, 12, 16, 51, 7, 11, 34, 9, 10, 52, 25, 51, 36, 52, 53, 31, 50, 43, 56, 13, 18, 42, 45, 36, 53, 45, 45, 23, 37, 40, 43, 21, 49, 41, 27, 38, 25, 39, 34, 35, 14, 14, 0, 3, 46, 13, 54, 53, 27, 20, 6, 33, 31, 48, 21, 7, 4, 1, 52, 51, 4, 22, 55, 34, 56, 29, 53, 21, 34, 1, 33, 36, 0, 20, 4, 33, 19, 12, 23, 2, 22, 45, 38, 4, 52, 31, 40, 18, 27, 42, 42, 31, 3, 19, 47, 28, 24, 50, 36, 10], [37, 45, 12, 52, 37, 39, 16, 4, 55, 36, 27, 47, 40, 27, 20, 51, 2, 33, 55, 33, 7, 18, 27, 46, 38, 4, 14, 31, 32, 29, 46, 42, 22, 37, 38, 25, 33, 5, 50, 7, 27, 27, 8, 51, 51, 31, 51, 36, 53, 53, 28, 46, 35, 39, 13, 4, 20, 24, 26, 47, 29, 20, 35, 56, 24, 40, 44, 30, 34, 46, 1, 27, 20, 36, 44, 31, 25, 21, 50, 7, 42, 31, 56, 25, 15, 37, 3, 12, 43, 44, 15, 43, 8, 29, 0, 49, 30, 53, 11, 35, 10, 8, 52, 8, 10, 10, 34, 20, 31, 10, 26, 7, 26, 17, 25, 52, 18, 23, 37, 9, 52, 20, 52, 46, 6, 15, 56, 5, 4, 53, 27, 2, 38, 18, 48, 29, 23, 11, 16, 52, 9, 37, 55, 9, 44, 26, 41, 49, 4], [50, 51, 56, 21, 0, 36, 35, 4, 27, 20, 9, 39, 2, 50, 12, 56, 38, 17, 56, 8, 48, 26, 43, 4, 2, 48, 52, 8, 53, 7, 49, 51, 32, 17, 11, 26, 20, 56, 23, 33, 36, 7, 22, 33, 51, 4, 21, 35, 2, 51, 48, 14, 7, 39, 46, 34, 10, 40, 17, 51, 7, 15, 21, 34, 44, 19, 39, 18, 25, 35, 54, 47, 41, 15, 12, 20, 29, 32, 55, 8, 37, 18, 18, 30, 8, 39, 38, 55, 50, 51, 23, 24, 30, 52, 7, 28, 54, 16, 22, 24, 23, 36, 29, 4, 50, 24, 9, 19, 22, 50, 17, 16, 40, 2, 32, 46, 36, 49, 28, 7, 1, 54, 55, 18, 20, 0, 28, 6, 7, 7, 3, 46, 27, 47, 56, 40, 28, 2, 7, 18, 14, 44, 50, 45, 41, 40, 47, 36, 54, 28, 56, 1, 51, 20, 37, 19], [54, 36, 28, 49, 37, 4, 44, 12, 4, 23, 21, 33, 7, 19, 31, 41, 2, 34, 48, 43, 46, 20, 32, 32, 34, 53, 31, 6, 30, 25, 33, 54, 45, 13, 20, 48, 51, 1, 44, 46, 4, 7, 49, 24, 9, 28, 3, 3, 0, 10, 44, 55, 51, 3, 52, 45, 14, 39, 11, 26, 17, 6, 28, 28, 38, 23, 41, 12, 29, 18, 14, 33, 34, 13, 1, 5, 22, 56, 50, 35, 52, 39, 11, 24, 1, 31, 11, 26, 6, 31, 37, 19, 24, 47, 13, 49, 37, 24, 29, 36, 7, 13, 17, 1, 7, 8, 38, 55, 53, 25, 50, 47, 33, 52, 2, 9, 25, 32, 25, 42, 15, 2], [30, 38, 23, 50, 4, 36, 22, 55, 20, 3, 5, 48, 0, 13, 29, 48, 40, 17, 30, 47, 19, 43, 6, 15, 33, 21, 23, 6, 45, 36, 39, 44, 15, 49, 1, 20, 54, 24, 56, 54, 2, 20, 36, 2, 52, 5, 51, 54, 13, 18, 47, 8, 17, 43, 13, 23, 3, 20, 32, 42, 19, 13, 50, 45, 48, 6, 36, 31, 5, 37, 46, 14, 29, 48, 18, 0, 52, 30, 34, 19, 29, 54, 10, 35, 49, 17, 12, 0, 38, 32, 6, 54, 42, 7, 46, 47, 6, 41, 31, 56, 22, 15, 46, 14, 22, 33, 4, 20, 27, 23, 39, 2, 36, 0, 21, 34, 42, 40, 37, 51, 32, 1, 54, 25, 5, 6, 45, 51, 19, 45, 7], [20, 2, 37, 10, 22, 13, 49, 39, 48, 37, 49, 40, 50, 42, 42, 3, 4, 42, 45, 39, 12, 48, 24, 30, 11, 15, 2, 43, 35, 27, 42, 29, 24, 15, 0, 17, 23, 33, 32, 5, 34, 36, 20, 44, 11, 45, 52, 35, 45, 32, 9, 27, 52, 13, 18, 37, 34, 12, 42, 49, 25, 41, 54, 37, 28, 40, 27, 56, 2, 9, 22, 15, 36, 3, 24, 25, 52, 28, 23, 36, 20, 40, 49, 38, 14, 14, 4, 38, 16, 53, 10, 13, 11, 13, 47, 55, 13, 15, 8, 39, 24, 17, 13, 52, 15, 2, 31, 33, 0, 13, 40, 41, 6, 21, 54, 45, 52, 54, 23, 28, 31, 34, 38, 37, 34, 20, 26, 8, 29, 4, 6, 0, 55, 17, 42, 30, 14, 10, 56, 3, 46, 26, 7, 0, 43, 24, 23, 41, 50], [27, 39, 42, 8, 31, 12, 6, 50, 5, 26, 40, 7, 44, 37, 2, 44, 16, 46, 52, 33, 17, 30, 11, 46, 8, 17, 27, 24, 7, 15, 19, 8, 27, 36, 28, 26, 33, 6, 12, 40, 21, 20, 39, 49, 50, 55, 34, 32, 39, 38, 27, 49, 20, 48, 16, 14, 3, 43, 8, 53, 48, 15, 21, 50, 2, 46, 8, 49, 10, 36, 36, 13, 9, 2, 39, 38, 37, 47, 9, 0, 46, 10, 13, 55, 43, 21, 44, 52, 38, 54, 47, 2, 2, 32, 1, 15, 53, 13, 50, 42, 54, 32, 44, 17, 9, 33, 7, 33, 9, 48, 23, 40, 27, 24, 4, 17, 22, 6, 50, 32, 35, 13, 13, 26, 12, 50, 9, 25, 36, 3, 9, 27, 15, 39, 53, 25, 52, 21, 34, 18], [37, 5, 24, 36, 15, 46, 7, 15, 47, 43, 47, 33, 55, 31, 24, 12, 31, 51, 8, 49, 49, 32, 23, 3, 16, 35, 28, 5, 28, 14, 32, 23, 11, 34, 11, 10, 1, 24, 27, 9, 34, 50, 3, 24, 20, 32, 7, 10, 24, 43, 27, 9, 37, 43, 56, 13, 32, 4, 28, 22, 1, 50, 43, 55, 13, 29, 12, 4, 35, 54, 36, 26, 45, 25, 11, 47, 26, 32, 8, 27, 20, 38, 3, 56, 16, 53, 24, 5, 42, 28, 19, 1, 14, 54, 14, 50, 28, 49, 39, 52, 56, 36, 32, 40, 36, 32, 29, 44, 47, 51, 32, 29, 54, 30, 48, 26, 20, 31, 51, 49, 15, 47, 11, 56, 8, 42, 55, 1, 32, 7, 50, 6, 0, 44, 5, 51, 18, 18, 37, 47, 50, 42, 26, 7, 19, 46, 29], [7, 38, 27, 35, 21, 44, 50, 42, 31, 17, 11, 6, 33, 25, 4, 18, 12, 25, 12, 50, 13, 18, 36, 45, 49, 46, 30, 46, 20, 12, 56, 12, 53, 50, 30, 46, 13, 13, 22, 51, 10, 32, 0, 27, 8, 43, 2, 10, 53, 21, 1, 44, 23, 16, 48, 17, 40, 11, 24, 53, 28, 44, 5, 15, 38, 49, 6, 27, 10, 13, 16, 0, 14, 52, 19, 3, 43, 28, 22, 56, 39, 38, 5, 25, 49, 4, 23, 2, 54, 17, 16, 54, 15, 56, 50, 17, 46, 33, 49, 24, 16, 29, 46, 23, 3, 47, 17, 39, 11, 14, 42, 28], [12, 35, 0, 35, 51, 27, 45, 5, 47, 14, 9, 15, 39, 39, 19, 3, 3, 31, 53, 31, 16, 44, 12, 50, 5, 47, 55, 31, 1, 54, 27, 54, 53, 23, 40, 5, 9, 51, 47, 3, 33, 2, 38, 42, 15, 21, 51, 54, 26, 32, 38, 52, 45, 15, 11, 52, 42, 23, 50, 7, 55, 50, 27, 41, 55, 51, 0, 46, 28, 53, 30, 22, 33, 31, 41, 4, 15, 30, 18, 43, 38, 48, 46, 55, 7, 34, 53, 40, 15, 32, 4, 43, 24, 12, 0, 40, 5, 38, 13, 20, 12, 38, 23, 15, 26, 11, 17, 36, 19, 43, 7, 55, 39, 47, 55, 7, 28, 43, 26, 10, 46], [23, 2, 25, 45, 16, 41, 20, 32, 51, 8, 48, 17, 32, 6, 11, 52, 20, 5, 19, 40, 49, 34, 3, 30, 41, 24, 34, 32, 44, 4, 37, 19, 24, 2, 15, 24, 45, 56, 55, 31, 55, 21, 19, 52, 9, 45, 6, 29, 41, 48, 52, 38, 33, 19, 48, 17, 36, 4, 42, 20, 13, 46, 24, 32, 28, 37, 6, 12, 41, 14, 11, 39, 24, 56, 11, 49, 38, 49, 29, 39, 43, 54, 56, 18, 39, 5, 6, 35, 6, 37, 24, 10, 38, 36, 43, 1, 53, 26, 2, 2, 29, 0, 13, 38, 21, 4, 51, 5, 2, 53, 14, 47, 48, 7, 8, 36, 46, 38, 43, 28, 37, 11, 51, 56, 6, 6, 31, 22, 34, 12, 15, 9, 4, 53, 26, 38, 26, 55], [36, 15, 5, 21, 49, 3, 51, 50, 26, 47, 1, 6, 5, 34, 37, 15, 23, 40, 30, 24, 1, 22, 37, 44, 18, 44, 52, 2, 10, 52, 28, 7, 31, 53, 13, 52, 21, 40, 16, 19, 48, 47, 21, 30, 35, 42, 4, 7, 53, 44, 27, 1, 12, 28, 44, 5, 5, 51, 2, 45, 9, 7, 30, 24, 39, 51, 49, 10, 36, 29, 26, 42, 37, 37, 18, 16, 43, 35, 15, 50, 15, 31, 16, 55, 38, 38, 33, 47, 47, 14, 31, 17, 39, 20, 30, 11, 49, 8, 20, 9, 19, 12, 23, 42], [13, 18, 55, 5, 11, 37, 52, 1, 56, 30, 37, 6, 35, 8, 22, 22, 8, 6, 32, 5, 7, 35, 52, 29, 31, 17, 3, 56, 36, 55, 24, 23, 23, 16, 24, 15, 43, 21, 6, 4, 47, 36, 7, 0, 28, 46, 36, 53, 29, 42, 54, 54, 21, 1, 39, 44, 51, 24, 41, 28, 46, 43, 22, 49, 39, 54, 31, 4, 41, 18, 20, 32, 15, 35, 22, 41, 11, 0, 24, 29, 22, 14, 15, 53, 44, 22, 24, 11, 36, 50, 50, 3, 22, 56, 2, 10, 24, 22, 8, 55, 35, 17, 23, 27, 9, 53, 25, 27, 41, 6, 10, 41, 42, 2, 33, 15, 49, 39, 26, 36, 43, 10, 45, 49, 37, 44, 39, 33, 37, 43, 33, 3, 44, 34, 38, 49, 52, 48, 29], [51, 38, 38, 42, 42, 29, 23, 21, 48, 8, 1, 26, 35, 5, 7, 18, 55, 14, 25, 3, 2, 2, 54, 42, 51, 0, 32, 46, 51, 6, 0, 32, 37, 34, 23, 31, 39, 14, 31, 48, 21, 3, 8, 15, 9, 4, 52, 6, 8, 45, 46, 36, 16, 35, 40, 50, 6, 56, 38, 41, 53, 13, 23, 4, 24, 52, 6, 30, 37, 25, 26, 34, 14, 41, 36, 12, 6, 34, 45, 10, 49, 5, 54, 26, 34, 24, 34, 52, 45, 43, 24, 56, 41, 34, 28, 16, 4, 34, 27, 35, 15, 27, 24, 16, 52, 19, 36, 24, 43, 7, 47, 3, 31, 47, 38, 11, 0, 16, 33, 26, 27, 4, 28, 12, 17, 33, 40, 46, 53, 6, 46, 32, 45, 44, 39, 44, 48, 10, 9], [53, 51, 48, 25, 0, 38, 27, 40, 46, 51, 35, 12, 24, 56, 0, 53, 2, 17, 18, 45, 43, 9, 30, 20, 51, 1, 48, 42, 43, 12, 3, 19, 49, 8, 32, 45, 23, 28, 23, 6, 17, 48, 23, 56, 38, 31, 52, 29, 56, 11, 55, 53, 37, 21, 10, 10, 54, 34, 2, 49, 56, 54, 11, 31, 13, 26, 2, 27, 30, 55, 44, 52, 15, 26, 46, 36, 4, 54, 54, 37, 4, 21, 0, 33, 55, 6, 25, 21, 8, 22, 49, 25, 51, 44, 50, 11, 16, 11, 38, 31, 15, 43, 33, 31, 53, 54, 13, 38, 41, 30, 52, 29, 11, 28, 27, 35, 1, 11, 15, 31, 56, 14, 10, 24, 53, 47, 12, 52, 41, 19, 16, 25, 47, 0, 51, 15, 10, 19, 48, 39, 8, 29, 53, 35, 30, 51, 50, 27], [48, 19, 31, 47, 3, 17, 39, 33, 16, 19, 2, 11, 37, 44, 12, 7, 16, 48, 22, 36, 52, 13, 27, 39, 17, 43, 49, 24, 44, 38, 25, 8, 46, 54, 52, 14, 14, 56, 46, 49, 3, 24, 48, 11, 42, 52, 53, 18, 49, 30, 31, 37, 48, 13, 1, 2, 3, 37, 13, 31, 34, 50, 14, 3, 13, 4, 41, 39, 18, 34, 33, 2, 27, 33, 14, 42, 1, 43, 55, 21, 9, 46, 37, 14, 23, 2, 41, 47, 49, 32, 35, 17, 39, 48, 40, 51, 49, 38, 50, 22, 13, 38, 18, 50, 17, 20, 22, 0, 55, 11, 48, 32, 38, 21, 55, 32, 33, 11, 29, 25, 21, 44], [45, 38, 0, 52, 18, 35, 29, 42, 33, 0, 5, 36, 2, 44, 13, 35, 3, 43, 20, 32, 2, 49, 7, 18, 47, 43, 16, 21, 45, 39, 24, 36, 35, 1, 3, 54, 48, 2, 6, 34, 2, 36, 34, 27, 9, 42, 22, 8, 32, 30, 29, 40, 4, 21, 39, 4, 28, 34, 32, 22, 49, 56, 5, 20, 34, 29, 9, 37, 29, 26, 9, 28, 37, 23, 11, 7, 25, 16, 3, 9, 14, 10, 21, 36, 52, 34, 19, 49, 6, 17, 49, 37, 14, 49, 35, 35, 14, 43, 24, 27, 47, 28, 29, 24, 26, 35, 56, 12, 26, 10, 39, 27, 4, 45, 24, 34, 0, 35, 37, 11, 47, 32, 47, 50, 5, 25, 14, 7, 21, 19, 45], [34, 36, 16, 20, 24, 53, 27, 56, 27, 28, 9, 41, 11, 27, 43, 9, 7, 15, 20, 46, 11, 14, 4, 15, 55, 41, 29, 54, 29, 22, 36, 4, 37, 21, 9, 48, 47, 3, 37, 25, 39, 25, 35, 22, 55, 7, 18, 0, 1, 35, 0, 8, 3, 4, 9, 6, 47, 33, 43, 10, 49, 24, 4, 50, 18, 2, 11, 39, 41, 27, 27, 12, 15, 27, 22, 30, 55, 12, 42, 53, 17, 33, 52, 42, 6, 29, 29, 11, 17, 27, 39, 25, 16, 22, 50, 42, 46, 55, 41, 14, 32, 51, 45, 21, 53, 0, 18, 54, 24, 4, 21, 54, 34, 35, 7, 10, 44, 27, 37, 33, 44, 22, 27, 28, 30, 40, 33, 15, 11, 9, 55, 30, 1, 12, 32, 53, 5, 31, 13, 5, 5, 54, 39, 5, 15, 4, 8, 42, 19, 46, 22, 31, 18, 16, 12, 11, 9], [10, 35, 29, 45, 48, 44, 3, 28, 19, 22, 7, 6, 2, 3, 24, 20, 45, 29, 44, 47, 34, 7, 14, 47, 19, 6, 44, 53, 35, 0, 3, 50, 44, 18, 36, 51, 50, 20, 9, 51, 30, 56, 7, 38, 42, 35, 33, 36, 17, 2, 52, 23, 50, 38, 18, 37, 11, 9, 9, 2, 6, 5, 32, 40, 54, 37, 44, 21, 35, 16, 24, 18, 33, 2, 31, 15, 9, 31, 6, 22, 11, 38, 8, 48, 7, 15, 29, 49, 24, 42, 9, 7, 36, 4, 42, 27, 17, 2, 55, 14, 10, 50, 17, 2, 47, 47, 15, 44, 43, 42, 51, 14, 54, 17, 3, 54, 23, 49, 55, 51, 22, 2, 24, 55, 51, 17, 41, 53, 51, 10, 33, 38, 10, 38, 21, 51, 27, 31, 37, 42, 13, 32, 24, 25, 36, 9, 51, 43, 38, 8, 5, 48, 39, 36, 37, 40, 33], [47, 17, 35, 42, 31, 7, 6, 13, 23, 4, 27, 51, 40, 9, 22, 48, 14, 46, 49, 39, 21, 55, 4, 11, 30, 0, 14, 12, 44, 0, 4, 54, 15, 29, 50, 49, 8, 45, 38, 1, 47, 38, 11, 22, 23, 23, 33, 40, 30, 54, 42, 37, 0, 26, 20, 18, 44, 32, 1, 14, 29, 22, 24, 5, 8, 10, 50, 27, 25, 42, 9, 33, 40, 40, 15, 26, 39, 15, 37, 16, 1, 34, 15, 30, 22, 8, 34, 50, 20, 31, 9, 31, 34, 46, 40, 45, 4, 7, 39, 24, 6, 23, 44, 6, 30, 22, 27, 6, 33, 25, 29, 41, 26, 20, 16, 23, 29, 34, 38, 34, 2], [46, 20, 23, 41, 45, 14, 21, 21, 43, 37, 21, 35, 26, 31, 37, 14, 4, 23, 17, 37, 44, 33, 45, 51, 26, 40, 36, 8, 21, 28, 0, 44, 23, 35, 2, 2, 54, 29, 22, 16, 27, 12, 13, 50, 28, 38, 33, 17, 16, 31, 0, 13, 53, 48, 6, 45, 1, 8, 23, 48, 47, 24, 5, 3, 56, 7, 49, 52, 7, 36, 18, 21, 17, 33, 55, 40, 16, 45, 30, 3, 39, 56, 55, 36, 19, 53, 9, 22, 50, 35, 19, 5, 19, 50, 23, 10, 37, 38, 32, 2, 40, 53, 25, 11, 11, 45, 1, 24, 21, 4, 30, 22, 13], [2, 28, 20, 22, 45, 52, 1, 3, 13, 51, 52, 4, 25, 7, 45, 53, 42, 26, 37, 10, 23, 18, 4, 43, 4, 32, 25, 45, 51, 8, 32, 27, 49, 54, 53, 14, 28, 45, 20, 4, 21, 11, 33, 44, 19, 49, 10, 2, 0, 40, 29, 27, 36, 56, 12, 50, 17, 3, 13, 32, 36, 30, 54, 14, 41, 19, 24, 38, 36, 48, 37, 35, 41, 21, 11, 46, 0, 49, 39, 27, 38, 14, 37, 44, 15, 43, 0, 9, 53, 25, 41, 51, 34, 3, 51, 31, 53, 42, 46, 9, 30, 4, 43, 54, 53, 12, 37, 8, 28, 31, 28, 54, 19, 31, 56, 46, 18, 18, 18, 16, 0, 37, 11, 26, 14, 17, 29, 44, 8, 35, 50, 40, 12, 7, 19, 14, 40, 3, 6], [33, 44, 15, 45, 25, 12, 16, 16, 28, 8, 28, 19, 11, 47, 50, 32, 38, 4, 8, 5, 21, 8, 51, 11, 44, 35, 40, 45, 49, 52, 52, 49, 46, 4, 47, 30, 43, 46, 9, 55, 6, 7, 27, 49, 21, 38, 51, 7, 35, 8, 14, 43, 4, 4, 3, 12, 19, 11, 21, 31, 56, 8, 46, 43, 10, 3, 35, 8, 36, 51, 42, 31, 50, 44, 55, 23, 38, 54, 45, 5, 12, 12, 34, 34, 29, 6, 49, 12, 15, 32, 32, 7, 2, 1, 21, 22, 18, 29, 9, 43, 13, 6, 28, 3, 42, 15, 0, 11, 50, 18, 26, 46], [55, 38, 55, 4, 6, 29, 48, 3, 51, 49, 13, 33, 43, 37, 7, 20, 21, 54, 23, 9, 29, 17, 42, 25, 37, 5, 39, 44, 6, 21, 26, 15, 13, 41, 9, 54, 43, 51, 53, 35, 49, 56, 10, 53, 18, 50, 49, 14, 2, 25, 45, 33, 1, 22, 46, 9, 24, 55, 14, 19, 4, 56, 29, 29, 55, 8, 27, 50, 28, 6, 47, 49, 47, 11, 28, 3, 33, 18, 46, 41, 44, 39, 36, 3, 54, 39, 52, 31, 55, 46, 17, 46, 54, 30, 27, 37, 22, 1, 15, 5, 23, 18, 39, 14, 1, 14, 49, 4, 37, 30, 31, 2, 11, 45, 13, 39, 49, 41, 20, 41, 18, 31, 10, 29, 13, 3, 48, 40, 27, 31, 31, 23, 25, 45, 56, 47, 42, 12], [53, 5, 41, 54, 14, 26, 16, 35, 51, 19, 52, 56, 19, 12, 48, 1, 17, 40, 37, 37, 54, 21, 38, 26, 20, 3, 24, 45, 7, 33, 40, 42, 28, 16, 47, 32, 40, 33, 21, 53, 11, 16, 33, 46, 33, 51, 30, 20, 38, 9, 34, 49, 27, 16, 27, 38, 28, 15, 14, 29, 31, 15, 9, 3, 30, 35, 28, 46, 18, 6, 18, 9, 55, 4, 17, 40, 55, 40, 48, 56, 39, 37, 20, 39, 56, 44, 16, 39, 50, 6, 32, 28, 13, 5, 49, 27, 46, 31, 35, 51, 53, 9, 31, 27, 40, 13, 14, 12, 42, 40, 51, 18, 44, 16, 6, 38, 48, 6, 12, 7, 49, 2, 20, 10, 19, 53, 16, 24, 5, 14, 31, 43, 19, 28, 2, 32, 34, 29, 15, 35, 52, 13, 10, 42, 46, 55, 52, 33], [44, 15, 4, 32, 30, 4, 46, 9, 6, 29, 44, 50, 28, 21, 34, 47, 13, 10, 8, 43, 2, 56, 3, 9, 37, 46, 0, 10, 55, 31, 40, 17, 16, 9, 34, 32, 25, 24, 32, 18, 27, 33, 12, 29, 12, 25, 45, 23, 49, 10, 43, 55, 39, 27, 11, 34, 16, 9, 5, 22, 40, 48, 46, 4, 20, 37, 22, 2, 22, 42, 46, 7, 44, 38, 52, 41, 28, 56, 40, 39, 0, 23, 23, 12, 24, 40, 13, 34, 22, 40, 32, 17, 53, 40, 29, 48, 6, 12, 11, 19, 31, 26, 42, 27, 9, 33, 42, 34, 10, 22, 31, 17, 50, 52, 1, 48, 4, 10, 32, 17, 28, 28], [33, 37, 15, 18, 3, 44, 34, 38, 17, 15, 1, 27, 41, 29, 22, 31, 40, 7, 6, 56, 53, 26, 4, 36, 53, 42, 26, 23, 6, 48, 22, 9, 56, 11, 14, 53, 54, 40, 12, 13, 2, 53, 2, 10, 5, 18, 54, 18, 53, 55, 5, 42, 40, 28, 25, 15, 36, 38, 2, 27, 8, 32, 33, 25, 13, 35, 4, 48, 34, 31, 48, 54, 14, 20, 55, 18, 51, 38, 35, 26, 13, 7, 0, 2, 41, 52, 25, 43, 34, 5, 51, 24, 26, 26, 43, 15, 53, 39, 36, 55, 19, 47, 43, 52, 34, 24, 22, 0, 25, 56, 53, 7, 20, 49, 11, 33, 34, 8, 30, 25, 55, 23, 13, 15, 18, 26, 37, 42, 12, 37, 1, 34, 50, 45, 38, 35, 44, 53, 8, 50, 41, 0, 38, 6, 38, 10, 18, 56, 52, 36, 11, 44, 29, 47, 52, 20, 30], [49, 1, 49, 10, 34, 18, 56, 1, 52, 49, 2, 46, 21, 25, 0, 20, 6, 50, 36, 16, 9, 44, 36, 48, 30, 32, 33, 5, 23, 47, 20, 17, 6, 5, 46, 34, 12, 39, 31, 52, 31, 34, 27, 8, 50, 11, 18, 41, 48, 23, 35, 55, 9, 51, 3, 43, 26, 8, 51, 33, 37, 30, 49, 45, 38, 26, 2, 30, 53, 53, 6, 20, 0, 39, 9, 22, 2, 8, 49, 21, 3, 53, 16, 56, 25, 51, 32, 11, 8, 16, 36, 46, 51, 20, 27, 33, 32, 31, 51, 39, 8, 18, 24, 7, 20, 37, 48, 9, 41, 38, 14, 24, 27, 42, 47, 29, 41, 14, 55, 24, 29, 14, 8, 48, 10, 42, 46, 25, 15, 4, 27, 29, 46, 14, 55, 31, 56, 28, 8], [34, 22, 3, 52, 34, 3, 50, 34, 38, 16, 6, 20, 13, 27, 28, 21, 13, 38, 48, 16, 40, 28, 36, 48, 47, 31, 52, 56, 24, 7, 9, 0, 20, 41, 45, 0, 48, 50, 18, 10, 11, 12, 15, 9, 30, 34, 44, 46, 7, 15, 18, 12, 41, 15, 25, 3, 44, 38, 51, 13, 39, 17, 25, 23, 18, 21, 6, 40, 38, 38, 23, 17, 12, 29, 56, 51, 27, 0, 19, 44, 8, 22, 2, 15, 3, 6, 45, 56, 19, 31, 22, 19, 56, 28, 7, 47, 1, 50, 41, 39, 48, 18, 11, 53, 56, 9, 56, 46, 2, 11, 50, 43, 8, 15, 29, 51, 8, 8, 45, 43, 23], [21, 13, 53, 14, 4, 53, 35, 39, 22, 55, 45, 37, 3, 47, 14, 23, 24, 21, 32, 20, 8, 46, 8, 49, 52, 15, 47, 3, 50, 47, 26, 54, 42, 47, 3, 2, 25, 36, 35, 46, 35, 35, 13, 9, 25, 20, 26, 18, 32, 56, 42, 25, 18, 12, 38, 16, 29, 5, 41, 12, 29, 43, 49, 18, 1, 18, 54, 15, 6, 3, 20, 43, 0, 3, 14, 30, 28, 27, 38, 22, 21, 35, 1, 32, 33, 43, 22, 36, 20, 45, 3, 26, 19, 25, 0, 10, 56, 15, 42, 56, 6, 12, 22, 9, 23, 53, 2, 35, 8, 11, 40, 40, 36, 45, 18, 10, 0, 52, 26, 9, 21, 8, 2, 13, 22, 3, 56, 26, 26, 33, 24, 14, 54, 7, 16, 56, 35, 4, 37, 23, 50, 29, 15, 53, 50, 11, 31, 36, 40, 55, 32, 42, 1, 35, 35, 22, 18], [20, 43, 47, 23, 53, 1, 1, 17, 4, 50, 4, 12, 21, 20, 23, 12, 20, 16, 13, 54, 45, 50, 8, 24, 8, 23, 9, 11, 11, 29, 29, 36, 2, 14, 21, 54, 49, 8, 42, 38, 56, 46, 44, 39, 29, 42, 30, 7, 4, 40, 4, 21, 11, 41, 0, 35, 2, 37, 22, 56, 23, 55, 29, 4, 26, 34, 42, 43, 49, 31, 44, 45, 43, 15, 51, 49, 43, 26, 2, 35, 30, 44, 56, 50, 49, 5, 28, 38, 46, 40, 33, 38, 56, 14, 17, 33, 0, 48, 17, 18, 17, 32, 34, 49, 3, 4, 3, 4, 50, 56, 12, 35, 18, 27, 15, 39, 24, 29, 7, 13, 9, 28, 1, 9, 7, 1, 44, 26, 17, 46, 6, 31, 39, 11, 50, 47, 45, 12, 42, 10, 4, 20, 5, 50, 35, 28, 18, 34], [9, 25, 22, 55, 23, 13, 56, 16, 55, 24, 41, 54, 47, 40, 40, 7, 38, 50, 47, 28, 20, 8, 55, 48, 54, 50, 53, 2, 43, 5, 41, 50, 12, 8, 13, 12, 1, 13, 50, 32, 7, 29, 22, 48, 48, 31, 14, 10, 37, 37, 9, 15, 36, 51, 46, 49, 15, 16, 40, 18, 12, 55, 3, 7, 47, 9, 45, 26, 31, 42, 11, 35, 30, 39, 26, 28, 12, 54, 16, 50, 37, 0, 43, 41, 35, 5, 34, 42, 4, 48, 30, 43, 49, 3, 13, 2, 33, 26, 56, 7, 51, 40, 6, 13, 15, 16, 1, 24, 23, 50, 14, 10, 54, 6, 41, 24, 39, 33, 33, 39, 12, 18, 37, 14, 41, 28, 45, 55, 9, 14, 1, 19, 15, 19, 26, 45, 48, 27, 30], [29, 29, 26, 9, 16, 14, 54, 54, 42, 30, 20, 29, 48, 46, 18, 12, 26, 0, 38, 24, 54, 47, 37, 8, 34, 20, 3, 12, 18, 37, 10, 27, 7, 42, 16, 46, 30, 35, 51, 13, 7, 49, 22, 1, 42, 13, 24, 10, 14, 11, 12, 54, 6, 47, 40, 20, 19, 46, 20, 38, 17, 4, 2, 30, 21, 7, 40, 32, 25, 8, 3, 3, 2, 42, 55, 28, 39, 35, 28, 21, 47, 1, 54, 26, 23, 36, 8, 31, 33, 4, 48, 1, 34, 48, 9, 9, 49, 20, 33, 32, 49, 22, 20, 13, 18, 1, 22, 23, 33, 25, 56, 36, 11, 50, 33, 19, 31, 37, 23, 52, 46, 39, 7, 10, 2, 6, 4, 38, 48, 32, 22, 48, 43, 51, 13, 6, 13, 1], [24, 55, 19, 29, 44, 7, 4, 21, 33, 6, 25, 18, 38, 38, 6, 50, 29, 36, 42, 14, 0, 34, 3, 45, 10, 21, 7, 26, 13, 5, 11, 39, 9, 21, 52, 56, 53, 1, 36, 48, 15, 39, 11, 37, 55, 47, 30, 22, 7, 42, 40, 45, 2, 29, 31, 31, 48, 48, 2, 9, 28, 34, 12, 29, 25, 30, 41, 56, 10, 14, 1, 31, 55, 19, 20, 8, 22, 44, 39, 21, 16, 46, 56, 31, 25, 14, 0, 10, 30, 44, 42, 45, 6, 55, 45, 45, 32, 17, 56, 20, 20, 5, 1, 38, 19, 48, 49, 34, 9, 20, 8, 2, 16, 0, 49, 6, 29, 50, 32, 19, 40, 5], [41, 4, 10, 10, 2, 26, 8, 48, 39, 22, 21, 19, 24, 20, 48, 32, 13, 51, 4, 6, 2, 34, 53, 31, 13, 26, 55, 1, 42, 56, 28, 55, 17, 15, 37, 39, 43, 37, 46, 53, 30, 45, 14, 27, 20, 50, 50, 30, 17, 0, 5, 7, 6, 2, 31, 35, 27, 34, 49, 8, 4, 9, 19, 39, 46, 33, 29, 28, 3, 41, 38, 4, 29, 56, 25, 1, 45, 24, 27, 9, 15, 37, 15, 27, 41, 0, 21, 22, 33, 40, 17, 2, 14, 37, 28, 25, 14, 39, 36, 18, 26, 21, 11, 0, 11, 32, 17, 28, 53, 47, 31, 8, 19, 45, 0, 9, 32, 24, 56, 7, 48, 29, 42, 37, 42, 47, 9, 48, 39, 44], [18, 7, 18, 27, 8, 24, 26, 3, 13, 35, 34, 39, 39, 7, 40, 1, 53, 15, 56, 9, 48, 23, 28, 38, 28, 0, 21, 8, 5, 34, 43, 54, 44, 9, 47, 21, 49, 23, 26, 33, 34, 0, 36, 44, 6, 0, 34, 14, 19, 34, 8, 53, 1, 46, 37, 16, 9, 31, 39, 23, 6, 7, 38, 12, 29, 1, 27, 35, 37, 39, 51, 53, 18, 18, 19, 11, 40, 48, 47, 19, 23, 5, 26, 26, 16, 0, 0, 51, 22, 2, 23, 34, 46, 35, 42, 33, 12, 40, 18, 49, 9, 27, 17, 7, 37, 36, 30, 35, 55, 12, 36, 35, 8, 32, 50, 53, 41, 20, 20, 27, 29, 38, 19, 41, 14, 28, 50, 12, 37, 34, 10, 20, 41, 43, 29, 9, 8, 0, 6, 41, 16, 39, 24, 10, 55, 18, 2, 12, 0, 27, 4, 13, 33, 8, 55, 47, 41, 35, 45, 37, 14, 13, 7, 17, 26, 32], [13, 19, 47, 11, 35, 2, 2, 49, 53, 24, 15, 43, 42, 0, 13, 5, 42, 16, 48, 25, 32, 25, 5, 36, 2, 39, 42, 50, 31, 50, 44, 0, 45, 16, 29, 13, 40, 33, 48, 43, 6, 45, 1, 21, 4, 0, 52, 46, 32, 11, 7, 20, 13, 43, 8, 49, 11, 12, 22, 29, 55, 50, 3, 45, 1, 31, 50, 14, 49, 31, 15, 48, 50, 11, 21, 19, 43, 4, 53, 36, 46, 54, 27, 8, 35, 54, 40, 32, 6, 4, 34, 45, 25, 31, 15, 43, 16, 47, 9, 23, 19, 3, 24, 20, 44, 1, 21, 4, 6, 20, 30, 41, 31, 50, 33, 42, 31, 39, 44, 35, 20, 43, 46, 19, 8, 52, 30, 24, 37, 23, 23, 37, 18, 35, 15, 19, 46, 39, 24, 17, 20, 52, 34, 30, 42, 4, 56, 22, 5, 30, 53, 16, 25, 42, 14, 37, 44], [11, 23, 5, 19, 47, 43, 43, 9, 40, 10, 32, 7, 42, 16, 2, 15, 3, 32, 21, 33, 31, 13, 40, 30, 30, 13, 8, 34, 24, 44, 34, 50, 22, 47, 35, 49, 46, 34, 32, 11, 11, 2, 1, 24, 4, 12, 31, 8, 51, 46, 19, 36, 38, 11, 47, 43, 55, 34, 5, 42, 10, 56, 36, 12, 29, 13, 7, 55, 28, 0, 8, 41, 11, 30, 44, 11, 31, 40, 40, 3, 19, 7, 55, 36, 52, 52, 38, 16, 43, 14, 33, 17, 25, 16, 22, 34, 13, 36, 21, 56, 56, 54, 40], [26, 27, 6, 25, 24, 17, 1, 17, 9, 44, 48, 20, 56, 32, 30, 25, 33, 49, 40, 10, 54, 50, 24, 51, 48, 55, 54, 26, 28, 5, 43, 52, 12, 6, 35, 1, 14, 47, 19, 43, 24, 8, 16, 16, 18, 5, 4, 19, 41, 30, 37, 24, 35, 37, 30, 8, 49, 6, 41, 34, 45, 6, 49, 34, 33, 1, 16, 25, 19, 52, 22, 37, 46, 13, 47, 0, 44, 8, 17, 20, 38, 26, 25, 22, 19, 54, 2, 6, 31, 56, 53, 25, 47, 10, 34, 50, 3, 8, 27, 41, 29, 26, 30, 22, 6, 47, 17, 12, 26, 54, 12, 24, 45, 2, 15, 20, 50, 19, 6, 9, 9, 42, 0, 35, 22, 9, 2, 22, 54, 44, 37, 30, 1, 56, 54, 34, 9, 6, 38, 4, 27, 13, 45, 20, 45, 25, 2, 29, 32, 17, 41, 35, 16, 27, 21, 56, 53, 52], [19, 45, 39, 42, 51, 45, 14, 54, 46, 26, 19, 29, 28, 53, 48, 11, 53, 8, 26, 45, 56, 14, 36, 45, 6, 14, 21, 36, 1, 16, 26, 16, 3, 40, 35, 45, 37, 52, 37, 44, 4, 37, 22, 32, 16, 21, 45, 55, 5, 55, 32, 10, 16, 35, 20, 44, 43, 34, 56, 44, 46, 11, 43, 7, 12, 19, 43, 24, 35, 28, 19, 19, 20, 31, 34, 14, 25, 3, 4, 8, 16, 40, 30, 9, 37, 33, 25, 41, 40, 53, 56, 9, 5, 32, 26, 53, 6, 34, 15, 28, 31, 8, 29, 6, 0, 36, 1, 40, 9, 0, 48, 41, 7, 25, 5, 29, 56, 17, 9, 52, 0, 38, 43, 40, 33, 6, 43, 35, 21, 52, 37, 52, 45, 29, 44, 54, 19, 14, 3, 40, 27, 37, 6, 4, 33, 49, 54, 56], [39, 39, 10, 4, 23, 22, 33, 1, 19, 9, 16, 6, 0, 18, 43, 22, 39, 30, 48, 33, 8, 0, 53, 48, 37, 50, 16, 6, 49, 30, 28, 8, 26, 14, 33, 14, 48, 5, 35, 13, 40, 0, 44, 52, 15, 38, 12, 28, 8, 29, 0, 43, 47, 33, 45, 5, 13, 43, 42, 47, 29, 29, 9, 54, 48, 10, 32, 37, 45, 25, 35, 41, 14, 18, 31, 16, 18, 42, 47, 54, 21, 55, 7, 15, 24, 9, 50, 31, 10, 33, 17, 13, 43, 1, 53, 16, 51, 31, 17, 34, 20, 37, 30, 42, 5, 28, 12, 15, 2, 22, 48, 23, 37, 26, 55, 36, 4, 32, 47, 3, 6, 26, 47, 18, 26, 51, 9, 25, 10], [27, 0, 6, 49, 17, 33, 39, 39, 50, 19, 52, 34, 19, 43, 17, 14, 19, 13, 31, 53, 10, 46, 14, 10, 9, 39, 39, 32, 48, 42, 37, 25, 6, 33, 32, 53, 35, 36, 24, 48, 29, 52, 45, 18, 16, 11, 18, 4, 26, 5, 11, 24, 2, 51, 42, 7, 42, 50, 35, 37, 35, 43, 42, 51, 23, 16, 7, 19, 8, 21, 19, 5, 4, 10, 19, 42, 18, 14, 25, 52, 51, 1, 22, 9, 31, 34, 20, 44, 52, 54, 20, 6, 16, 42, 5, 0, 37, 17, 8, 46, 38, 48, 45, 9, 45, 54, 3, 48, 55, 54, 5, 22, 11, 53, 4, 18, 40, 49, 36, 31, 45, 40, 53, 22, 24, 0, 5, 47, 3, 9, 33], [13, 22, 32, 32, 26, 55, 30, 47, 44, 22, 50, 4, 8, 14, 46, 3, 45, 26, 7, 43, 27, 33, 42, 45, 9, 55, 19, 53, 1, 10, 43, 15, 16, 19, 26, 40, 15, 16, 5, 53, 22, 56, 27, 52, 13, 34, 35, 36, 29, 5, 28, 15, 30, 27, 17, 29, 10, 29, 44, 19, 12, 14, 26, 9, 37, 45, 22, 11, 46, 36, 26, 54, 25, 54, 41, 1, 31, 40, 35, 48, 1, 32, 46, 21, 6, 49, 27, 22, 36, 8, 24, 15, 18, 19, 34, 19, 20, 30, 12, 41, 37, 1, 12, 33, 26, 41, 12, 11, 16, 29, 56, 9, 32, 52, 18, 7, 54, 24, 33, 56, 21], [24, 25, 52, 23, 40, 1, 34, 53, 25, 16, 28, 7, 1, 9, 37, 21, 36, 23, 56, 45, 45, 48, 15, 52, 22, 40, 22, 5, 37, 32, 9, 54, 26, 49, 38, 25, 54, 44, 45, 0, 4, 22, 11, 35, 40, 25, 0, 43, 47, 36, 4, 37, 37, 29, 32, 17, 45, 53, 55, 8, 34, 29, 43, 51, 53, 28, 44, 44, 9, 27, 3, 6, 31, 51, 4, 10, 30, 28, 46, 55, 25, 2, 48, 20, 11, 42, 20, 12, 9, 47, 35, 43, 55, 43, 31, 42, 42, 55, 43, 49, 17, 53, 21, 48, 35, 13, 37, 44, 31, 24, 47, 19, 51, 7, 1, 44, 2, 21, 19, 27, 23, 34], [40, 39, 49, 39, 22, 13, 18, 15, 19, 42, 23, 0, 0, 18, 17, 6, 52, 5, 9, 15, 46, 14, 36, 1, 3, 14, 37, 39, 50, 19, 31, 36, 43, 54, 6, 26, 40, 16, 35, 15, 32, 35, 52, 29, 35, 25, 10, 25, 11, 4, 39, 37, 40, 18, 39, 55, 1, 31, 22, 26, 34, 8, 8, 3, 11, 43, 47, 41, 27, 38, 31, 18, 7, 27, 38, 37, 28, 24, 49, 47, 5, 9, 45, 39, 10, 2, 46, 26, 41, 30, 28, 47, 55, 4, 23, 35, 0, 3, 36, 3, 43, 49, 14, 2, 33, 36, 14, 21, 51, 12, 7, 53, 19, 42, 28, 13, 23, 19, 40, 17, 52, 21, 43, 54, 1, 24, 41, 18, 22, 1, 29, 42, 24, 56, 8, 47, 56, 51, 46, 44, 29, 9, 16, 43, 52, 28, 53, 38, 33, 55, 34, 21, 40, 40, 49, 19], [13, 28, 0, 50, 10, 44, 4, 10, 32, 42, 45, 37, 37, 40, 1, 9, 51, 51, 12, 15, 37, 7, 40, 29, 30, 34, 9, 18, 15, 21, 26, 11, 2, 26, 30, 34, 25, 30, 13, 16, 17, 10, 52, 17, 9, 0, 18, 12, 1, 5, 39, 44, 47, 17, 23, 53, 17, 46, 14, 13, 51, 24, 11, 39, 31, 51, 36, 51, 54, 51, 0, 5, 54, 8, 53, 11, 3, 0, 0, 9, 24, 32, 16, 10, 27, 53, 52, 49, 54, 13, 4, 24, 14, 54, 31, 31, 41, 55, 15, 9, 13, 34, 20, 8, 50, 34, 51, 3, 16, 24, 35, 24, 12, 41, 25, 52, 31, 55, 54, 28, 35, 35, 3, 34, 43, 11, 22, 29, 30, 14, 7, 56, 28, 32, 54, 4, 11, 14, 15, 7], [38, 19, 13, 26, 48, 22, 10, 24, 17, 18, 5, 46, 0, 29, 40, 18, 25, 3, 23, 1, 55, 0, 9, 44, 47, 33, 40, 55, 53, 11, 25, 15, 15, 23, 50, 54, 49, 56, 6, 41, 18, 28, 12, 20, 52, 35, 28, 39, 40, 43, 17, 8, 17, 8, 43, 39, 19, 35, 10, 30, 38, 54, 34, 7, 55, 41, 56, 6, 38, 46, 33, 1, 0, 24, 24, 33, 12, 18, 43, 32, 36, 30, 22, 9, 52, 13, 28, 40, 11, 55, 56, 34, 11, 55, 53, 23, 36, 48, 37, 28, 8, 44, 0, 12, 47, 34, 35, 4, 40, 9, 8, 44, 49, 50, 22, 5, 48, 28, 20, 19], [16, 54, 22, 38, 28, 5, 48, 18, 42, 11, 36, 32, 29, 46, 23, 18, 53, 36, 18, 22, 0, 4, 54, 25, 34, 7, 9, 56, 50, 38, 47, 45, 27, 49, 38, 38, 36, 0, 30, 24, 42, 8, 8, 27, 12, 53, 54, 29, 12, 2, 33, 48, 54, 52, 54, 47, 53, 26, 55, 48, 24, 16, 35, 31, 21, 23, 36, 56, 6, 24, 48, 19, 54, 38, 6, 46, 56, 11, 17, 30, 12, 42, 17, 39, 15, 19, 46, 34, 9, 42, 4, 16, 33, 33, 12, 16, 44, 29, 3, 38, 23, 56, 9, 23, 54, 50, 14, 32, 49, 52, 29, 19, 39, 37, 20, 43, 46, 13, 35, 4, 21, 35, 6, 15, 44, 45, 37, 30, 40, 39, 36, 50, 20, 19, 25, 34, 30, 26, 56, 35, 12, 38, 18, 37, 12, 20, 47], [54, 43, 28, 14, 18, 1, 42, 2, 31, 47, 16, 33, 5, 56, 35, 31, 39, 42, 49, 34, 36, 40, 43, 36, 26, 25, 56, 20, 13, 56, 26, 45, 51, 50, 4, 23, 39, 45, 11, 46, 54, 55, 48, 42, 17, 25, 54, 19, 12, 36, 19, 2, 35, 27, 33, 40, 43, 37, 50, 31, 54, 21, 51, 54, 38, 37, 26, 3, 6, 44, 31, 6, 29, 7, 16, 48, 0, 21, 32, 10, 21, 0, 47, 40, 19, 23, 27, 44, 4, 23, 52, 46, 42, 21, 55, 10, 16, 56, 54, 47, 33, 25, 16, 15, 49, 33, 20, 37, 30, 9, 13, 17, 4, 55, 40, 56, 44, 28, 34, 26, 17], [55, 6, 31, 51, 21, 56, 50, 4, 14, 51, 28, 51, 46, 29, 50, 11, 32, 9, 6, 43, 29, 52, 33, 29, 1, 45, 35, 54, 43, 1, 10, 41, 12, 55, 17, 0, 47, 55, 46, 52, 9, 6, 34, 4, 39, 42, 39, 10, 8, 9, 18, 53, 11, 33, 18, 55, 35, 53, 0, 20, 5, 29, 29, 39, 32, 42, 56, 35, 44, 22, 40, 19, 31, 24, 24, 35, 29, 48, 38, 31, 55, 52, 55, 38, 38, 50, 11, 52, 5, 51, 16, 40, 36, 4, 55, 40, 49, 15, 53, 40, 32, 15, 37, 16, 23, 19, 39, 18, 7, 6, 43, 40, 7, 38, 26, 39, 37, 3, 47, 51, 41, 16, 26, 21, 34, 14, 42, 7, 27, 13, 33, 35, 50, 15, 12, 12, 49, 17, 25, 53, 44, 50, 1, 28, 31, 45, 21, 26], [26, 36, 6, 13, 15, 54, 5, 2, 46, 48, 6, 35, 2, 19, 30, 37, 9, 25, 29, 16, 7, 45, 14, 27, 19, 43, 42, 13, 32, 32, 18, 18, 36, 22, 4, 8, 21, 27, 33, 48, 10, 23, 30, 37, 29, 53, 45, 5, 47, 53, 28, 46, 42, 25, 27, 38, 42, 52, 34, 10, 2, 24, 11, 26, 47, 11, 54, 29, 37, 34, 4, 28, 5, 21, 31, 32, 31, 17, 53, 56, 30, 31, 55, 19, 55, 5, 0, 25, 56, 8, 30, 41, 43, 31, 16, 2, 46, 13, 20, 7, 36, 47, 42, 9, 17, 53, 41, 45, 16, 37, 25, 19, 36, 29, 14, 7, 0, 50, 4, 36, 35, 37, 11, 42, 5, 40, 26, 43, 15, 3, 41, 8, 31, 39, 49, 36, 56, 7, 56, 20], [26, 43, 43, 34, 54, 22, 19, 25, 44, 13, 24, 30, 50, 37, 18, 41, 5, 21, 47, 13, 35, 6, 8, 21, 20, 30, 48, 12, 37, 43, 36, 24, 2, 11, 12, 53, 25, 7, 6, 39, 42, 23, 38, 47, 51, 49, 8, 37, 34, 55, 22, 39, 24, 55, 46, 25, 27, 47, 14, 42, 54, 27, 31, 44, 7, 40, 13, 11, 3, 45, 15, 34, 31, 55, 45, 51, 1, 3, 32, 34, 13, 38, 49, 27, 31, 48, 14, 41, 8, 34, 1, 53, 17, 0, 36, 2, 47, 48, 10, 39, 19, 20, 33, 54, 11, 1, 36, 5, 4, 40, 50, 20, 11, 47, 39, 29, 8, 45, 2, 0, 32, 40, 45, 10, 52, 13, 14, 53, 54, 21, 8, 29, 16, 17, 32, 8, 18, 37, 26, 1], [33, 10, 49, 17, 6, 5, 41, 38, 4, 54, 29, 27, 0, 18, 23, 38, 16, 8, 7, 11, 51, 22, 51, 12, 20, 45, 43, 44, 55, 14, 4, 9, 23, 25, 16, 2, 35, 0, 38, 54, 43, 23, 29, 53, 38, 22, 7, 21, 27, 7, 43, 55, 41, 55, 28, 30, 22, 34, 0, 39, 27, 56, 44, 9, 2, 11, 46, 24, 28, 35, 26, 11, 32, 50, 27, 48, 54, 43, 12, 12, 35, 48, 8, 11, 53, 13, 29, 51, 36, 23, 17, 4, 2, 19, 16, 24, 35, 30, 33, 37, 31, 44, 28]], 'testPPO': [[20, 20, 26, 32, 50, 20, 20, 10, 20, 32, 27, 12, 26, 32, 20, 32, 26, 44, 38, 32, 32, 32, 11, 12, 26, 32, 32, 11, 32, 50, 32, 6, 7, 11, 2, 32, 32, 2, 11, 6, 6, 6, 2, 13, 14, 14, 14, 6, 7, 10, 44, 32, 6, 6, 6, 6, 32, 11, 11, 11, 8, 11, 6, 2, 44, 6, 14, 56, 6, 26, 6, 11, 11, 11, 6, 6, 6, 11, 11, 6, 7, 11, 11, 11, 6, 6, 6, 10, 7, 7, 56, 32, 13, 6, 6, 11, 11, 10, 56, 11, 6, 6, 6, 2, 10, 6, 4, 10, 6, 14, 38, 11, 56, 56, 6, 6, 26, 44, 6, 11, 12, 56, 56, 38, 6, 11, 6, 6, 13, 6, 6, 6, 11, 4, 3, 6, 7, 6, 56, 4, 11, 10, 11, 6, 11, 32, 5, 13, 6, 10, 50, 56, 6, 6, 11, 6, 4, 6, 7, 6, 32, 6, 44, 44, 50, 14], [20, 32, 26, 32, 32, 32, 20, 26, 20, 32, 32, 32, 32, 6, 26, 6, 20, 6, 50, 1, 9, 6, 7, 14, 38, 6, 7, 6, 11, 8, 32, 11, 11, 7, 7, 32, 53, 13, 6, 6, 11, 32, 6, 6, 6, 9, 38, 6, 11, 11, 10, 13, 6, 38, 6, 56, 50, 11, 11, 50, 32, 26, 56, 32, 12, 50, 0, 14, 11, 6, 6, 6, 7, 44, 11, 32, 11, 13, 11, 2, 11, 6, 11, 4, 13, 6, 6, 6, 32, 9, 6, 6, 13, 6, 11, 6, 6, 6, 26, 6, 11, 6, 6, 6, 52, 7, 6, 50, 50, 50, 6, 14, 7, 38, 6, 11, 11, 11, 6, 6, 38, 11, 32, 13, 7, 11, 0, 6, 6, 2, 6, 6, 11, 13, 6, 38, 10, 6, 11, 6, 6, 56, 14, 13, 6, 11, 6, 11, 6, 6, 3, 11, 11, 11, 6, 7, 6, 11, 6, 6, 6, 6, 8, 6, 10, 6, 2, 13, 7, 6, 44, 6, 6, 7, 6, 8, 32, 6, 11, 6, 11, 9, 6, 6, 11, 23, 56, 12, 14, 6, 6, 6, 11], [20, 32, 26, 32, 26, 47, 26, 20, 32, 20, 26, 12, 27, 6, 26, 11, 6, 6, 26, 20, 50, 38, 26, 32, 32, 11, 32, 11, 20, 11, 26, 26, 32, 32, 19, 44, 50, 32, 6, 7, 14, 6, 44, 32, 38, 11, 6, 6, 11, 10, 13, 6, 32, 0, 10, 11, 14, 10, 6, 11, 11, 6, 6, 10, 11, 6, 26, 14, 32, 6, 11, 11, 6, 56, 4, 11, 56, 6, 7, 11, 44, 6, 4, 11, 38, 56, 6, 6, 11, 13, 11, 7, 6, 32, 11, 6, 6, 14, 11, 11, 4, 6, 6, 11, 11, 6, 6, 50, 14, 32, 2, 13, 2, 32, 11, 38, 56, 4, 10, 6, 50, 50, 7, 6, 6, 56, 6, 11, 6, 6, 32, 6, 56, 13, 6, 6, 6, 6, 6, 6, 6, 6, 11, 6, 6, 6, 13, 11, 6, 13, 11, 50, 14, 11, 8, 11, 11, 6, 11, 32, 11, 11, 6, 7, 11, 4], [26, 20, 39, 39, 42, 42, 42, 11, 42, 42, 47, 11, 6, 7, 11, 6, 6, 6, 11, 6, 32, 6, 32, 32, 13, 14, 6, 6, 32, 9, 32, 11, 11, 6, 11, 6, 32, 8, 11, 11, 11, 6, 6, 26, 50, 14, 32, 11, 11, 11, 6, 11, 6, 11, 6, 3, 2, 3, 6, 11, 7, 7, 11, 6, 11, 11, 6, 11, 6, 10, 6, 13, 6, 6, 32, 6, 11, 11, 11, 6, 11, 6, 11, 6, 6, 4, 11, 11, 6, 5, 56, 7, 6, 23, 50, 50, 50, 44, 11, 14, 6, 6, 44, 6, 2, 3, 38, 11, 13, 6, 7, 7, 6, 6, 6, 6, 32, 6, 6, 2, 11, 13, 6, 13, 6, 6, 6, 2, 11, 6, 11, 6, 44, 11, 6, 11, 11, 32, 11, 12, 11, 6, 26, 50, 44, 11, 32, 14, 56], [32, 45, 32, 26, 20, 42, 42, 42, 11, 21, 11, 6, 50, 11, 26, 26, 47, 32, 6, 7, 6, 7, 6, 32, 6, 6, 6, 12, 12, 11, 13, 6, 6, 32, 32, 32, 32, 11, 11, 53, 6, 6, 3, 6, 6, 50, 32, 44, 7, 14, 11, 32, 32, 44, 32, 11, 11, 6, 7, 6, 11, 6, 11, 38, 38, 11, 6, 11, 13, 13, 6, 6, 11, 6, 11, 11, 50, 2, 6, 38, 11, 6, 6, 50, 11, 32, 44, 11, 14, 5, 11, 4, 7, 11, 56, 11, 6, 7, 11, 10, 11, 6, 6, 6, 56, 11, 13, 11, 11, 32, 13, 14, 6, 11, 7, 6, 6, 50, 6, 11, 11, 9, 32, 2, 6, 6, 50, 14, 6, 6, 10, 5, 11, 50, 38, 6, 6, 32, 6, 7], [32, 32, 55, 20, 42, 39, 42, 42, 42, 11, 6, 11, 20, 11, 9, 11, 6, 7, 11, 32, 6, 32, 9, 32, 11, 6, 32, 6, 13, 11, 6, 1, 38, 6, 11, 6, 32, 6, 11, 11, 11, 11, 7, 6, 38, 11, 11, 56, 4, 6, 11, 50, 11, 32, 4, 14, 32, 56, 11, 11, 11, 11, 11, 32, 6, 7, 11, 10, 11, 11, 6, 11, 11, 6, 6, 6, 10, 13, 6, 38, 6, 11, 13, 2, 6, 6, 9, 2, 2, 6, 6, 7, 50, 6, 26, 14, 11, 32, 56, 56, 6, 14, 11, 6, 12, 44, 56, 11, 26, 11, 11, 6, 11, 56, 32, 32, 56, 38, 6, 50, 7, 11, 4, 6, 14, 11, 6, 6, 6, 11, 6, 13, 14, 7, 7, 11, 7, 11, 6], [20, 24, 39, 39, 42, 42, 38, 44, 39, 27, 26, 6, 7, 32, 38, 6, 6, 2, 32, 32, 11, 32, 6, 13, 6, 11, 32, 50, 11, 7, 11, 6, 32, 6, 6, 13, 6, 6, 56, 4, 44, 26, 44, 7, 6, 11, 6, 0, 44, 6, 14, 32, 6, 7, 2, 50, 6, 11, 12, 32, 6, 11, 11, 6, 13, 14, 11, 14, 6, 11, 11, 6, 6, 44, 6, 6, 6, 56, 6, 3, 6, 6, 56, 14, 56, 32, 11, 10, 32, 11, 50, 11, 11, 4, 32, 6, 6, 7, 11, 6, 6, 6, 6, 4, 6, 6, 11, 6, 13, 50, 50, 6, 6, 11, 10, 11, 3, 6, 10, 6, 6, 6, 6, 6, 26, 7, 14, 11, 6, 6, 6, 6, 2, 6, 6, 32, 11, 38, 11], [20, 39, 39, 39, 42, 39, 39, 42, 11, 32, 32, 11, 6, 11, 7, 6, 20, 6, 6, 32, 26, 6, 32, 4, 11, 13, 6, 11, 11, 26, 32, 6, 11, 32, 11, 32, 32, 6, 6, 26, 11, 50, 50, 56, 56, 26, 26, 56, 26, 11, 13, 14, 12, 32, 11, 26, 11, 3, 56, 56, 10, 56, 11, 11, 0, 56, 11, 11, 11, 11, 44, 6, 10, 2, 56, 32, 3, 6, 11, 7, 6, 10, 4, 38, 11, 6, 44, 6, 6, 6, 13, 4, 6, 6, 11, 6, 6, 6, 7, 11, 6, 6, 11, 6, 6, 50, 32, 7, 11, 14, 6, 3, 50, 50, 26, 11, 7, 6, 7, 11, 11, 38, 6, 38, 6, 11, 6, 11, 11, 13, 7], [20, 11, 31, 39, 11, 39, 42, 53, 42, 54, 12, 6, 7, 6, 6, 6, 6, 11, 11, 32, 6, 44, 6, 13, 6, 6, 3, 38, 14, 32, 32, 32, 6, 11, 32, 13, 32, 6, 11, 32, 6, 14, 26, 32, 11, 7, 32, 32, 44, 8, 11, 11, 32, 7, 56, 6, 7, 11, 11, 6, 4, 32, 6, 11, 11, 4, 11, 13, 11, 7, 6, 11, 5, 11, 6, 11, 3, 6, 11, 32, 3, 11, 6, 11, 11, 10, 10, 38, 2, 11, 13, 10, 56, 6, 50, 44, 11, 14, 6, 11, 11, 11, 11, 26, 11, 4, 56, 6, 7, 6, 6, 11, 6, 11, 11, 4, 6, 6, 6, 13, 14, 11, 11, 8, 6, 13, 6, 6, 6, 6, 6, 6, 6, 6, 6, 6, 6, 56, 50, 11, 14, 32, 8, 10, 32, 56, 6, 6, 10, 6, 7, 11, 11, 11, 6, 6, 11, 11, 56, 38, 6, 13, 11, 14, 6, 7, 6, 6, 6, 11, 6, 6, 12, 6, 38], [20, 11, 42, 39, 32, 39, 39, 42, 42, 42, 20, 8, 11, 11, 26, 6, 7, 6, 6, 6, 6, 14, 3, 32, 32, 6, 32, 13, 6, 32, 32, 32, 38, 7, 6, 6, 11, 7, 0, 11, 6, 11, 6, 50, 12, 50, 14, 32, 0, 32, 32, 32, 26, 32, 3, 44, 11, 3, 32, 32, 32, 6, 7, 6, 6, 6, 11, 44, 3, 11, 6, 11, 11, 13, 7, 11, 4, 7, 7, 6, 11, 6, 6, 6, 10, 11, 11, 56, 6, 6, 6, 2, 6, 4, 56, 44, 14, 32, 38, 6, 6, 44, 11, 6, 4, 6, 44, 11, 6, 7, 26, 6, 11, 7, 11, 11, 11, 3, 6, 6, 13, 11, 7, 6, 6, 6, 44, 11, 6, 4, 11, 11, 6, 6, 11, 6, 11, 6, 6, 7, 26, 14, 6, 4, 56, 6, 6, 11, 56, 38, 32, 6, 7, 11, 11, 6, 3, 2, 13, 6, 50, 4, 11, 2, 13, 26, 6, 2, 6, 11, 32, 6, 11, 6, 6], [26, 20, 38, 42, 39, 11, 32, 39, 39, 0, 38, 32, 6, 7, 20, 11, 11, 6, 6, 6, 6, 26, 26, 32, 13, 7, 6, 6, 3, 11, 20, 32, 11, 6, 6, 8, 5, 9, 6, 32, 32, 11, 6, 26, 44, 14, 32, 56, 6, 56, 6, 13, 38, 7, 32, 6, 32, 6, 6, 11, 56, 6, 0, 11, 56, 56, 7, 14, 6, 7, 6, 11, 6, 10, 6, 6, 5, 32, 11, 11, 32, 13, 7, 7, 7, 6, 6, 6, 11, 7, 11, 6, 6, 6, 11, 6, 6, 11, 6, 26, 50, 50, 56, 11, 6, 11, 14, 11, 11, 3, 11, 6, 13, 56, 6, 7, 11, 38, 6, 6, 11, 3], [32, 27, 20, 39, 29, 42, 39, 39, 11, 39, 6, 6, 3, 3, 20, 20, 6, 7, 2, 13, 6, 11, 11, 11, 11, 3, 11, 11, 32, 11, 32, 32, 11, 13, 11, 6, 6, 50, 6, 11, 11, 2, 11, 6, 11, 11, 11, 6, 13, 11, 4, 32, 4, 6, 11, 32, 50, 12, 6, 11, 7, 6, 11, 56, 50, 11, 14, 11, 11, 6, 7, 5, 38, 11, 56, 6, 11, 44, 6, 6, 6, 13, 6, 6, 6, 6, 2, 11, 11, 8, 6, 6, 6, 38, 6, 0, 6, 50, 14, 38, 6, 32, 11, 11, 11, 6, 26, 11, 6, 11, 7, 11, 6, 11, 2, 6, 11, 11, 32, 6, 6, 13, 6, 13, 6, 6, 11, 4, 6, 11, 6], [47, 32, 32, 44, 32, 26, 20, 20, 32, 32, 32, 42, 11, 26, 32, 26, 32, 7, 32, 32, 32, 32, 11, 26, 32, 32, 7, 7, 13, 32, 6, 7, 32, 13, 32, 6, 6, 11, 11, 11, 11, 6, 38, 13, 8, 4, 6, 50, 11, 6, 38, 11, 6, 1, 11, 8, 11, 6, 6, 56, 50, 56, 13, 56, 26, 50, 7, 26, 44, 6, 14, 50, 32, 11, 56, 6, 11, 7, 6, 6, 14, 32, 6, 6, 6, 32, 56, 6, 13, 11, 8, 6, 6, 11, 11, 56, 6, 8, 6, 6, 6, 6, 6, 6, 50, 11, 56, 26, 50, 32, 26, 56, 56, 11, 50, 14, 56, 11, 56, 6, 56, 4, 44, 32, 32, 38, 12, 56, 6, 56, 56, 6, 11, 11, 6, 32, 6, 7, 5, 10, 6, 6, 6, 6, 7, 6, 11, 6, 13, 7, 6, 7, 6, 6, 11, 6, 6, 6, 11, 6, 6, 6, 11, 6, 44, 10], [20, 42, 42, 39, 42, 42, 39, 42, 39, 20, 11, 20, 11, 11, 20, 6, 7, 6, 6, 32, 26, 11, 32, 32, 32, 6, 11, 13, 6, 26, 6, 32, 11, 6, 6, 6, 6, 2, 32, 11, 4, 6, 6, 32, 56, 26, 6, 14, 6, 11, 32, 3, 32, 32, 11, 5, 7, 6, 7, 6, 7, 6, 13, 6, 10, 11, 11, 56, 6, 13, 6, 2, 38, 6, 11, 13, 11, 6, 11, 11, 11, 38, 6, 11, 6, 26, 14, 56, 38, 6, 32, 2, 6, 11, 50, 11, 11, 32, 32, 11, 32, 11, 11, 11, 32, 6, 7, 6, 32, 4, 6, 38, 11, 11, 6, 6, 6, 13, 11, 14, 6, 6, 6, 6, 11, 10, 6, 6, 11, 6, 11, 6, 2, 11, 11, 10, 6, 11, 6, 56], [10, 26, 20, 32, 39, 32, 42, 42, 42, 42, 42, 11, 44, 11, 6, 7, 6, 7, 6, 11, 6, 6, 32, 6, 50, 26, 13, 14, 6, 44, 6, 11, 32, 6, 3, 11, 32, 6, 32, 6, 6, 14, 26, 11, 32, 32, 32, 6, 32, 11, 6, 6, 32, 11, 11, 44, 6, 7, 7, 11, 11, 32, 26, 11, 11, 6, 11, 11, 13, 6, 6, 6, 11, 11, 11, 6, 6, 32, 6, 2, 6, 11, 11, 6, 12, 56, 7, 6, 50, 12, 6, 14, 11, 6, 11, 11, 6, 7, 2, 6, 11, 3, 6, 6, 6, 4, 6, 2, 6, 6, 44, 12, 13, 7, 11, 50, 6, 32, 11, 11, 32, 6, 32, 11, 38, 6, 6, 6, 56, 50, 11, 11, 4, 6, 26, 6, 14, 11, 56, 56, 6, 56, 56, 4, 6, 56, 56, 32, 6, 7, 6, 6, 6, 7, 6, 6, 4], [20, 26, 20, 26, 53, 26, 44, 26, 32, 32, 32, 32, 32, 26, 32, 32, 32, 32, 32, 32, 26, 32, 26, 3, 32, 32, 26, 32, 4, 13, 32, 26, 32, 32, 32, 32, 32, 56, 26, 56, 38, 11, 11, 11, 26, 38, 13, 6, 32, 2, 11, 11, 11, 11, 11, 11, 6, 7, 6, 2, 11, 3, 3, 11, 6, 11, 4, 38, 13, 6, 6, 6, 6, 11, 12, 0, 6, 6, 56, 11, 6, 6, 4, 50, 26, 26, 13, 50, 7, 13, 11, 14, 56, 6, 6, 2, 11, 38, 6, 6, 56, 6, 32, 10, 11, 32, 11, 32, 11, 6, 7, 6, 11, 6, 6, 6, 6, 11, 5, 11, 38, 13], [51, 20, 42, 6, 42, 42, 39, 23, 39, 42, 20, 6, 20, 6, 7, 6, 11, 6, 6, 11, 32, 3, 11, 6, 44, 13, 6, 32, 13, 7, 38, 32, 6, 32, 32, 32, 32, 6, 9, 3, 32, 6, 50, 26, 6, 4, 6, 14, 38, 6, 11, 6, 6, 6, 14, 6, 7, 32, 11, 11, 32, 38, 2, 11, 14, 11, 2, 13, 6, 6, 11, 11, 6, 6, 32, 32, 11, 6, 4, 6, 6, 44, 6, 14, 6, 6, 11, 14, 10, 11, 2, 6, 32, 6, 11, 11, 7, 6, 6, 6, 2, 50, 32, 6, 6, 11, 6, 13, 7, 6, 32, 11, 6, 6, 11, 11, 6, 6, 10, 11, 3, 6, 6, 14, 56, 56, 56, 32, 56, 6, 6, 6, 11, 6, 32, 6, 6, 6, 56, 11, 2, 10, 6, 7, 11, 38, 11, 13, 11, 6, 6, 11, 32, 6, 6, 4, 13, 14, 7, 14, 7, 4, 11, 6, 9, 4, 13, 6, 6, 11, 6, 10, 11, 26, 11, 6, 6, 56, 7, 11, 11, 14, 11, 11, 56, 11], [26, 20, 42, 50, 42, 39, 11, 42, 39, 31, 20, 6, 6, 6, 7, 10, 6, 32, 6, 6, 6, 6, 6, 11, 6, 13, 14, 6, 32, 6, 6, 26, 6, 32, 11, 8, 6, 11, 6, 6, 10, 50, 56, 50, 26, 11, 56, 50, 11, 6, 14, 38, 6, 7, 6, 6, 7, 11, 11, 6, 6, 11, 2, 11, 11, 6, 11, 13, 14, 6, 6, 7, 11, 13, 11, 11, 6, 6, 6, 10, 6, 6, 56, 14, 11, 6, 2, 11, 11, 11, 6, 32, 10, 56, 3, 56, 14, 6, 11, 11, 7, 4, 6, 6, 56, 38, 4, 6, 6, 11, 6, 6, 13, 7, 7, 11, 7, 11, 7, 11, 6, 6, 13, 56, 6, 6, 6, 6, 6, 10, 5, 6, 6, 26, 44, 11, 11, 6, 56, 14, 32, 11, 14, 56, 6, 6, 7, 4, 44, 6, 10, 9, 6, 6, 6, 6, 2, 56, 6, 13, 7, 7, 7, 6, 6, 2, 6, 12, 6, 6, 6, 32, 6, 6, 6, 6, 50, 11, 50, 0, 32, 26, 14, 6, 56, 13, 14, 56, 6, 56, 38, 56, 14, 6, 12, 7, 3, 11, 2, 2, 4, 13, 6, 32, 6, 6, 13, 14, 14, 6, 6, 6], [20, 39, 39, 23, 42, 39, 39, 39, 39, 3, 6, 6, 7, 6, 6, 3, 7, 6, 6, 26, 32, 6, 11, 13, 6, 44, 11, 6, 32, 6, 7, 6, 11, 6, 32, 11, 11, 7, 32, 26, 6, 6, 38, 56, 14, 6, 38, 6, 32, 10, 32, 32, 38, 6, 7, 11, 32, 5, 6, 9, 6, 11, 11, 11, 11, 13, 6, 6, 6, 10, 6, 6, 14, 6, 11, 6, 14, 6, 6, 4, 50, 26, 26, 56, 11, 44, 11, 26, 13, 11, 6, 14, 11, 6, 6, 3, 6, 11, 4, 6, 7, 11, 56, 3, 6, 11, 6, 7, 6, 6, 2, 13, 6, 6, 11, 4, 11, 11, 13, 11, 11, 6], [32, 20, 44, 11, 26, 20, 11, 20, 51, 20, 32, 36, 26, 6, 38, 32, 50, 3, 2, 11, 3, 32, 20, 32, 11, 6, 7, 8, 32, 32, 50, 32, 32, 32, 44, 11, 11, 13, 14, 6, 26, 6, 11, 10, 11, 11, 6, 11, 11, 6, 11, 11, 3, 6, 11, 6, 56, 50, 26, 6, 6, 6, 6, 14, 6, 38, 13, 2, 11, 11, 11, 26, 6, 7, 10, 11, 10, 6, 11, 6, 11, 6, 14, 11, 13, 11, 14, 11, 6, 6, 6, 10, 4, 11, 6, 6, 6, 10, 11, 56, 4, 6, 6, 32, 11, 14, 44, 11, 11, 6, 56, 44, 32, 3, 56, 11, 38, 4, 6, 10, 11, 11, 56, 6, 11, 6, 7, 6, 11, 4, 6, 38, 11, 13, 11, 7, 11, 13, 44, 14, 14, 11, 6, 4, 13, 56, 6, 11, 11, 32, 13, 6, 6, 6, 44, 11, 6, 14, 56, 3, 32, 14, 11, 11, 56, 4], [20, 39, 42, 39, 22, 42, 42, 42, 42, 23, 38, 11, 32, 6, 14, 7, 11, 14, 6, 32, 6, 32, 6, 6, 32, 32, 13, 14, 14, 6, 6, 10, 32, 11, 3, 6, 6, 11, 32, 11, 11, 6, 6, 50, 56, 24, 10, 6, 56, 56, 56, 26, 32, 44, 6, 14, 11, 38, 11, 44, 11, 11, 6, 11, 32, 13, 13, 6, 7, 11, 32, 32, 6, 32, 11, 4, 7, 11, 32, 56, 13, 14, 7, 6, 6, 56, 11, 11, 6, 6, 6, 7, 6, 6, 6, 38, 11, 11, 10, 11, 3, 6, 26, 14, 56, 11, 44, 32, 56, 3, 13, 11, 6, 11, 56, 11, 14, 4, 6, 7, 6, 6, 44, 6, 11, 6, 4, 13, 6, 11, 13, 6, 6, 10, 10, 6, 6, 6, 6, 6], [32, 20, 39, 42, 42, 42, 42, 39, 42, 42, 6, 6, 6, 7, 7, 11, 6, 10, 32, 32, 32, 6, 6, 6, 38, 13, 6, 44, 13, 32, 11, 14, 11, 11, 13, 6, 6, 4, 6, 38, 11, 6, 14, 32, 32, 56, 6, 32, 32, 32, 11, 11, 11, 12, 6, 7, 11, 6, 11, 44, 4, 11, 11, 6, 6, 38, 13, 6, 4, 10, 38, 32, 10, 11, 32, 6, 6, 6, 6, 10, 11, 6, 11, 32, 50, 13, 56, 6, 14, 32, 7, 6, 11, 38, 10, 56, 32, 44, 11, 6, 7, 6, 11, 6, 38, 6, 6, 6, 11, 11, 6, 13, 14, 6, 6, 13, 6, 6, 11, 6, 11, 11, 11, 6, 6, 56, 6, 14, 32, 56, 56], [26, 32, 3, 11, 11, 32, 26, 20, 42, 42, 11, 32, 26, 3, 11, 32, 11, 42, 6, 7, 6, 11, 6, 32, 7, 6, 6, 11, 32, 32, 38, 6, 13, 6, 32, 32, 6, 6, 3, 7, 32, 6, 11, 13, 11, 11, 6, 6, 56, 26, 56, 14, 32, 44, 38, 32, 32, 56, 32, 11, 11, 6, 8, 7, 38, 11, 32, 6, 11, 13, 11, 11, 11, 13, 13, 6, 6, 6, 11, 50, 6, 6, 11, 11, 6, 6, 6, 11, 3, 11, 11, 6, 56, 7, 4, 14, 6, 11, 11, 32, 11, 6, 56, 11, 6, 7, 11, 7, 11, 11, 11, 6, 6, 56, 6, 6, 13, 6, 6, 6, 32, 6, 2, 6, 56, 6, 11, 11, 6, 11, 6, 50, 14, 13, 38, 11, 6, 6, 32, 32, 38, 4, 10, 14, 56, 38, 56, 11, 11, 6, 7, 6, 6, 6, 4, 32, 11, 6], [44, 26, 26, 20, 20, 32, 20, 20, 26, 20, 32, 32, 56, 26, 11, 32, 6, 6, 20, 32, 5, 32, 32, 32, 26, 6, 7, 32, 11, 32, 6, 9, 6, 11, 32, 32, 32, 32, 13, 6, 32, 32, 6, 32, 26, 11, 11, 6, 6, 11, 6, 11, 6, 14, 32, 56, 32, 56, 32, 32, 32, 11, 26, 26, 11, 4, 4, 32, 4, 12, 4, 56, 11, 0, 11, 11, 6, 7, 7, 6, 11, 14, 13, 6, 4, 11, 11, 6, 6, 6, 6, 13, 6, 6, 6, 6, 6, 10, 11, 11, 6, 6, 11, 6, 6, 56, 14, 56, 56, 56, 32, 11, 11, 11, 6, 11, 32, 6, 44, 32, 32, 38, 38, 56, 44, 56, 32, 11, 32, 6, 6, 56, 11, 56, 6, 7, 6, 11, 4, 13, 6, 6, 11, 6, 6, 11, 13, 7, 11, 7, 6, 6, 10, 6, 6, 6, 6], [20, 42, 42, 42, 42, 39, 42, 39, 39, 42, 20, 6, 7, 20, 6, 6, 6, 11, 6, 26, 32, 38, 6, 9, 12, 11, 10, 13, 50, 6, 6, 6, 6, 12, 10, 7, 6, 38, 6, 11, 11, 6, 11, 6, 56, 6, 56, 14, 56, 11, 6, 32, 56, 38, 32, 32, 32, 44, 32, 6, 11, 6, 11, 11, 32, 6, 7, 3, 6, 6, 38, 6, 13, 6, 9, 6, 6, 13, 6, 6, 11, 6, 11, 6, 6, 2, 3, 6, 6, 11, 6, 6, 26, 3, 7, 14, 11, 11, 11, 11, 3, 32, 6, 11, 11, 4, 6, 7, 11, 11, 6, 6, 6, 14, 6, 6, 7, 13, 6, 32, 13, 44, 14, 11, 11, 6, 6, 6, 11, 6, 6, 6, 10, 6, 6, 11, 11, 11, 6, 6, 56, 14, 11, 32, 13, 11, 56, 11, 6], [26, 26, 26, 26, 32, 32, 26, 32, 26, 20, 26, 6, 11, 32, 42, 20, 6, 11, 11, 32, 11, 6, 7, 9, 6, 6, 32, 6, 32, 32, 32, 9, 11, 13, 6, 11, 38, 32, 11, 44, 56, 6, 6, 44, 6, 7, 11, 13, 3, 9, 11, 11, 11, 11, 44, 2, 3, 32, 11, 11, 8, 9, 6, 11, 6, 56, 14, 6, 11, 6, 11, 11, 6, 11, 4, 44, 11, 6, 7, 6, 7, 7, 6, 6, 6, 11, 3, 11, 11, 13, 11, 6, 2, 38, 6, 6, 44, 6, 26, 6, 6, 10, 13, 14, 11, 6, 6, 56, 14, 11, 32, 6, 6, 12, 6, 6, 11, 14, 11, 6, 11, 7, 6, 6, 11, 11, 11, 11, 32, 6, 11, 6, 13, 6, 11, 4, 6, 11, 6, 6, 2, 6, 14, 6, 6, 11, 6, 14, 26, 56, 11, 32, 11, 11, 44, 6, 44], [20, 53, 42, 39, 32, 15, 42, 42, 26, 42, 44, 11, 32, 38, 44, 20, 14, 7, 11, 26, 32, 32, 11, 32, 32, 11, 11, 32, 6, 7, 32, 39, 32, 32, 32, 32, 6, 6, 11, 6, 13, 11, 14, 6, 6, 11, 7, 4, 6, 6, 11, 6, 11, 8, 10, 6, 6, 26, 50, 26, 6, 11, 6, 14, 11, 11, 56, 12, 11, 38, 1, 11, 32, 11, 11, 6, 7, 13, 6, 6, 11, 11, 6, 6, 6, 6, 6, 6, 13, 6, 13, 6, 6, 11, 6, 32, 6, 6, 6, 6, 6, 6, 56, 11, 26, 44, 50, 14, 11, 6, 6, 11, 6, 38, 44, 2, 32, 38, 11, 11, 6, 7, 6, 6, 6, 6, 9, 2, 32, 6, 6, 6, 6, 13, 14, 7, 7, 7, 11, 7, 6, 13, 13, 4, 11, 6, 6, 6, 11, 4, 11, 6, 9], [26, 20, 32, 42, 42, 42, 42, 42, 11, 42, 20, 32, 32, 20, 42, 42, 32, 44, 6, 7, 32, 6, 6, 11, 6, 38, 6, 50, 32, 11, 13, 6, 13, 32, 13, 26, 32, 38, 4, 11, 6, 8, 6, 6, 32, 11, 56, 14, 11, 42, 12, 32, 32, 5, 32, 11, 11, 11, 7, 11, 11, 6, 7, 50, 6, 11, 11, 14, 6, 50, 11, 7, 11, 6, 13, 6, 6, 6, 44, 6, 38, 11, 6, 11, 11, 11, 6, 6, 26, 14, 6, 6, 56, 32, 6, 11, 13, 0, 6, 6, 11, 7, 14, 10, 6, 6, 10, 12, 6, 6, 6, 6, 11, 13, 14, 6, 11, 32, 11, 6, 6, 11, 4, 11, 11, 7, 6, 6, 6, 32, 14, 11, 56, 11, 6, 6, 11, 13, 56, 6, 32, 38, 6, 7, 11, 6, 6, 11, 6, 6, 56, 11, 6, 11, 13, 14, 14, 3, 7, 50, 14, 7, 14, 6, 6], [32, 20, 39, 39, 42, 9, 32, 1, 53, 42, 32, 12, 6, 7, 32, 6, 6, 7, 6, 6, 11, 6, 32, 6, 32, 13, 14, 6, 32, 6, 32, 11, 10, 32, 32, 32, 7, 11, 6, 6, 14, 32, 32, 11, 32, 32, 11, 6, 7, 26, 32, 32, 6, 11, 7, 11, 11, 6, 32, 11, 11, 3, 6, 13, 6, 13, 6, 7, 6, 6, 11, 6, 11, 6, 6, 11, 11, 5, 6, 10, 14, 14, 56, 2, 6, 13, 56, 7, 14, 11, 38, 6, 5, 6, 11, 11, 11, 11, 4, 6, 7, 2, 11, 11, 11, 11, 2, 6, 6, 38, 11, 13, 6, 11, 6, 10, 50, 6, 4, 4, 6, 32, 6, 2, 6, 6, 50, 50, 14, 56, 4, 11, 11, 44, 6, 56, 6, 56, 7, 56, 32, 11, 4, 11, 56, 6, 7, 6, 2, 32, 32, 11, 12, 32, 11, 6, 11, 11, 11, 13, 11, 14, 6, 10, 6, 11, 14, 6, 4, 11, 6, 38, 56, 6, 44, 6, 26, 32, 14, 56, 11, 4, 6, 56], [20, 20, 38, 20, 32, 20, 32, 20, 26, 26, 26, 32, 32, 32, 32, 32, 32, 32, 32, 32, 32, 32, 38, 32, 11, 26, 32, 38, 32, 3, 11, 7, 14, 6, 7, 32, 6, 32, 3, 44, 3, 32, 38, 56, 13, 13, 14, 11, 11, 4, 7, 6, 6, 11, 32, 38, 11, 50, 6, 6, 11, 32, 6, 6, 4, 26, 14, 38, 3, 32, 13, 11, 8, 10, 11, 38, 32, 6, 7, 6, 6, 6, 13, 11, 6, 6, 6, 56, 11, 13, 6, 6, 20, 6, 6, 6, 6, 11, 32, 6, 6, 11, 6, 6, 56, 6, 14, 32, 32, 6, 6, 3, 6, 2, 6, 38, 11, 6, 7, 3, 6, 2, 6, 6, 0, 11, 11, 6, 12, 13, 11, 6, 44, 6, 11, 11, 6, 6, 6, 11, 6, 11, 6, 6, 14, 38, 6, 6, 11, 11, 13, 38, 2, 38, 50, 56, 6, 7, 6, 4, 2, 6, 11, 6, 10, 11], [26, 32, 32, 26, 20, 42, 23, 11, 11, 11, 32, 26, 44, 6, 26, 47, 12, 6, 7, 6, 11, 32, 26, 6, 32, 11, 44, 56, 7, 32, 32, 13, 14, 11, 14, 6, 7, 6, 6, 11, 11, 11, 11, 11, 11, 6, 11, 2, 6, 11, 11, 7, 6, 56, 44, 56, 14, 6, 3, 13, 11, 11, 8, 7, 6, 11, 10, 11, 11, 10, 13, 38, 11, 11, 6, 7, 11, 7, 3, 11, 2, 9, 2, 6, 6, 44, 13, 6, 11, 56, 11, 6, 11, 6, 6, 6, 6, 6, 6, 6, 56, 6, 11, 14, 14, 11, 11, 13, 3, 6, 11, 2, 4, 38, 11, 6, 7, 38, 6, 13, 7, 6, 6, 13, 14, 6, 11, 13, 5, 6, 56, 4, 6, 11, 6, 6, 6, 32, 11, 11, 6, 2, 10, 6, 44, 14, 56, 32, 3, 6, 6, 11, 2, 44, 6, 6, 7, 4, 11, 11, 6, 6, 4, 6, 6, 5], [32, 20, 42, 26, 39, 39, 50, 27, 25, 11, 6, 11, 6, 6, 7, 5, 6, 6, 6, 32, 10, 11, 26, 32, 11, 32, 13, 6, 38, 3, 11, 32, 6, 6, 11, 10, 12, 11, 11, 6, 6, 50, 26, 50, 56, 56, 50, 50, 56, 32, 38, 6, 6, 6, 6, 56, 14, 11, 14, 11, 11, 32, 6, 7, 6, 38, 14, 6, 6, 6, 6, 11, 3, 6, 13, 7, 11, 6, 13, 6, 11, 11, 6, 4, 11, 11, 6, 38, 6, 11, 6, 26, 6, 56, 50, 56, 32, 11, 11, 6, 11, 6, 6, 6, 50, 14, 32, 11, 6, 7, 10, 6, 11, 6, 11, 11, 56, 6, 56, 6, 44, 13, 4, 6, 6, 6, 6, 6, 9, 6, 6, 6, 6, 2, 6, 32, 6, 4, 26, 56, 7, 6, 50, 6, 11, 14, 11, 11, 6, 8, 32, 6, 7, 2, 11, 6, 6, 32, 6, 11, 6, 11, 26, 13, 7, 6, 11, 11, 6, 6, 6, 6, 6, 6, 6, 32, 11, 6, 2, 6, 2, 11, 14, 56], [26, 32, 32, 47, 26, 26, 32, 26, 20, 9, 6, 11, 3, 11, 32, 6, 6, 11, 7, 32, 11, 6, 7, 32, 0, 4, 32, 56, 13, 7, 50, 6, 6, 38, 11, 13, 11, 14, 14, 11, 6, 11, 44, 38, 11, 11, 6, 11, 26, 11, 11, 44, 11, 6, 11, 11, 4, 11, 12, 11, 3, 6, 32, 14, 6, 2, 11, 6, 32, 56, 10, 6, 3, 6, 7, 10, 6, 11, 8, 11, 11, 11, 6, 11, 32, 6, 13, 13, 6, 11, 11, 11, 6, 32, 6, 50, 6, 6, 6, 6, 50, 11, 11, 11, 11, 2, 6, 56, 26, 32, 44, 56, 32, 50, 44, 0, 12, 0, 7, 7, 6, 56, 7, 4, 26, 11, 56, 6, 44, 6, 25, 6, 6, 6, 9, 14, 11, 7, 6, 6, 11, 32, 56, 38, 10, 6, 10, 6, 13, 11, 7, 6, 10, 11, 6, 11, 6, 14, 4, 6, 11, 6, 6, 13, 11, 11, 2, 6, 50, 6, 14], [20, 23, 39, 11, 39, 42, 39, 39, 26, 39, 32, 6, 7, 7, 6, 6, 6, 6, 32, 11, 32, 32, 6, 32, 13, 6, 11, 11, 32, 3, 3, 6, 6, 11, 3, 11, 6, 11, 6, 50, 14, 26, 32, 26, 38, 32, 32, 11, 38, 7, 38, 32, 6, 6, 11, 11, 7, 11, 6, 11, 11, 56, 6, 6, 11, 11, 6, 32, 44, 13, 6, 2, 4, 11, 32, 38, 32, 6, 6, 6, 32, 7, 11, 6, 6, 50, 7, 14, 56, 11, 32, 6, 56, 6, 6, 38, 6, 7, 6, 11, 13, 4, 6, 11, 11, 10, 13, 6, 38, 13, 11, 6, 6, 11, 6, 14, 6, 38, 6, 11, 11, 32, 6, 6, 14, 38, 3, 11, 11, 11, 11, 7, 8, 6, 50, 6, 6, 7, 9, 6, 11, 11, 6, 11, 6, 6, 6, 13], [20, 41, 39, 11, 42, 42, 42, 32, 39, 23, 7, 20, 6, 7, 6, 8, 6, 20, 11, 6, 11, 6, 32, 32, 13, 6, 32, 6, 32, 14, 11, 7, 6, 6, 7, 26, 6, 6, 11, 34, 50, 7, 56, 44, 50, 14, 32, 6, 32, 6, 44, 10, 11, 56, 32, 3, 26, 6, 32, 7, 11, 32, 11, 6, 6, 11, 32, 11, 6, 6, 13, 6, 6, 11, 11, 32, 4, 32, 11, 6, 11, 32, 6, 6, 50, 14, 11, 4, 44, 11, 11, 6, 56, 11, 50, 6, 7, 6, 6, 6, 11, 11, 10, 32, 11, 6, 7, 32, 6, 6, 4, 13, 14, 6, 11, 6, 11, 11, 11, 6, 6, 11, 6, 6, 6, 6, 56, 50, 50, 12, 14, 6, 32, 11, 50, 38, 11, 6, 9, 11, 11, 6, 7, 6, 11, 32, 6, 6, 6, 6, 56, 6, 6, 13, 6, 11, 8, 6, 11, 9, 6, 56, 6, 13, 6, 6, 6, 56, 6, 6, 11, 6, 10, 56, 14], [20, 26, 32, 11, 47, 39, 42, 39, 39, 24, 32, 7, 20, 6, 7, 6, 32, 6, 6, 26, 32, 11, 50, 32, 7, 32, 32, 13, 4, 6, 6, 11, 32, 32, 6, 7, 38, 32, 11, 11, 32, 11, 32, 32, 7, 6, 6, 9, 50, 14, 11, 32, 32, 32, 56, 44, 56, 56, 56, 56, 56, 32, 56, 56, 56, 56, 56, 56, 56, 56, 56, 56, 56, 56, 6, 11, 32, 11, 6, 11, 9, 11, 56, 11, 6, 7, 6, 6, 6, 6, 6, 6, 6, 6, 6, 13, 13, 6, 13, 11, 26, 11, 11, 6, 6, 11, 4, 6, 44, 6, 6, 56, 56, 50, 50, 6, 50, 14, 32, 50, 56, 56, 13, 32, 11, 56, 44, 6, 11, 11, 11, 4, 6, 11, 11, 56, 3, 11, 12, 56, 6, 7, 2, 6, 44, 6, 7, 11, 6, 11, 11, 6, 6, 13, 6, 11, 11], [32, 32, 20, 39, 11, 32, 42, 42, 39, 24, 20, 20, 11, 38, 6, 7, 20, 6, 6, 11, 32, 32, 32, 6, 32, 32, 13, 11, 6, 32, 32, 6, 32, 44, 6, 32, 11, 6, 32, 6, 32, 6, 56, 44, 56, 50, 56, 32, 6, 14, 11, 32, 32, 32, 11, 26, 11, 32, 44, 32, 3, 11, 11, 11, 11, 6, 7, 6, 11, 6, 6, 6, 32, 12, 6, 11, 11, 13, 50, 14, 6, 6, 6, 6, 6, 6, 44, 6, 6, 6, 32, 6, 6, 50, 6, 7, 14, 6, 6, 11, 38, 11, 11, 6, 6, 11, 7, 11, 6, 6, 6, 6, 6, 3, 11, 6, 11, 13, 7, 6, 11, 6], [56, 26, 20, 39, 27, 49, 42, 32, 39, 42, 32, 20, 11, 6, 7, 11, 6, 20, 2, 2, 32, 32, 50, 32, 6, 13, 6, 44, 32, 9, 32, 3, 11, 32, 6, 9, 11, 6, 38, 38, 6, 11, 26, 50, 44, 56, 13, 14, 32, 32, 56, 11, 56, 56, 32, 56, 56, 32, 32, 32, 56, 56, 32, 56, 11, 32, 11, 56, 32, 7, 11, 44, 11, 10, 32, 11, 10, 11, 11, 11, 7, 6, 7, 6, 6, 6, 11, 11, 6, 11, 7, 10, 3, 13, 6, 11, 11, 9, 6, 11, 11, 6, 6, 10, 6, 11, 6, 4, 6, 50, 56, 6, 6, 11, 5, 7, 56, 11, 14, 11, 6, 7, 6, 44, 10, 14, 6, 32, 11, 6, 6, 12, 13, 7, 6, 6, 6, 11, 2, 6, 11, 6, 6, 6, 6, 11, 6, 11, 4, 7, 6, 32, 50, 14, 6, 32, 6], [20, 20, 42, 42, 20, 26, 32, 42, 47, 24, 9, 32, 6, 7, 7, 6, 6, 2, 11, 6, 11, 44, 56, 6, 3, 13, 6, 32, 6, 32, 6, 32, 6, 11, 6, 32, 6, 6, 6, 56, 15, 44, 6, 12, 11, 56, 50, 14, 32, 38, 32, 11, 32, 6, 6, 11, 11, 11, 32, 26, 32, 6, 7, 11, 13, 6, 14, 44, 13, 0, 32, 6, 4, 38, 13, 11, 5, 7, 6, 6, 11, 11, 6, 10, 6, 11, 6, 6, 11, 13, 6, 11, 6, 5, 14, 26, 11, 6, 56, 32, 7, 32, 11, 11, 7, 13, 14, 11, 6, 32, 13, 6, 3, 7, 14, 11, 9, 6, 11, 4, 6, 6, 11, 11, 32, 11, 56, 13, 4, 6, 6, 56, 6, 32, 6, 56, 6, 6, 3, 6, 4, 6, 56, 6, 6, 50, 26, 11, 32, 14, 32, 3, 11], [20, 32, 11, 39, 24, 39, 42, 42, 39, 32, 11, 42, 6, 7, 11, 11, 6, 6, 6, 6, 26, 6, 32, 11, 13, 6, 11, 14, 6, 6, 32, 11, 11, 6, 11, 6, 6, 13, 6, 4, 11, 13, 56, 50, 26, 7, 4, 11, 7, 2, 50, 14, 26, 8, 32, 6, 7, 11, 13, 6, 6, 4, 11, 11, 6, 11, 11, 32, 13, 6, 11, 6, 6, 32, 13, 6, 4, 6, 6, 2, 11, 6, 10, 6, 56, 11, 14, 56, 44, 10, 11, 26, 6, 0, 11, 50, 32, 11, 2, 32, 13, 6, 7, 50, 10, 4, 6, 4, 32, 6, 11, 6, 6, 56, 13, 5, 11, 7, 11, 9, 6, 14, 44, 6, 38, 11, 13, 9, 4, 6, 13, 11, 11, 6, 6, 56, 14, 56, 56, 11, 11, 50, 56, 56, 11, 4, 6, 13, 56], [26, 20, 32, 32, 32, 32, 26, 20, 26, 20, 26, 32, 11, 26, 6, 32, 32, 26, 26, 11, 32, 32, 6, 11, 32, 38, 0, 32, 13, 32, 26, 32, 32, 56, 32, 32, 6, 7, 26, 32, 11, 32, 6, 8, 6, 32, 11, 38, 13, 6, 6, 13, 6, 11, 38, 6, 6, 6, 11, 6, 11, 6, 13, 4, 11, 38, 11, 6, 26, 50, 11, 13, 32, 11, 6, 14, 7, 4, 50, 4, 32, 7, 38, 6, 7, 7, 6, 11, 6, 11, 38, 56, 6, 6, 38, 13, 14, 11, 7, 7, 11, 7, 6, 11, 11, 11, 6, 11, 6, 11, 14, 6, 6, 11, 6, 2, 12, 11, 6, 50, 50, 50, 32, 4, 14, 3, 42, 6, 11, 11, 44, 32, 2, 6, 7, 38, 6, 13, 6, 6, 6, 6, 6, 6, 11, 13, 14, 6, 44, 0, 6, 6, 11, 32, 6, 11, 6, 32, 2, 6, 6, 50, 56, 3, 13, 50, 56, 11, 26, 6, 5, 44, 4, 11, 14, 50, 56, 26, 20, 11, 6, 32, 56, 11], [20, 20, 26, 26, 11, 20, 26, 20, 20, 20, 32, 32, 32, 26, 32, 20, 32, 32, 32, 32, 56, 38, 32, 26, 32, 26, 44, 44, 38, 32, 26, 26, 32, 26, 50, 32, 32, 2, 56, 44, 13, 32, 11, 11, 12, 32, 13, 11, 7, 11, 11, 11, 11, 32, 11, 11, 3, 11, 44, 32, 38, 11, 56, 32, 11, 6, 7, 11, 6, 11, 6, 6, 4, 6, 10, 6, 56, 6, 4, 13, 6, 6, 6, 6, 32, 6, 6, 6, 11, 6, 6, 6, 11, 6, 50, 32, 14, 12, 11, 6, 38, 50, 50, 6, 6, 6, 32, 11, 11, 26, 56, 11, 6, 7, 6, 32, 6, 56, 6, 6, 6, 11, 38, 11, 13, 6, 6, 11, 8, 38, 6, 6, 6, 32, 11, 9, 6, 6, 26], [32, 26, 20, 26, 45, 39, 42, 53, 42, 44, 20, 6, 26, 56, 32, 20, 6, 7, 6, 6, 6, 13, 32, 32, 6, 32, 6, 6, 32, 32, 32, 32, 13, 12, 11, 6, 26, 6, 6, 6, 6, 6, 11, 11, 11, 6, 6, 11, 6, 56, 56, 14, 32, 32, 38, 0, 6, 32, 6, 6, 11, 3, 2, 6, 7, 11, 11, 6, 7, 4, 11, 6, 11, 11, 6, 13, 7, 11, 6, 11, 11, 6, 6, 2, 6, 6, 6, 2, 6, 6, 32, 3, 6, 11, 56, 6, 9, 56, 32, 11, 56, 14, 32, 11, 11, 6, 11, 56, 32, 6, 7, 6, 11, 11, 6, 6, 6, 11, 4, 6, 56, 6, 6, 6, 11, 32, 2, 11, 11, 56, 11, 6, 7, 2, 6, 6, 6, 8, 11, 11, 6, 6, 56, 6, 38, 13, 6, 6, 2, 6, 6, 6, 13, 6, 6, 11, 11, 3, 6, 11, 6, 14, 32, 6, 6, 11], [38, 32, 20, 20, 20, 32, 32, 38, 12, 38, 32, 32, 26, 6, 11, 6, 6, 11, 20, 6, 26, 32, 11, 32, 32, 11, 11, 6, 7, 32, 50, 4, 6, 11, 32, 38, 7, 11, 11, 3, 10, 13, 7, 6, 14, 3, 6, 7, 11, 44, 6, 32, 6, 11, 7, 6, 10, 6, 56, 56, 56, 14, 11, 13, 56, 10, 44, 2, 13, 6, 6, 6, 11, 11, 11, 11, 6, 7, 3, 11, 6, 11, 6, 2, 13, 5, 6, 11, 56, 13, 11, 6, 13, 9, 11, 44, 56, 6, 6, 6, 2, 6, 6, 56, 4, 6, 14, 56, 11, 11, 6, 6, 6, 4, 11, 10, 11, 11, 38, 11, 11, 11, 38, 6, 7, 6, 6, 14, 3], [32, 20, 42, 39, 39, 42, 24, 24, 32, 11, 11, 6, 6, 7, 6, 6, 6, 8, 32, 11, 56, 32, 26, 11, 13, 14, 7, 6, 11, 32, 8, 6, 11, 14, 32, 6, 53, 7, 6, 11, 11, 6, 44, 50, 14, 32, 32, 50, 11, 32, 11, 38, 11, 32, 5, 6, 11, 14, 4, 11, 6, 7, 14, 11, 6, 6, 11, 11, 11, 6, 6, 6, 13, 7, 14, 9, 6, 11, 6, 6, 56, 6, 10, 6, 4, 32, 6, 6, 11, 6, 56, 7, 11, 56, 5, 50, 26, 6, 14, 6, 6, 13, 11, 6, 11, 11, 11, 6, 7, 10, 6, 6, 6, 11, 11, 44, 4, 11, 4, 13, 7, 14, 6, 11, 6, 6, 6, 6, 2, 13, 6, 32, 6, 6, 6, 26, 26, 11, 11, 4], [20, 42, 39, 38, 42, 42, 42, 47, 11, 39, 6, 7, 6, 7, 6, 32, 6, 6, 2, 8, 32, 26, 11, 7, 38, 13, 6, 26, 32, 44, 32, 32, 32, 26, 11, 6, 32, 6, 6, 11, 50, 14, 26, 6, 32, 11, 26, 11, 53, 11, 32, 2, 32, 26, 7, 6, 7, 6, 32, 7, 4, 11, 6, 3, 14, 0, 6, 13, 7, 11, 7, 7, 11, 11, 11, 6, 6, 6, 6, 6, 38, 11, 11, 11, 6, 6, 2, 6, 6, 11, 11, 50, 56, 11, 7, 50, 26, 7, 14, 6, 5, 32, 11, 56, 4, 11, 6, 7, 11, 11, 8, 6, 6, 11, 6, 6, 6, 11, 13, 11, 6, 6, 13, 4, 6, 11, 6, 6, 6, 11, 8, 6, 6, 44, 26, 56, 0, 14, 32, 11, 10, 11, 6, 10, 6, 12, 6, 7, 6, 6, 6, 11, 11, 6, 6, 6, 12], [32, 32, 20, 20, 0, 38, 32, 20, 32, 26, 32, 32, 3, 32, 26, 32, 32, 26, 6, 32, 26, 0, 32, 26, 11, 6, 11, 6, 11, 32, 32, 32, 32, 32, 32, 11, 11, 3, 32, 11, 32, 11, 6, 11, 7, 6, 6, 32, 6, 6, 56, 6, 6, 11, 10, 13, 14, 6, 38, 6, 12, 10, 6, 6, 11, 6, 11, 6, 11, 6, 11, 6, 56, 6, 14, 32, 14, 11, 6, 11, 11, 56, 32, 11, 11, 13, 6, 7, 6, 6, 6, 26, 10, 6, 7, 32, 50, 6, 13, 6, 6, 4, 2, 32, 6, 6, 6, 10, 6, 6, 6, 4, 2, 6, 56, 50, 13, 50, 32, 32, 14, 6, 11, 14, 56, 6, 14, 32, 32, 6, 7, 6, 11, 6, 11, 11, 6, 6, 11, 6], [20, 42, 27, 11, 27, 42, 42, 39, 39, 38, 11, 11, 11, 32, 42, 6, 7, 32, 6, 32, 32, 6, 6, 6, 32, 11, 11, 13, 14, 7, 11, 7, 11, 7, 6, 32, 5, 38, 6, 7, 11, 11, 11, 38, 11, 6, 11, 11, 6, 33, 4, 14, 32, 32, 32, 11, 6, 32, 55, 32, 11, 3, 6, 26, 6, 38, 7, 6, 6, 6, 11, 32, 11, 6, 10, 6, 6, 13, 6, 11, 32, 6, 11, 2, 4, 6, 6, 10, 11, 6, 11, 6, 4, 12, 44, 44, 56, 44, 6, 7, 6, 14, 6, 6, 11, 56, 32, 11, 38, 11, 6, 7, 11, 11, 2, 6, 11, 6, 11, 6, 6, 6, 13, 11, 6, 6, 6, 56, 6, 38, 6, 11, 10, 6, 6, 32, 11, 11, 6], [26, 26, 26, 5, 24, 26, 26, 11, 32, 26, 11, 38, 32, 32, 32, 44, 26, 26, 32, 32, 6, 32, 32, 32, 11, 26, 32, 44, 32, 32, 32, 38, 32, 11, 26, 26, 11, 11, 6, 7, 6, 6, 32, 11, 4, 11, 10, 11, 53, 2, 13, 6, 4, 11, 14, 11, 11, 11, 11, 11, 11, 6, 6, 6, 0, 50, 6, 6, 7, 14, 11, 26, 6, 11, 6, 32, 6, 11, 7, 7, 6, 56, 11, 11, 6, 11, 13, 11, 11, 13, 6, 6, 6, 11, 11, 6, 11, 6, 6, 8, 11, 6, 6, 56, 7, 11, 44, 14, 11, 6, 32, 11, 32, 11, 11, 13, 38, 11, 11, 6, 7, 6, 6, 6, 6, 6, 6, 56, 6, 6, 6, 13, 7, 6, 6, 6, 6, 6, 10, 6, 11, 11, 6, 6, 6, 6, 56, 14, 11, 11, 56, 6, 3, 50, 11, 6, 11, 11, 6, 7, 13, 6], [32, 38, 20, 42, 42, 42, 32, 20, 39, 39, 11, 45, 39, 6, 7, 6, 6, 11, 7, 6, 44, 11, 6, 11, 6, 13, 6, 32, 10, 32, 6, 6, 11, 11, 32, 32, 32, 44, 6, 11, 6, 6, 56, 12, 50, 50, 56, 11, 26, 26, 56, 56, 56, 4, 14, 56, 56, 56, 56, 56, 56, 44, 11, 11, 13, 11, 7, 11, 6, 6, 11, 11, 11, 11, 11, 32, 11, 7, 6, 7, 11, 11, 11, 11, 11, 6, 11, 6, 6, 56, 13, 14, 7, 14, 7, 14, 11, 6, 10, 6, 6, 6, 9, 6, 11, 11, 0, 6, 2, 11, 11, 11, 38, 6, 6, 50, 11, 32, 26, 6, 56, 14, 32, 12, 6, 11, 6, 50, 32, 6, 6, 7, 11, 38, 6, 6, 11, 6, 11, 11, 32, 32, 4, 6, 13, 6, 13, 10, 6, 38, 11, 6, 11, 11, 6, 32, 6, 6, 5, 56, 14, 6, 11, 6, 38, 13], [20, 39, 42, 39, 39, 39, 39, 11, 42, 42, 50, 6, 11, 7, 6, 13, 6, 6, 11, 11, 32, 32, 32, 6, 32, 6, 13, 6, 11, 32, 7, 6, 13, 11, 32, 11, 11, 11, 11, 11, 6, 11, 6, 14, 32, 13, 6, 7, 6, 4, 38, 32, 11, 11, 10, 6, 7, 11, 56, 6, 11, 6, 11, 6, 6, 32, 6, 13, 6, 6, 6, 6, 2, 32, 6, 6, 11, 11, 32, 6, 6, 44, 44, 11, 32, 6, 56, 6, 7, 6, 0, 14, 32, 6, 38, 11, 6, 7, 6, 6, 6, 6, 11, 11, 6, 10, 6, 6, 13, 11, 6, 6, 4, 6, 6, 6, 11, 4, 6, 32, 6, 6, 11, 6, 5, 5, 56, 6, 11, 0, 14, 6, 6, 6, 6, 56, 6, 6, 7, 4, 6, 4, 6, 32, 6, 3, 11, 11, 11], [26, 10, 44, 32, 32, 26, 20, 26, 20, 50, 32, 26, 27, 32, 11, 32, 32, 32, 3, 32, 32, 11, 32, 32, 32, 11, 11, 11, 13, 32, 26, 13, 38, 11, 11, 11, 32, 32, 11, 11, 7, 6, 7, 11, 11, 6, 11, 6, 32, 32, 7, 11, 7, 11, 13, 6, 11, 6, 11, 6, 11, 32, 11, 6, 11, 11, 6, 10, 11, 6, 26, 56, 56, 14, 56, 56, 56, 56, 56, 56, 11, 56, 50, 11, 38, 11, 32, 6, 32, 6, 11, 11, 6, 11, 10, 2, 14, 6, 7, 6, 2, 6, 11, 11, 32, 8, 6, 6, 11, 32, 13, 6, 11, 6, 6, 6, 11, 11, 6, 11, 6, 11, 6, 6, 50, 7, 38, 14, 38, 6, 10, 56, 56, 56, 6, 6, 7, 6, 50, 10, 11, 6, 6, 6, 6, 6, 6, 6], [20, 42, 39, 39, 42, 39, 39, 44, 42, 39, 11, 20, 6, 7, 6, 6, 32, 6, 3, 11, 32, 6, 6, 6, 13, 14, 7, 6, 3, 44, 6, 11, 6, 13, 11, 6, 38, 44, 6, 11, 11, 6, 11, 56, 13, 13, 11, 4, 32, 14, 6, 11, 6, 32, 1, 6, 6, 3, 6, 56, 6, 7, 6, 6, 6, 8, 11, 32, 6, 11, 56, 11, 13, 7, 6, 6, 6, 11, 11, 11, 6, 14, 6, 11, 6, 6, 6, 56, 6, 11, 14, 12, 6, 6, 6, 38, 11, 11, 11, 7, 11, 11, 11, 56, 11, 32, 56, 6, 7, 11, 11, 2, 6, 32, 6, 6, 11, 12, 11, 11, 13, 6, 14, 6, 7, 6, 32, 11, 6, 26, 26, 9, 6, 0, 6, 26, 56, 6, 11, 50, 6, 14, 6, 56, 11, 6, 11, 7, 6], [20, 39, 39, 42, 42, 42, 39, 39, 42, 32, 11, 11, 6, 7, 6, 6, 10, 11, 6, 7, 32, 32, 32, 32, 13, 6, 11, 6, 44, 32, 32, 7, 32, 32, 11, 4, 6, 6, 50, 56, 14, 32, 32, 32, 32, 11, 32, 44, 56, 56, 32, 32, 32, 56, 11, 56, 32, 13, 26, 56, 56, 38, 13, 14, 11, 11, 6, 32, 26, 6, 32, 7, 11, 32, 11, 11, 2, 7, 11, 8, 6, 7, 6, 6, 14, 13, 6, 6, 32, 3, 38, 11, 13, 6, 6, 11, 6, 6, 6, 6, 6, 11, 32, 11, 10, 44, 44, 11, 6, 11, 11, 6, 38, 14, 14, 6, 11, 38, 6, 6, 4, 44, 6, 32, 6, 7, 6, 11, 6, 4, 56, 6, 11, 2, 6, 9, 13, 6, 9, 6, 6, 11, 6, 6, 6, 6, 11, 11, 11, 38, 6, 10, 6, 26, 44, 56, 6], [20, 42, 24, 23, 54, 42, 42, 24, 39, 39, 6, 6, 7, 6, 6, 11, 32, 38, 6, 5, 32, 32, 32, 13, 14, 14, 6, 32, 6, 11, 6, 32, 11, 6, 5, 32, 11, 9, 6, 6, 50, 26, 44, 14, 45, 13, 26, 11, 6, 32, 11, 32, 3, 11, 32, 2, 11, 32, 38, 38, 4, 32, 11, 6, 7, 6, 6, 2, 11, 32, 8, 7, 6, 11, 6, 13, 6, 32, 6, 11, 6, 6, 6, 9, 13, 6, 6, 6, 6, 50, 7, 6, 6, 6, 6, 7, 6, 6, 6, 6, 6, 7, 6, 14, 6, 9, 6, 50, 12, 7, 12, 11, 13, 11, 6, 6, 6, 11, 32, 6, 10, 6, 8, 13, 13, 6, 6, 50, 7, 2, 14, 6, 13, 6, 11, 11, 6, 56, 3, 44, 32, 56, 7, 11, 32, 8, 6, 7, 10, 38, 6, 6, 11, 11, 14, 11, 11], [20, 38, 11, 3, 26, 45, 44, 12, 32, 26, 32, 32, 26, 11, 32, 42, 6, 11, 10, 32, 32, 32, 32, 6, 3, 7, 3, 6, 32, 0, 11, 6, 6, 6, 11, 3, 13, 7, 6, 10, 6, 26, 14, 11, 6, 32, 6, 56, 3, 7, 6, 6, 56, 32, 14, 38, 10, 32, 32, 32, 6, 11, 11, 32, 6, 7, 6, 11, 32, 10, 11, 11, 11, 6, 6, 11, 6, 13, 6, 6, 11, 10, 6, 6, 4, 11, 6, 11, 32, 2, 6, 6, 44, 12, 6, 6, 11, 14, 6, 11, 6, 32, 44, 56, 11, 11, 6, 7, 11, 11, 6, 2, 11, 6, 11, 6, 6, 12, 13, 44, 4, 11, 7, 11, 6, 11, 32, 56, 6, 38, 6, 11, 6, 11, 6, 6, 6, 44, 50, 7], [6, 32, 26, 26, 26, 20, 26, 44, 44, 26, 32, 13, 32, 32, 32, 56, 26, 32, 26, 32, 6, 26, 38, 32, 53, 32, 56, 32, 26, 32, 13, 11, 12, 32, 10, 7, 32, 2, 3, 32, 10, 11, 3, 11, 32, 13, 6, 7, 11, 7, 11, 11, 6, 11, 11, 0, 11, 38, 13, 11, 7, 6, 11, 6, 6, 6, 6, 6, 9, 6, 6, 32, 11, 6, 32, 2, 6, 56, 26, 6, 56, 14, 56, 11, 32, 6, 56, 32, 32, 6, 7, 56, 6, 56, 6, 6, 32, 6, 6, 6, 13, 13, 56, 11, 11, 6, 11, 11, 4, 11, 6, 14, 11], [26, 20, 42, 20, 42, 39, 39, 39, 42, 42, 6, 11, 6, 7, 11, 2, 6, 6, 6, 11, 11, 32, 32, 32, 13, 6, 6, 6, 50, 32, 38, 14, 6, 11, 11, 11, 32, 32, 11, 11, 11, 6, 6, 26, 26, 6, 26, 50, 26, 50, 50, 50, 50, 56, 11, 11, 44, 14, 11, 12, 6, 7, 11, 11, 6, 3, 11, 6, 6, 7, 32, 11, 11, 6, 6, 6, 11, 11, 6, 11, 13, 4, 7, 6, 6, 6, 7, 6, 2, 6, 11, 6, 56, 11, 10, 6, 6, 56, 6, 26, 6, 14, 11, 11, 56, 6, 56, 6, 11, 53, 56, 10, 11, 11, 6, 7, 6, 11, 56, 11, 11, 11, 4, 6, 6, 6, 6, 11, 10, 13, 7], [56, 20, 39, 27, 11, 39, 39, 42, 39, 24, 9, 6, 6, 7, 32, 32, 6, 6, 11, 11, 11, 13, 3, 26, 13, 6, 6, 32, 32, 2, 26, 32, 32, 32, 42, 32, 2, 4, 6, 6, 56, 32, 4, 50, 14, 44, 32, 56, 11, 32, 32, 56, 13, 56, 50, 11, 26, 50, 11, 2, 32, 11, 6, 11, 11, 2, 6, 6, 6, 7, 6, 6, 9, 11, 6, 6, 6, 6, 11, 6, 13, 6, 11, 9, 32, 13, 6, 11, 10, 6, 6, 2, 6, 11, 6, 32, 11, 56, 13, 44, 11, 6, 32, 6, 14, 2, 11, 32, 56, 6, 10, 4, 6, 7, 11, 6, 11, 11, 32, 32, 6, 38, 6, 38, 13, 44, 7, 6, 11, 32, 26], [26, 26, 20, 42, 42, 43, 26, 42, 23, 39, 20, 11, 11, 56, 14, 6, 7, 20, 11, 6, 6, 32, 6, 6, 11, 32, 3, 13, 7, 11, 7, 7, 13, 6, 32, 32, 6, 7, 26, 6, 10, 6, 32, 11, 10, 6, 11, 6, 50, 50, 56, 14, 26, 11, 13, 11, 6, 7, 11, 11, 7, 11, 50, 26, 11, 6, 7, 11, 11, 6, 11, 2, 38, 6, 56, 11, 11, 13, 6, 11, 6, 6, 11, 6, 6, 56, 32, 11, 9, 32, 14, 2, 6, 11, 6, 11, 26, 14, 32, 4, 10, 56, 6, 6, 53, 32, 6, 11, 11, 6, 11, 7, 10, 44, 56, 50, 6, 11, 32, 6, 4, 38, 17, 52, 13, 6, 6, 6, 7, 6, 11, 6, 11, 32, 6, 6, 6, 4, 6, 56, 56, 14, 6, 13, 11, 32, 6, 6, 6, 3, 7, 13, 6, 6, 11, 14, 11, 6, 7, 11, 6, 11, 11, 11, 11, 11, 8, 32, 6, 6, 13], [20, 26, 27, 42, 42, 39, 39, 25, 39, 42, 9, 6, 7, 6, 11, 6, 32, 7, 6, 11, 26, 32, 6, 13, 6, 32, 32, 6, 6, 6, 32, 11, 32, 11, 7, 4, 6, 6, 14, 32, 32, 32, 0, 26, 6, 32, 4, 56, 32, 32, 8, 11, 32, 13, 32, 56, 32, 56, 56, 56, 32, 11, 56, 56, 56, 32, 11, 11, 6, 6, 6, 11, 6, 6, 11, 6, 7, 32, 11, 6, 10, 11, 11, 6, 6, 6, 11, 13, 6, 7, 11, 6, 6, 6, 6, 11, 6, 6, 11, 6, 4, 11, 10, 6, 50, 50, 26, 56, 56, 14, 6, 32, 11, 6, 14, 11, 53, 32, 6, 7, 11, 6, 11, 6, 6, 6, 32, 10, 7, 4, 11], [45, 20, 47, 42, 39, 39, 39, 42, 39, 42, 20, 6, 6, 6, 7, 6, 6, 11, 20, 11, 11, 11, 3, 32, 32, 13, 7, 14, 6, 11, 7, 32, 6, 32, 32, 11, 26, 6, 11, 11, 6, 6, 50, 56, 14, 32, 32, 32, 11, 32, 26, 32, 32, 32, 3, 6, 5, 12, 11, 32, 11, 6, 7, 6, 56, 6, 7, 26, 6, 11, 6, 11, 11, 6, 13, 11, 14, 6, 6, 6, 11, 10, 56, 6, 2, 6, 11, 6, 11, 11, 12, 6, 6, 56, 14, 32, 6, 50, 32, 56, 6, 6, 6, 10, 11, 6, 11, 7, 6, 6, 6, 6, 2, 11, 6, 10, 13, 11, 13, 6, 11, 6, 2, 10, 6, 6, 6, 6, 6, 6, 6, 6, 50, 26, 6, 14, 56, 6, 11, 6, 11, 6, 6, 6, 7, 6, 11, 3, 6, 6, 5, 10, 13, 11, 6, 13, 6, 6, 6, 6, 4, 6, 11, 11, 11, 6, 11, 6, 13, 56, 6], [20, 39, 39, 39, 3, 26, 11, 39, 32, 47, 20, 32, 6, 7, 7, 11, 6, 6, 44, 32, 6, 6, 6, 32, 32, 13, 6, 6, 32, 32, 32, 32, 3, 38, 6, 11, 6, 50, 11, 6, 14, 11, 10, 7, 11, 13, 0, 32, 6, 11, 26, 6, 56, 14, 10, 6, 32, 13, 6, 32, 13, 11, 6, 7, 6, 38, 6, 6, 11, 6, 32, 7, 6, 11, 4, 13, 6, 9, 8, 3, 6, 56, 11, 6, 4, 6, 6, 6, 11, 6, 6, 26, 11, 32, 56, 14, 6, 11, 6, 26, 6, 32, 6, 7, 11, 44, 11, 6, 7, 6, 6, 2, 11, 6, 6, 11, 6, 6, 6, 13, 6, 11, 6, 56, 2, 11, 11, 32, 6, 6, 6, 6, 56, 6, 32, 14, 44, 11, 6, 6], [20, 42, 31, 42, 42, 11, 39, 3, 11, 42, 11, 11, 20, 6, 6, 7, 11, 6, 7, 44, 8, 6, 10, 6, 11, 2, 13, 7, 14, 7, 14, 6, 7, 6, 32, 11, 6, 11, 11, 6, 11, 11, 6, 11, 6, 32, 11, 6, 11, 32, 11, 6, 56, 7, 14, 32, 26, 6, 7, 6, 11, 6, 11, 32, 4, 6, 11, 6, 9, 13, 11, 11, 6, 11, 13, 11, 11, 32, 11, 32, 56, 6, 11, 6, 6, 50, 11, 56, 6, 8, 50, 14, 11, 6, 6, 7, 10, 32, 38, 11, 10, 11, 11, 11, 11, 6, 7, 6, 11, 11, 32, 14, 6, 6, 6, 6, 6, 13, 11, 6, 6, 6, 6, 7, 6, 11, 11, 6, 6, 6, 6, 11, 11, 32, 11, 11, 6, 50, 11, 6, 11, 14, 6, 56, 56, 11, 50, 6], [20, 39, 42, 26, 41, 11, 34, 45, 39, 31, 2, 6, 7, 6, 44, 56, 6, 11, 8, 38, 6, 6, 11, 42, 11, 11, 26, 13, 6, 32, 26, 14, 6, 8, 3, 32, 11, 38, 11, 6, 7, 3, 6, 56, 26, 11, 2, 6, 6, 14, 11, 11, 5, 32, 6, 11, 6, 7, 6, 11, 6, 11, 11, 10, 6, 38, 11, 6, 7, 13, 7, 14, 6, 6, 11, 10, 6, 11, 11, 6, 11, 6, 6, 6, 7, 9, 10, 3, 6, 56, 6, 7, 11, 11, 7, 7, 14, 6, 11, 6, 32, 6, 7, 6, 11, 11, 6, 10, 7, 11, 2, 6, 6, 13, 14, 6, 6, 11, 32, 11, 11, 6, 32, 11, 6, 11, 0, 7, 38, 6, 6, 7, 56, 14, 6, 11, 6, 10, 6, 6, 6, 6, 13, 11, 6, 7, 44, 6, 32, 6, 4, 7, 4, 13, 4, 13, 13], [39, 32, 32, 20, 27, 42, 26, 42, 42, 38, 7, 44, 32, 32, 6, 7, 11, 6, 6, 6, 44, 11, 6, 3, 32, 11, 50, 13, 14, 11, 6, 6, 11, 6, 6, 6, 32, 32, 11, 32, 6, 11, 6, 6, 26, 7, 26, 11, 32, 50, 50, 32, 13, 12, 13, 50, 11, 6, 32, 56, 6, 4, 14, 11, 6, 11, 6, 7, 7, 9, 11, 11, 11, 11, 6, 11, 2, 6, 13, 6, 11, 6, 2, 6, 6, 11, 2, 6, 11, 11, 6, 6, 56, 14, 2, 11, 6, 6, 26, 11, 2, 3, 11, 11, 11, 11, 32, 6, 7, 32, 11, 32, 6, 6, 6, 6, 14, 11, 6, 13, 7, 7, 6, 6, 6, 0, 6, 6, 13, 6, 6, 11, 11, 6, 13, 6, 14, 56, 56, 38, 6, 14, 6, 50, 32, 56, 56, 26, 38, 56, 32, 11, 6, 6, 7, 6, 10, 6, 11, 6, 6, 6, 6, 6, 6, 38, 4], [56, 32, 20, 11, 32, 24, 23, 39, 39, 42, 42, 2, 20, 6, 7, 6, 11, 11, 6, 32, 32, 26, 11, 11, 11, 13, 6, 6, 50, 32, 32, 32, 32, 32, 6, 11, 32, 6, 32, 11, 32, 6, 38, 14, 32, 32, 56, 6, 11, 6, 32, 6, 11, 6, 11, 7, 6, 11, 11, 6, 32, 11, 6, 6, 6, 6, 13, 11, 6, 32, 11, 56, 11, 38, 11, 6, 11, 3, 6, 50, 38, 6, 6, 32, 14, 6, 32, 32, 32, 10, 11, 7, 32, 2, 6, 7, 20, 11, 0, 6, 6, 6, 11, 11, 6, 32, 13, 6, 6, 11, 6, 6, 10, 38, 6, 6, 56, 6, 6, 11, 4, 6, 26, 6, 56, 14, 6, 32, 56, 11, 6, 6, 6, 56, 50, 13, 4, 6, 11, 7], [38, 26, 32, 32, 20, 39, 42, 24, 11, 42, 6, 32, 32, 6, 20, 6, 8, 7, 32, 11, 7, 32, 44, 6, 32, 11, 11, 32, 13, 3, 7, 14, 6, 6, 3, 11, 32, 6, 32, 8, 6, 11, 11, 6, 8, 6, 6, 14, 56, 56, 32, 11, 11, 12, 38, 6, 6, 56, 11, 11, 11, 11, 11, 6, 7, 4, 11, 6, 13, 6, 11, 32, 0, 6, 11, 11, 13, 14, 44, 6, 6, 6, 6, 11, 11, 32, 44, 6, 6, 6, 6, 38, 13, 56, 6, 50, 14, 6, 4, 32, 11, 56, 6, 6, 38, 4, 6, 7, 5, 32, 11, 6, 11, 7, 6, 11, 3, 6, 13, 14, 6, 11, 10, 2, 56, 11, 11, 6, 6, 6, 6, 6, 6, 50, 14, 56, 32, 6, 11], [56, 20, 42, 12, 43, 42, 42, 53, 23, 39, 9, 6, 32, 42, 20, 6, 7, 32, 6, 11, 6, 32, 6, 11, 32, 11, 11, 32, 13, 14, 14, 7, 6, 6, 7, 11, 9, 6, 6, 32, 3, 8, 6, 6, 6, 56, 14, 32, 32, 32, 32, 32, 6, 32, 11, 32, 11, 6, 13, 32, 3, 11, 6, 7, 11, 3, 11, 32, 11, 32, 11, 38, 11, 4, 13, 6, 6, 6, 6, 6, 11, 6, 11, 11, 6, 6, 6, 4, 11, 6, 13, 56, 14, 11, 32, 6, 6, 11, 6, 38, 6, 56, 56, 11, 6, 7, 7, 2, 11, 6, 6, 14, 13, 0, 6, 6, 13, 6, 6, 14, 13, 6, 6, 6, 11, 7, 6, 56, 6, 11, 4, 6, 4, 50, 56, 56, 4, 26, 6], [32, 26, 32, 20, 20, 26, 20, 20, 32, 32, 32, 26, 26, 32, 32, 32, 32, 26, 4, 32, 32, 32, 11, 44, 32, 32, 32, 11, 32, 11, 32, 32, 32, 38, 32, 13, 5, 32, 14, 32, 11, 11, 32, 32, 6, 7, 32, 6, 6, 11, 11, 11, 6, 11, 6, 11, 13, 6, 6, 13, 11, 11, 11, 6, 6, 2, 11, 6, 6, 14, 6, 32, 4, 6, 32, 6, 7, 14, 10, 6, 11, 2, 6, 7, 6, 6, 11, 6, 6, 6, 6, 6, 6, 11, 13, 7, 6, 6, 11, 6, 9, 6, 6, 6, 14, 3, 11, 6, 13, 6, 44, 7, 14, 11, 11, 11, 32, 11, 4, 6, 11, 11], [20, 42, 42, 42, 11, 25, 31, 42, 26, 42, 11, 6, 7, 9, 6, 12, 6, 6, 11, 38, 32, 14, 32, 47, 56, 13, 6, 6, 32, 11, 11, 32, 6, 11, 11, 32, 56, 11, 11, 6, 6, 50, 11, 14, 26, 44, 6, 26, 32, 32, 13, 11, 11, 0, 11, 6, 7, 32, 11, 6, 11, 11, 6, 12, 38, 11, 6, 13, 44, 6, 6, 6, 9, 11, 11, 11, 6, 13, 32, 6, 6, 6, 56, 6, 7, 7, 11, 14, 6, 6, 11, 3, 11, 13, 11, 11, 11, 6, 7, 32, 6, 6, 11, 11, 12, 32, 6, 6, 6, 13, 14, 7, 14, 6, 6, 6, 6, 11, 6, 11, 6, 6, 11, 13, 56, 6, 11, 56, 13, 11, 44, 6, 56, 6, 14, 6, 6, 32, 32, 6, 6, 11, 10, 7, 11, 6, 7, 6, 6, 11], [26, 32, 20, 42, 42, 11, 11, 42, 39, 39, 4, 32, 39, 20, 11, 9, 11, 11, 6, 7, 32, 32, 44, 6, 11, 26, 11, 32, 50, 6, 32, 13, 6, 44, 32, 11, 6, 32, 6, 6, 11, 38, 47, 6, 6, 56, 50, 50, 56, 56, 26, 0, 44, 0, 14, 32, 6, 32, 11, 11, 56, 8, 4, 11, 6, 32, 7, 6, 6, 11, 2, 11, 3, 11, 11, 3, 6, 13, 3, 7, 11, 6, 6, 6, 26, 6, 20, 56, 11, 11, 6, 6, 6, 6, 26, 56, 11, 52, 7, 6, 14, 11, 11, 11, 3, 56, 11, 6, 7, 11, 6, 11, 11, 6, 11, 56, 11, 3, 38, 56, 32, 13, 6, 11, 6, 11, 6, 11, 6, 6, 11, 6, 11, 6, 6, 4, 56, 26, 44], [32, 20, 20, 42, 42, 42, 39, 42, 21, 42, 11, 9, 11, 11, 11, 11, 6, 6, 14, 7, 11, 6, 32, 6, 32, 11, 6, 32, 8, 32, 13, 6, 11, 2, 6, 6, 50, 7, 6, 6, 7, 6, 11, 6, 6, 44, 11, 56, 11, 50, 6, 32, 6, 14, 32, 32, 56, 11, 56, 6, 11, 32, 13, 6, 11, 7, 10, 11, 11, 11, 6, 2, 4, 11, 56, 6, 11, 6, 6, 13, 6, 11, 11, 56, 6, 6, 10, 56, 6, 44, 6, 6, 7, 11, 6, 14, 32, 32, 56, 56, 11, 56, 11, 32, 56, 6, 11, 6, 7, 2, 6, 26, 10, 6, 50, 56, 6, 32, 11, 6, 32, 44, 6, 6, 6, 32, 11, 8, 56, 6, 6, 4, 6, 7, 6, 11, 44, 11, 11], [20, 42, 26, 42, 39, 39, 39, 39, 3, 21, 11, 26, 11, 6, 7, 10, 6, 11, 6, 38, 20, 6, 38, 6, 6, 13, 14, 6, 11, 11, 32, 44, 11, 4, 50, 32, 6, 6, 8, 11, 6, 6, 12, 50, 4, 50, 50, 26, 11, 6, 6, 7, 7, 12, 56, 44, 4, 11, 7, 14, 6, 7, 6, 11, 6, 6, 14, 6, 6, 11, 11, 3, 6, 13, 7, 6, 4, 11, 6, 56, 11, 6, 6, 32, 11, 6, 11, 4, 11, 9, 6, 11, 6, 56, 6, 0, 11, 14, 6, 11, 12, 2, 13, 56, 11, 11, 6, 7, 6, 38, 6, 6, 6, 11, 11, 56, 11, 10, 13, 56, 44, 6, 11, 6, 11, 6, 6, 11, 6, 6, 4, 13, 11, 6, 6, 32, 0, 14, 11, 6, 11, 6, 56, 11, 32, 6, 50, 6, 7, 56, 6, 11, 11, 6, 6, 6, 56], [20, 20, 20, 20, 38, 26, 20, 20, 32, 56, 32, 32, 26, 11, 6, 26, 11, 26, 11, 32, 32, 26, 32, 8, 50, 2, 32, 11, 6, 6, 7, 32, 32, 32, 32, 10, 32, 6, 32, 6, 32, 13, 6, 8, 6, 6, 8, 11, 32, 6, 10, 11, 11, 11, 11, 11, 6, 6, 50, 2, 14, 6, 3, 6, 11, 32, 4, 6, 44, 32, 56, 11, 6, 7, 6, 4, 6, 6, 11, 11, 6, 50, 6, 11, 13, 7, 11, 11, 6, 6, 6, 11, 32, 4, 10, 6, 6, 6, 6, 6, 0, 6, 56, 11, 6, 6, 6, 14, 11, 11, 11, 6, 6, 11, 11, 6, 14, 11, 7, 11, 6, 6, 11, 10, 6, 11, 2, 11, 6, 13, 11], [32, 44, 20, 42, 42, 11, 42, 44, 39, 11, 42, 0, 32, 32, 32, 11, 11, 32, 6, 7, 32, 50, 11, 3, 12, 6, 32, 6, 11, 6, 8, 13, 6, 2, 14, 11, 13, 6, 6, 6, 26, 6, 6, 6, 10, 6, 50, 14, 32, 11, 44, 32, 32, 32, 11, 3, 32, 47, 6, 6, 7, 6, 11, 11, 6, 6, 6, 6, 32, 7, 6, 13, 11, 6, 9, 12, 10, 6, 10, 2, 38, 11, 10, 6, 4, 11, 6, 6, 50, 56, 14, 11, 32, 6, 11, 32, 11, 32, 14, 7, 6, 7, 11, 6, 11, 6, 4, 6, 11, 11, 2, 3, 13, 6, 6, 6, 6, 6, 11, 6, 6, 6, 32, 38, 6, 32, 6, 50, 50, 56, 6], [26, 32, 32, 38, 38, 20, 42, 26, 39, 42, 31, 53, 42, 11, 20, 11, 6, 7, 6, 11, 32, 32, 32, 32, 56, 6, 11, 32, 32, 26, 13, 7, 6, 11, 11, 32, 8, 6, 11, 11, 6, 11, 11, 11, 38, 6, 11, 6, 7, 26, 56, 6, 26, 56, 11, 14, 6, 38, 6, 11, 38, 32, 38, 6, 11, 11, 13, 11, 26, 13, 11, 6, 7, 11, 7, 32, 6, 11, 6, 32, 6, 32, 44, 6, 13, 6, 7, 11, 6, 38, 6, 32, 11, 6, 6, 4, 6, 6, 56, 26, 14, 11, 11, 11, 11, 6, 50, 11, 6, 11, 11, 6, 7, 11, 50, 6, 11, 32, 11, 6, 2, 6, 6, 7, 13, 7, 56, 56, 6, 11, 6, 6, 6, 6, 6, 38, 6, 6, 5, 6, 6, 56, 56, 14, 13, 56, 11, 56, 38, 6, 38, 4, 6, 11, 11, 11, 11], [20, 42, 26, 38, 42, 23, 42, 39, 9, 39, 6, 6, 6, 7, 32, 11, 6, 11, 10, 11, 2, 6, 32, 38, 32, 32, 13, 6, 32, 4, 32, 10, 32, 32, 26, 32, 32, 11, 11, 13, 6, 11, 11, 32, 6, 11, 14, 32, 11, 8, 32, 32, 13, 5, 32, 13, 7, 32, 6, 7, 6, 44, 0, 32, 11, 6, 11, 11, 11, 32, 13, 14, 6, 32, 10, 6, 11, 6, 13, 14, 12, 6, 11, 6, 26, 13, 56, 11, 11, 7, 6, 56, 14, 6, 11, 11, 56, 26, 38, 6, 10, 11, 53, 44, 50, 2, 11, 4, 6, 7, 6, 6, 11, 11, 44, 11, 2, 6, 6, 11, 13, 6, 56, 6, 11, 6, 11, 11, 11, 11, 13, 6, 11, 6, 11, 6, 32, 6, 6, 56, 6, 44, 6, 44, 38, 44, 56, 11, 56, 26, 14, 44, 12, 56, 6, 7, 6, 7, 6, 11, 11, 56], [26, 20, 42, 27, 26, 42, 39, 42, 42, 42, 11, 6, 2, 6, 7, 6, 6, 33, 32, 6, 11, 26, 32, 6, 6, 13, 11, 14, 6, 32, 3, 32, 26, 3, 11, 3, 32, 6, 3, 8, 6, 6, 7, 38, 7, 14, 11, 32, 32, 6, 11, 32, 11, 6, 10, 6, 7, 11, 32, 56, 11, 11, 11, 9, 10, 6, 6, 13, 5, 6, 6, 9, 6, 32, 38, 11, 6, 11, 6, 6, 7, 6, 10, 7, 11, 38, 9, 9, 6, 56, 38, 50, 56, 14, 6, 56, 56, 32, 56, 11, 7, 10, 11, 6, 6, 6, 6, 56, 6, 7, 6, 6, 56, 6, 11, 11, 44, 4, 11, 56, 56, 4, 6, 6, 6, 56, 11, 6, 2, 7, 32, 2, 6, 7, 11, 6, 11, 8, 11, 4], [20, 39, 11, 42, 42, 42, 42, 38, 39, 31, 44, 6, 7, 2, 8, 6, 11, 11, 6, 32, 11, 32, 6, 38, 14, 6, 13, 6, 32, 11, 32, 32, 11, 32, 32, 26, 6, 11, 6, 32, 11, 6, 32, 12, 32, 11, 50, 11, 56, 50, 56, 50, 32, 32, 50, 12, 4, 14, 56, 32, 56, 56, 56, 56, 56, 32, 11, 7, 9, 13, 11, 11, 6, 11, 10, 2, 6, 11, 7, 6, 0, 4, 11, 6, 14, 6, 6, 11, 11, 13, 14, 6, 6, 6, 6, 6, 11, 6, 6, 6, 6, 6, 6, 6, 50, 6, 56, 7, 6, 11, 7, 14, 11, 6, 53, 6, 56, 32, 6, 7, 32, 11, 6, 11, 6, 6, 6, 6, 6, 11, 13, 6, 6, 6, 6, 6, 11, 6, 6], [20, 20, 20, 32, 43, 32, 56, 20, 20, 32, 26, 11, 6, 11, 9, 53, 9, 32, 6, 32, 32, 13, 32, 32, 32, 32, 11, 11, 10, 14, 32, 13, 32, 11, 32, 13, 7, 9, 11, 32, 32, 38, 13, 32, 6, 7, 32, 11, 7, 6, 44, 6, 6, 11, 6, 11, 13, 6, 11, 6, 11, 11, 4, 2, 6, 38, 6, 11, 11, 6, 38, 6, 44, 6, 14, 56, 50, 11, 11, 26, 11, 6, 11, 6, 7, 11, 6, 6, 6, 6, 6, 11, 44, 6, 11, 38, 13, 6, 6, 14, 11, 11, 11, 6, 11, 6, 6, 32, 6, 6, 6, 50, 7, 32, 14, 11, 32, 56, 11, 6, 38, 26, 6, 11, 7, 6, 2, 6, 26], [20, 39, 42, 42, 39, 42, 11, 39, 42, 39, 32, 6, 7, 13, 6, 6, 6, 6, 53, 6, 32, 32, 11, 13, 6, 32, 11, 38, 32, 6, 2, 6, 32, 6, 32, 6, 14, 3, 6, 50, 26, 14, 32, 32, 32, 26, 13, 38, 56, 26, 26, 26, 44, 32, 11, 38, 11, 38, 7, 56, 32, 7, 56, 6, 7, 0, 11, 11, 11, 6, 11, 11, 32, 6, 56, 13, 7, 14, 14, 7, 11, 6, 6, 13, 6, 6, 6, 6, 6, 26, 13, 32, 6, 6, 26, 56, 26, 11, 11, 44, 26, 13, 14, 56, 56, 41, 56, 56, 56, 38, 32, 32, 6, 56, 56, 11, 6, 6, 26, 32, 11, 6, 13, 7, 6, 11, 11, 10, 11, 4, 38, 6, 6, 6, 56, 32, 13, 6, 6, 6, 9, 6, 6, 4, 11, 6], [20, 20, 26, 32, 20, 26, 32, 20, 20, 20, 32, 32, 26, 6, 9, 38, 32, 9, 11, 32, 32, 32, 32, 32, 13, 32, 26, 6, 7, 32, 32, 0, 44, 11, 32, 4, 9, 11, 7, 13, 6, 11, 11, 11, 11, 32, 7, 6, 32, 11, 11, 11, 6, 11, 6, 50, 14, 7, 11, 11, 32, 32, 38, 32, 3, 6, 6, 7, 11, 6, 11, 3, 44, 38, 56, 11, 38, 6, 13, 7, 6, 6, 32, 6, 6, 11, 10, 32, 13, 11, 8, 11, 6, 11, 11, 13, 6, 26, 11, 6, 6, 14, 6, 11, 2, 6, 7, 6, 14, 56, 6, 7, 3, 6, 56, 6, 6, 6, 6, 6, 11, 6, 10, 38, 13, 6, 6, 6, 6, 6, 6, 6, 2, 6, 11, 6, 6, 6, 50, 56, 14, 50, 56, 56, 26, 56, 3, 32, 11, 32, 26, 11, 5, 32, 56, 26, 56, 4, 11, 56, 4, 26, 11, 13, 11, 6, 7, 11, 32, 38, 56, 56, 11, 38, 6, 11, 6, 13, 10, 6, 6, 6, 6, 56, 6, 2, 6], [26, 32, 20, 23, 42, 39, 32, 42, 31, 42, 26, 11, 11, 40, 6, 7, 32, 53, 11, 32, 32, 6, 6, 11, 11, 11, 44, 32, 13, 44, 14, 6, 6, 11, 2, 32, 6, 11, 2, 10, 6, 6, 6, 6, 44, 50, 44, 12, 50, 32, 14, 11, 6, 7, 6, 11, 11, 6, 10, 11, 6, 7, 11, 11, 6, 6, 11, 6, 4, 0, 11, 6, 13, 7, 7, 14, 7, 6, 38, 7, 11, 6, 4, 11, 6, 6, 56, 6, 6, 11, 6, 32, 56, 9, 14, 6, 6, 32, 11, 6, 6, 6, 32, 7, 6, 7, 32, 11, 11, 6, 13, 2, 5, 6, 6, 11, 38, 13, 7, 6, 6, 11, 2, 6, 11, 6, 11, 11, 6, 6, 6, 6, 26, 32, 11, 6, 14, 38, 56, 32, 50, 32, 5, 11, 7, 6, 7, 6, 13, 38, 6], [13, 32, 26, 20, 32, 20, 20, 32, 32, 32, 32, 44, 32, 26, 32, 32, 32, 32, 32, 32, 32, 26, 26, 26, 32, 32, 32, 32, 32, 26, 32, 50, 32, 32, 32, 32, 12, 32, 56, 32, 56, 56, 32, 56, 11, 26, 56, 56, 4, 13, 11, 32, 56, 6, 56, 11, 14, 32, 56, 56, 56, 56, 56, 4, 56, 4, 5, 6, 38, 11, 11, 4, 11, 11, 11, 11, 38, 32, 7, 6, 7, 11, 6, 6, 56, 6, 7, 11, 11, 6, 6, 6, 13, 7, 44], [20, 20, 42, 11, 26, 26, 32, 38, 26, 20, 11, 26, 44, 32, 32, 32, 32, 32, 32, 56, 26, 26, 26, 32, 32, 11, 11, 11, 32, 32, 11, 32, 13, 11, 11, 32, 11, 11, 50, 6, 7, 6, 6, 8, 0, 32, 11, 3, 6, 45, 26, 13, 14, 6, 11, 11, 11, 11, 32, 11, 32, 11, 32, 6, 4, 6, 6, 7, 1, 56, 32, 6, 14, 6, 11, 11, 11, 6, 13, 6, 38, 38, 6, 7, 6, 6, 7, 6, 6, 11, 6, 6, 11, 10, 13, 6, 6, 6, 6, 44, 44, 38, 11, 11, 11, 6, 11, 11, 11, 6, 6, 56, 11, 6, 14, 11, 6, 32, 6, 6, 11, 11, 11, 11, 11, 32, 11, 11, 32, 11, 32, 13, 6, 11, 7, 11, 11, 32, 56, 26, 32, 5, 13, 44, 6, 6, 13, 14, 56, 6, 6, 6, 6, 2, 6, 6, 13, 32, 13, 6, 4, 6, 6, 14, 56, 56], [20, 42, 21, 53, 39, 32, 39, 23, 23, 11, 11, 38, 12, 3, 6, 7, 13, 6, 32, 36, 39, 32, 11, 32, 32, 11, 32, 13, 6, 6, 6, 32, 3, 6, 32, 32, 26, 6, 11, 11, 11, 6, 11, 38, 6, 26, 50, 26, 56, 43, 14, 32, 32, 32, 38, 32, 7, 26, 6, 26, 6, 53, 44, 11, 6, 7, 11, 6, 11, 26, 10, 11, 10, 32, 14, 6, 3, 13, 6, 4, 6, 6, 11, 6, 2, 6, 10, 10, 44, 10, 44, 6, 12, 6, 38, 14, 11, 6, 6, 6, 11, 6, 6, 9, 32, 11, 3, 11, 56, 11, 50, 6, 7, 6, 38, 6, 5, 6, 6, 6, 6, 56, 11, 6, 13, 6, 6, 6, 6, 6, 2, 6, 32, 6, 13, 6, 10, 10, 6, 13, 6, 26, 11, 32, 11, 6, 38, 32], [32, 20, 20, 44, 44, 20, 44, 20, 26, 26, 26, 32, 11, 32, 32, 32, 32, 26, 32, 26, 32, 13, 32, 32, 44, 7, 11, 32, 32, 6, 13, 38, 11, 32, 32, 32, 11, 32, 11, 11, 6, 7, 6, 3, 6, 32, 11, 6, 11, 11, 3, 6, 13, 6, 38, 11, 11, 6, 10, 11, 7, 4, 6, 3, 11, 38, 32, 6, 11, 6, 50, 50, 56, 50, 6, 12, 14, 11, 44, 6, 32, 11, 32, 6, 12, 6, 7, 6, 44, 6, 11, 3, 38, 6, 56, 6, 6, 13, 11, 6, 2, 10, 6, 6, 6, 11, 32, 11, 11, 6, 11, 11, 56], [20, 20, 26, 26, 20, 26, 32, 26, 26, 26, 26, 20, 32, 9, 38, 45, 6, 2, 6, 53, 11, 26, 32, 11, 32, 6, 7, 44, 32, 9, 14, 56, 6, 32, 11, 3, 32, 32, 13, 50, 6, 6, 38, 6, 42, 13, 32, 53, 11, 11, 11, 6, 6, 26, 7, 32, 5, 50, 11, 7, 11, 26, 11, 32, 14, 6, 7, 11, 11, 6, 41, 11, 6, 6, 6, 6, 6, 13, 4, 50, 14, 6, 6, 11, 50, 6, 6, 13, 6, 32, 11, 6, 6, 6, 50, 11, 5, 50, 7, 14, 11, 38, 6, 6, 11, 10, 11, 56, 11, 6, 7, 2, 11, 6, 10, 6, 32, 6, 10, 44, 32, 13, 6, 11, 2, 32, 4, 6, 11, 50, 50, 11, 6, 32, 6, 11, 32, 4, 6, 56, 7, 7, 6, 14, 6, 10, 38, 32, 6, 11, 6, 7, 6, 56, 10, 7, 11], [26, 26, 20, 26, 20, 44, 11, 26, 26, 20, 26, 11, 3, 11, 8, 11, 26, 6, 32, 32, 39, 11, 32, 6, 7, 32, 6, 6, 8, 56, 32, 7, 8, 38, 11, 13, 6, 10, 7, 11, 11, 6, 10, 6, 11, 7, 11, 6, 6, 44, 13, 6, 14, 11, 32, 11, 11, 6, 26, 8, 10, 8, 6, 7, 56, 56, 56, 11, 11, 38, 11, 11, 11, 6, 13, 6, 11, 10, 6, 6, 6, 11, 11, 6, 6, 11, 4, 6, 6, 7, 26, 56, 11, 50, 50, 26, 0, 32, 11, 11, 56, 56, 14, 11, 4, 11, 2, 56, 6, 0, 7, 6, 6, 32, 56, 6, 4, 6, 6, 11, 6, 13, 6, 6, 6, 6, 11, 13, 6, 6, 10, 6, 50, 11, 11, 6, 6, 44, 4, 14, 6, 50, 6, 11], [20, 12, 42, 42, 42, 26, 42, 39, 24, 39, 20, 14, 32, 11, 6, 7, 6, 20, 6, 6, 2, 11, 11, 6, 44, 26, 13, 6, 38, 11, 7, 32, 6, 11, 11, 6, 6, 11, 6, 11, 14, 6, 14, 32, 32, 32, 50, 38, 6, 20, 6, 2, 6, 38, 11, 11, 6, 6, 11, 44, 11, 11, 11, 11, 6, 7, 11, 6, 4, 32, 6, 3, 11, 6, 6, 6, 38, 13, 7, 14, 6, 53, 11, 6, 11, 11, 11, 11, 11, 11, 11, 6, 11, 11, 6, 5, 50, 14, 11, 32, 11, 6, 11, 6, 50, 13, 11, 6, 7, 11, 6, 6, 6, 26, 32, 11, 44, 6, 6, 13, 6, 6], [20, 42, 11, 39, 42, 42, 38, 23, 27, 42, 6, 32, 11, 14, 11, 2, 11, 32, 6, 7, 10, 38, 11, 11, 7, 32, 6, 7, 7, 32, 4, 13, 7, 6, 32, 5, 11, 6, 6, 6, 6, 11, 32, 11, 6, 6, 56, 26, 6, 32, 14, 32, 11, 11, 10, 26, 2, 26, 50, 38, 11, 14, 14, 38, 38, 38, 10, 6, 6, 7, 11, 7, 11, 32, 13, 32, 54, 4, 6, 5, 13, 32, 7, 6, 6, 11, 6, 32, 11, 56, 3, 6, 6, 6, 32, 6, 6, 56, 50, 7, 6, 11, 6, 11, 50, 11, 13, 6, 6, 56, 11, 14, 4, 11, 13, 6, 7, 5, 11, 2, 13, 6, 13, 6, 6, 6, 11, 2, 13, 7, 6, 6, 11, 6, 6, 6, 12, 6, 6, 38, 11, 6, 56, 50, 6, 50, 50, 14, 56, 56, 56, 56, 56, 32, 6, 11, 56, 56, 32, 38, 56, 26, 6, 11, 11, 32, 6, 38, 56, 32, 4, 30, 6, 7, 6], [11, 20, 26, 42, 42, 1, 39, 42, 42, 27, 45, 6, 10, 11, 26, 32, 11, 53, 6, 26, 14, 6, 7, 32, 32, 11, 38, 32, 32, 38, 32, 32, 44, 32, 32, 32, 13, 6, 11, 11, 8, 6, 3, 11, 32, 3, 6, 6, 6, 11, 6, 56, 32, 26, 6, 14, 32, 6, 13, 11, 7, 11, 32, 11, 6, 7, 32, 6, 2, 6, 6, 32, 6, 13, 32, 11, 23, 13, 6, 6, 11, 6, 6, 4, 11, 6, 38, 6, 38, 11, 6, 6, 10, 50, 11, 32, 7, 14, 5, 11, 11, 7, 10, 6, 32, 11, 32, 6, 7, 6, 6, 6, 6, 56, 6, 6, 44, 6, 6, 13, 6, 6, 32, 6, 6, 6, 6, 6, 6, 11, 6, 6, 6, 56, 7, 6, 14, 11, 56, 32, 11, 6, 6, 32, 6, 7, 6, 6, 11, 11, 6, 10], [32, 20, 42, 12, 11, 25, 42, 11, 39, 10, 44, 20, 11, 1, 20, 26, 10, 20, 11, 6, 6, 7, 6, 11, 6, 6, 38, 32, 32, 32, 32, 26, 7, 13, 6, 6, 32, 6, 6, 6, 11, 6, 6, 11, 4, 6, 6, 50, 44, 6, 14, 42, 26, 32, 32, 38, 11, 11, 50, 11, 6, 7, 6, 11, 11, 6, 11, 6, 11, 6, 6, 14, 13, 11, 0, 11, 6, 11, 11, 11, 7, 6, 6, 6, 11, 6, 11, 11, 6, 6, 50, 56, 11, 32, 6, 14, 32, 38, 10, 11, 7, 50, 11, 11, 6, 7, 56, 6, 6, 32, 7, 6, 10, 6, 6, 11, 13, 11, 7, 6, 6, 6, 11, 6, 38, 4, 6, 6, 10, 38, 6, 6, 11, 26, 13, 13, 6, 50, 11, 14, 32, 4, 25, 56, 3, 6, 12, 7, 6, 10, 6, 6, 6, 10, 3, 11, 6, 10, 13, 6, 11, 11, 6, 6, 13, 11, 3], [20, 39, 39, 39, 39, 42, 39, 39, 42, 39, 39, 20, 6, 3, 7, 6, 20, 6, 6, 26, 44, 26, 32, 32, 6, 13, 7, 6, 32, 8, 11, 11, 32, 32, 32, 6, 7, 6, 11, 6, 56, 6, 11, 6, 14, 32, 2, 32, 11, 6, 44, 38, 11, 32, 11, 6, 11, 44, 6, 7, 32, 6, 3, 6, 4, 6, 13, 6, 38, 6, 13, 11, 6, 10, 6, 6, 7, 11, 11, 6, 6, 6, 11, 6, 11, 6, 50, 56, 14, 50, 56, 4, 56, 44, 6, 6, 2, 32, 4, 56, 7, 11, 56, 6, 7, 3, 6, 11, 11, 6, 6, 2, 4, 11, 7, 13, 2, 50, 6, 7, 11, 11, 11, 11, 11, 6, 6, 6, 10, 6, 6, 14, 56, 32, 56, 11, 3, 6, 6, 11, 6, 50, 4, 56, 11, 38, 9, 14, 6, 7, 6, 4, 11, 11, 11, 2, 11, 11], [20, 39, 11, 42, 42, 39, 39, 39, 42, 42, 32, 23, 6, 7, 14, 6, 6, 6, 11, 9, 7, 11, 11, 32, 13, 6, 11, 11, 6, 6, 11, 11, 11, 11, 44, 7, 6, 11, 11, 11, 11, 7, 6, 14, 32, 32, 44, 6, 38, 32, 32, 11, 32, 32, 11, 38, 3, 3, 7, 50, 6, 7, 2, 6, 8, 10, 6, 3, 32, 6, 11, 32, 13, 11, 6, 6, 11, 2, 11, 6, 38, 6, 11, 6, 11, 6, 6, 50, 50, 38, 7, 50, 32, 14, 6, 6, 6, 6, 6, 32, 6, 7, 8, 10, 6, 11, 6, 11, 6, 6, 11, 6, 6, 13, 11, 6, 6, 7, 6, 56, 9, 6, 11, 6, 13, 10, 13, 6, 14, 56, 11], [26, 38, 44, 20, 20, 32, 26, 20, 26, 32, 45, 32, 38, 26, 32, 20, 7, 11, 32, 32, 32, 32, 32, 32, 11, 32, 38, 32, 26, 6, 6, 6, 14, 6, 7, 32, 32, 32, 6, 32, 6, 32, 32, 11, 32, 13, 6, 8, 7, 6, 10, 7, 56, 6, 11, 32, 13, 6, 11, 6, 26, 50, 14, 6, 7, 13, 38, 6, 11, 11, 11, 26, 3, 4, 10, 11, 44, 2, 6, 7, 32, 6, 6, 50, 11, 44, 56, 11, 6, 6, 13, 6, 6, 6, 6, 6, 11, 11, 6, 6, 56, 6, 6, 6, 11, 4, 26, 56, 6, 14, 32, 6, 13, 36, 11, 8, 50, 11, 6, 7, 8, 6, 6, 11, 11, 11, 6, 11, 2, 11, 13, 6, 6, 11, 11, 6, 14, 11, 11, 11, 6, 6, 10, 7, 6, 6, 56, 56], [32, 32, 26, 20, 42, 42, 8, 39, 39, 25, 38, 32, 32, 7, 47, 26, 6, 7, 32, 6, 6, 6, 6, 26, 53, 26, 32, 26, 13, 32, 6, 32, 5, 3, 32, 6, 32, 11, 10, 11, 38, 11, 11, 6, 32, 6, 13, 56, 50, 26, 14, 11, 32, 11, 32, 56, 11, 6, 32, 14, 11, 13, 32, 6, 7, 6, 32, 32, 6, 6, 11, 6, 32, 56, 47, 13, 6, 6, 6, 6, 11, 6, 11, 6, 11, 10, 11, 2, 10, 6, 11, 44, 6, 56, 0, 11, 56, 3, 14, 11, 6, 11, 10, 6, 11, 32, 12, 6, 7, 11, 6, 6, 6, 6, 6, 6, 11, 11, 11, 13, 6, 4, 6, 6, 6, 2, 6, 6, 6, 38, 6, 6, 56, 6, 50, 32, 12, 26, 6, 6, 14, 11, 11, 6, 6, 6, 32, 11, 14, 3, 32, 11, 38, 6, 7, 6, 11], [20, 11, 39, 32, 32, 32, 20, 6, 20, 20, 32, 32, 32, 32, 38, 32, 32, 26, 32, 32, 32, 6, 32, 32, 20, 6, 32, 32, 3, 32, 14, 12, 6, 7, 32, 32, 11, 6, 6, 6, 6, 6, 11, 6, 0, 11, 13, 6, 0, 6, 6, 11, 2, 6, 6, 50, 6, 11, 6, 6, 4, 56, 26, 32, 14, 32, 32, 11, 11, 32, 11, 11, 32, 11, 11, 6, 6, 7, 11, 38, 6, 11, 6, 26, 4, 3, 38, 38, 13, 11, 6, 6, 6, 6, 13, 11, 6, 6, 11, 11, 11, 6, 6, 14, 56, 32, 11, 50, 6, 32, 11, 2, 6, 11, 6, 11, 6, 56, 56, 6, 7, 14, 32, 6, 6, 11, 2, 11, 11, 6, 11, 13, 6, 38, 6, 6, 3, 6, 11, 44], [20, 42, 11, 39, 42, 11, 42, 44, 38, 42, 11, 32, 11, 6, 7, 6, 11, 6, 11, 6, 3, 50, 11, 11, 32, 6, 13, 14, 6, 6, 6, 44, 32, 11, 11, 32, 11, 11, 38, 11, 6, 6, 11, 56, 0, 11, 26, 14, 56, 32, 11, 38, 6, 32, 32, 6, 6, 10, 6, 38, 32, 56, 11, 26, 6, 7, 7, 6, 5, 13, 6, 11, 6, 10, 32, 6, 13, 6, 6, 32, 10, 6, 12, 6, 6, 11, 6, 38, 6, 11, 11, 6, 44, 56, 14, 38, 32, 6, 26, 6, 7, 11, 6, 11, 6, 7, 3, 6, 11, 32, 50, 11, 6, 11, 10, 6, 13, 7, 7, 6, 6, 6, 32, 6, 38, 6, 11, 6, 11, 11, 44, 6, 26, 6, 50, 26, 14, 56, 11, 56, 8, 2, 56, 32, 32, 56, 6, 7, 32, 6, 10, 11, 6, 11, 8, 6, 13, 6]]}\n",
            "Saving Json file...\n",
            "submission.json was saved in /content/drive/My Drive/DinerDashChallenge\n",
            "----------------------------------------------------------------------------------------------------\n",
            "Verifying submission.json...\n",
            "Group Members include: ['john', 'mary', 'bryan']\n",
            "Names of Algos used: ['testRA', 'testPPO']\n",
            "Number of episodes(random seeds): 100\n",
            "Number of episodes in submission matches the number of random seeds\n",
            "Verification Complete! Please double check the verification results\n"
          ],
          "name": "stdout"
        }
      ]
    },
    {
      "cell_type": "code",
      "metadata": {
        "id": "wrFElgwSpb-y",
        "colab_type": "code",
        "colab": {}
      },
      "source": [
        ""
      ],
      "execution_count": null,
      "outputs": []
    }
  ]
}